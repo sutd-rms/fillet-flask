{
 "cells": [
  {
   "cell_type": "code",
   "execution_count": 142,
   "metadata": {
    "ExecuteTime": {
     "end_time": "2020-07-15T09:06:01.579442Z",
     "start_time": "2020-07-15T09:06:01.576451Z"
    }
   },
   "outputs": [],
   "source": [
    "import pandas as pd\n",
    "import numpy as np\n",
    "import pickle as p"
   ]
  },
  {
   "cell_type": "code",
   "execution_count": 143,
   "metadata": {
    "ExecuteTime": {
     "end_time": "2020-07-15T09:06:03.452359Z",
     "start_time": "2020-07-15T09:06:01.892842Z"
    }
   },
   "outputs": [],
   "source": [
    "data_all = pd.read_csv('../data_all.csv')\n",
    "\n",
    "# Test with Subset of Data\n",
    "np.random.seed(43)\n",
    "item_subset = list(np.random.choice(data_all['Item_ID'].unique(), size=153, replace=False))\n",
    "data_subset = data_all.loc[data_all['Item_ID'].isin(item_subset)].copy()\n",
    "\n",
    "# # Test with All Data\n",
    "# data_subset = data_all.copy()"
   ]
  },
  {
   "cell_type": "code",
   "execution_count": 144,
   "metadata": {
    "ExecuteTime": {
     "end_time": "2020-07-15T09:06:03.515164Z",
     "start_time": "2020-07-15T09:06:03.512172Z"
    },
    "scrolled": true
   },
   "outputs": [],
   "source": [
    "# item_subset"
   ]
  },
  {
   "cell_type": "code",
   "execution_count": null,
   "metadata": {},
   "outputs": [],
   "source": []
  },
  {
   "cell_type": "markdown",
   "metadata": {},
   "source": [
    "### `/train`"
   ]
  },
  {
   "cell_type": "code",
   "execution_count": 145,
   "metadata": {
    "ExecuteTime": {
     "end_time": "2020-07-15T09:06:04.237844Z",
     "start_time": "2020-07-15T09:06:04.234834Z"
    }
   },
   "outputs": [],
   "source": [
    "import time"
   ]
  },
  {
   "cell_type": "code",
   "execution_count": 146,
   "metadata": {
    "ExecuteTime": {
     "end_time": "2020-07-15T09:06:16.276320Z",
     "start_time": "2020-07-15T09:06:05.583294Z"
    }
   },
   "outputs": [],
   "source": [
    "import requests\n",
    "import json\n",
    "from threading import Thread\n",
    "\n",
    "url = 'https://fillet.azurewebsites.net/train/'\n",
    "# url = 'http://localhost:5000/train/'\n",
    "\n",
    "\n",
    "data_subset.to_parquet('data_subset.parquet')\n",
    "files = {'data': open('data_subset.parquet', 'rb')}\n",
    "\n",
    "payload = {'cv_acc': True, 'project_id': 1}\n",
    "\n",
    "Thread(target=requests.post, args=(url, ), kwargs={'data': payload, 'files': files}).start()\n",
    "\n",
    "time.sleep(10)\n",
    "files['data'].close()"
   ]
  },
  {
   "cell_type": "markdown",
   "metadata": {},
   "source": [
    "### `/query_progress`"
   ]
  },
  {
   "cell_type": "code",
   "execution_count": 154,
   "metadata": {
    "ExecuteTime": {
     "end_time": "2020-07-15T10:13:38.731761Z",
     "start_time": "2020-07-15T10:13:38.517708Z"
    }
   },
   "outputs": [
    {
     "name": "stdout",
     "output_type": "stream",
     "text": [
      "% Complete: 100.0\n",
      "CV % Complete: 32.0\n",
      "CV Done: 0\n"
     ]
    }
   ],
   "source": [
    "import requests\n",
    "import json\n",
    "\n",
    "url = 'https://fillet.azurewebsites.net/query_progress/'\n",
    "# url = 'http://localhost:5000/query_progress/'\n",
    "\n",
    "\n",
    "payload = {'project_id': 1}\n",
    "\n",
    "headers = {'content-type': 'application/json',\n",
    "           'Accept-Charset': 'UTF-8'\n",
    "          }\n",
    "\n",
    "payload = json.dumps(payload)\n",
    "r = requests.post(url, data=payload,headers=headers,  timeout=3)\n",
    "\n",
    "print('% Complete:',round(r.json()['pct_complete'],3))\n",
    "print('CV % Complete:',round(r.json()['cv_progress'],3))\n",
    "print('CV Done:',r.json()['cv_done'])"
   ]
  },
  {
   "cell_type": "code",
   "execution_count": 110,
   "metadata": {
    "ExecuteTime": {
     "end_time": "2020-07-15T07:42:48.917066Z",
     "start_time": "2020-07-15T07:42:48.913055Z"
    }
   },
   "outputs": [
    {
     "data": {
      "text/plain": [
       "set()"
      ]
     },
     "execution_count": 110,
     "metadata": {},
     "output_type": "execute_result"
    }
   ],
   "source": [
    "set(r.json()['project_items']) - set(r.json()['train_complete'])"
   ]
  },
  {
   "cell_type": "markdown",
   "metadata": {},
   "source": [
    "### `/get_cv_results`"
   ]
  },
  {
   "cell_type": "code",
   "execution_count": 153,
   "metadata": {
    "ExecuteTime": {
     "end_time": "2020-07-15T10:04:10.481489Z",
     "start_time": "2020-07-15T10:04:10.093517Z"
    }
   },
   "outputs": [
    {
     "data": {
      "text/html": [
       "<div>\n",
       "<style scoped>\n",
       "    .dataframe tbody tr th:only-of-type {\n",
       "        vertical-align: middle;\n",
       "    }\n",
       "\n",
       "    .dataframe tbody tr th {\n",
       "        vertical-align: top;\n",
       "    }\n",
       "\n",
       "    .dataframe thead th {\n",
       "        text-align: right;\n",
       "    }\n",
       "</style>\n",
       "<table border=\"1\" class=\"dataframe\">\n",
       "  <thead>\n",
       "    <tr style=\"text-align: right;\">\n",
       "      <th></th>\n",
       "      <th>item_id</th>\n",
       "      <th>avg_sales</th>\n",
       "      <th>r2_score</th>\n",
       "      <th>mae_score</th>\n",
       "      <th>mpe_score</th>\n",
       "      <th>rmse_score</th>\n",
       "    </tr>\n",
       "  </thead>\n",
       "  <tbody>\n",
       "    <tr>\n",
       "      <th>0</th>\n",
       "      <td>1002.0</td>\n",
       "      <td>2610.850342</td>\n",
       "      <td>0.649976</td>\n",
       "      <td>653.276560</td>\n",
       "      <td>0.250216</td>\n",
       "      <td>788.212616</td>\n",
       "    </tr>\n",
       "    <tr>\n",
       "      <th>1</th>\n",
       "      <td>1003.0</td>\n",
       "      <td>3376.867676</td>\n",
       "      <td>0.918006</td>\n",
       "      <td>276.437648</td>\n",
       "      <td>0.081862</td>\n",
       "      <td>412.883962</td>\n",
       "    </tr>\n",
       "    <tr>\n",
       "      <th>2</th>\n",
       "      <td>1004.0</td>\n",
       "      <td>3464.819580</td>\n",
       "      <td>0.889222</td>\n",
       "      <td>349.529195</td>\n",
       "      <td>0.100879</td>\n",
       "      <td>462.898905</td>\n",
       "    </tr>\n",
       "    <tr>\n",
       "      <th>3</th>\n",
       "      <td>101.0</td>\n",
       "      <td>210.199631</td>\n",
       "      <td>0.801426</td>\n",
       "      <td>28.869619</td>\n",
       "      <td>0.137344</td>\n",
       "      <td>36.880814</td>\n",
       "    </tr>\n",
       "    <tr>\n",
       "      <th>4</th>\n",
       "      <td>102.0</td>\n",
       "      <td>178.524384</td>\n",
       "      <td>0.688875</td>\n",
       "      <td>31.438341</td>\n",
       "      <td>0.176101</td>\n",
       "      <td>47.072151</td>\n",
       "    </tr>\n",
       "    <tr>\n",
       "      <th>5</th>\n",
       "      <td>1152.0</td>\n",
       "      <td>113.752693</td>\n",
       "      <td>0.594906</td>\n",
       "      <td>23.412595</td>\n",
       "      <td>0.205820</td>\n",
       "      <td>29.448702</td>\n",
       "    </tr>\n",
       "    <tr>\n",
       "      <th>6</th>\n",
       "      <td>1153.0</td>\n",
       "      <td>281.756165</td>\n",
       "      <td>0.825182</td>\n",
       "      <td>37.380898</td>\n",
       "      <td>0.132671</td>\n",
       "      <td>49.769918</td>\n",
       "    </tr>\n",
       "    <tr>\n",
       "      <th>7</th>\n",
       "      <td>1195.0</td>\n",
       "      <td>130.380447</td>\n",
       "      <td>0.710220</td>\n",
       "      <td>24.445138</td>\n",
       "      <td>0.187491</td>\n",
       "      <td>30.499925</td>\n",
       "    </tr>\n",
       "    <tr>\n",
       "      <th>8</th>\n",
       "      <td>11.0</td>\n",
       "      <td>218.526474</td>\n",
       "      <td>0.870352</td>\n",
       "      <td>26.046635</td>\n",
       "      <td>0.119192</td>\n",
       "      <td>35.559450</td>\n",
       "    </tr>\n",
       "    <tr>\n",
       "      <th>9</th>\n",
       "      <td>1203.0</td>\n",
       "      <td>199.803940</td>\n",
       "      <td>0.858945</td>\n",
       "      <td>23.969528</td>\n",
       "      <td>0.119965</td>\n",
       "      <td>33.569090</td>\n",
       "    </tr>\n",
       "    <tr>\n",
       "      <th>10</th>\n",
       "      <td>1204.0</td>\n",
       "      <td>292.541565</td>\n",
       "      <td>0.839773</td>\n",
       "      <td>39.267802</td>\n",
       "      <td>0.134230</td>\n",
       "      <td>59.291148</td>\n",
       "    </tr>\n",
       "    <tr>\n",
       "      <th>11</th>\n",
       "      <td>1205.0</td>\n",
       "      <td>180.181778</td>\n",
       "      <td>0.792524</td>\n",
       "      <td>26.441599</td>\n",
       "      <td>0.146750</td>\n",
       "      <td>35.155953</td>\n",
       "    </tr>\n",
       "    <tr>\n",
       "      <th>12</th>\n",
       "      <td>1221.0</td>\n",
       "      <td>246.273209</td>\n",
       "      <td>0.877236</td>\n",
       "      <td>36.484833</td>\n",
       "      <td>0.148148</td>\n",
       "      <td>52.672344</td>\n",
       "    </tr>\n",
       "    <tr>\n",
       "      <th>13</th>\n",
       "      <td>1225.0</td>\n",
       "      <td>31.816252</td>\n",
       "      <td>0.551152</td>\n",
       "      <td>9.457415</td>\n",
       "      <td>0.297251</td>\n",
       "      <td>13.596496</td>\n",
       "    </tr>\n",
       "    <tr>\n",
       "      <th>14</th>\n",
       "      <td>1230.0</td>\n",
       "      <td>9.089099</td>\n",
       "      <td>0.535586</td>\n",
       "      <td>3.590188</td>\n",
       "      <td>0.394999</td>\n",
       "      <td>4.990108</td>\n",
       "    </tr>\n",
       "    <tr>\n",
       "      <th>15</th>\n",
       "      <td>1231.0</td>\n",
       "      <td>10.598190</td>\n",
       "      <td>0.587098</td>\n",
       "      <td>3.760502</td>\n",
       "      <td>0.354825</td>\n",
       "      <td>5.286898</td>\n",
       "    </tr>\n",
       "    <tr>\n",
       "      <th>16</th>\n",
       "      <td>1232.0</td>\n",
       "      <td>25.872808</td>\n",
       "      <td>0.430157</td>\n",
       "      <td>5.104559</td>\n",
       "      <td>0.197294</td>\n",
       "      <td>6.718157</td>\n",
       "    </tr>\n",
       "    <tr>\n",
       "      <th>17</th>\n",
       "      <td>12.0</td>\n",
       "      <td>303.203735</td>\n",
       "      <td>0.892146</td>\n",
       "      <td>35.232023</td>\n",
       "      <td>0.116199</td>\n",
       "      <td>49.332564</td>\n",
       "    </tr>\n",
       "    <tr>\n",
       "      <th>18</th>\n",
       "      <td>1502.0</td>\n",
       "      <td>275.483551</td>\n",
       "      <td>0.770802</td>\n",
       "      <td>43.526770</td>\n",
       "      <td>0.158001</td>\n",
       "      <td>61.825143</td>\n",
       "    </tr>\n",
       "    <tr>\n",
       "      <th>19</th>\n",
       "      <td>1503.0</td>\n",
       "      <td>415.309387</td>\n",
       "      <td>0.784173</td>\n",
       "      <td>71.445385</td>\n",
       "      <td>0.172029</td>\n",
       "      <td>101.889758</td>\n",
       "    </tr>\n",
       "    <tr>\n",
       "      <th>20</th>\n",
       "      <td>1504.0</td>\n",
       "      <td>610.151489</td>\n",
       "      <td>-1.002770</td>\n",
       "      <td>168.148388</td>\n",
       "      <td>0.275585</td>\n",
       "      <td>200.376228</td>\n",
       "    </tr>\n",
       "    <tr>\n",
       "      <th>21</th>\n",
       "      <td>1615.0</td>\n",
       "      <td>24.468182</td>\n",
       "      <td>0.654767</td>\n",
       "      <td>6.627419</td>\n",
       "      <td>0.270859</td>\n",
       "      <td>8.800731</td>\n",
       "    </tr>\n",
       "    <tr>\n",
       "      <th>22</th>\n",
       "      <td>196.0</td>\n",
       "      <td>22.488817</td>\n",
       "      <td>0.207142</td>\n",
       "      <td>9.187202</td>\n",
       "      <td>0.408523</td>\n",
       "      <td>11.859235</td>\n",
       "    </tr>\n",
       "    <tr>\n",
       "      <th>23</th>\n",
       "      <td>197.0</td>\n",
       "      <td>55.982059</td>\n",
       "      <td>0.531498</td>\n",
       "      <td>15.374640</td>\n",
       "      <td>0.274635</td>\n",
       "      <td>20.328974</td>\n",
       "    </tr>\n",
       "    <tr>\n",
       "      <th>24</th>\n",
       "      <td>1.0</td>\n",
       "      <td>473.311096</td>\n",
       "      <td>0.914374</td>\n",
       "      <td>44.596274</td>\n",
       "      <td>0.094222</td>\n",
       "      <td>63.480549</td>\n",
       "    </tr>\n",
       "    <tr>\n",
       "      <th>25</th>\n",
       "      <td>200.0</td>\n",
       "      <td>24.670033</td>\n",
       "      <td>-0.181886</td>\n",
       "      <td>6.583628</td>\n",
       "      <td>0.266867</td>\n",
       "      <td>8.322715</td>\n",
       "    </tr>\n",
       "    <tr>\n",
       "      <th>26</th>\n",
       "      <td>201.0</td>\n",
       "      <td>56.845173</td>\n",
       "      <td>0.458022</td>\n",
       "      <td>15.352342</td>\n",
       "      <td>0.270073</td>\n",
       "      <td>20.055750</td>\n",
       "    </tr>\n",
       "    <tr>\n",
       "      <th>27</th>\n",
       "      <td>202.0</td>\n",
       "      <td>2130.495117</td>\n",
       "      <td>0.889407</td>\n",
       "      <td>202.646601</td>\n",
       "      <td>0.095117</td>\n",
       "      <td>287.442261</td>\n",
       "    </tr>\n",
       "    <tr>\n",
       "      <th>28</th>\n",
       "      <td>203.0</td>\n",
       "      <td>17.917538</td>\n",
       "      <td>0.233902</td>\n",
       "      <td>4.618892</td>\n",
       "      <td>0.257786</td>\n",
       "      <td>6.531737</td>\n",
       "    </tr>\n",
       "    <tr>\n",
       "      <th>29</th>\n",
       "      <td>204.0</td>\n",
       "      <td>27.337370</td>\n",
       "      <td>0.798218</td>\n",
       "      <td>6.353769</td>\n",
       "      <td>0.232421</td>\n",
       "      <td>8.480702</td>\n",
       "    </tr>\n",
       "    <tr>\n",
       "      <th>30</th>\n",
       "      <td>21.0</td>\n",
       "      <td>169.172928</td>\n",
       "      <td>0.887241</td>\n",
       "      <td>21.886308</td>\n",
       "      <td>0.129372</td>\n",
       "      <td>30.823032</td>\n",
       "    </tr>\n",
       "    <tr>\n",
       "      <th>31</th>\n",
       "      <td>2256.0</td>\n",
       "      <td>57.813194</td>\n",
       "      <td>0.781175</td>\n",
       "      <td>10.651578</td>\n",
       "      <td>0.184241</td>\n",
       "      <td>14.135048</td>\n",
       "    </tr>\n",
       "    <tr>\n",
       "      <th>32</th>\n",
       "      <td>281.0</td>\n",
       "      <td>79.652374</td>\n",
       "      <td>0.819843</td>\n",
       "      <td>12.033191</td>\n",
       "      <td>0.151071</td>\n",
       "      <td>16.533714</td>\n",
       "    </tr>\n",
       "    <tr>\n",
       "      <th>33</th>\n",
       "      <td>284.0</td>\n",
       "      <td>268.815033</td>\n",
       "      <td>0.871959</td>\n",
       "      <td>31.288481</td>\n",
       "      <td>0.116394</td>\n",
       "      <td>47.805971</td>\n",
       "    </tr>\n",
       "    <tr>\n",
       "      <th>34</th>\n",
       "      <td>31.0</td>\n",
       "      <td>45.567699</td>\n",
       "      <td>0.828880</td>\n",
       "      <td>9.474033</td>\n",
       "      <td>0.207911</td>\n",
       "      <td>12.889592</td>\n",
       "    </tr>\n",
       "    <tr>\n",
       "      <th>35</th>\n",
       "      <td>350.0</td>\n",
       "      <td>191.013550</td>\n",
       "      <td>0.585912</td>\n",
       "      <td>39.435439</td>\n",
       "      <td>0.206454</td>\n",
       "      <td>62.589151</td>\n",
       "    </tr>\n",
       "  </tbody>\n",
       "</table>\n",
       "</div>"
      ],
      "text/plain": [
       "    item_id    avg_sales  r2_score   mae_score  mpe_score  rmse_score\n",
       "0    1002.0  2610.850342  0.649976  653.276560   0.250216  788.212616\n",
       "1    1003.0  3376.867676  0.918006  276.437648   0.081862  412.883962\n",
       "2    1004.0  3464.819580  0.889222  349.529195   0.100879  462.898905\n",
       "3     101.0   210.199631  0.801426   28.869619   0.137344   36.880814\n",
       "4     102.0   178.524384  0.688875   31.438341   0.176101   47.072151\n",
       "5    1152.0   113.752693  0.594906   23.412595   0.205820   29.448702\n",
       "6    1153.0   281.756165  0.825182   37.380898   0.132671   49.769918\n",
       "7    1195.0   130.380447  0.710220   24.445138   0.187491   30.499925\n",
       "8      11.0   218.526474  0.870352   26.046635   0.119192   35.559450\n",
       "9    1203.0   199.803940  0.858945   23.969528   0.119965   33.569090\n",
       "10   1204.0   292.541565  0.839773   39.267802   0.134230   59.291148\n",
       "11   1205.0   180.181778  0.792524   26.441599   0.146750   35.155953\n",
       "12   1221.0   246.273209  0.877236   36.484833   0.148148   52.672344\n",
       "13   1225.0    31.816252  0.551152    9.457415   0.297251   13.596496\n",
       "14   1230.0     9.089099  0.535586    3.590188   0.394999    4.990108\n",
       "15   1231.0    10.598190  0.587098    3.760502   0.354825    5.286898\n",
       "16   1232.0    25.872808  0.430157    5.104559   0.197294    6.718157\n",
       "17     12.0   303.203735  0.892146   35.232023   0.116199   49.332564\n",
       "18   1502.0   275.483551  0.770802   43.526770   0.158001   61.825143\n",
       "19   1503.0   415.309387  0.784173   71.445385   0.172029  101.889758\n",
       "20   1504.0   610.151489 -1.002770  168.148388   0.275585  200.376228\n",
       "21   1615.0    24.468182  0.654767    6.627419   0.270859    8.800731\n",
       "22    196.0    22.488817  0.207142    9.187202   0.408523   11.859235\n",
       "23    197.0    55.982059  0.531498   15.374640   0.274635   20.328974\n",
       "24      1.0   473.311096  0.914374   44.596274   0.094222   63.480549\n",
       "25    200.0    24.670033 -0.181886    6.583628   0.266867    8.322715\n",
       "26    201.0    56.845173  0.458022   15.352342   0.270073   20.055750\n",
       "27    202.0  2130.495117  0.889407  202.646601   0.095117  287.442261\n",
       "28    203.0    17.917538  0.233902    4.618892   0.257786    6.531737\n",
       "29    204.0    27.337370  0.798218    6.353769   0.232421    8.480702\n",
       "30     21.0   169.172928  0.887241   21.886308   0.129372   30.823032\n",
       "31   2256.0    57.813194  0.781175   10.651578   0.184241   14.135048\n",
       "32    281.0    79.652374  0.819843   12.033191   0.151071   16.533714\n",
       "33    284.0   268.815033  0.871959   31.288481   0.116394   47.805971\n",
       "34     31.0    45.567699  0.828880    9.474033   0.207911   12.889592\n",
       "35    350.0   191.013550  0.585912   39.435439   0.206454   62.589151"
      ]
     },
     "execution_count": 153,
     "metadata": {},
     "output_type": "execute_result"
    }
   ],
   "source": [
    "import requests\n",
    "import json\n",
    "\n",
    "url = 'https://fillet.azurewebsites.net/get_cv_results/'\n",
    "# url = 'http://localhost:5000/get_cv_results/'\n",
    "\n",
    "\n",
    "payload = {'project_id': 1}\n",
    "\n",
    "headers = {'content-type': 'application/json',\n",
    "           'Accept-Charset': 'UTF-8'\n",
    "          }\n",
    "\n",
    "payload = json.dumps(payload)\n",
    "r = requests.post(url, data=payload,headers=headers,  timeout=5)\n",
    "pd.DataFrame().from_dict((json.loads(r.json())))"
   ]
  },
  {
   "cell_type": "code",
   "execution_count": 127,
   "metadata": {
    "ExecuteTime": {
     "end_time": "2020-07-14T12:50:16.929405Z",
     "start_time": "2020-07-14T12:50:16.924418Z"
    }
   },
   "outputs": [
    {
     "data": {
      "text/plain": [
       "{'status': 'incomplete'}"
      ]
     },
     "execution_count": 127,
     "metadata": {},
     "output_type": "execute_result"
    }
   ],
   "source": [
    "r.json()"
   ]
  },
  {
   "cell_type": "markdown",
   "metadata": {},
   "source": [
    "### `/optimize`"
   ]
  },
  {
   "cell_type": "code",
   "execution_count": null,
   "metadata": {
    "ExecuteTime": {
     "end_time": "2020-07-06T10:51:53.277087Z",
     "start_time": "2020-07-06T10:51:51.493Z"
    }
   },
   "outputs": [],
   "source": [
    "url = 'http://localhost:5000/optimize/'\n",
    "\n",
    "payload = {'project_id': 1,\n",
    "           'constraints': [],\n",
    "           'population': 100,\n",
    "           'max_epoch': 200\n",
    "           }\n",
    "\n",
    "headers = {'content-type': 'application/json',\n",
    "           'Accept-Charset': 'UTF-8'\n",
    "          }\n",
    "\n",
    "payload = json.dumps(payload)\n",
    "r = requests.post(url, data=payload, headers=headers)"
   ]
  },
  {
   "cell_type": "code",
   "execution_count": null,
   "metadata": {
    "ExecuteTime": {
     "end_time": "2020-07-06T10:51:53.278090Z",
     "start_time": "2020-07-06T10:51:51.495Z"
    }
   },
   "outputs": [],
   "source": [
    "best_prices = r.json()['result']\n",
    "best_prices"
   ]
  },
  {
   "cell_type": "code",
   "execution_count": null,
   "metadata": {
    "ExecuteTime": {
     "end_time": "2020-07-06T10:51:53.279082Z",
     "start_time": "2020-07-06T10:51:51.496Z"
    }
   },
   "outputs": [],
   "source": [
    "import requests\n",
    "import json\n",
    "\n",
    "url = 'http://localhost:5000/predict/'\n",
    "payload = {'prices': best_prices,\n",
    "           'project_id': 1\n",
    "           }\n",
    "headers = {'content-type': 'application/json',\n",
    "           'Accept-Charset': 'UTF-8'\n",
    "          }\n",
    "payload = json.dumps(payload)\n",
    "r = requests.post(url, data=payload, headers=headers)\n",
    "\n",
    "# What If Prediction\n",
    "qty = r.json()['qty_estimates']"
   ]
  },
  {
   "cell_type": "code",
   "execution_count": null,
   "metadata": {
    "ExecuteTime": {
     "end_time": "2020-07-06T10:51:53.280079Z",
     "start_time": "2020-07-06T10:51:51.497Z"
    }
   },
   "outputs": [],
   "source": [
    "qty"
   ]
  },
  {
   "cell_type": "code",
   "execution_count": null,
   "metadata": {
    "ExecuteTime": {
     "end_time": "2020-07-06T10:51:53.280079Z",
     "start_time": "2020-07-06T10:51:51.498Z"
    }
   },
   "outputs": [],
   "source": [
    "# Calculate Revenue\n",
    "revenue = 0\n",
    "for item in best_prices.keys():\n",
    "    revenue += (best_prices[item]*qty['Qty_'+item])\n",
    "    \n",
    "print(revenue)"
   ]
  },
  {
   "cell_type": "markdown",
   "metadata": {},
   "source": [
    "### `/predict/`"
   ]
  },
  {
   "cell_type": "code",
   "execution_count": 60,
   "metadata": {
    "ExecuteTime": {
     "end_time": "2020-07-15T05:38:10.992534Z",
     "start_time": "2020-07-15T05:37:51.080671Z"
    }
   },
   "outputs": [
    {
     "name": "stdout",
     "output_type": "stream",
     "text": [
      "Input Prices Quantities:\n"
     ]
    },
    {
     "data": {
      "text/html": [
       "<div>\n",
       "<style scoped>\n",
       "    .dataframe tbody tr th:only-of-type {\n",
       "        vertical-align: middle;\n",
       "    }\n",
       "\n",
       "    .dataframe tbody tr th {\n",
       "        vertical-align: top;\n",
       "    }\n",
       "\n",
       "    .dataframe thead th {\n",
       "        text-align: right;\n",
       "    }\n",
       "</style>\n",
       "<table border=\"1\" class=\"dataframe\">\n",
       "  <thead>\n",
       "    <tr style=\"text-align: right;\">\n",
       "      <th></th>\n",
       "      <th>Estimated</th>\n",
       "      <th>Actual</th>\n",
       "    </tr>\n",
       "  </thead>\n",
       "  <tbody>\n",
       "    <tr>\n",
       "      <th>Qty_1004</th>\n",
       "      <td>4010.0</td>\n",
       "      <td>3189.0</td>\n",
       "    </tr>\n",
       "    <tr>\n",
       "      <th>Qty_102</th>\n",
       "      <td>249.0</td>\n",
       "      <td>183.0</td>\n",
       "    </tr>\n",
       "    <tr>\n",
       "      <th>Qty_11</th>\n",
       "      <td>273.0</td>\n",
       "      <td>229.0</td>\n",
       "    </tr>\n",
       "    <tr>\n",
       "      <th>Qty_1152</th>\n",
       "      <td>115.0</td>\n",
       "      <td>101.0</td>\n",
       "    </tr>\n",
       "    <tr>\n",
       "      <th>Qty_1195</th>\n",
       "      <td>129.0</td>\n",
       "      <td>119.0</td>\n",
       "    </tr>\n",
       "    <tr>\n",
       "      <th>...</th>\n",
       "      <td>...</td>\n",
       "      <td>...</td>\n",
       "    </tr>\n",
       "    <tr>\n",
       "      <th>Qty_7434</th>\n",
       "      <td>206.0</td>\n",
       "      <td>148.0</td>\n",
       "    </tr>\n",
       "    <tr>\n",
       "      <th>Qty_7575</th>\n",
       "      <td>107.0</td>\n",
       "      <td>69.0</td>\n",
       "    </tr>\n",
       "    <tr>\n",
       "      <th>Qty_7965</th>\n",
       "      <td>46.0</td>\n",
       "      <td>51.0</td>\n",
       "    </tr>\n",
       "    <tr>\n",
       "      <th>Qty_7966</th>\n",
       "      <td>146.0</td>\n",
       "      <td>160.0</td>\n",
       "    </tr>\n",
       "    <tr>\n",
       "      <th>Qty_7967</th>\n",
       "      <td>148.0</td>\n",
       "      <td>127.0</td>\n",
       "    </tr>\n",
       "  </tbody>\n",
       "</table>\n",
       "<p>100 rows × 2 columns</p>\n",
       "</div>"
      ],
      "text/plain": [
       "          Estimated  Actual\n",
       "Qty_1004     4010.0  3189.0\n",
       "Qty_102       249.0   183.0\n",
       "Qty_11        273.0   229.0\n",
       "Qty_1152      115.0   101.0\n",
       "Qty_1195      129.0   119.0\n",
       "...             ...     ...\n",
       "Qty_7434      206.0   148.0\n",
       "Qty_7575      107.0    69.0\n",
       "Qty_7965       46.0    51.0\n",
       "Qty_7966      146.0   160.0\n",
       "Qty_7967      148.0   127.0\n",
       "\n",
       "[100 rows x 2 columns]"
      ]
     },
     "execution_count": 60,
     "metadata": {},
     "output_type": "execute_result"
    }
   ],
   "source": [
    "# Sample Actual Price \n",
    "from helper_functions import *\n",
    "\n",
    "sales_data = data_subset\n",
    "\n",
    "sales_data = optimize_memory(sales_data)\n",
    "\n",
    "sales_data_wide = sales_data.set_index(\n",
    "    ['Wk', 'Tier', 'Store', 'Item_ID']).unstack(level=-1).reset_index().copy()\n",
    "sales_data_wide.columns = [\n",
    "    ''.join(str(i) for i in col).strip()\n",
    "    for col in sales_data_wide.columns.values\n",
    "]\n",
    "sales_data_wide = sales_data_wide.sort_values(\n",
    "    ['Tier', 'Store', 'Wk'], ascending=True).reset_index(drop=True)\n",
    "\n",
    "sales_data_wide_clean = sales_data_wide.dropna(axis=0).copy()\n",
    "dataset = sales_data_wide_clean\n",
    "price_columns = [\n",
    "    col for col in sales_data_wide_clean.columns if col.startswith('Price')\n",
    "]\n",
    "\n",
    "a = dataset.sample(1)\n",
    "a_dict = a[price_columns].iloc[0].to_dict()\n",
    "a_input = {}\n",
    "for key in a_dict.keys():\n",
    "    a_input[key.split('_')[1]]=round(a_dict[key],2)\n",
    "\n",
    "print('Input Prices Quantities:')\n",
    "# a_input\n",
    "\n",
    "\n",
    "# Predict Sales Qty and Compare to Actual\n",
    "\n",
    "import requests\n",
    "import json\n",
    "\n",
    "url = 'https://fillet.azurewebsites.net/predict/'\n",
    "# url = 'http://localhost:5000/predict/'\n",
    "\n",
    "payload = {'prices': a_input, 'project_id': 1}\n",
    "\n",
    "headers = {'content-type': 'application/json', 'Accept-Charset': 'UTF-8'}\n",
    "\n",
    "payload = json.dumps(payload)\n",
    "r = requests.post(url, data=payload, headers=headers)\n",
    "qty = r.json()['qty_estimates']\n",
    "qty_outp = {}\n",
    "for key in qty.keys():\n",
    "    qty_outp[key] = round(qty[key], 0)\n",
    "actual = a[[\n",
    "    col for col in sales_data_wide_clean.columns if col.startswith('Qty_')\n",
    "]].iloc[0].to_dict()\n",
    "pd.DataFrame([qty_outp, actual], index=['Estimated', 'Actual']).transpose()"
   ]
  },
  {
   "cell_type": "code",
   "execution_count": null,
   "metadata": {},
   "outputs": [],
   "source": []
  }
 ],
 "metadata": {
  "kernelspec": {
   "display_name": "Python 3",
   "language": "python",
   "name": "python3"
  },
  "language_info": {
   "codemirror_mode": {
    "name": "ipython",
    "version": 3
   },
   "file_extension": ".py",
   "mimetype": "text/x-python",
   "name": "python",
   "nbconvert_exporter": "python",
   "pygments_lexer": "ipython3",
   "version": "3.7.6"
  },
  "toc": {
   "base_numbering": 1,
   "nav_menu": {},
   "number_sections": true,
   "sideBar": true,
   "skip_h1_title": false,
   "title_cell": "Table of Contents",
   "title_sidebar": "Contents",
   "toc_cell": false,
   "toc_position": {},
   "toc_section_display": true,
   "toc_window_display": false
  },
  "varInspector": {
   "cols": {
    "lenName": 16,
    "lenType": 16,
    "lenVar": 40
   },
   "kernels_config": {
    "python": {
     "delete_cmd_postfix": "",
     "delete_cmd_prefix": "del ",
     "library": "var_list.py",
     "varRefreshCmd": "print(var_dic_list())"
    },
    "r": {
     "delete_cmd_postfix": ") ",
     "delete_cmd_prefix": "rm(",
     "library": "var_list.r",
     "varRefreshCmd": "cat(var_dic_list()) "
    }
   },
   "types_to_exclude": [
    "module",
    "function",
    "builtin_function_or_method",
    "instance",
    "_Feature"
   ],
   "window_display": false
  }
 },
 "nbformat": 4,
 "nbformat_minor": 4
}
