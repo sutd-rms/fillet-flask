{
 "cells": [
  {
   "cell_type": "code",
   "execution_count": 80,
   "metadata": {
    "ExecuteTime": {
     "end_time": "2020-07-15T06:45:42.356005Z",
     "start_time": "2020-07-15T06:45:42.353012Z"
    }
   },
   "outputs": [],
   "source": [
    "import pandas as pd\n",
    "import numpy as np\n",
    "import pickle as p"
   ]
  },
  {
   "cell_type": "code",
   "execution_count": 81,
   "metadata": {
    "ExecuteTime": {
     "end_time": "2020-07-15T06:45:44.168980Z",
     "start_time": "2020-07-15T06:45:42.594088Z"
    }
   },
   "outputs": [],
   "source": [
    "data_all = pd.read_csv('../data_all.csv')\n",
    "\n",
    "# Test with Subset of Data\n",
    "np.random.seed(43)\n",
    "item_subset = list(np.random.choice(data_all['Item_ID'].unique(), size=153, replace=False))\n",
    "data_subset = data_all.loc[data_all['Item_ID'].isin(item_subset)].copy()\n",
    "\n",
    "# # Test with All Data\n",
    "# data_subset = data_all.copy()"
   ]
  },
  {
   "cell_type": "code",
   "execution_count": 82,
   "metadata": {
    "ExecuteTime": {
     "end_time": "2020-07-15T06:45:44.226825Z",
     "start_time": "2020-07-15T06:45:44.223833Z"
    },
    "scrolled": true
   },
   "outputs": [],
   "source": [
    "# item_subset"
   ]
  },
  {
   "cell_type": "code",
   "execution_count": null,
   "metadata": {},
   "outputs": [],
   "source": []
  },
  {
   "cell_type": "markdown",
   "metadata": {},
   "source": [
    "### `/train`"
   ]
  },
  {
   "cell_type": "code",
   "execution_count": 83,
   "metadata": {
    "ExecuteTime": {
     "end_time": "2020-07-15T06:45:44.282703Z",
     "start_time": "2020-07-15T06:45:44.280681Z"
    }
   },
   "outputs": [],
   "source": [
    "import time"
   ]
  },
  {
   "cell_type": "code",
   "execution_count": 84,
   "metadata": {
    "ExecuteTime": {
     "end_time": "2020-07-15T06:45:55.338358Z",
     "start_time": "2020-07-15T06:45:44.658884Z"
    }
   },
   "outputs": [],
   "source": [
    "import requests\n",
    "import json\n",
    "from threading import Thread\n",
    "\n",
    "url = 'https://fillet.azurewebsites.net/train/'\n",
    "# url = 'http://localhost:5000/train/'\n",
    "\n",
    "\n",
    "data_subset.to_parquet('data_subset.parquet')\n",
    "files = {'data': open('data_subset.parquet', 'rb')}\n",
    "\n",
    "payload = {'cv_acc': True, 'project_id': 1}\n",
    "\n",
    "Thread(target=requests.post, args=(url, ), kwargs={'data': payload, 'files': files}).start()\n",
    "\n",
    "time.sleep(10)\n",
    "files['data'].close()"
   ]
  },
  {
   "cell_type": "markdown",
   "metadata": {},
   "source": [
    "### `/query_progress`"
   ]
  },
  {
   "cell_type": "code",
   "execution_count": 111,
   "metadata": {
    "ExecuteTime": {
     "end_time": "2020-07-15T07:50:42.717350Z",
     "start_time": "2020-07-15T07:50:42.591382Z"
    }
   },
   "outputs": [
    {
     "name": "stdout",
     "output_type": "stream",
     "text": [
      "% Complete: 100.0\n",
      "CV % Complete: 19.6\n",
      "CV Done: 0\n"
     ]
    }
   ],
   "source": [
    "import requests\n",
    "import json\n",
    "\n",
    "url = 'https://fillet.azurewebsites.net/query_progress/'\n",
    "# url = 'http://localhost:5000/query_progress/'\n",
    "\n",
    "\n",
    "payload = {'project_id': 1}\n",
    "\n",
    "headers = {'content-type': 'application/json',\n",
    "           'Accept-Charset': 'UTF-8'\n",
    "          }\n",
    "\n",
    "payload = json.dumps(payload)\n",
    "r = requests.post(url, data=payload,headers=headers,  timeout=5)\n",
    "\n",
    "print('% Complete:',round(r.json()['pct_complete'],3))\n",
    "print('CV % Complete:',round(r.json()['cv_progress'],3))\n",
    "print('CV Done:',r.json()['cv_done'])"
   ]
  },
  {
   "cell_type": "code",
   "execution_count": 110,
   "metadata": {
    "ExecuteTime": {
     "end_time": "2020-07-15T07:42:48.917066Z",
     "start_time": "2020-07-15T07:42:48.913055Z"
    }
   },
   "outputs": [
    {
     "data": {
      "text/plain": [
       "set()"
      ]
     },
     "execution_count": 110,
     "metadata": {},
     "output_type": "execute_result"
    }
   ],
   "source": [
    "set(r.json()['project_items']) - set(r.json()['train_complete'])"
   ]
  },
  {
   "cell_type": "markdown",
   "metadata": {},
   "source": [
    "### `/get_cv_results`"
   ]
  },
  {
   "cell_type": "code",
   "execution_count": 105,
   "metadata": {
    "ExecuteTime": {
     "end_time": "2020-07-15T07:38:41.331591Z",
     "start_time": "2020-07-15T07:38:40.772029Z"
    }
   },
   "outputs": [
    {
     "data": {
      "text/html": [
       "<div>\n",
       "<style scoped>\n",
       "    .dataframe tbody tr th:only-of-type {\n",
       "        vertical-align: middle;\n",
       "    }\n",
       "\n",
       "    .dataframe tbody tr th {\n",
       "        vertical-align: top;\n",
       "    }\n",
       "\n",
       "    .dataframe thead th {\n",
       "        text-align: right;\n",
       "    }\n",
       "</style>\n",
       "<table border=\"1\" class=\"dataframe\">\n",
       "  <thead>\n",
       "    <tr style=\"text-align: right;\">\n",
       "      <th></th>\n",
       "      <th>item_id</th>\n",
       "      <th>avg_sales</th>\n",
       "      <th>r2_score</th>\n",
       "      <th>mae_score</th>\n",
       "      <th>mpe_score</th>\n",
       "      <th>rmse_score</th>\n",
       "    </tr>\n",
       "  </thead>\n",
       "  <tbody>\n",
       "    <tr>\n",
       "      <th>0</th>\n",
       "      <td>1002.0</td>\n",
       "      <td>2610.850342</td>\n",
       "      <td>0.714290</td>\n",
       "      <td>428.208115</td>\n",
       "      <td>0.164011</td>\n",
       "      <td>522.476949</td>\n",
       "    </tr>\n",
       "    <tr>\n",
       "      <th>1</th>\n",
       "      <td>102.0</td>\n",
       "      <td>178.524384</td>\n",
       "      <td>0.677324</td>\n",
       "      <td>32.323790</td>\n",
       "      <td>0.181061</td>\n",
       "      <td>50.155280</td>\n",
       "    </tr>\n",
       "    <tr>\n",
       "      <th>2</th>\n",
       "      <td>1152.0</td>\n",
       "      <td>113.752693</td>\n",
       "      <td>0.623570</td>\n",
       "      <td>22.774421</td>\n",
       "      <td>0.200210</td>\n",
       "      <td>28.569260</td>\n",
       "    </tr>\n",
       "    <tr>\n",
       "      <th>3</th>\n",
       "      <td>1153.0</td>\n",
       "      <td>281.756165</td>\n",
       "      <td>0.497398</td>\n",
       "      <td>81.331184</td>\n",
       "      <td>0.288658</td>\n",
       "      <td>100.619518</td>\n",
       "    </tr>\n",
       "    <tr>\n",
       "      <th>4</th>\n",
       "      <td>1195.0</td>\n",
       "      <td>130.380447</td>\n",
       "      <td>0.677700</td>\n",
       "      <td>26.961260</td>\n",
       "      <td>0.206789</td>\n",
       "      <td>35.028395</td>\n",
       "    </tr>\n",
       "    <tr>\n",
       "      <th>5</th>\n",
       "      <td>11.0</td>\n",
       "      <td>218.526474</td>\n",
       "      <td>0.875610</td>\n",
       "      <td>24.577284</td>\n",
       "      <td>0.112468</td>\n",
       "      <td>35.773224</td>\n",
       "    </tr>\n",
       "    <tr>\n",
       "      <th>6</th>\n",
       "      <td>1203.0</td>\n",
       "      <td>199.803940</td>\n",
       "      <td>0.852295</td>\n",
       "      <td>23.710330</td>\n",
       "      <td>0.118668</td>\n",
       "      <td>32.140583</td>\n",
       "    </tr>\n",
       "    <tr>\n",
       "      <th>7</th>\n",
       "      <td>1204.0</td>\n",
       "      <td>292.541565</td>\n",
       "      <td>0.885296</td>\n",
       "      <td>32.141876</td>\n",
       "      <td>0.109871</td>\n",
       "      <td>46.569782</td>\n",
       "    </tr>\n",
       "    <tr>\n",
       "      <th>8</th>\n",
       "      <td>1205.0</td>\n",
       "      <td>180.181778</td>\n",
       "      <td>0.828786</td>\n",
       "      <td>25.220660</td>\n",
       "      <td>0.139973</td>\n",
       "      <td>33.869499</td>\n",
       "    </tr>\n",
       "    <tr>\n",
       "      <th>9</th>\n",
       "      <td>1221.0</td>\n",
       "      <td>246.273209</td>\n",
       "      <td>0.768555</td>\n",
       "      <td>57.330719</td>\n",
       "      <td>0.232793</td>\n",
       "      <td>80.759911</td>\n",
       "    </tr>\n",
       "    <tr>\n",
       "      <th>10</th>\n",
       "      <td>1225.0</td>\n",
       "      <td>31.816252</td>\n",
       "      <td>0.514789</td>\n",
       "      <td>7.474420</td>\n",
       "      <td>0.234925</td>\n",
       "      <td>10.020184</td>\n",
       "    </tr>\n",
       "    <tr>\n",
       "      <th>11</th>\n",
       "      <td>1230.0</td>\n",
       "      <td>9.089099</td>\n",
       "      <td>0.455375</td>\n",
       "      <td>3.302208</td>\n",
       "      <td>0.363315</td>\n",
       "      <td>4.424899</td>\n",
       "    </tr>\n",
       "    <tr>\n",
       "      <th>12</th>\n",
       "      <td>1232.0</td>\n",
       "      <td>25.872808</td>\n",
       "      <td>0.645695</td>\n",
       "      <td>5.640792</td>\n",
       "      <td>0.218020</td>\n",
       "      <td>7.416347</td>\n",
       "    </tr>\n",
       "    <tr>\n",
       "      <th>13</th>\n",
       "      <td>12.0</td>\n",
       "      <td>303.203735</td>\n",
       "      <td>0.883793</td>\n",
       "      <td>36.025904</td>\n",
       "      <td>0.118817</td>\n",
       "      <td>56.140575</td>\n",
       "    </tr>\n",
       "    <tr>\n",
       "      <th>14</th>\n",
       "      <td>1502.0</td>\n",
       "      <td>275.483551</td>\n",
       "      <td>0.801338</td>\n",
       "      <td>41.304242</td>\n",
       "      <td>0.149934</td>\n",
       "      <td>57.897706</td>\n",
       "    </tr>\n",
       "    <tr>\n",
       "      <th>15</th>\n",
       "      <td>1503.0</td>\n",
       "      <td>415.309387</td>\n",
       "      <td>0.891382</td>\n",
       "      <td>44.761429</td>\n",
       "      <td>0.107779</td>\n",
       "      <td>64.773276</td>\n",
       "    </tr>\n",
       "    <tr>\n",
       "      <th>16</th>\n",
       "      <td>1504.0</td>\n",
       "      <td>610.151489</td>\n",
       "      <td>0.744183</td>\n",
       "      <td>110.391015</td>\n",
       "      <td>0.180924</td>\n",
       "      <td>143.398359</td>\n",
       "    </tr>\n",
       "    <tr>\n",
       "      <th>17</th>\n",
       "      <td>196.0</td>\n",
       "      <td>22.488817</td>\n",
       "      <td>0.344771</td>\n",
       "      <td>6.093604</td>\n",
       "      <td>0.270962</td>\n",
       "      <td>8.422496</td>\n",
       "    </tr>\n",
       "    <tr>\n",
       "      <th>18</th>\n",
       "      <td>197.0</td>\n",
       "      <td>55.982059</td>\n",
       "      <td>-2.408365</td>\n",
       "      <td>22.644814</td>\n",
       "      <td>0.404501</td>\n",
       "      <td>28.102575</td>\n",
       "    </tr>\n",
       "    <tr>\n",
       "      <th>19</th>\n",
       "      <td>1.0</td>\n",
       "      <td>473.311096</td>\n",
       "      <td>0.879570</td>\n",
       "      <td>50.063407</td>\n",
       "      <td>0.105773</td>\n",
       "      <td>69.340219</td>\n",
       "    </tr>\n",
       "    <tr>\n",
       "      <th>20</th>\n",
       "      <td>200.0</td>\n",
       "      <td>24.670033</td>\n",
       "      <td>-0.051960</td>\n",
       "      <td>3.765485</td>\n",
       "      <td>0.152634</td>\n",
       "      <td>5.153486</td>\n",
       "    </tr>\n",
       "    <tr>\n",
       "      <th>21</th>\n",
       "      <td>201.0</td>\n",
       "      <td>56.845173</td>\n",
       "      <td>0.827085</td>\n",
       "      <td>12.997412</td>\n",
       "      <td>0.228646</td>\n",
       "      <td>17.980181</td>\n",
       "    </tr>\n",
       "    <tr>\n",
       "      <th>22</th>\n",
       "      <td>203.0</td>\n",
       "      <td>17.917538</td>\n",
       "      <td>0.687585</td>\n",
       "      <td>5.276859</td>\n",
       "      <td>0.294508</td>\n",
       "      <td>6.887483</td>\n",
       "    </tr>\n",
       "    <tr>\n",
       "      <th>23</th>\n",
       "      <td>21.0</td>\n",
       "      <td>169.172928</td>\n",
       "      <td>0.871481</td>\n",
       "      <td>24.677703</td>\n",
       "      <td>0.145873</td>\n",
       "      <td>36.308453</td>\n",
       "    </tr>\n",
       "    <tr>\n",
       "      <th>24</th>\n",
       "      <td>22.0</td>\n",
       "      <td>173.296341</td>\n",
       "      <td>0.947637</td>\n",
       "      <td>17.158498</td>\n",
       "      <td>0.099012</td>\n",
       "      <td>24.108962</td>\n",
       "    </tr>\n",
       "    <tr>\n",
       "      <th>25</th>\n",
       "      <td>284.0</td>\n",
       "      <td>268.815033</td>\n",
       "      <td>0.882539</td>\n",
       "      <td>31.708946</td>\n",
       "      <td>0.117958</td>\n",
       "      <td>47.529087</td>\n",
       "    </tr>\n",
       "    <tr>\n",
       "      <th>26</th>\n",
       "      <td>350.0</td>\n",
       "      <td>191.013550</td>\n",
       "      <td>0.596524</td>\n",
       "      <td>41.553182</td>\n",
       "      <td>0.217540</td>\n",
       "      <td>60.879667</td>\n",
       "    </tr>\n",
       "  </tbody>\n",
       "</table>\n",
       "</div>"
      ],
      "text/plain": [
       "    item_id    avg_sales  r2_score   mae_score  mpe_score  rmse_score\n",
       "0    1002.0  2610.850342  0.714290  428.208115   0.164011  522.476949\n",
       "1     102.0   178.524384  0.677324   32.323790   0.181061   50.155280\n",
       "2    1152.0   113.752693  0.623570   22.774421   0.200210   28.569260\n",
       "3    1153.0   281.756165  0.497398   81.331184   0.288658  100.619518\n",
       "4    1195.0   130.380447  0.677700   26.961260   0.206789   35.028395\n",
       "5      11.0   218.526474  0.875610   24.577284   0.112468   35.773224\n",
       "6    1203.0   199.803940  0.852295   23.710330   0.118668   32.140583\n",
       "7    1204.0   292.541565  0.885296   32.141876   0.109871   46.569782\n",
       "8    1205.0   180.181778  0.828786   25.220660   0.139973   33.869499\n",
       "9    1221.0   246.273209  0.768555   57.330719   0.232793   80.759911\n",
       "10   1225.0    31.816252  0.514789    7.474420   0.234925   10.020184\n",
       "11   1230.0     9.089099  0.455375    3.302208   0.363315    4.424899\n",
       "12   1232.0    25.872808  0.645695    5.640792   0.218020    7.416347\n",
       "13     12.0   303.203735  0.883793   36.025904   0.118817   56.140575\n",
       "14   1502.0   275.483551  0.801338   41.304242   0.149934   57.897706\n",
       "15   1503.0   415.309387  0.891382   44.761429   0.107779   64.773276\n",
       "16   1504.0   610.151489  0.744183  110.391015   0.180924  143.398359\n",
       "17    196.0    22.488817  0.344771    6.093604   0.270962    8.422496\n",
       "18    197.0    55.982059 -2.408365   22.644814   0.404501   28.102575\n",
       "19      1.0   473.311096  0.879570   50.063407   0.105773   69.340219\n",
       "20    200.0    24.670033 -0.051960    3.765485   0.152634    5.153486\n",
       "21    201.0    56.845173  0.827085   12.997412   0.228646   17.980181\n",
       "22    203.0    17.917538  0.687585    5.276859   0.294508    6.887483\n",
       "23     21.0   169.172928  0.871481   24.677703   0.145873   36.308453\n",
       "24     22.0   173.296341  0.947637   17.158498   0.099012   24.108962\n",
       "25    284.0   268.815033  0.882539   31.708946   0.117958   47.529087\n",
       "26    350.0   191.013550  0.596524   41.553182   0.217540   60.879667"
      ]
     },
     "execution_count": 105,
     "metadata": {},
     "output_type": "execute_result"
    }
   ],
   "source": [
    "import requests\n",
    "import json\n",
    "\n",
    "url = 'https://fillet.azurewebsites.net/get_cv_results/'\n",
    "# url = 'http://localhost:5000/get_cv_results/'\n",
    "\n",
    "\n",
    "payload = {'project_id': 1}\n",
    "\n",
    "headers = {'content-type': 'application/json',\n",
    "           'Accept-Charset': 'UTF-8'\n",
    "          }\n",
    "\n",
    "payload = json.dumps(payload)\n",
    "r = requests.post(url, data=payload,headers=headers,  timeout=5)\n",
    "pd.DataFrame().from_dict((json.loads(r.json())))"
   ]
  },
  {
   "cell_type": "code",
   "execution_count": 127,
   "metadata": {
    "ExecuteTime": {
     "end_time": "2020-07-14T12:50:16.929405Z",
     "start_time": "2020-07-14T12:50:16.924418Z"
    }
   },
   "outputs": [
    {
     "data": {
      "text/plain": [
       "{'status': 'incomplete'}"
      ]
     },
     "execution_count": 127,
     "metadata": {},
     "output_type": "execute_result"
    }
   ],
   "source": [
    "r.json()"
   ]
  },
  {
   "cell_type": "markdown",
   "metadata": {},
   "source": [
    "### `/optimize`"
   ]
  },
  {
   "cell_type": "code",
   "execution_count": null,
   "metadata": {
    "ExecuteTime": {
     "end_time": "2020-07-06T10:51:53.277087Z",
     "start_time": "2020-07-06T10:51:51.493Z"
    }
   },
   "outputs": [],
   "source": [
    "url = 'http://localhost:5000/optimize/'\n",
    "\n",
    "payload = {'project_id': 1,\n",
    "           'constraints': [],\n",
    "           'population': 100,\n",
    "           'max_epoch': 200\n",
    "           }\n",
    "\n",
    "headers = {'content-type': 'application/json',\n",
    "           'Accept-Charset': 'UTF-8'\n",
    "          }\n",
    "\n",
    "payload = json.dumps(payload)\n",
    "r = requests.post(url, data=payload, headers=headers)"
   ]
  },
  {
   "cell_type": "code",
   "execution_count": null,
   "metadata": {
    "ExecuteTime": {
     "end_time": "2020-07-06T10:51:53.278090Z",
     "start_time": "2020-07-06T10:51:51.495Z"
    }
   },
   "outputs": [],
   "source": [
    "best_prices = r.json()['result']\n",
    "best_prices"
   ]
  },
  {
   "cell_type": "code",
   "execution_count": null,
   "metadata": {
    "ExecuteTime": {
     "end_time": "2020-07-06T10:51:53.279082Z",
     "start_time": "2020-07-06T10:51:51.496Z"
    }
   },
   "outputs": [],
   "source": [
    "import requests\n",
    "import json\n",
    "\n",
    "url = 'http://localhost:5000/predict/'\n",
    "payload = {'prices': best_prices,\n",
    "           'project_id': 1\n",
    "           }\n",
    "headers = {'content-type': 'application/json',\n",
    "           'Accept-Charset': 'UTF-8'\n",
    "          }\n",
    "payload = json.dumps(payload)\n",
    "r = requests.post(url, data=payload, headers=headers)\n",
    "\n",
    "# What If Prediction\n",
    "qty = r.json()['qty_estimates']"
   ]
  },
  {
   "cell_type": "code",
   "execution_count": null,
   "metadata": {
    "ExecuteTime": {
     "end_time": "2020-07-06T10:51:53.280079Z",
     "start_time": "2020-07-06T10:51:51.497Z"
    }
   },
   "outputs": [],
   "source": [
    "qty"
   ]
  },
  {
   "cell_type": "code",
   "execution_count": null,
   "metadata": {
    "ExecuteTime": {
     "end_time": "2020-07-06T10:51:53.280079Z",
     "start_time": "2020-07-06T10:51:51.498Z"
    }
   },
   "outputs": [],
   "source": [
    "# Calculate Revenue\n",
    "revenue = 0\n",
    "for item in best_prices.keys():\n",
    "    revenue += (best_prices[item]*qty['Qty_'+item])\n",
    "    \n",
    "print(revenue)"
   ]
  },
  {
   "cell_type": "markdown",
   "metadata": {},
   "source": [
    "### `/predict/`"
   ]
  },
  {
   "cell_type": "code",
   "execution_count": 60,
   "metadata": {
    "ExecuteTime": {
     "end_time": "2020-07-15T05:38:10.992534Z",
     "start_time": "2020-07-15T05:37:51.080671Z"
    }
   },
   "outputs": [
    {
     "name": "stdout",
     "output_type": "stream",
     "text": [
      "Input Prices Quantities:\n"
     ]
    },
    {
     "data": {
      "text/html": [
       "<div>\n",
       "<style scoped>\n",
       "    .dataframe tbody tr th:only-of-type {\n",
       "        vertical-align: middle;\n",
       "    }\n",
       "\n",
       "    .dataframe tbody tr th {\n",
       "        vertical-align: top;\n",
       "    }\n",
       "\n",
       "    .dataframe thead th {\n",
       "        text-align: right;\n",
       "    }\n",
       "</style>\n",
       "<table border=\"1\" class=\"dataframe\">\n",
       "  <thead>\n",
       "    <tr style=\"text-align: right;\">\n",
       "      <th></th>\n",
       "      <th>Estimated</th>\n",
       "      <th>Actual</th>\n",
       "    </tr>\n",
       "  </thead>\n",
       "  <tbody>\n",
       "    <tr>\n",
       "      <th>Qty_1004</th>\n",
       "      <td>4010.0</td>\n",
       "      <td>3189.0</td>\n",
       "    </tr>\n",
       "    <tr>\n",
       "      <th>Qty_102</th>\n",
       "      <td>249.0</td>\n",
       "      <td>183.0</td>\n",
       "    </tr>\n",
       "    <tr>\n",
       "      <th>Qty_11</th>\n",
       "      <td>273.0</td>\n",
       "      <td>229.0</td>\n",
       "    </tr>\n",
       "    <tr>\n",
       "      <th>Qty_1152</th>\n",
       "      <td>115.0</td>\n",
       "      <td>101.0</td>\n",
       "    </tr>\n",
       "    <tr>\n",
       "      <th>Qty_1195</th>\n",
       "      <td>129.0</td>\n",
       "      <td>119.0</td>\n",
       "    </tr>\n",
       "    <tr>\n",
       "      <th>...</th>\n",
       "      <td>...</td>\n",
       "      <td>...</td>\n",
       "    </tr>\n",
       "    <tr>\n",
       "      <th>Qty_7434</th>\n",
       "      <td>206.0</td>\n",
       "      <td>148.0</td>\n",
       "    </tr>\n",
       "    <tr>\n",
       "      <th>Qty_7575</th>\n",
       "      <td>107.0</td>\n",
       "      <td>69.0</td>\n",
       "    </tr>\n",
       "    <tr>\n",
       "      <th>Qty_7965</th>\n",
       "      <td>46.0</td>\n",
       "      <td>51.0</td>\n",
       "    </tr>\n",
       "    <tr>\n",
       "      <th>Qty_7966</th>\n",
       "      <td>146.0</td>\n",
       "      <td>160.0</td>\n",
       "    </tr>\n",
       "    <tr>\n",
       "      <th>Qty_7967</th>\n",
       "      <td>148.0</td>\n",
       "      <td>127.0</td>\n",
       "    </tr>\n",
       "  </tbody>\n",
       "</table>\n",
       "<p>100 rows × 2 columns</p>\n",
       "</div>"
      ],
      "text/plain": [
       "          Estimated  Actual\n",
       "Qty_1004     4010.0  3189.0\n",
       "Qty_102       249.0   183.0\n",
       "Qty_11        273.0   229.0\n",
       "Qty_1152      115.0   101.0\n",
       "Qty_1195      129.0   119.0\n",
       "...             ...     ...\n",
       "Qty_7434      206.0   148.0\n",
       "Qty_7575      107.0    69.0\n",
       "Qty_7965       46.0    51.0\n",
       "Qty_7966      146.0   160.0\n",
       "Qty_7967      148.0   127.0\n",
       "\n",
       "[100 rows x 2 columns]"
      ]
     },
     "execution_count": 60,
     "metadata": {},
     "output_type": "execute_result"
    }
   ],
   "source": [
    "# Sample Actual Price \n",
    "from helper_functions import *\n",
    "\n",
    "sales_data = data_subset\n",
    "\n",
    "sales_data = optimize_memory(sales_data)\n",
    "\n",
    "sales_data_wide = sales_data.set_index(\n",
    "    ['Wk', 'Tier', 'Store', 'Item_ID']).unstack(level=-1).reset_index().copy()\n",
    "sales_data_wide.columns = [\n",
    "    ''.join(str(i) for i in col).strip()\n",
    "    for col in sales_data_wide.columns.values\n",
    "]\n",
    "sales_data_wide = sales_data_wide.sort_values(\n",
    "    ['Tier', 'Store', 'Wk'], ascending=True).reset_index(drop=True)\n",
    "\n",
    "sales_data_wide_clean = sales_data_wide.dropna(axis=0).copy()\n",
    "dataset = sales_data_wide_clean\n",
    "price_columns = [\n",
    "    col for col in sales_data_wide_clean.columns if col.startswith('Price')\n",
    "]\n",
    "\n",
    "a = dataset.sample(1)\n",
    "a_dict = a[price_columns].iloc[0].to_dict()\n",
    "a_input = {}\n",
    "for key in a_dict.keys():\n",
    "    a_input[key.split('_')[1]]=round(a_dict[key],2)\n",
    "\n",
    "print('Input Prices Quantities:')\n",
    "# a_input\n",
    "\n",
    "\n",
    "# Predict Sales Qty and Compare to Actual\n",
    "\n",
    "import requests\n",
    "import json\n",
    "\n",
    "url = 'https://fillet.azurewebsites.net/predict/'\n",
    "# url = 'http://localhost:5000/predict/'\n",
    "\n",
    "payload = {'prices': a_input, 'project_id': 1}\n",
    "\n",
    "headers = {'content-type': 'application/json', 'Accept-Charset': 'UTF-8'}\n",
    "\n",
    "payload = json.dumps(payload)\n",
    "r = requests.post(url, data=payload, headers=headers)\n",
    "qty = r.json()['qty_estimates']\n",
    "qty_outp = {}\n",
    "for key in qty.keys():\n",
    "    qty_outp[key] = round(qty[key], 0)\n",
    "actual = a[[\n",
    "    col for col in sales_data_wide_clean.columns if col.startswith('Qty_')\n",
    "]].iloc[0].to_dict()\n",
    "pd.DataFrame([qty_outp, actual], index=['Estimated', 'Actual']).transpose()"
   ]
  },
  {
   "cell_type": "code",
   "execution_count": null,
   "metadata": {},
   "outputs": [],
   "source": []
  }
 ],
 "metadata": {
  "kernelspec": {
   "display_name": "Python 3",
   "language": "python",
   "name": "python3"
  },
  "language_info": {
   "codemirror_mode": {
    "name": "ipython",
    "version": 3
   },
   "file_extension": ".py",
   "mimetype": "text/x-python",
   "name": "python",
   "nbconvert_exporter": "python",
   "pygments_lexer": "ipython3",
   "version": "3.7.6"
  },
  "toc": {
   "base_numbering": 1,
   "nav_menu": {},
   "number_sections": true,
   "sideBar": true,
   "skip_h1_title": false,
   "title_cell": "Table of Contents",
   "title_sidebar": "Contents",
   "toc_cell": false,
   "toc_position": {},
   "toc_section_display": true,
   "toc_window_display": false
  },
  "varInspector": {
   "cols": {
    "lenName": 16,
    "lenType": 16,
    "lenVar": 40
   },
   "kernels_config": {
    "python": {
     "delete_cmd_postfix": "",
     "delete_cmd_prefix": "del ",
     "library": "var_list.py",
     "varRefreshCmd": "print(var_dic_list())"
    },
    "r": {
     "delete_cmd_postfix": ") ",
     "delete_cmd_prefix": "rm(",
     "library": "var_list.r",
     "varRefreshCmd": "cat(var_dic_list()) "
    }
   },
   "types_to_exclude": [
    "module",
    "function",
    "builtin_function_or_method",
    "instance",
    "_Feature"
   ],
   "window_display": false
  }
 },
 "nbformat": 4,
 "nbformat_minor": 4
}
