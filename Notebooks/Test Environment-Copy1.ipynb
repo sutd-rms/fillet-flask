{
 "cells": [
  {
   "cell_type": "code",
   "execution_count": 2,
   "metadata": {
    "ExecuteTime": {
     "end_time": "2020-07-24T04:47:18.946049Z",
     "start_time": "2020-07-24T04:47:18.735716Z"
    }
   },
   "outputs": [],
   "source": [
    "import pandas as pd\n",
    "import numpy as np\n",
    "import pickle as p"
   ]
  },
  {
   "cell_type": "code",
   "execution_count": 3,
   "metadata": {
    "ExecuteTime": {
     "end_time": "2020-07-24T04:47:20.249691Z",
     "start_time": "2020-07-24T04:47:18.978984Z"
    }
   },
   "outputs": [
    {
     "data": {
      "text/plain": [
       "0"
      ]
     },
     "execution_count": 3,
     "metadata": {},
     "output_type": "execute_result"
    }
   ],
   "source": [
    "data_all = pd.read_csv('../data_all.csv')\n",
    "\n",
    "# Test with Subset of Data\n",
    "np.random.seed(43)\n",
    "item_subset = list(np.random.choice(data_all['Item_ID'].unique(), size=10, replace=False))\n",
    "data_subset = data_all.loc[data_all['Item_ID'].isin(item_subset)].copy()\n",
    "\n",
    "# # Test with All Data\n",
    "# data_subset = data_all.copy()\n",
    "\n",
    "data_subset.dropna(axis=0, inplace=True)\n",
    "data_subset.isnull().sum().sum()"
   ]
  },
  {
   "cell_type": "code",
   "execution_count": null,
   "metadata": {
    "ExecuteTime": {
     "end_time": "2020-07-23T12:28:54.018652Z",
     "start_time": "2020-07-23T12:28:53.988763Z"
    }
   },
   "outputs": [],
   "source": []
  },
  {
   "cell_type": "code",
   "execution_count": 42,
   "metadata": {
    "ExecuteTime": {
     "end_time": "2020-07-23T13:08:46.706936Z",
     "start_time": "2020-07-23T13:08:46.702948Z"
    },
    "scrolled": true
   },
   "outputs": [],
   "source": [
    "# item_subset"
   ]
  },
  {
   "cell_type": "code",
   "execution_count": null,
   "metadata": {},
   "outputs": [],
   "source": []
  },
  {
   "cell_type": "markdown",
   "metadata": {},
   "source": [
    "### `/train`"
   ]
  },
  {
   "cell_type": "code",
   "execution_count": 6,
   "metadata": {
    "ExecuteTime": {
     "end_time": "2020-07-23T12:19:47.431421Z",
     "start_time": "2020-07-23T12:19:47.428429Z"
    }
   },
   "outputs": [],
   "source": [
    "import time"
   ]
  },
  {
   "cell_type": "code",
   "execution_count": 37,
   "metadata": {
    "ExecuteTime": {
     "end_time": "2020-07-23T12:29:04.109634Z",
     "start_time": "2020-07-23T12:29:03.429428Z"
    }
   },
   "outputs": [],
   "source": [
    "data_subset.to_csv('data_subset_10items_seed43.csv', index=None)"
   ]
  },
  {
   "cell_type": "code",
   "execution_count": 43,
   "metadata": {
    "ExecuteTime": {
     "end_time": "2020-07-23T13:09:00.033557Z",
     "start_time": "2020-07-23T13:08:49.949314Z"
    }
   },
   "outputs": [],
   "source": [
    "import requests\n",
    "import json\n",
    "from threading import Thread\n",
    "\n",
    "url = 'https://fillet.azurewebsites.net/train/'\n",
    "# url = 'http://localhost:5000/train/'\n",
    "\n",
    "data_subset.to_parquet('data_subset.parquet')\n",
    "files = {'data': open('data_subset.parquet', 'rb')}\n",
    "\n",
    "payload = {'cv_acc': True, 'project_id': 'cccc', 'modeltype': 'default'}\n",
    "\n",
    "Thread(target=requests.post,\n",
    "       args=(url, ),\n",
    "       kwargs={\n",
    "           'data': payload,\n",
    "           'files': files\n",
    "       }).start()\n",
    "\n",
    "time.sleep(10)\n",
    "files['data'].close()"
   ]
  },
  {
   "cell_type": "markdown",
   "metadata": {},
   "source": [
    "### `/query_progress`"
   ]
  },
  {
   "cell_type": "code",
   "execution_count": 9,
   "metadata": {
    "ExecuteTime": {
     "end_time": "2020-07-24T04:49:53.793155Z",
     "start_time": "2020-07-24T04:49:53.702646Z"
    }
   },
   "outputs": [
    {
     "name": "stdout",
     "output_type": "stream",
     "text": [
      "% Complete: 100.0\n",
      "CV % Complete: 100.0\n",
      "CV Done: 1\n"
     ]
    }
   ],
   "source": [
    "import requests\n",
    "import json\n",
    "\n",
    "url = 'https://fillet.azurewebsites.net/query_progress/'\n",
    "# url = 'http://localhost:5000/query_progress/'\n",
    "\n",
    "\n",
    "payload = {'project_id': 'cccc'}\n",
    "\n",
    "headers = {'content-type': 'application/json',\n",
    "           'Accept-Charset': 'UTF-8'\n",
    "          }\n",
    "\n",
    "payload = json.dumps(payload)\n",
    "r = requests.post(url, data=payload,headers=headers,  timeout=3)\n",
    "\n",
    "print('% Complete:',round(r.json()['pct_complete'],3))\n",
    "print('CV % Complete:',round(r.json()['cv_progress'],3))\n",
    "print('CV Done:',r.json()['cv_done'])"
   ]
  },
  {
   "cell_type": "markdown",
   "metadata": {},
   "source": [
    "### `/batch_query_progress`"
   ]
  },
  {
   "cell_type": "code",
   "execution_count": 39,
   "metadata": {
    "ExecuteTime": {
     "end_time": "2020-07-23T12:29:53.845523Z",
     "start_time": "2020-07-23T12:29:53.544751Z"
    }
   },
   "outputs": [
    {
     "name": "stdout",
     "output_type": "stream",
     "text": [
      "{'aaaa': {'cv_done': 1, 'cv_progress': 100.0, 'pct_complete': 100.0, 'project_items': [2531, 202, 1195, 1230, 3726, 16019, 3732, 3766, 2589, 3743], 'train_complete': [2531, 202, 1195, 1230, 3726, 16019, 3732, 3766, 2589, 3743]}, 'bbbb': {'cv_done': 1, 'cv_progress': 100.0, 'pct_complete': 100.0, 'project_items': [2531, 202, 1195, 1230, 3726, 16019, 3732, 3766, 2589, 3743], 'train_complete': [2531, 202, 1195, 1230, 3726, 16019, 3732, 3766, 2589, 3743]}, 'cccc': {'cv_done': 1, 'cv_progress': 100.0, 'pct_complete': 100.0, 'project_items': [2531, 202, 1195, 1230, 3726, 16019, 3732, 3766, 2589, 3743], 'train_complete': [2531, 202, 1195, 1230, 3726, 16019, 3732, 3766, 2589, 3743]}}\n"
     ]
    }
   ],
   "source": [
    "import requests\n",
    "import json\n",
    "\n",
    "url = 'https://fillet.azurewebsites.net/batch_query_progress/'\n",
    "# url = 'http://localhost:5000/query_progress/'\n",
    "\n",
    "\n",
    "payload = {'project_id_ls': ['bbbb','aaaa','cccc']}\n",
    "\n",
    "headers = {'content-type': 'application/json',\n",
    "           'Accept-Charset': 'UTF-8'\n",
    "          }\n",
    "\n",
    "payload = json.dumps(payload)\n",
    "r = requests.post(url, data=payload,headers=headers,  timeout=3)\n",
    "\n",
    "print(r.json())"
   ]
  },
  {
   "cell_type": "markdown",
   "metadata": {},
   "source": [
    "### `/get_cv_results`"
   ]
  },
  {
   "cell_type": "code",
   "execution_count": 12,
   "metadata": {
    "ExecuteTime": {
     "end_time": "2020-07-24T04:50:26.176152Z",
     "start_time": "2020-07-24T04:50:25.975749Z"
    }
   },
   "outputs": [
    {
     "data": {
      "text/html": [
       "<div>\n",
       "<style scoped>\n",
       "    .dataframe tbody tr th:only-of-type {\n",
       "        vertical-align: middle;\n",
       "    }\n",
       "\n",
       "    .dataframe tbody tr th {\n",
       "        vertical-align: top;\n",
       "    }\n",
       "\n",
       "    .dataframe thead th {\n",
       "        text-align: right;\n",
       "    }\n",
       "</style>\n",
       "<table border=\"1\" class=\"dataframe\">\n",
       "  <thead>\n",
       "    <tr style=\"text-align: right;\">\n",
       "      <th></th>\n",
       "      <th>item_id</th>\n",
       "      <th>avg_sales</th>\n",
       "      <th>r2_score</th>\n",
       "      <th>mae_score</th>\n",
       "      <th>mpe_score</th>\n",
       "      <th>rmse_score</th>\n",
       "    </tr>\n",
       "  </thead>\n",
       "  <tbody>\n",
       "    <tr>\n",
       "      <th>0</th>\n",
       "      <td>3743.0</td>\n",
       "      <td>132.480972</td>\n",
       "      <td>0.726140</td>\n",
       "      <td>30.217624</td>\n",
       "      <td>0.228090</td>\n",
       "      <td>39.697138</td>\n",
       "    </tr>\n",
       "    <tr>\n",
       "      <th>1</th>\n",
       "      <td>3732.0</td>\n",
       "      <td>126.142509</td>\n",
       "      <td>0.600136</td>\n",
       "      <td>26.932409</td>\n",
       "      <td>0.213508</td>\n",
       "      <td>34.499590</td>\n",
       "    </tr>\n",
       "    <tr>\n",
       "      <th>2</th>\n",
       "      <td>1195.0</td>\n",
       "      <td>129.492813</td>\n",
       "      <td>0.530031</td>\n",
       "      <td>30.880438</td>\n",
       "      <td>0.238472</td>\n",
       "      <td>40.411128</td>\n",
       "    </tr>\n",
       "    <tr>\n",
       "      <th>3</th>\n",
       "      <td>16019.0</td>\n",
       "      <td>109.613182</td>\n",
       "      <td>0.644549</td>\n",
       "      <td>27.317453</td>\n",
       "      <td>0.249217</td>\n",
       "      <td>36.303177</td>\n",
       "    </tr>\n",
       "    <tr>\n",
       "      <th>4</th>\n",
       "      <td>1230.0</td>\n",
       "      <td>8.996674</td>\n",
       "      <td>0.415926</td>\n",
       "      <td>4.199451</td>\n",
       "      <td>0.466778</td>\n",
       "      <td>5.721593</td>\n",
       "    </tr>\n",
       "    <tr>\n",
       "      <th>5</th>\n",
       "      <td>2531.0</td>\n",
       "      <td>318.983582</td>\n",
       "      <td>0.591923</td>\n",
       "      <td>69.529489</td>\n",
       "      <td>0.217972</td>\n",
       "      <td>90.647038</td>\n",
       "    </tr>\n",
       "    <tr>\n",
       "      <th>6</th>\n",
       "      <td>3726.0</td>\n",
       "      <td>74.383606</td>\n",
       "      <td>0.532206</td>\n",
       "      <td>17.621574</td>\n",
       "      <td>0.236901</td>\n",
       "      <td>23.117454</td>\n",
       "    </tr>\n",
       "    <tr>\n",
       "      <th>7</th>\n",
       "      <td>202.0</td>\n",
       "      <td>2110.440186</td>\n",
       "      <td>0.754612</td>\n",
       "      <td>312.160807</td>\n",
       "      <td>0.147913</td>\n",
       "      <td>428.454447</td>\n",
       "    </tr>\n",
       "    <tr>\n",
       "      <th>8</th>\n",
       "      <td>3766.0</td>\n",
       "      <td>91.448227</td>\n",
       "      <td>0.645032</td>\n",
       "      <td>20.341119</td>\n",
       "      <td>0.222433</td>\n",
       "      <td>27.470376</td>\n",
       "    </tr>\n",
       "    <tr>\n",
       "      <th>9</th>\n",
       "      <td>2589.0</td>\n",
       "      <td>161.616043</td>\n",
       "      <td>0.674297</td>\n",
       "      <td>39.336561</td>\n",
       "      <td>0.243395</td>\n",
       "      <td>55.437818</td>\n",
       "    </tr>\n",
       "  </tbody>\n",
       "</table>\n",
       "</div>"
      ],
      "text/plain": [
       "   item_id    avg_sales  r2_score   mae_score  mpe_score  rmse_score\n",
       "0   3743.0   132.480972  0.726140   30.217624   0.228090   39.697138\n",
       "1   3732.0   126.142509  0.600136   26.932409   0.213508   34.499590\n",
       "2   1195.0   129.492813  0.530031   30.880438   0.238472   40.411128\n",
       "3  16019.0   109.613182  0.644549   27.317453   0.249217   36.303177\n",
       "4   1230.0     8.996674  0.415926    4.199451   0.466778    5.721593\n",
       "5   2531.0   318.983582  0.591923   69.529489   0.217972   90.647038\n",
       "6   3726.0    74.383606  0.532206   17.621574   0.236901   23.117454\n",
       "7    202.0  2110.440186  0.754612  312.160807   0.147913  428.454447\n",
       "8   3766.0    91.448227  0.645032   20.341119   0.222433   27.470376\n",
       "9   2589.0   161.616043  0.674297   39.336561   0.243395   55.437818"
      ]
     },
     "execution_count": 12,
     "metadata": {},
     "output_type": "execute_result"
    }
   ],
   "source": [
    "import requests\n",
    "import json\n",
    "\n",
    "url = 'https://fillet.azurewebsites.net/get_cv_results/'\n",
    "# url = 'http://localhost:5000/get_cv_results/'\n",
    "\n",
    "\n",
    "payload = {'project_id': 'cccc'}\n",
    "\n",
    "headers = {'content-type': 'application/json',\n",
    "           'Accept-Charset': 'UTF-8'\n",
    "          }\n",
    "\n",
    "payload = json.dumps(payload)\n",
    "r = requests.post(url, data=payload,headers=headers,  timeout=5)\n",
    "pd.DataFrame().from_dict((json.loads(r.json())))"
   ]
  },
  {
   "cell_type": "code",
   "execution_count": 127,
   "metadata": {
    "ExecuteTime": {
     "end_time": "2020-07-14T12:50:16.929405Z",
     "start_time": "2020-07-14T12:50:16.924418Z"
    }
   },
   "outputs": [
    {
     "data": {
      "text/plain": [
       "{'status': 'incomplete'}"
      ]
     },
     "execution_count": 127,
     "metadata": {},
     "output_type": "execute_result"
    }
   ],
   "source": [
    "r.json()"
   ]
  },
  {
   "cell_type": "markdown",
   "metadata": {},
   "source": [
    "### `/optimize`"
   ]
  },
  {
   "cell_type": "code",
   "execution_count": null,
   "metadata": {
    "ExecuteTime": {
     "end_time": "2020-07-06T10:51:53.277087Z",
     "start_time": "2020-07-06T10:51:51.493Z"
    }
   },
   "outputs": [],
   "source": [
    "url = 'http://localhost:5000/optimize/'\n",
    "\n",
    "payload = {'project_id': 1,\n",
    "           'constraints': [],\n",
    "           'population': 100,\n",
    "           'max_epoch': 200\n",
    "           }\n",
    "\n",
    "headers = {'content-type': 'application/json',\n",
    "           'Accept-Charset': 'UTF-8'\n",
    "          }\n",
    "\n",
    "payload = json.dumps(payload)\n",
    "r = requests.post(url, data=payload, headers=headers)"
   ]
  },
  {
   "cell_type": "code",
   "execution_count": null,
   "metadata": {
    "ExecuteTime": {
     "end_time": "2020-07-06T10:51:53.278090Z",
     "start_time": "2020-07-06T10:51:51.495Z"
    }
   },
   "outputs": [],
   "source": [
    "best_prices = r.json()['result']\n",
    "best_prices"
   ]
  },
  {
   "cell_type": "code",
   "execution_count": null,
   "metadata": {
    "ExecuteTime": {
     "end_time": "2020-07-06T10:51:53.279082Z",
     "start_time": "2020-07-06T10:51:51.496Z"
    }
   },
   "outputs": [],
   "source": [
    "import requests\n",
    "import json\n",
    "\n",
    "url = 'http://localhost:5000/predict/'\n",
    "payload = {'prices': best_prices,\n",
    "           'project_id': 1\n",
    "           }\n",
    "headers = {'content-type': 'application/json',\n",
    "           'Accept-Charset': 'UTF-8'\n",
    "          }\n",
    "payload = json.dumps(payload)\n",
    "r = requests.post(url, data=payload, headers=headers)\n",
    "\n",
    "# What If Prediction\n",
    "qty = r.json()['qty_estimates']"
   ]
  },
  {
   "cell_type": "code",
   "execution_count": null,
   "metadata": {
    "ExecuteTime": {
     "end_time": "2020-07-06T10:51:53.280079Z",
     "start_time": "2020-07-06T10:51:51.497Z"
    }
   },
   "outputs": [],
   "source": [
    "qty"
   ]
  },
  {
   "cell_type": "code",
   "execution_count": null,
   "metadata": {
    "ExecuteTime": {
     "end_time": "2020-07-06T10:51:53.280079Z",
     "start_time": "2020-07-06T10:51:51.498Z"
    }
   },
   "outputs": [],
   "source": [
    "# Calculate Revenue\n",
    "revenue = 0\n",
    "for item in best_prices.keys():\n",
    "    revenue += (best_prices[item]*qty['Qty_'+item])\n",
    "    \n",
    "print(revenue)"
   ]
  },
  {
   "cell_type": "markdown",
   "metadata": {},
   "source": [
    "### `/predict/`"
   ]
  },
  {
   "cell_type": "code",
   "execution_count": 5,
   "metadata": {
    "ExecuteTime": {
     "end_time": "2020-07-24T04:47:51.771753Z",
     "start_time": "2020-07-24T04:47:51.207551Z"
    }
   },
   "outputs": [
    {
     "name": "stdout",
     "output_type": "stream",
     "text": [
      "Input Prices Quantities:\n"
     ]
    },
    {
     "data": {
      "text/plain": [
       "{'202': 2.35,\n",
       " '1195': 3.15,\n",
       " '1230': 3.25,\n",
       " '2531': 6.25,\n",
       " '2589': 11.9,\n",
       " '3726': 9.95,\n",
       " '3732': 11.55,\n",
       " '3743': 11.1,\n",
       " '3766': 9.55,\n",
       " '16019': 13.6}"
      ]
     },
     "execution_count": 5,
     "metadata": {},
     "output_type": "execute_result"
    }
   ],
   "source": [
    "# Sample Actual Price \n",
    "from helper_functions import *\n",
    "\n",
    "sales_data = data_subset\n",
    "\n",
    "sales_data = optimize_memory(sales_data)\n",
    "\n",
    "sales_data_wide = sales_data.set_index(\n",
    "    ['Wk', 'Tier', 'Store', 'Item_ID']).unstack(level=-1).reset_index().copy()\n",
    "sales_data_wide.columns = [\n",
    "    ''.join(str(i) for i in col).strip()\n",
    "    for col in sales_data_wide.columns.values\n",
    "]\n",
    "sales_data_wide = sales_data_wide.sort_values(\n",
    "    ['Tier', 'Store', 'Wk'], ascending=True).reset_index(drop=True)\n",
    "\n",
    "sales_data_wide_clean = sales_data_wide.dropna(axis=0).copy()\n",
    "dataset = sales_data_wide_clean\n",
    "price_columns = [\n",
    "    col for col in sales_data_wide_clean.columns if col.startswith('Price')\n",
    "]\n",
    "\n",
    "a = dataset.sample(1)\n",
    "a_dict = a[price_columns].iloc[0].to_dict()\n",
    "a_input = {}\n",
    "for key in a_dict.keys():\n",
    "    a_input[key.split('_')[1]]=round(a_dict[key],2)\n",
    "\n",
    "print('Input Prices Quantities:')\n",
    "a_input\n",
    "\n",
    "\n"
   ]
  },
  {
   "cell_type": "code",
   "execution_count": 10,
   "metadata": {
    "ExecuteTime": {
     "end_time": "2020-07-24T04:50:11.452572Z",
     "start_time": "2020-07-24T04:50:11.318345Z"
    }
   },
   "outputs": [
    {
     "ename": "KeyError",
     "evalue": "'qty_estimates'",
     "output_type": "error",
     "traceback": [
      "\u001b[1;31m---------------------------------------------------------------------------\u001b[0m",
      "\u001b[1;31mKeyError\u001b[0m                                  Traceback (most recent call last)",
      "\u001b[1;32m<ipython-input-10-30afc61ec362>\u001b[0m in \u001b[0;36m<module>\u001b[1;34m\u001b[0m\n\u001b[0;32m     13\u001b[0m \u001b[0mpayload\u001b[0m \u001b[1;33m=\u001b[0m \u001b[0mjson\u001b[0m\u001b[1;33m.\u001b[0m\u001b[0mdumps\u001b[0m\u001b[1;33m(\u001b[0m\u001b[0mpayload\u001b[0m\u001b[1;33m)\u001b[0m\u001b[1;33m\u001b[0m\u001b[1;33m\u001b[0m\u001b[0m\n\u001b[0;32m     14\u001b[0m \u001b[0mr\u001b[0m \u001b[1;33m=\u001b[0m \u001b[0mrequests\u001b[0m\u001b[1;33m.\u001b[0m\u001b[0mpost\u001b[0m\u001b[1;33m(\u001b[0m\u001b[0murl\u001b[0m\u001b[1;33m,\u001b[0m \u001b[0mdata\u001b[0m\u001b[1;33m=\u001b[0m\u001b[0mpayload\u001b[0m\u001b[1;33m,\u001b[0m \u001b[0mheaders\u001b[0m\u001b[1;33m=\u001b[0m\u001b[0mheaders\u001b[0m\u001b[1;33m)\u001b[0m\u001b[1;33m\u001b[0m\u001b[1;33m\u001b[0m\u001b[0m\n\u001b[1;32m---> 15\u001b[1;33m \u001b[0mqty\u001b[0m \u001b[1;33m=\u001b[0m \u001b[0mr\u001b[0m\u001b[1;33m.\u001b[0m\u001b[0mjson\u001b[0m\u001b[1;33m(\u001b[0m\u001b[1;33m)\u001b[0m\u001b[1;33m[\u001b[0m\u001b[1;34m'qty_estimates'\u001b[0m\u001b[1;33m]\u001b[0m\u001b[1;33m\u001b[0m\u001b[1;33m\u001b[0m\u001b[0m\n\u001b[0m\u001b[0;32m     16\u001b[0m \u001b[0mqty_outp\u001b[0m \u001b[1;33m=\u001b[0m \u001b[1;33m{\u001b[0m\u001b[1;33m}\u001b[0m\u001b[1;33m\u001b[0m\u001b[1;33m\u001b[0m\u001b[0m\n\u001b[0;32m     17\u001b[0m \u001b[1;32mfor\u001b[0m \u001b[0mkey\u001b[0m \u001b[1;32min\u001b[0m \u001b[0mqty\u001b[0m\u001b[1;33m.\u001b[0m\u001b[0mkeys\u001b[0m\u001b[1;33m(\u001b[0m\u001b[1;33m)\u001b[0m\u001b[1;33m:\u001b[0m\u001b[1;33m\u001b[0m\u001b[1;33m\u001b[0m\u001b[0m\n",
      "\u001b[1;31mKeyError\u001b[0m: 'qty_estimates'"
     ]
    }
   ],
   "source": [
    "# Predict Sales Qty and Compare to Actual\n",
    "\n",
    "import requests\n",
    "import json\n",
    "\n",
    "url = 'https://fillet.azurewebsites.net/predict/'\n",
    "# url = 'http://localhost:5000/predict/'\n",
    "\n",
    "payload = {'prices': a_input, 'project_id': 'cccc', 'modeltype': 'default'}\n",
    "\n",
    "headers = {'content-type': 'application/json', 'Accept-Charset': 'UTF-8'}\n",
    "\n",
    "payload = json.dumps(payload)\n",
    "r = requests.post(url, data=payload, headers=headers)\n",
    "qty = r.json()['qty_estimates']\n",
    "qty_outp = {}\n",
    "for key in qty.keys():\n",
    "    qty_outp[key] = round(qty[key], 0)\n",
    "actual = a[[\n",
    "    col for col in sales_data_wide_clean.columns if col.startswith('Qty_')\n",
    "]].iloc[0].to_dict()\n",
    "pd.DataFrame([qty_outp, actual], index=['Estimated', 'Actual']).transpose()"
   ]
  },
  {
   "cell_type": "code",
   "execution_count": 11,
   "metadata": {
    "ExecuteTime": {
     "end_time": "2020-07-24T04:50:12.136177Z",
     "start_time": "2020-07-24T04:50:12.132187Z"
    }
   },
   "outputs": [
    {
     "data": {
      "text/plain": [
       "{'error': 'project not found'}"
      ]
     },
     "execution_count": 11,
     "metadata": {},
     "output_type": "execute_result"
    }
   ],
   "source": [
    "r.json()"
   ]
  },
  {
   "cell_type": "code",
   "execution_count": 32,
   "metadata": {
    "ExecuteTime": {
     "end_time": "2020-07-16T05:30:25.091266Z",
     "start_time": "2020-07-16T05:30:25.085282Z"
    }
   },
   "outputs": [
    {
     "data": {
      "text/plain": [
       "{'qty_estimates': {'Qty_1230': 17,\n",
       "  'Qty_16019': 205,\n",
       "  'Qty_202': 5244,\n",
       "  'Qty_3732': 344,\n",
       "  'Qty_3766': 236}}"
      ]
     },
     "execution_count": 32,
     "metadata": {},
     "output_type": "execute_result"
    }
   ],
   "source": [
    "r.json()"
   ]
  },
  {
   "cell_type": "markdown",
   "metadata": {},
   "source": [
    "### `/get_feature_importances`"
   ]
  },
  {
   "cell_type": "code",
   "execution_count": 2,
   "metadata": {
    "ExecuteTime": {
     "end_time": "2020-07-23T09:06:14.510629Z",
     "start_time": "2020-07-23T09:06:11.769494Z"
    }
   },
   "outputs": [
    {
     "data": {
      "text/html": [
       "<div>\n",
       "<style scoped>\n",
       "    .dataframe tbody tr th:only-of-type {\n",
       "        vertical-align: middle;\n",
       "    }\n",
       "\n",
       "    .dataframe tbody tr th {\n",
       "        vertical-align: top;\n",
       "    }\n",
       "\n",
       "    .dataframe thead th {\n",
       "        text-align: right;\n",
       "    }\n",
       "</style>\n",
       "<table border=\"1\" class=\"dataframe\">\n",
       "  <thead>\n",
       "    <tr style=\"text-align: right;\">\n",
       "      <th></th>\n",
       "      <th>feature_name</th>\n",
       "      <th>importance</th>\n",
       "    </tr>\n",
       "  </thead>\n",
       "  <tbody>\n",
       "    <tr>\n",
       "      <th>6</th>\n",
       "      <td>Price_3726</td>\n",
       "      <td>0.144873</td>\n",
       "    </tr>\n",
       "    <tr>\n",
       "      <th>3</th>\n",
       "      <td>Price_202</td>\n",
       "      <td>0.127241</td>\n",
       "    </tr>\n",
       "    <tr>\n",
       "      <th>9</th>\n",
       "      <td>Price_3766</td>\n",
       "      <td>0.116211</td>\n",
       "    </tr>\n",
       "    <tr>\n",
       "      <th>5</th>\n",
       "      <td>Price_2589</td>\n",
       "      <td>0.104554</td>\n",
       "    </tr>\n",
       "    <tr>\n",
       "      <th>8</th>\n",
       "      <td>Price_3743</td>\n",
       "      <td>0.101052</td>\n",
       "    </tr>\n",
       "    <tr>\n",
       "      <th>4</th>\n",
       "      <td>Price_2531</td>\n",
       "      <td>0.098390</td>\n",
       "    </tr>\n",
       "    <tr>\n",
       "      <th>7</th>\n",
       "      <td>Price_3732</td>\n",
       "      <td>0.088620</td>\n",
       "    </tr>\n",
       "    <tr>\n",
       "      <th>1</th>\n",
       "      <td>Price_1230</td>\n",
       "      <td>0.084403</td>\n",
       "    </tr>\n",
       "    <tr>\n",
       "      <th>2</th>\n",
       "      <td>Price_16019</td>\n",
       "      <td>0.071747</td>\n",
       "    </tr>\n",
       "    <tr>\n",
       "      <th>0</th>\n",
       "      <td>Price_1195</td>\n",
       "      <td>0.062908</td>\n",
       "    </tr>\n",
       "  </tbody>\n",
       "</table>\n",
       "</div>"
      ],
      "text/plain": [
       "  feature_name  importance\n",
       "6   Price_3726    0.144873\n",
       "3    Price_202    0.127241\n",
       "9   Price_3766    0.116211\n",
       "5   Price_2589    0.104554\n",
       "8   Price_3743    0.101052\n",
       "4   Price_2531    0.098390\n",
       "7   Price_3732    0.088620\n",
       "1   Price_1230    0.084403\n",
       "2  Price_16019    0.071747\n",
       "0   Price_1195    0.062908"
      ]
     },
     "execution_count": 2,
     "metadata": {},
     "output_type": "execute_result"
    }
   ],
   "source": [
    "import requests\n",
    "import json\n",
    "import pandas as pd\n",
    "\n",
    "url = 'https://fillet.azurewebsites.net/get_feature_importances/'\n",
    "# url = 'http://localhost:5000/get_cv_results/'\n",
    "\n",
    "\n",
    "payload = {'project_id': 'bbbb'}\n",
    "\n",
    "headers = {'content-type': 'application/json',\n",
    "           'Accept-Charset': 'UTF-8'\n",
    "          }\n",
    "\n",
    "payload = json.dumps(payload)\n",
    "r = requests.post(url, data=payload,headers=headers,  timeout=240)\n",
    "pd.DataFrame(r.json()['1230']).sort_values('importance', ascending=False)"
   ]
  },
  {
   "cell_type": "code",
   "execution_count": 6,
   "metadata": {
    "ExecuteTime": {
     "end_time": "2020-07-23T09:06:42.554918Z",
     "start_time": "2020-07-23T09:06:42.520764Z"
    },
    "scrolled": true
   },
   "outputs": [
    {
     "name": "stdout",
     "output_type": "stream",
     "text": [
      "{'1195': {'feature_name': {'0': 'Price_1195',\n",
      "                           '1': 'Price_1230',\n",
      "                           '2': 'Price_16019',\n",
      "                           '3': 'Price_202',\n",
      "                           '4': 'Price_2531',\n",
      "                           '5': 'Price_2589',\n",
      "                           '6': 'Price_3726',\n",
      "                           '7': 'Price_3732',\n",
      "                           '8': 'Price_3743',\n",
      "                           '9': 'Price_3766'},\n",
      "          'importance': {'0': 0.08310288190841675,\n",
      "                         '1': 0.12035448849201202,\n",
      "                         '2': 0.0791492611169815,\n",
      "                         '3': 0.09970279783010483,\n",
      "                         '4': 0.12043453752994537,\n",
      "                         '5': 0.10218780487775803,\n",
      "                         '6': 0.08286947011947632,\n",
      "                         '7': 0.0973411276936531,\n",
      "                         '8': 0.10491122305393219,\n",
      "                         '9': 0.10994645208120346}},\n",
      " '1230': {'feature_name': {'0': 'Price_1195',\n",
      "                           '1': 'Price_1230',\n",
      "                           '2': 'Price_16019',\n",
      "                           '3': 'Price_202',\n",
      "                           '4': 'Price_2531',\n",
      "                           '5': 'Price_2589',\n",
      "                           '6': 'Price_3726',\n",
      "                           '7': 'Price_3732',\n",
      "                           '8': 'Price_3743',\n",
      "                           '9': 'Price_3766'},\n",
      "          'importance': {'0': 0.06290802359580994,\n",
      "                         '1': 0.08440259099006653,\n",
      "                         '2': 0.07174704968929291,\n",
      "                         '3': 0.12724146246910095,\n",
      "                         '4': 0.09839024394750595,\n",
      "                         '5': 0.1045537143945694,\n",
      "                         '6': 0.14487266540527344,\n",
      "                         '7': 0.0886203870177269,\n",
      "                         '8': 0.101052425801754,\n",
      "                         '9': 0.1162114143371582}},\n",
      " '16019': {'feature_name': {'0': 'Price_1195',\n",
      "                            '1': 'Price_1230',\n",
      "                            '2': 'Price_16019',\n",
      "                            '3': 'Price_202',\n",
      "                            '4': 'Price_2531',\n",
      "                            '5': 'Price_2589',\n",
      "                            '6': 'Price_3726',\n",
      "                            '7': 'Price_3732',\n",
      "                            '8': 'Price_3743',\n",
      "                            '9': 'Price_3766'},\n",
      "           'importance': {'0': 0.06539470702409744,\n",
      "                          '1': 0.11025160551071167,\n",
      "                          '2': 0.0638410896062851,\n",
      "                          '3': 0.09869842976331711,\n",
      "                          '4': 0.09256606549024582,\n",
      "                          '5': 0.0936703160405159,\n",
      "                          '6': 0.1853068321943283,\n",
      "                          '7': 0.0908781886100769,\n",
      "                          '8': 0.09127167612314224,\n",
      "                          '9': 0.10812099277973175}},\n",
      " '202': {'feature_name': {'0': 'Price_1195',\n",
      "                          '1': 'Price_1230',\n",
      "                          '2': 'Price_16019',\n",
      "                          '3': 'Price_202',\n",
      "                          '4': 'Price_2531',\n",
      "                          '5': 'Price_2589',\n",
      "                          '6': 'Price_3726',\n",
      "                          '7': 'Price_3732',\n",
      "                          '8': 'Price_3743',\n",
      "                          '9': 'Price_3766'},\n",
      "         'importance': {'0': 0.06088564172387123,\n",
      "                        '1': 0.10412927716970444,\n",
      "                        '2': 0.05938108637928963,\n",
      "                        '3': 0.12395922839641571,\n",
      "                        '4': 0.11757142096757889,\n",
      "                        '5': 0.11725147813558578,\n",
      "                        '6': 0.15735413134098053,\n",
      "                        '7': 0.09399905800819397,\n",
      "                        '8': 0.07245095819234848,\n",
      "                        '9': 0.09301769733428955}},\n",
      " '2531': {'feature_name': {'0': 'Price_1195',\n",
      "                           '1': 'Price_1230',\n",
      "                           '2': 'Price_16019',\n",
      "                           '3': 'Price_202',\n",
      "                           '4': 'Price_2531',\n",
      "                           '5': 'Price_2589',\n",
      "                           '6': 'Price_3726',\n",
      "                           '7': 'Price_3732',\n",
      "                           '8': 'Price_3743',\n",
      "                           '9': 'Price_3766'},\n",
      "          'importance': {'0': 0.0678119957447052,\n",
      "                         '1': 0.09995421022176743,\n",
      "                         '2': 0.06362351775169373,\n",
      "                         '3': 0.11738608777523041,\n",
      "                         '4': 0.12097117304801941,\n",
      "                         '5': 0.11893785744905472,\n",
      "                         '6': 0.10943863540887833,\n",
      "                         '7': 0.1157044991850853,\n",
      "                         '8': 0.0988437682390213,\n",
      "                         '9': 0.08732832223176956}},\n",
      " '2589': {'feature_name': {'0': 'Price_1195',\n",
      "                           '1': 'Price_1230',\n",
      "                           '2': 'Price_16019',\n",
      "                           '3': 'Price_202',\n",
      "                           '4': 'Price_2531',\n",
      "                           '5': 'Price_2589',\n",
      "                           '6': 'Price_3726',\n",
      "                           '7': 'Price_3732',\n",
      "                           '8': 'Price_3743',\n",
      "                           '9': 'Price_3766'},\n",
      "          'importance': {'0': 0.06354250013828278,\n",
      "                         '1': 0.10250665992498398,\n",
      "                         '2': 0.05146586149930954,\n",
      "                         '3': 0.1178426519036293,\n",
      "                         '4': 0.11954168230295181,\n",
      "                         '5': 0.09585217386484146,\n",
      "                         '6': 0.19829389452934265,\n",
      "                         '7': 0.10886915773153305,\n",
      "                         '8': 0.058323342353105545,\n",
      "                         '9': 0.08376204967498779}},\n",
      " '3726': {'feature_name': {'0': 'Price_1195',\n",
      "                           '1': 'Price_1230',\n",
      "                           '2': 'Price_16019',\n",
      "                           '3': 'Price_202',\n",
      "                           '4': 'Price_2531',\n",
      "                           '5': 'Price_2589',\n",
      "                           '6': 'Price_3726',\n",
      "                           '7': 'Price_3732',\n",
      "                           '8': 'Price_3743',\n",
      "                           '9': 'Price_3766'},\n",
      "          'importance': {'0': 0.06371846050024033,\n",
      "                         '1': 0.11068036407232285,\n",
      "                         '2': 0.05687421187758446,\n",
      "                         '3': 0.14134302735328674,\n",
      "                         '4': 0.13164706528186798,\n",
      "                         '5': 0.1097712516784668,\n",
      "                         '6': 0.10855451226234436,\n",
      "                         '7': 0.08579552173614502,\n",
      "                         '8': 0.09794459491968155,\n",
      "                         '9': 0.09367096424102783}},\n",
      " '3732': {'feature_name': {'0': 'Price_1195',\n",
      "                           '1': 'Price_1230',\n",
      "                           '2': 'Price_16019',\n",
      "                           '3': 'Price_202',\n",
      "                           '4': 'Price_2531',\n",
      "                           '5': 'Price_2589',\n",
      "                           '6': 'Price_3726',\n",
      "                           '7': 'Price_3732',\n",
      "                           '8': 'Price_3743',\n",
      "                           '9': 'Price_3766'},\n",
      "          'importance': {'0': 0.06588408350944519,\n",
      "                         '1': 0.08911942690610886,\n",
      "                         '2': 0.06506973505020142,\n",
      "                         '3': 0.11487142741680145,\n",
      "                         '4': 0.10584941506385803,\n",
      "                         '5': 0.11145284026861191,\n",
      "                         '6': 0.14778806269168854,\n",
      "                         '7': 0.09534899890422821,\n",
      "                         '8': 0.10403811186552048,\n",
      "                         '9': 0.10057786852121353}},\n",
      " '3743': {'feature_name': {'0': 'Price_1195',\n",
      "                           '1': 'Price_1230',\n",
      "                           '2': 'Price_16019',\n",
      "                           '3': 'Price_202',\n",
      "                           '4': 'Price_2531',\n",
      "                           '5': 'Price_2589',\n",
      "                           '6': 'Price_3726',\n",
      "                           '7': 'Price_3732',\n",
      "                           '8': 'Price_3743',\n",
      "                           '9': 'Price_3766'},\n",
      "          'importance': {'0': 0.06529252976179123,\n",
      "                         '1': 0.10007919371128082,\n",
      "                         '2': 0.06691130995750427,\n",
      "                         '3': 0.1087455004453659,\n",
      "                         '4': 0.11361242085695267,\n",
      "                         '5': 0.13302861154079437,\n",
      "                         '6': 0.09776546061038971,\n",
      "                         '7': 0.12431052327156067,\n",
      "                         '8': 0.09449846297502518,\n",
      "                         '9': 0.09575597196817398}},\n",
      " '3766': {'feature_name': {'0': 'Price_1195',\n",
      "                           '1': 'Price_1230',\n",
      "                           '2': 'Price_16019',\n",
      "                           '3': 'Price_202',\n",
      "                           '4': 'Price_2531',\n",
      "                           '5': 'Price_2589',\n",
      "                           '6': 'Price_3726',\n",
      "                           '7': 'Price_3732',\n",
      "                           '8': 'Price_3743',\n",
      "                           '9': 'Price_3766'},\n",
      "          'importance': {'0': 0.06591624021530151,\n",
      "                         '1': 0.10279209911823273,\n",
      "                         '2': 0.05745232105255127,\n",
      "                         '3': 0.11646842956542969,\n",
      "                         '4': 0.11406280845403671,\n",
      "                         '5': 0.10550380498170853,\n",
      "                         '6': 0.09729677438735962,\n",
      "                         '7': 0.16782407462596893,\n",
      "                         '8': 0.08063825964927673,\n",
      "                         '9': 0.09204515069723129}}}\n"
     ]
    }
   ],
   "source": [
    "import pprint\n",
    "\n",
    "pprint.pprint(r.json())"
   ]
  },
  {
   "cell_type": "markdown",
   "metadata": {},
   "source": [
    "### /detect_conflict\n"
   ]
  },
  {
   "cell_type": "code",
   "execution_count": 8,
   "metadata": {
    "ExecuteTime": {
     "end_time": "2020-07-23T09:09:33.905164Z",
     "start_time": "2020-07-23T09:09:33.728521Z"
    }
   },
   "outputs": [],
   "source": [
    "import requests\n",
    "import json\n",
    "\n",
    "url = 'https://fillet.azurewebsites.net/detect_conflict/'\n",
    "with open('constraints_1.json') as f:\n",
    "    constraints = json.load(f)\n",
    "\n",
    "payload = {'constraints': constraints\n",
    "           }\n",
    "\n",
    "headers = {'content-type': 'application/json',\n",
    "           'Accept-Charset': 'UTF-8'\n",
    "          }\n",
    "\n",
    "payload = json.dumps(payload)\n",
    "r = requests.post(url, data=payload, headers=headers)"
   ]
  },
  {
   "cell_type": "code",
   "execution_count": 9,
   "metadata": {
    "ExecuteTime": {
     "end_time": "2020-07-23T09:09:34.400074Z",
     "start_time": "2020-07-23T09:09:34.396085Z"
    }
   },
   "outputs": [
    {
     "data": {
      "text/plain": [
       "{'conflict': 'No conflict'}"
      ]
     },
     "execution_count": 9,
     "metadata": {},
     "output_type": "execute_result"
    }
   ],
   "source": [
    "r.json()"
   ]
  }
 ],
 "metadata": {
  "kernelspec": {
   "display_name": "Python 3",
   "language": "python",
   "name": "python3"
  },
  "language_info": {
   "codemirror_mode": {
    "name": "ipython",
    "version": 3
   },
   "file_extension": ".py",
   "mimetype": "text/x-python",
   "name": "python",
   "nbconvert_exporter": "python",
   "pygments_lexer": "ipython3",
   "version": "3.7.6"
  },
  "toc": {
   "base_numbering": 1,
   "nav_menu": {},
   "number_sections": true,
   "sideBar": true,
   "skip_h1_title": false,
   "title_cell": "Table of Contents",
   "title_sidebar": "Contents",
   "toc_cell": false,
   "toc_position": {},
   "toc_section_display": true,
   "toc_window_display": false
  },
  "varInspector": {
   "cols": {
    "lenName": 16,
    "lenType": 16,
    "lenVar": 40
   },
   "kernels_config": {
    "python": {
     "delete_cmd_postfix": "",
     "delete_cmd_prefix": "del ",
     "library": "var_list.py",
     "varRefreshCmd": "print(var_dic_list())"
    },
    "r": {
     "delete_cmd_postfix": ") ",
     "delete_cmd_prefix": "rm(",
     "library": "var_list.r",
     "varRefreshCmd": "cat(var_dic_list()) "
    }
   },
   "types_to_exclude": [
    "module",
    "function",
    "builtin_function_or_method",
    "instance",
    "_Feature"
   ],
   "window_display": false
  }
 },
 "nbformat": 4,
 "nbformat_minor": 4
}
