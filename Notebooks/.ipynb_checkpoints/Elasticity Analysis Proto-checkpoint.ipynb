{
 "cells": [
  {
   "cell_type": "code",
   "execution_count": 1,
   "metadata": {
    "ExecuteTime": {
     "end_time": "2020-07-27T04:36:49.473679Z",
     "start_time": "2020-07-27T04:36:49.264266Z"
    }
   },
   "outputs": [],
   "source": [
    "import pandas as pd\n",
    "import json\n",
    "import pickle as p\n",
    "import os"
   ]
  },
  {
   "cell_type": "code",
   "execution_count": 2,
   "metadata": {
    "ExecuteTime": {
     "end_time": "2020-07-27T04:36:49.532832Z",
     "start_time": "2020-07-27T04:36:49.528842Z"
    }
   },
   "outputs": [],
   "source": [
    "proj_path = 'test_1/'"
   ]
  },
  {
   "cell_type": "code",
   "execution_count": 3,
   "metadata": {
    "ExecuteTime": {
     "end_time": "2020-07-27T04:36:50.320623Z",
     "start_time": "2020-07-27T04:36:50.278788Z"
    }
   },
   "outputs": [
    {
     "data": {
      "text/html": [
       "<div>\n",
       "<style scoped>\n",
       "    .dataframe tbody tr th:only-of-type {\n",
       "        vertical-align: middle;\n",
       "    }\n",
       "\n",
       "    .dataframe tbody tr th {\n",
       "        vertical-align: top;\n",
       "    }\n",
       "\n",
       "    .dataframe thead th {\n",
       "        text-align: right;\n",
       "    }\n",
       "</style>\n",
       "<table border=\"1\" class=\"dataframe\">\n",
       "  <thead>\n",
       "    <tr style=\"text-align: right;\">\n",
       "      <th></th>\n",
       "      <th>Price_202</th>\n",
       "      <th>Price_1195</th>\n",
       "      <th>Price_1230</th>\n",
       "      <th>Price_2531</th>\n",
       "      <th>Price_2589</th>\n",
       "      <th>Price_3726</th>\n",
       "      <th>Price_3732</th>\n",
       "      <th>Price_3743</th>\n",
       "      <th>Price_3766</th>\n",
       "      <th>Price_16019</th>\n",
       "    </tr>\n",
       "  </thead>\n",
       "  <tbody>\n",
       "    <tr>\n",
       "      <th>0</th>\n",
       "      <td>2.1</td>\n",
       "      <td>3.4</td>\n",
       "      <td>3.5</td>\n",
       "      <td>6.2</td>\n",
       "      <td>11.65</td>\n",
       "      <td>10.1</td>\n",
       "      <td>11.8</td>\n",
       "      <td>11.25</td>\n",
       "      <td>9.75</td>\n",
       "      <td>13.55</td>\n",
       "    </tr>\n",
       "  </tbody>\n",
       "</table>\n",
       "</div>"
      ],
      "text/plain": [
       "   Price_202  Price_1195  Price_1230  Price_2531  Price_2589  Price_3726  \\\n",
       "0        2.1         3.4         3.5         6.2       11.65        10.1   \n",
       "\n",
       "   Price_3732  Price_3743  Price_3766  Price_16019  \n",
       "0        11.8       11.25        9.75        13.55  "
      ]
     },
     "execution_count": 3,
     "metadata": {},
     "output_type": "execute_result"
    }
   ],
   "source": [
    "with open(proj_path+'price_info.pkl', 'rb') as f:\n",
    "    price_info = p.load(f)\n",
    "    mean_prices = price_info[1]\n",
    "    # Round to nearest 5 cent\n",
    "    mean_prices = (mean_prices * 20).round() / 20\n",
    "    mean_prices = pd.DataFrame(mean_prices).transpose()\n",
    "    \n",
    "mean_prices"
   ]
  },
  {
   "cell_type": "code",
   "execution_count": 4,
   "metadata": {
    "ExecuteTime": {
     "end_time": "2020-07-27T04:36:52.359807Z",
     "start_time": "2020-07-27T04:36:52.355790Z"
    }
   },
   "outputs": [],
   "source": [
    "items = [int(x.split('_')[1]) for x in mean_prices.columns]"
   ]
  },
  {
   "cell_type": "code",
   "execution_count": 43,
   "metadata": {
    "ExecuteTime": {
     "end_time": "2020-07-24T10:10:33.366899Z",
     "start_time": "2020-07-24T10:10:33.351821Z"
    }
   },
   "outputs": [],
   "source": [
    "# Open item_models and save them to list\n",
    "models_list = []\n",
    "for item in items:\n",
    "    with open(proj_path + f'models/model_{item}.p', 'rb') as f:\n",
    "        model = p.load(f)\n",
    "    models_list.append(model)\n",
    "\n",
    "baseline_quantities_dict = {}"
   ]
  },
  {
   "cell_type": "code",
   "execution_count": null,
   "metadata": {},
   "outputs": [],
   "source": []
  }
 ],
 "metadata": {
  "kernelspec": {
   "display_name": "Python 3",
   "language": "python",
   "name": "python3"
  },
  "language_info": {
   "codemirror_mode": {
    "name": "ipython",
    "version": 3
   },
   "file_extension": ".py",
   "mimetype": "text/x-python",
   "name": "python",
   "nbconvert_exporter": "python",
   "pygments_lexer": "ipython3",
   "version": "3.7.6"
  },
  "toc": {
   "base_numbering": 1,
   "nav_menu": {},
   "number_sections": true,
   "sideBar": true,
   "skip_h1_title": false,
   "title_cell": "Table of Contents",
   "title_sidebar": "Contents",
   "toc_cell": false,
   "toc_position": {},
   "toc_section_display": true,
   "toc_window_display": false
  },
  "varInspector": {
   "cols": {
    "lenName": 16,
    "lenType": 16,
    "lenVar": 40
   },
   "kernels_config": {
    "python": {
     "delete_cmd_postfix": "",
     "delete_cmd_prefix": "del ",
     "library": "var_list.py",
     "varRefreshCmd": "print(var_dic_list())"
    },
    "r": {
     "delete_cmd_postfix": ") ",
     "delete_cmd_prefix": "rm(",
     "library": "var_list.r",
     "varRefreshCmd": "cat(var_dic_list()) "
    }
   },
   "types_to_exclude": [
    "module",
    "function",
    "builtin_function_or_method",
    "instance",
    "_Feature"
   ],
   "window_display": false
  }
 },
 "nbformat": 4,
 "nbformat_minor": 4
}
