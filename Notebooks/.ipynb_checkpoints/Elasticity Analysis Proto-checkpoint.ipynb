{
 "cells": [
  {
   "cell_type": "code",
   "execution_count": 56,
   "metadata": {
    "ExecuteTime": {
     "end_time": "2020-07-27T12:34:35.976060Z",
     "start_time": "2020-07-27T12:34:35.973065Z"
    }
   },
   "outputs": [],
   "source": [
    "import pandas as pd\n",
    "import json\n",
    "import pickle as p\n",
    "import os"
   ]
  },
  {
   "cell_type": "code",
   "execution_count": 57,
   "metadata": {
    "ExecuteTime": {
     "end_time": "2020-07-27T12:34:36.256395Z",
     "start_time": "2020-07-27T12:34:36.253402Z"
    }
   },
   "outputs": [],
   "source": [
    "proj_path = 'test_5/'"
   ]
  },
  {
   "cell_type": "code",
   "execution_count": 58,
   "metadata": {
    "ExecuteTime": {
     "end_time": "2020-07-27T12:34:36.568598Z",
     "start_time": "2020-07-27T12:34:36.542664Z"
    }
   },
   "outputs": [
    {
     "data": {
      "text/html": [
       "<div>\n",
       "<style scoped>\n",
       "    .dataframe tbody tr th:only-of-type {\n",
       "        vertical-align: middle;\n",
       "    }\n",
       "\n",
       "    .dataframe tbody tr th {\n",
       "        vertical-align: top;\n",
       "    }\n",
       "\n",
       "    .dataframe thead th {\n",
       "        text-align: right;\n",
       "    }\n",
       "</style>\n",
       "<table border=\"1\" class=\"dataframe\">\n",
       "  <thead>\n",
       "    <tr style=\"text-align: right;\">\n",
       "      <th></th>\n",
       "      <th>Price_1</th>\n",
       "      <th>Price_2</th>\n",
       "      <th>Price_11</th>\n",
       "      <th>Price_12</th>\n",
       "      <th>Price_21</th>\n",
       "      <th>Price_22</th>\n",
       "      <th>Price_31</th>\n",
       "      <th>Price_101</th>\n",
       "      <th>Price_102</th>\n",
       "      <th>Price_196</th>\n",
       "      <th>...</th>\n",
       "      <th>Price_7966</th>\n",
       "      <th>Price_7967</th>\n",
       "      <th>Price_16000</th>\n",
       "      <th>Price_16001</th>\n",
       "      <th>Price_16002</th>\n",
       "      <th>Price_16003</th>\n",
       "      <th>Price_16016</th>\n",
       "      <th>Price_16017</th>\n",
       "      <th>Price_16018</th>\n",
       "      <th>Price_16019</th>\n",
       "    </tr>\n",
       "  </thead>\n",
       "  <tbody>\n",
       "    <tr>\n",
       "      <th>0</th>\n",
       "      <td>4.6</td>\n",
       "      <td>9.65</td>\n",
       "      <td>4.75</td>\n",
       "      <td>9.75</td>\n",
       "      <td>4.05</td>\n",
       "      <td>9.2</td>\n",
       "      <td>2.3</td>\n",
       "      <td>4.9</td>\n",
       "      <td>9.85</td>\n",
       "      <td>5.6</td>\n",
       "      <td>...</td>\n",
       "      <td>4.15</td>\n",
       "      <td>4.75</td>\n",
       "      <td>7.8</td>\n",
       "      <td>11.25</td>\n",
       "      <td>11.9</td>\n",
       "      <td>12.6</td>\n",
       "      <td>8.9</td>\n",
       "      <td>12.15</td>\n",
       "      <td>12.85</td>\n",
       "      <td>13.55</td>\n",
       "    </tr>\n",
       "  </tbody>\n",
       "</table>\n",
       "<p>1 rows × 150 columns</p>\n",
       "</div>"
      ],
      "text/plain": [
       "   Price_1  Price_2  Price_11  Price_12  Price_21  Price_22  Price_31  \\\n",
       "0      4.6     9.65      4.75      9.75      4.05       9.2       2.3   \n",
       "\n",
       "   Price_101  Price_102  Price_196  ...  Price_7966  Price_7967  Price_16000  \\\n",
       "0        4.9       9.85        5.6  ...        4.15        4.75          7.8   \n",
       "\n",
       "   Price_16001  Price_16002  Price_16003  Price_16016  Price_16017  \\\n",
       "0        11.25         11.9         12.6          8.9        12.15   \n",
       "\n",
       "   Price_16018  Price_16019  \n",
       "0        12.85        13.55  \n",
       "\n",
       "[1 rows x 150 columns]"
      ]
     },
     "execution_count": 58,
     "metadata": {},
     "output_type": "execute_result"
    }
   ],
   "source": [
    "with open(proj_path+'price_info.pkl', 'rb') as f:\n",
    "    price_info = p.load(f)\n",
    "    mean_prices = price_info[1]\n",
    "    # Round to nearest 5 cent\n",
    "    mean_prices = (mean_prices * 20).round() / 20\n",
    "    mean_prices = pd.DataFrame(mean_prices).transpose()\n",
    "\n",
    "mean_prices"
   ]
  },
  {
   "cell_type": "code",
   "execution_count": 59,
   "metadata": {
    "ExecuteTime": {
     "end_time": "2020-07-27T12:34:39.828393Z",
     "start_time": "2020-07-27T12:34:39.824371Z"
    }
   },
   "outputs": [],
   "source": [
    "items = [int(x.split('_')[1]) for x in mean_prices.columns]"
   ]
  },
  {
   "cell_type": "code",
   "execution_count": 60,
   "metadata": {
    "ExecuteTime": {
     "end_time": "2020-07-27T12:40:03.016346Z",
     "start_time": "2020-07-27T12:34:46.786018Z"
    }
   },
   "outputs": [],
   "source": [
    "# Open item_models and save them to list\n",
    "models_dict = {}\n",
    "\n",
    "# Get Models List\n",
    "for item in items:\n",
    "    with open(proj_path + f'models/model_{item}.p', 'rb') as f:\n",
    "        model = p.load(f)\n",
    "    models_dict[item] = model\n",
    "\n",
    "# Get Baseline Quantities\n",
    "baseline_quantities_dict = {}\n",
    "\n",
    "for item_id in models_dict.keys():\n",
    "    item_model = models_dict[item_id]\n",
    "    mean_prices = mean_prices[item_model._Booster.feature_names]\n",
    "    pred = item_model.predict(mean_prices).round()\n",
    "    baseline_quantities_dict[f'Qty_{item_id}'] = pred[0]\n",
    "    \n",
    "pd.DataFrame(baseline_quantities_dict, index=['baseline_qty']).transpose()\n",
    "\n",
    "elasticity_dict = {}\n",
    "\n",
    "# Get % Changes\n",
    "for item in items:\n",
    "    # If Prices go up by 10 cents...\n",
    "    item_price_increase = mean_prices.copy()\n",
    "    item_price_increase.loc[0,f'Price_{item}'] += 0.20\n",
    "    # How much do quantities change?\n",
    "    increase_quantities_dict = {}\n",
    "    for item_j_id in items:\n",
    "        item_j_model = models_dict[item_j_id]\n",
    "        mean_prices = mean_prices[item_j_model._Booster.feature_names]\n",
    "        pred = item_j_model.predict(item_price_increase).round()\n",
    "        increase_quantities_dict[f'Qty_{item_j_id}'] = pred[0]\n",
    "        \n",
    "    # If Prices go up by 10 cents...\n",
    "    item_price_decrease = mean_prices.copy()\n",
    "    item_price_decrease.loc[0,f'Price_{item}'] -= 0.20\n",
    "    # How much do quantities change?\n",
    "    decrease_quantities_dict = {}\n",
    "    for item_j_id in items:\n",
    "        item_j_model = models_dict[item_j_id]\n",
    "        mean_prices = mean_prices[item_j_model._Booster.feature_names]\n",
    "        pred = item_j_model.predict(item_price_decrease).round()\n",
    "        decrease_quantities_dict[f'Qty_{item_j_id}'] = pred[0]\n",
    "        \n",
    "    adjusted_quantities_df = pd.DataFrame([baseline_quantities_dict,\n",
    "                                           increase_quantities_dict,\n",
    "                                           decrease_quantities_dict\n",
    "                                          ],\n",
    "                                          index=['baseline_qty','increase_qty','decrease_qty']\n",
    "                                         ).transpose()\n",
    "#     print(adjusted_quantities_df)\n",
    "    adjusted_quantities_df['increase_pct_chng'] = (adjusted_quantities_df['increase_qty'] - adjusted_quantities_df['baseline_qty']) / adjusted_quantities_df['baseline_qty']\n",
    "    adjusted_quantities_df['decrease_pct_chng'] = (adjusted_quantities_df['decrease_qty'] - adjusted_quantities_df['baseline_qty']) / adjusted_quantities_df['baseline_qty']\n",
    "    \n",
    "    elasticity_dict[item] = adjusted_quantities_df.to_dict()\n",
    "    \n",
    "    "
   ]
  },
  {
   "cell_type": "code",
   "execution_count": 55,
   "metadata": {
    "ExecuteTime": {
     "end_time": "2020-07-27T09:56:24.228043Z",
     "start_time": "2020-07-27T09:56:24.217072Z"
    }
   },
   "outputs": [
    {
     "data": {
      "text/html": [
       "<div>\n",
       "<style scoped>\n",
       "    .dataframe tbody tr th:only-of-type {\n",
       "        vertical-align: middle;\n",
       "    }\n",
       "\n",
       "    .dataframe tbody tr th {\n",
       "        vertical-align: top;\n",
       "    }\n",
       "\n",
       "    .dataframe thead th {\n",
       "        text-align: right;\n",
       "    }\n",
       "</style>\n",
       "<table border=\"1\" class=\"dataframe\">\n",
       "  <thead>\n",
       "    <tr style=\"text-align: right;\">\n",
       "      <th></th>\n",
       "      <th>baseline_qty</th>\n",
       "      <th>increase_qty</th>\n",
       "      <th>decrease_qty</th>\n",
       "      <th>increase_pct_chng</th>\n",
       "      <th>decrease_pct_chng</th>\n",
       "    </tr>\n",
       "  </thead>\n",
       "  <tbody>\n",
       "    <tr>\n",
       "      <th>Qty_202</th>\n",
       "      <td>2097.0</td>\n",
       "      <td>2477.0</td>\n",
       "      <td>1979.0</td>\n",
       "      <td>0.181211</td>\n",
       "      <td>-0.056271</td>\n",
       "    </tr>\n",
       "    <tr>\n",
       "      <th>Qty_1195</th>\n",
       "      <td>125.0</td>\n",
       "      <td>132.0</td>\n",
       "      <td>127.0</td>\n",
       "      <td>0.056000</td>\n",
       "      <td>0.016000</td>\n",
       "    </tr>\n",
       "    <tr>\n",
       "      <th>Qty_1230</th>\n",
       "      <td>9.0</td>\n",
       "      <td>9.0</td>\n",
       "      <td>8.0</td>\n",
       "      <td>0.000000</td>\n",
       "      <td>-0.111111</td>\n",
       "    </tr>\n",
       "    <tr>\n",
       "      <th>Qty_2531</th>\n",
       "      <td>256.0</td>\n",
       "      <td>304.0</td>\n",
       "      <td>235.0</td>\n",
       "      <td>0.187500</td>\n",
       "      <td>-0.082031</td>\n",
       "    </tr>\n",
       "    <tr>\n",
       "      <th>Qty_2589</th>\n",
       "      <td>128.0</td>\n",
       "      <td>145.0</td>\n",
       "      <td>154.0</td>\n",
       "      <td>0.132812</td>\n",
       "      <td>0.203125</td>\n",
       "    </tr>\n",
       "    <tr>\n",
       "      <th>Qty_3726</th>\n",
       "      <td>61.0</td>\n",
       "      <td>69.0</td>\n",
       "      <td>51.0</td>\n",
       "      <td>0.131148</td>\n",
       "      <td>-0.163934</td>\n",
       "    </tr>\n",
       "    <tr>\n",
       "      <th>Qty_3732</th>\n",
       "      <td>121.0</td>\n",
       "      <td>131.0</td>\n",
       "      <td>115.0</td>\n",
       "      <td>0.082645</td>\n",
       "      <td>-0.049587</td>\n",
       "    </tr>\n",
       "    <tr>\n",
       "      <th>Qty_3743</th>\n",
       "      <td>122.0</td>\n",
       "      <td>146.0</td>\n",
       "      <td>119.0</td>\n",
       "      <td>0.196721</td>\n",
       "      <td>-0.024590</td>\n",
       "    </tr>\n",
       "    <tr>\n",
       "      <th>Qty_3766</th>\n",
       "      <td>77.0</td>\n",
       "      <td>85.0</td>\n",
       "      <td>72.0</td>\n",
       "      <td>0.103896</td>\n",
       "      <td>-0.064935</td>\n",
       "    </tr>\n",
       "    <tr>\n",
       "      <th>Qty_16019</th>\n",
       "      <td>149.0</td>\n",
       "      <td>162.0</td>\n",
       "      <td>144.0</td>\n",
       "      <td>0.087248</td>\n",
       "      <td>-0.033557</td>\n",
       "    </tr>\n",
       "  </tbody>\n",
       "</table>\n",
       "</div>"
      ],
      "text/plain": [
       "           baseline_qty  increase_qty  decrease_qty  increase_pct_chng  \\\n",
       "Qty_202          2097.0        2477.0        1979.0           0.181211   \n",
       "Qty_1195          125.0         132.0         127.0           0.056000   \n",
       "Qty_1230            9.0           9.0           8.0           0.000000   \n",
       "Qty_2531          256.0         304.0         235.0           0.187500   \n",
       "Qty_2589          128.0         145.0         154.0           0.132812   \n",
       "Qty_3726           61.0          69.0          51.0           0.131148   \n",
       "Qty_3732          121.0         131.0         115.0           0.082645   \n",
       "Qty_3743          122.0         146.0         119.0           0.196721   \n",
       "Qty_3766           77.0          85.0          72.0           0.103896   \n",
       "Qty_16019         149.0         162.0         144.0           0.087248   \n",
       "\n",
       "           decrease_pct_chng  \n",
       "Qty_202            -0.056271  \n",
       "Qty_1195            0.016000  \n",
       "Qty_1230           -0.111111  \n",
       "Qty_2531           -0.082031  \n",
       "Qty_2589            0.203125  \n",
       "Qty_3726           -0.163934  \n",
       "Qty_3732           -0.049587  \n",
       "Qty_3743           -0.024590  \n",
       "Qty_3766           -0.064935  \n",
       "Qty_16019          -0.033557  "
      ]
     },
     "execution_count": 55,
     "metadata": {},
     "output_type": "execute_result"
    }
   ],
   "source": [
    "pd.DataFrame(elasticity_dict[3743])[]"
   ]
  },
  {
   "cell_type": "code",
   "execution_count": 42,
   "metadata": {
    "ExecuteTime": {
     "end_time": "2020-07-27T09:54:54.632371Z",
     "start_time": "2020-07-27T09:54:54.627385Z"
    }
   },
   "outputs": [
    {
     "data": {
      "text/plain": [
       "dict_keys([202, 1195, 1230, 2531, 2589, 3726, 3732, 3743, 3766, 16019])"
      ]
     },
     "execution_count": 42,
     "metadata": {},
     "output_type": "execute_result"
    }
   ],
   "source": [
    "elasticity_dict.keys()"
   ]
  },
  {
   "cell_type": "code",
   "execution_count": 25,
   "metadata": {
    "ExecuteTime": {
     "end_time": "2020-07-27T09:41:12.276748Z",
     "start_time": "2020-07-27T09:41:12.272786Z"
    }
   },
   "outputs": [],
   "source": [
    "item_price_increase = mean_prices.copy()"
   ]
  },
  {
   "cell_type": "code",
   "execution_count": 35,
   "metadata": {
    "ExecuteTime": {
     "end_time": "2020-07-27T09:53:04.146230Z",
     "start_time": "2020-07-27T09:53:04.140246Z"
    }
   },
   "outputs": [
    {
     "data": {
      "text/plain": [
       "{'Qty_202': array([2097.], dtype=float32),\n",
       " 'Qty_1195': array([125.], dtype=float32),\n",
       " 'Qty_1230': array([9.], dtype=float32),\n",
       " 'Qty_2531': array([256.], dtype=float32),\n",
       " 'Qty_2589': array([128.], dtype=float32),\n",
       " 'Qty_3726': array([61.], dtype=float32),\n",
       " 'Qty_3732': array([121.], dtype=float32),\n",
       " 'Qty_3743': array([122.], dtype=float32),\n",
       " 'Qty_3766': array([77.], dtype=float32),\n",
       " 'Qty_16019': array([149.], dtype=float32)}"
      ]
     },
     "execution_count": 35,
     "metadata": {},
     "output_type": "execute_result"
    }
   ],
   "source": [
    "decrease_quantities_dict"
   ]
  },
  {
   "cell_type": "code",
   "execution_count": 27,
   "metadata": {
    "ExecuteTime": {
     "end_time": "2020-07-27T09:41:43.617865Z",
     "start_time": "2020-07-27T09:41:43.607868Z"
    }
   },
   "outputs": [
    {
     "data": {
      "text/html": [
       "<div>\n",
       "<style scoped>\n",
       "    .dataframe tbody tr th:only-of-type {\n",
       "        vertical-align: middle;\n",
       "    }\n",
       "\n",
       "    .dataframe tbody tr th {\n",
       "        vertical-align: top;\n",
       "    }\n",
       "\n",
       "    .dataframe thead th {\n",
       "        text-align: right;\n",
       "    }\n",
       "</style>\n",
       "<table border=\"1\" class=\"dataframe\">\n",
       "  <thead>\n",
       "    <tr style=\"text-align: right;\">\n",
       "      <th></th>\n",
       "      <th>Price_1195</th>\n",
       "      <th>Price_1230</th>\n",
       "      <th>Price_16019</th>\n",
       "      <th>Price_202</th>\n",
       "      <th>Price_2531</th>\n",
       "      <th>Price_2589</th>\n",
       "      <th>Price_3726</th>\n",
       "      <th>Price_3732</th>\n",
       "      <th>Price_3743</th>\n",
       "      <th>Price_3766</th>\n",
       "      <th>Qty_202</th>\n",
       "    </tr>\n",
       "  </thead>\n",
       "  <tbody>\n",
       "    <tr>\n",
       "      <th>0</th>\n",
       "      <td>3.4</td>\n",
       "      <td>3.5</td>\n",
       "      <td>13.55</td>\n",
       "      <td>2.1</td>\n",
       "      <td>6.2</td>\n",
       "      <td>11.65</td>\n",
       "      <td>10.1</td>\n",
       "      <td>11.8</td>\n",
       "      <td>11.25</td>\n",
       "      <td>9.75</td>\n",
       "      <td>4000.0</td>\n",
       "    </tr>\n",
       "  </tbody>\n",
       "</table>\n",
       "</div>"
      ],
      "text/plain": [
       "   Price_1195  Price_1230  Price_16019  Price_202  Price_2531  Price_2589  \\\n",
       "0         3.4         3.5        13.55        2.1         6.2       11.65   \n",
       "\n",
       "   Price_3726  Price_3732  Price_3743  Price_3766  Qty_202  \n",
       "0        10.1        11.8       11.25        9.75   4000.0  "
      ]
     },
     "execution_count": 27,
     "metadata": {},
     "output_type": "execute_result"
    }
   ],
   "source": [
    "item_price_increase"
   ]
  },
  {
   "cell_type": "code",
   "execution_count": 28,
   "metadata": {
    "ExecuteTime": {
     "end_time": "2020-07-27T09:42:14.335778Z",
     "start_time": "2020-07-27T09:42:14.325778Z"
    }
   },
   "outputs": [
    {
     "data": {
      "text/html": [
       "<div>\n",
       "<style scoped>\n",
       "    .dataframe tbody tr th:only-of-type {\n",
       "        vertical-align: middle;\n",
       "    }\n",
       "\n",
       "    .dataframe tbody tr th {\n",
       "        vertical-align: top;\n",
       "    }\n",
       "\n",
       "    .dataframe thead th {\n",
       "        text-align: right;\n",
       "    }\n",
       "</style>\n",
       "<table border=\"1\" class=\"dataframe\">\n",
       "  <thead>\n",
       "    <tr style=\"text-align: right;\">\n",
       "      <th></th>\n",
       "      <th>Price_1195</th>\n",
       "      <th>Price_1230</th>\n",
       "      <th>Price_16019</th>\n",
       "      <th>Price_202</th>\n",
       "      <th>Price_2531</th>\n",
       "      <th>Price_2589</th>\n",
       "      <th>Price_3726</th>\n",
       "      <th>Price_3732</th>\n",
       "      <th>Price_3743</th>\n",
       "      <th>Price_3766</th>\n",
       "    </tr>\n",
       "  </thead>\n",
       "  <tbody>\n",
       "    <tr>\n",
       "      <th>0</th>\n",
       "      <td>3.4</td>\n",
       "      <td>3.5</td>\n",
       "      <td>13.55</td>\n",
       "      <td>2.1</td>\n",
       "      <td>6.2</td>\n",
       "      <td>11.65</td>\n",
       "      <td>10.1</td>\n",
       "      <td>11.8</td>\n",
       "      <td>11.25</td>\n",
       "      <td>9.75</td>\n",
       "    </tr>\n",
       "  </tbody>\n",
       "</table>\n",
       "</div>"
      ],
      "text/plain": [
       "   Price_1195  Price_1230  Price_16019  Price_202  Price_2531  Price_2589  \\\n",
       "0         3.4         3.5        13.55        2.1         6.2       11.65   \n",
       "\n",
       "   Price_3726  Price_3732  Price_3743  Price_3766  \n",
       "0        10.1        11.8       11.25        9.75  "
      ]
     },
     "execution_count": 28,
     "metadata": {},
     "output_type": "execute_result"
    }
   ],
   "source": [
    "mean_prices"
   ]
  },
  {
   "cell_type": "code",
   "execution_count": null,
   "metadata": {},
   "outputs": [],
   "source": []
  }
 ],
 "metadata": {
  "kernelspec": {
   "display_name": "Python 3",
   "language": "python",
   "name": "python3"
  },
  "language_info": {
   "codemirror_mode": {
    "name": "ipython",
    "version": 3
   },
   "file_extension": ".py",
   "mimetype": "text/x-python",
   "name": "python",
   "nbconvert_exporter": "python",
   "pygments_lexer": "ipython3",
   "version": "3.7.6"
  },
  "toc": {
   "base_numbering": 1,
   "nav_menu": {},
   "number_sections": true,
   "sideBar": true,
   "skip_h1_title": false,
   "title_cell": "Table of Contents",
   "title_sidebar": "Contents",
   "toc_cell": false,
   "toc_position": {},
   "toc_section_display": true,
   "toc_window_display": false
  },
  "varInspector": {
   "cols": {
    "lenName": 16,
    "lenType": 16,
    "lenVar": 40
   },
   "kernels_config": {
    "python": {
     "delete_cmd_postfix": "",
     "delete_cmd_prefix": "del ",
     "library": "var_list.py",
     "varRefreshCmd": "print(var_dic_list())"
    },
    "r": {
     "delete_cmd_postfix": ") ",
     "delete_cmd_prefix": "rm(",
     "library": "var_list.r",
     "varRefreshCmd": "cat(var_dic_list()) "
    }
   },
   "types_to_exclude": [
    "module",
    "function",
    "builtin_function_or_method",
    "instance",
    "_Feature"
   ],
   "window_display": false
  }
 },
 "nbformat": 4,
 "nbformat_minor": 4
}
