{
 "cells": [
  {
   "cell_type": "code",
   "execution_count": 44,
   "metadata": {
    "ExecuteTime": {
     "end_time": "2020-07-13T04:57:58.007213Z",
     "start_time": "2020-07-13T04:57:58.004220Z"
    }
   },
   "outputs": [],
   "source": [
    "import pandas as pd\n",
    "import numpy as np\n",
    "import pickle as p"
   ]
  },
  {
   "cell_type": "code",
   "execution_count": 45,
   "metadata": {
    "ExecuteTime": {
     "end_time": "2020-07-13T04:58:00.902468Z",
     "start_time": "2020-07-13T04:57:59.735538Z"
    }
   },
   "outputs": [],
   "source": [
    "data_all = pd.read_csv('data_all.csv')\n",
    "\n",
    "# Test with Subset of Data\n",
    "np.random.seed(43)\n",
    "item_subset = list(np.random.choice(data_all['Item_ID'].unique(), size=20, replace=False))\n",
    "data_subset = data_all.loc[data_all['Item_ID'].isin(item_subset)].copy()\n",
    "\n",
    "# # Test with All Data\n",
    "# data_subset = data_all.copy()"
   ]
  },
  {
   "cell_type": "code",
   "execution_count": 46,
   "metadata": {
    "ExecuteTime": {
     "end_time": "2020-07-13T04:58:01.002200Z",
     "start_time": "2020-07-13T04:58:00.998210Z"
    }
   },
   "outputs": [
    {
     "data": {
      "text/plain": [
       "[202, 16019, 3732, 1230, 3766, 2589, 2531, 1195, 3726, 3743]"
      ]
     },
     "execution_count": 46,
     "metadata": {},
     "output_type": "execute_result"
    }
   ],
   "source": [
    "item_subset"
   ]
  },
  {
   "cell_type": "markdown",
   "metadata": {},
   "source": [
    "### `/train`"
   ]
  },
  {
   "cell_type": "code",
   "execution_count": 47,
   "metadata": {
    "ExecuteTime": {
     "end_time": "2020-07-13T04:58:18.198911Z",
     "start_time": "2020-07-13T04:58:01.095949Z"
    }
   },
   "outputs": [],
   "source": [
    "import requests\n",
    "import json\n",
    "\n",
    "url = 'https://fillet.azurewebsites.net/train/'\n",
    "\n",
    "data_subset.to_parquet('data_subset.parquet')\n",
    "# data = data_subset.to_json()\n",
    "\n",
    "files = {'data':open('data_subset.parquet', 'rb')}\n",
    "\n",
    "payload = {'cv_acc': False,\n",
    "           'project_id': 13\n",
    "           }\n",
    "\n",
    "headers = {\n",
    "           'Accept-Charset': 'UTF-8'\n",
    "          }\n",
    "\n",
    "# payload = json.dumps(payload)\n",
    "r = requests.post(url, data=payload,  timeout=1200, files=files)\n",
    "\n",
    "files['data'].close()"
   ]
  },
  {
   "cell_type": "code",
   "execution_count": 48,
   "metadata": {
    "ExecuteTime": {
     "end_time": "2020-07-13T04:58:18.306625Z",
     "start_time": "2020-07-13T04:58:18.302636Z"
    }
   },
   "outputs": [
    {
     "data": {
      "text/plain": [
       "'Success'"
      ]
     },
     "execution_count": 48,
     "metadata": {},
     "output_type": "execute_result"
    }
   ],
   "source": [
    "r.json()['result']"
   ]
  },
  {
   "cell_type": "code",
   "execution_count": 130,
   "metadata": {
    "ExecuteTime": {
     "end_time": "2020-07-12T13:38:38.659285Z",
     "start_time": "2020-07-12T13:38:38.645323Z"
    }
   },
   "outputs": [
    {
     "data": {
      "text/html": [
       "<div>\n",
       "<style scoped>\n",
       "    .dataframe tbody tr th:only-of-type {\n",
       "        vertical-align: middle;\n",
       "    }\n",
       "\n",
       "    .dataframe tbody tr th {\n",
       "        vertical-align: top;\n",
       "    }\n",
       "\n",
       "    .dataframe thead th {\n",
       "        text-align: right;\n",
       "    }\n",
       "</style>\n",
       "<table border=\"1\" class=\"dataframe\">\n",
       "  <thead>\n",
       "    <tr style=\"text-align: right;\">\n",
       "      <th></th>\n",
       "      <th>avg_sales</th>\n",
       "      <th>item_id</th>\n",
       "      <th>mae_score</th>\n",
       "      <th>mpe_score</th>\n",
       "      <th>r2_score</th>\n",
       "      <th>rmse_score</th>\n",
       "    </tr>\n",
       "  </thead>\n",
       "  <tbody>\n",
       "    <tr>\n",
       "      <th>0</th>\n",
       "      <td>27.337370</td>\n",
       "      <td>204.0</td>\n",
       "      <td>6.894670</td>\n",
       "      <td>0.252207</td>\n",
       "      <td>0.785289</td>\n",
       "      <td>9.429926</td>\n",
       "    </tr>\n",
       "    <tr>\n",
       "      <th>1</th>\n",
       "      <td>130.380447</td>\n",
       "      <td>1195.0</td>\n",
       "      <td>24.537744</td>\n",
       "      <td>0.188201</td>\n",
       "      <td>0.709221</td>\n",
       "      <td>32.512678</td>\n",
       "    </tr>\n",
       "    <tr>\n",
       "      <th>2</th>\n",
       "      <td>9.089099</td>\n",
       "      <td>1230.0</td>\n",
       "      <td>4.114107</td>\n",
       "      <td>0.452642</td>\n",
       "      <td>0.576147</td>\n",
       "      <td>5.565316</td>\n",
       "    </tr>\n",
       "    <tr>\n",
       "      <th>3</th>\n",
       "      <td>471.599487</td>\n",
       "      <td>5581.0</td>\n",
       "      <td>76.821336</td>\n",
       "      <td>0.162895</td>\n",
       "      <td>0.804290</td>\n",
       "      <td>104.822081</td>\n",
       "    </tr>\n",
       "    <tr>\n",
       "      <th>4</th>\n",
       "      <td>127.392555</td>\n",
       "      <td>3732.0</td>\n",
       "      <td>21.044103</td>\n",
       "      <td>0.165191</td>\n",
       "      <td>0.739493</td>\n",
       "      <td>27.389939</td>\n",
       "    </tr>\n",
       "    <tr>\n",
       "      <th>5</th>\n",
       "      <td>163.501724</td>\n",
       "      <td>2589.0</td>\n",
       "      <td>25.149736</td>\n",
       "      <td>0.153819</td>\n",
       "      <td>0.817582</td>\n",
       "      <td>34.768494</td>\n",
       "    </tr>\n",
       "    <tr>\n",
       "      <th>6</th>\n",
       "      <td>12.570475</td>\n",
       "      <td>7157.0</td>\n",
       "      <td>4.348103</td>\n",
       "      <td>0.345898</td>\n",
       "      <td>0.587468</td>\n",
       "      <td>5.871577</td>\n",
       "    </tr>\n",
       "    <tr>\n",
       "      <th>7</th>\n",
       "      <td>191.013550</td>\n",
       "      <td>350.0</td>\n",
       "      <td>32.520683</td>\n",
       "      <td>0.170253</td>\n",
       "      <td>0.611197</td>\n",
       "      <td>45.453915</td>\n",
       "    </tr>\n",
       "    <tr>\n",
       "      <th>8</th>\n",
       "      <td>468.843719</td>\n",
       "      <td>5501.0</td>\n",
       "      <td>169.407887</td>\n",
       "      <td>0.361331</td>\n",
       "      <td>-117.373577</td>\n",
       "      <td>195.536310</td>\n",
       "    </tr>\n",
       "    <tr>\n",
       "      <th>9</th>\n",
       "      <td>2130.495117</td>\n",
       "      <td>202.0</td>\n",
       "      <td>244.243759</td>\n",
       "      <td>0.114642</td>\n",
       "      <td>0.851489</td>\n",
       "      <td>341.047760</td>\n",
       "    </tr>\n",
       "    <tr>\n",
       "      <th>10</th>\n",
       "      <td>110.929726</td>\n",
       "      <td>16019.0</td>\n",
       "      <td>24.206221</td>\n",
       "      <td>0.218212</td>\n",
       "      <td>0.409933</td>\n",
       "      <td>30.543156</td>\n",
       "    </tr>\n",
       "    <tr>\n",
       "      <th>11</th>\n",
       "      <td>226.583542</td>\n",
       "      <td>2521.0</td>\n",
       "      <td>47.386662</td>\n",
       "      <td>0.209135</td>\n",
       "      <td>0.636258</td>\n",
       "      <td>60.196509</td>\n",
       "    </tr>\n",
       "    <tr>\n",
       "      <th>12</th>\n",
       "      <td>48.050602</td>\n",
       "      <td>7128.0</td>\n",
       "      <td>13.278240</td>\n",
       "      <td>0.276339</td>\n",
       "      <td>0.638109</td>\n",
       "      <td>17.466104</td>\n",
       "    </tr>\n",
       "    <tr>\n",
       "      <th>13</th>\n",
       "      <td>27.631214</td>\n",
       "      <td>5469.0</td>\n",
       "      <td>7.309757</td>\n",
       "      <td>0.264547</td>\n",
       "      <td>0.640397</td>\n",
       "      <td>10.242152</td>\n",
       "    </tr>\n",
       "    <tr>\n",
       "      <th>14</th>\n",
       "      <td>948.296204</td>\n",
       "      <td>2867.0</td>\n",
       "      <td>124.167879</td>\n",
       "      <td>0.130938</td>\n",
       "      <td>0.812609</td>\n",
       "      <td>169.002396</td>\n",
       "    </tr>\n",
       "    <tr>\n",
       "      <th>15</th>\n",
       "      <td>134.081207</td>\n",
       "      <td>3743.0</td>\n",
       "      <td>17.040823</td>\n",
       "      <td>0.127093</td>\n",
       "      <td>0.897773</td>\n",
       "      <td>23.766509</td>\n",
       "    </tr>\n",
       "    <tr>\n",
       "      <th>16</th>\n",
       "      <td>92.051125</td>\n",
       "      <td>3766.0</td>\n",
       "      <td>16.272447</td>\n",
       "      <td>0.176776</td>\n",
       "      <td>0.774110</td>\n",
       "      <td>22.138919</td>\n",
       "    </tr>\n",
       "    <tr>\n",
       "      <th>17</th>\n",
       "      <td>246.273209</td>\n",
       "      <td>1221.0</td>\n",
       "      <td>42.126207</td>\n",
       "      <td>0.171055</td>\n",
       "      <td>0.849099</td>\n",
       "      <td>60.249573</td>\n",
       "    </tr>\n",
       "    <tr>\n",
       "      <th>18</th>\n",
       "      <td>84.991516</td>\n",
       "      <td>16018.0</td>\n",
       "      <td>14.870007</td>\n",
       "      <td>0.174959</td>\n",
       "      <td>0.747072</td>\n",
       "      <td>20.371842</td>\n",
       "    </tr>\n",
       "    <tr>\n",
       "      <th>19</th>\n",
       "      <td>23.627716</td>\n",
       "      <td>7114.0</td>\n",
       "      <td>6.587691</td>\n",
       "      <td>0.278812</td>\n",
       "      <td>0.591355</td>\n",
       "      <td>8.766117</td>\n",
       "    </tr>\n",
       "    <tr>\n",
       "      <th>20</th>\n",
       "      <td>99.812752</td>\n",
       "      <td>2316.0</td>\n",
       "      <td>16.566298</td>\n",
       "      <td>0.165974</td>\n",
       "      <td>0.783112</td>\n",
       "      <td>21.827245</td>\n",
       "    </tr>\n",
       "    <tr>\n",
       "      <th>21</th>\n",
       "      <td>57.813194</td>\n",
       "      <td>2256.0</td>\n",
       "      <td>11.947333</td>\n",
       "      <td>0.206654</td>\n",
       "      <td>0.725653</td>\n",
       "      <td>15.745791</td>\n",
       "    </tr>\n",
       "    <tr>\n",
       "      <th>22</th>\n",
       "      <td>74.939819</td>\n",
       "      <td>3726.0</td>\n",
       "      <td>12.978042</td>\n",
       "      <td>0.173180</td>\n",
       "      <td>0.751899</td>\n",
       "      <td>16.827638</td>\n",
       "    </tr>\n",
       "    <tr>\n",
       "      <th>23</th>\n",
       "      <td>51.694931</td>\n",
       "      <td>4272.0</td>\n",
       "      <td>10.346185</td>\n",
       "      <td>0.200139</td>\n",
       "      <td>0.570211</td>\n",
       "      <td>14.395229</td>\n",
       "    </tr>\n",
       "    <tr>\n",
       "      <th>24</th>\n",
       "      <td>108.745979</td>\n",
       "      <td>7575.0</td>\n",
       "      <td>19.222843</td>\n",
       "      <td>0.176768</td>\n",
       "      <td>0.890725</td>\n",
       "      <td>25.932822</td>\n",
       "    </tr>\n",
       "    <tr>\n",
       "      <th>25</th>\n",
       "      <td>255.930252</td>\n",
       "      <td>2731.0</td>\n",
       "      <td>43.937598</td>\n",
       "      <td>0.171678</td>\n",
       "      <td>0.728189</td>\n",
       "      <td>57.092386</td>\n",
       "    </tr>\n",
       "    <tr>\n",
       "      <th>26</th>\n",
       "      <td>813.082703</td>\n",
       "      <td>7008.0</td>\n",
       "      <td>97.764248</td>\n",
       "      <td>0.120239</td>\n",
       "      <td>0.923146</td>\n",
       "      <td>133.986795</td>\n",
       "    </tr>\n",
       "    <tr>\n",
       "      <th>27</th>\n",
       "      <td>487.262909</td>\n",
       "      <td>2701.0</td>\n",
       "      <td>70.973380</td>\n",
       "      <td>0.145657</td>\n",
       "      <td>0.808124</td>\n",
       "      <td>91.236275</td>\n",
       "    </tr>\n",
       "    <tr>\n",
       "      <th>28</th>\n",
       "      <td>321.245483</td>\n",
       "      <td>2531.0</td>\n",
       "      <td>55.759337</td>\n",
       "      <td>0.173572</td>\n",
       "      <td>0.679334</td>\n",
       "      <td>69.256255</td>\n",
       "    </tr>\n",
       "    <tr>\n",
       "      <th>29</th>\n",
       "      <td>156.666092</td>\n",
       "      <td>7434.0</td>\n",
       "      <td>29.634249</td>\n",
       "      <td>0.189155</td>\n",
       "      <td>0.818709</td>\n",
       "      <td>41.591983</td>\n",
       "    </tr>\n",
       "  </tbody>\n",
       "</table>\n",
       "</div>"
      ],
      "text/plain": [
       "      avg_sales  item_id   mae_score  mpe_score    r2_score  rmse_score\n",
       "0     27.337370    204.0    6.894670   0.252207    0.785289    9.429926\n",
       "1    130.380447   1195.0   24.537744   0.188201    0.709221   32.512678\n",
       "2      9.089099   1230.0    4.114107   0.452642    0.576147    5.565316\n",
       "3    471.599487   5581.0   76.821336   0.162895    0.804290  104.822081\n",
       "4    127.392555   3732.0   21.044103   0.165191    0.739493   27.389939\n",
       "5    163.501724   2589.0   25.149736   0.153819    0.817582   34.768494\n",
       "6     12.570475   7157.0    4.348103   0.345898    0.587468    5.871577\n",
       "7    191.013550    350.0   32.520683   0.170253    0.611197   45.453915\n",
       "8    468.843719   5501.0  169.407887   0.361331 -117.373577  195.536310\n",
       "9   2130.495117    202.0  244.243759   0.114642    0.851489  341.047760\n",
       "10   110.929726  16019.0   24.206221   0.218212    0.409933   30.543156\n",
       "11   226.583542   2521.0   47.386662   0.209135    0.636258   60.196509\n",
       "12    48.050602   7128.0   13.278240   0.276339    0.638109   17.466104\n",
       "13    27.631214   5469.0    7.309757   0.264547    0.640397   10.242152\n",
       "14   948.296204   2867.0  124.167879   0.130938    0.812609  169.002396\n",
       "15   134.081207   3743.0   17.040823   0.127093    0.897773   23.766509\n",
       "16    92.051125   3766.0   16.272447   0.176776    0.774110   22.138919\n",
       "17   246.273209   1221.0   42.126207   0.171055    0.849099   60.249573\n",
       "18    84.991516  16018.0   14.870007   0.174959    0.747072   20.371842\n",
       "19    23.627716   7114.0    6.587691   0.278812    0.591355    8.766117\n",
       "20    99.812752   2316.0   16.566298   0.165974    0.783112   21.827245\n",
       "21    57.813194   2256.0   11.947333   0.206654    0.725653   15.745791\n",
       "22    74.939819   3726.0   12.978042   0.173180    0.751899   16.827638\n",
       "23    51.694931   4272.0   10.346185   0.200139    0.570211   14.395229\n",
       "24   108.745979   7575.0   19.222843   0.176768    0.890725   25.932822\n",
       "25   255.930252   2731.0   43.937598   0.171678    0.728189   57.092386\n",
       "26   813.082703   7008.0   97.764248   0.120239    0.923146  133.986795\n",
       "27   487.262909   2701.0   70.973380   0.145657    0.808124   91.236275\n",
       "28   321.245483   2531.0   55.759337   0.173572    0.679334   69.256255\n",
       "29   156.666092   7434.0   29.634249   0.189155    0.818709   41.591983"
      ]
     },
     "execution_count": 130,
     "metadata": {},
     "output_type": "execute_result"
    }
   ],
   "source": [
    "# CV Accuracies Returned\n",
    "cv_accuracies = pd.DataFrame.from_dict((r.json()['cv_acc']))\n",
    "cv_accuracies"
   ]
  },
  {
   "cell_type": "markdown",
   "metadata": {},
   "source": [
    "### `/optimize`"
   ]
  },
  {
   "cell_type": "code",
   "execution_count": null,
   "metadata": {
    "ExecuteTime": {
     "end_time": "2020-07-06T10:51:53.277087Z",
     "start_time": "2020-07-06T10:51:51.493Z"
    }
   },
   "outputs": [],
   "source": [
    "url = 'http://localhost:5000/optimize/'\n",
    "\n",
    "payload = {'project_id': 1,\n",
    "           'constraints': [],\n",
    "           'population': 100,\n",
    "           'max_epoch': 200\n",
    "           }\n",
    "\n",
    "headers = {'content-type': 'application/json',\n",
    "           'Accept-Charset': 'UTF-8'\n",
    "          }\n",
    "\n",
    "payload = json.dumps(payload)\n",
    "r = requests.post(url, data=payload, headers=headers)"
   ]
  },
  {
   "cell_type": "code",
   "execution_count": null,
   "metadata": {
    "ExecuteTime": {
     "end_time": "2020-07-06T10:51:53.278090Z",
     "start_time": "2020-07-06T10:51:51.495Z"
    }
   },
   "outputs": [],
   "source": [
    "best_prices = r.json()['result']\n",
    "best_prices"
   ]
  },
  {
   "cell_type": "code",
   "execution_count": null,
   "metadata": {
    "ExecuteTime": {
     "end_time": "2020-07-06T10:51:53.279082Z",
     "start_time": "2020-07-06T10:51:51.496Z"
    }
   },
   "outputs": [],
   "source": [
    "import requests\n",
    "import json\n",
    "\n",
    "url = 'http://localhost:5000/predict/'\n",
    "payload = {'prices': best_prices,\n",
    "           'project_id': 1\n",
    "           }\n",
    "headers = {'content-type': 'application/json',\n",
    "           'Accept-Charset': 'UTF-8'\n",
    "          }\n",
    "payload = json.dumps(payload)\n",
    "r = requests.post(url, data=payload, headers=headers)\n",
    "\n",
    "# What If Prediction\n",
    "qty = r.json()['qty_estimates']"
   ]
  },
  {
   "cell_type": "code",
   "execution_count": null,
   "metadata": {
    "ExecuteTime": {
     "end_time": "2020-07-06T10:51:53.280079Z",
     "start_time": "2020-07-06T10:51:51.497Z"
    }
   },
   "outputs": [],
   "source": [
    "qty"
   ]
  },
  {
   "cell_type": "code",
   "execution_count": null,
   "metadata": {
    "ExecuteTime": {
     "end_time": "2020-07-06T10:51:53.280079Z",
     "start_time": "2020-07-06T10:51:51.498Z"
    }
   },
   "outputs": [],
   "source": [
    "# Calculate Revenue\n",
    "revenue = 0\n",
    "for item in best_prices.keys():\n",
    "    revenue += (best_prices[item]*qty['Qty_'+item])\n",
    "    \n",
    "print(revenue)"
   ]
  },
  {
   "cell_type": "markdown",
   "metadata": {},
   "source": [
    "### `/predict/`"
   ]
  },
  {
   "cell_type": "code",
   "execution_count": 49,
   "metadata": {
    "ExecuteTime": {
     "end_time": "2020-07-13T04:58:18.777394Z",
     "start_time": "2020-07-13T04:58:18.401371Z"
    }
   },
   "outputs": [
    {
     "name": "stdout",
     "output_type": "stream",
     "text": [
      "Input Prices Quantities:\n"
     ]
    },
    {
     "data": {
      "text/plain": [
       "{'202': 2.35,\n",
       " '1195': 3.15,\n",
       " '1230': 3.25,\n",
       " '2531': 6.25,\n",
       " '2589': 11.9,\n",
       " '3726': 9.95,\n",
       " '3732': 11.55,\n",
       " '3743': 11.1,\n",
       " '3766': 9.55,\n",
       " '16019': 13.6}"
      ]
     },
     "execution_count": 49,
     "metadata": {},
     "output_type": "execute_result"
    }
   ],
   "source": [
    "# Sample Actual Price \n",
    "from helper_functions import *\n",
    "\n",
    "sales_data = data_subset\n",
    "\n",
    "sales_data = optimize_memory(sales_data)\n",
    "\n",
    "sales_data_wide = sales_data.set_index(\n",
    "    ['Wk', 'Tier', 'Store', 'Item_ID']).unstack(level=-1).reset_index().copy()\n",
    "sales_data_wide.columns = [\n",
    "    ''.join(str(i) for i in col).strip()\n",
    "    for col in sales_data_wide.columns.values\n",
    "]\n",
    "sales_data_wide = sales_data_wide.sort_values(\n",
    "    ['Tier', 'Store', 'Wk'], ascending=True).reset_index(drop=True)\n",
    "\n",
    "sales_data_wide_clean = sales_data_wide.dropna(axis=0).copy()\n",
    "dataset = sales_data_wide_clean\n",
    "price_columns = [\n",
    "    col for col in sales_data_wide_clean.columns if col.startswith('Price')\n",
    "]\n",
    "\n",
    "a = dataset.sample(1)\n",
    "a_dict = a[price_columns].iloc[0].to_dict()\n",
    "a_input = {}\n",
    "for key in a_dict.keys():\n",
    "    a_input[key.split('_')[1]]=round(a_dict[key],2)\n",
    "\n",
    "print('Input Prices Quantities:')\n",
    "a_input"
   ]
  },
  {
   "cell_type": "code",
   "execution_count": 50,
   "metadata": {
    "ExecuteTime": {
     "end_time": "2020-07-13T04:58:23.141106Z",
     "start_time": "2020-07-13T04:58:18.882086Z"
    }
   },
   "outputs": [
    {
     "data": {
      "text/html": [
       "<div>\n",
       "<style scoped>\n",
       "    .dataframe tbody tr th:only-of-type {\n",
       "        vertical-align: middle;\n",
       "    }\n",
       "\n",
       "    .dataframe tbody tr th {\n",
       "        vertical-align: top;\n",
       "    }\n",
       "\n",
       "    .dataframe thead th {\n",
       "        text-align: right;\n",
       "    }\n",
       "</style>\n",
       "<table border=\"1\" class=\"dataframe\">\n",
       "  <thead>\n",
       "    <tr style=\"text-align: right;\">\n",
       "      <th></th>\n",
       "      <th>Estimated</th>\n",
       "      <th>Actual</th>\n",
       "    </tr>\n",
       "  </thead>\n",
       "  <tbody>\n",
       "    <tr>\n",
       "      <th>Qty_1195</th>\n",
       "      <td>223.0</td>\n",
       "      <td>195.0</td>\n",
       "    </tr>\n",
       "    <tr>\n",
       "      <th>Qty_1230</th>\n",
       "      <td>19.0</td>\n",
       "      <td>17.0</td>\n",
       "    </tr>\n",
       "    <tr>\n",
       "      <th>Qty_16019</th>\n",
       "      <td>210.0</td>\n",
       "      <td>210.0</td>\n",
       "    </tr>\n",
       "    <tr>\n",
       "      <th>Qty_202</th>\n",
       "      <td>5193.0</td>\n",
       "      <td>4785.0</td>\n",
       "    </tr>\n",
       "    <tr>\n",
       "      <th>Qty_2531</th>\n",
       "      <td>517.0</td>\n",
       "      <td>703.0</td>\n",
       "    </tr>\n",
       "    <tr>\n",
       "      <th>Qty_2589</th>\n",
       "      <td>419.0</td>\n",
       "      <td>277.0</td>\n",
       "    </tr>\n",
       "    <tr>\n",
       "      <th>Qty_3726</th>\n",
       "      <td>243.0</td>\n",
       "      <td>254.0</td>\n",
       "    </tr>\n",
       "    <tr>\n",
       "      <th>Qty_3732</th>\n",
       "      <td>342.0</td>\n",
       "      <td>350.0</td>\n",
       "    </tr>\n",
       "    <tr>\n",
       "      <th>Qty_3743</th>\n",
       "      <td>210.0</td>\n",
       "      <td>242.0</td>\n",
       "    </tr>\n",
       "    <tr>\n",
       "      <th>Qty_3766</th>\n",
       "      <td>241.0</td>\n",
       "      <td>227.0</td>\n",
       "    </tr>\n",
       "  </tbody>\n",
       "</table>\n",
       "</div>"
      ],
      "text/plain": [
       "           Estimated  Actual\n",
       "Qty_1195       223.0   195.0\n",
       "Qty_1230        19.0    17.0\n",
       "Qty_16019      210.0   210.0\n",
       "Qty_202       5193.0  4785.0\n",
       "Qty_2531       517.0   703.0\n",
       "Qty_2589       419.0   277.0\n",
       "Qty_3726       243.0   254.0\n",
       "Qty_3732       342.0   350.0\n",
       "Qty_3743       210.0   242.0\n",
       "Qty_3766       241.0   227.0"
      ]
     },
     "execution_count": 50,
     "metadata": {},
     "output_type": "execute_result"
    }
   ],
   "source": [
    "# Predict Sales Qty and Compare to Actual\n",
    "\n",
    "import requests\n",
    "import json\n",
    "\n",
    "url = 'https://fillet.azurewebsites.net/predict/'\n",
    "\n",
    "payload = {'prices': a_input, 'project_id': 12}\n",
    "\n",
    "headers = {'content-type': 'application/json', 'Accept-Charset': 'UTF-8'}\n",
    "\n",
    "payload = json.dumps(payload)\n",
    "r = requests.post(url, data=payload, headers=headers)\n",
    "qty = r.json()['qty_estimates']\n",
    "qty_outp = {}\n",
    "for key in qty.keys():\n",
    "    qty_outp[key] = round(qty[key], 0)\n",
    "actual = a[[\n",
    "    col for col in sales_data_wide_clean.columns if col.startswith('Qty_')\n",
    "]].iloc[0].to_dict()\n",
    "pd.DataFrame([qty_outp, actual], index=['Estimated', 'Actual']).transpose()"
   ]
  },
  {
   "cell_type": "code",
   "execution_count": null,
   "metadata": {},
   "outputs": [],
   "source": []
  }
 ],
 "metadata": {
  "kernelspec": {
   "display_name": "Python 3",
   "language": "python",
   "name": "python3"
  },
  "language_info": {
   "codemirror_mode": {
    "name": "ipython",
    "version": 3
   },
   "file_extension": ".py",
   "mimetype": "text/x-python",
   "name": "python",
   "nbconvert_exporter": "python",
   "pygments_lexer": "ipython3",
   "version": "3.7.6"
  },
  "toc": {
   "base_numbering": 1,
   "nav_menu": {},
   "number_sections": true,
   "sideBar": true,
   "skip_h1_title": false,
   "title_cell": "Table of Contents",
   "title_sidebar": "Contents",
   "toc_cell": false,
   "toc_position": {},
   "toc_section_display": true,
   "toc_window_display": false
  },
  "varInspector": {
   "cols": {
    "lenName": 16,
    "lenType": 16,
    "lenVar": 40
   },
   "kernels_config": {
    "python": {
     "delete_cmd_postfix": "",
     "delete_cmd_prefix": "del ",
     "library": "var_list.py",
     "varRefreshCmd": "print(var_dic_list())"
    },
    "r": {
     "delete_cmd_postfix": ") ",
     "delete_cmd_prefix": "rm(",
     "library": "var_list.r",
     "varRefreshCmd": "cat(var_dic_list()) "
    }
   },
   "types_to_exclude": [
    "module",
    "function",
    "builtin_function_or_method",
    "instance",
    "_Feature"
   ],
   "window_display": false
  }
 },
 "nbformat": 4,
 "nbformat_minor": 4
}
