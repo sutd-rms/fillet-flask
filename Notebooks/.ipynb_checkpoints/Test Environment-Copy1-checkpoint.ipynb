{
 "cells": [
  {
   "cell_type": "code",
   "execution_count": 1,
   "metadata": {
    "ExecuteTime": {
     "end_time": "2020-07-27T02:29:51.948046Z",
     "start_time": "2020-07-27T02:29:51.742113Z"
    }
   },
   "outputs": [],
   "source": [
    "import pandas as pd\n",
    "import numpy as np\n",
    "import pickle as p\n",
    "import time"
   ]
  },
  {
   "cell_type": "code",
   "execution_count": 19,
   "metadata": {
    "ExecuteTime": {
     "end_time": "2020-07-27T03:29:16.630030Z",
     "start_time": "2020-07-27T03:29:15.416392Z"
    }
   },
   "outputs": [],
   "source": [
    "data_all = pd.read_csv('../data_all.csv')\n",
    "\n",
    "# Test with Subset of Data\n",
    "np.random.seed(43)\n",
    "item_subset = list(np.random.choice(data_all['Item_ID'].unique(), size=10, replace=False))\n",
    "data_subset = data_all.loc[data_all['Item_ID'].isin(item_subset)].copy()\n",
    "\n",
    "# # Test with All Data\n",
    "# data_subset = data_all.copy()\n",
    "\n",
    "test_project_id = 'test_5'"
   ]
  },
  {
   "cell_type": "markdown",
   "metadata": {},
   "source": [
    "### `/train`"
   ]
  },
  {
   "cell_type": "code",
   "execution_count": 20,
   "metadata": {
    "ExecuteTime": {
     "end_time": "2020-07-27T03:29:33.093290Z",
     "start_time": "2020-07-27T03:29:23.002300Z"
    }
   },
   "outputs": [],
   "source": [
    "import requests\n",
    "import json\n",
    "from threading import Thread\n",
    "\n",
    "url = 'https://fillet.azurewebsites.net/train/'\n",
    "# url = 'http://localhost:5000/train/'\n",
    "\n",
    "data_subset.to_parquet('data_subset.parquet')\n",
    "files = {'data': open('data_subset.parquet', 'rb')}\n",
    "\n",
    "payload = {'cv_acc': True, 'project_id': test_project_id, 'modeltype': 'default'}\n",
    "\n",
    "Thread(target=requests.post,\n",
    "       args=(url, ),\n",
    "       kwargs={\n",
    "           'data': payload,\n",
    "           'files': files\n",
    "       }).start()\n",
    "\n",
    "time.sleep(10)\n",
    "files['data'].close()"
   ]
  },
  {
   "cell_type": "markdown",
   "metadata": {},
   "source": [
    "### `/query_progress`"
   ]
  },
  {
   "cell_type": "code",
   "execution_count": 21,
   "metadata": {
    "ExecuteTime": {
     "end_time": "2020-07-27T03:35:48.976649Z",
     "start_time": "2020-07-27T03:35:48.839597Z"
    }
   },
   "outputs": [
    {
     "name": "stdout",
     "output_type": "stream",
     "text": [
      "% Complete: 100.0\n",
      "CV % Complete: 100.0\n",
      "CV Done: 1\n"
     ]
    }
   ],
   "source": [
    "import requests\n",
    "import json\n",
    "\n",
    "url = 'https://fillet.azurewebsites.net/query_progress/'\n",
    "# url = 'http://localhost:5000/query_progress/'\n",
    "\n",
    "\n",
    "payload = {'project_id': test_project_id}\n",
    "\n",
    "headers = {'content-type': 'application/json',\n",
    "           'Accept-Charset': 'UTF-8'\n",
    "          }\n",
    "\n",
    "payload = json.dumps(payload)\n",
    "r = requests.post(url, data=payload,headers=headers,  timeout=3)\n",
    "\n",
    "print('% Complete:',round(r.json()['pct_complete'],3))\n",
    "print('CV % Complete:',round(r.json()['cv_progress'],3))\n",
    "print('CV Done:',r.json()['cv_done'])"
   ]
  },
  {
   "cell_type": "markdown",
   "metadata": {},
   "source": [
    "### `/batch_query_progress`"
   ]
  },
  {
   "cell_type": "code",
   "execution_count": 26,
   "metadata": {
    "ExecuteTime": {
     "end_time": "2020-07-25T07:12:00.059848Z",
     "start_time": "2020-07-25T07:11:59.889544Z"
    }
   },
   "outputs": [
    {
     "name": "stdout",
     "output_type": "stream",
     "text": [
      "{'aaaa': {'cv_done': 1, 'cv_progress': 100.0, 'fi_done': 0, 'pct_complete': 100.0, 'project_items': [2531, 202, 1195, 1230, 3726, 16019, 3732, 3766, 2589, 3743], 'train_complete': [2531, 202, 1195, 1230, 3726, 16019, 3732, 3766, 2589, 3743]}, 'bbbb': {'cv_done': 1, 'cv_progress': 100.0, 'fi_done': 0, 'pct_complete': 100.0, 'project_items': [2531, 202, 1195, 1230, 3726, 16019, 3732, 3766, 2589, 3743], 'train_complete': [2531, 202, 1195, 1230, 3726, 16019, 3732, 3766, 2589, 3743]}, 'cccc': {'cv_done': 1, 'cv_progress': 100.0, 'fi_done': 0, 'pct_complete': 100.0, 'project_items': [2531, 202, 1195, 1230, 3726, 16019, 3732, 3766, 2589, 3743], 'train_complete': [2531, 202, 1195, 1230, 3726, 16019, 3732, 3766, 2589, 3743]}, 'dddd': 'project not found', 'ffff': 'project not found', 'gggg': 'project not found'}\n"
     ]
    }
   ],
   "source": [
    "import requests\n",
    "import json\n",
    "\n",
    "url = 'https://fillet.azurewebsites.net/batch_query_progress/'\n",
    "# url = 'http://localhost:5000/batch_query_progress/'\n",
    "\n",
    "\n",
    "payload = {'project_id_ls': ['bbbb','aaaa','cccc','dddd','ffff','gggg']}\n",
    "\n",
    "headers = {'content-type': 'application/json',\n",
    "           'Accept-Charset': 'UTF-8'\n",
    "          }\n",
    "\n",
    "payload = json.dumps(payload)\n",
    "r = requests.post(url, data=payload,headers=headers,  timeout=3)\n",
    "\n",
    "print(r.json())"
   ]
  },
  {
   "cell_type": "markdown",
   "metadata": {},
   "source": [
    "### `/get_cv_results`"
   ]
  },
  {
   "cell_type": "code",
   "execution_count": 22,
   "metadata": {
    "ExecuteTime": {
     "end_time": "2020-07-27T03:35:55.334656Z",
     "start_time": "2020-07-27T03:35:55.196853Z"
    }
   },
   "outputs": [
    {
     "data": {
      "text/html": [
       "<div>\n",
       "<style scoped>\n",
       "    .dataframe tbody tr th:only-of-type {\n",
       "        vertical-align: middle;\n",
       "    }\n",
       "\n",
       "    .dataframe tbody tr th {\n",
       "        vertical-align: top;\n",
       "    }\n",
       "\n",
       "    .dataframe thead th {\n",
       "        text-align: right;\n",
       "    }\n",
       "</style>\n",
       "<table border=\"1\" class=\"dataframe\">\n",
       "  <thead>\n",
       "    <tr style=\"text-align: right;\">\n",
       "      <th></th>\n",
       "      <th>item_id</th>\n",
       "      <th>avg_sales</th>\n",
       "      <th>r2_score</th>\n",
       "      <th>mae_score</th>\n",
       "      <th>mpe_score</th>\n",
       "      <th>rmse_score</th>\n",
       "    </tr>\n",
       "  </thead>\n",
       "  <tbody>\n",
       "    <tr>\n",
       "      <th>0</th>\n",
       "      <td>3743.0</td>\n",
       "      <td>132.480972</td>\n",
       "      <td>0.817921</td>\n",
       "      <td>23.323702</td>\n",
       "      <td>0.176053</td>\n",
       "      <td>31.143002</td>\n",
       "    </tr>\n",
       "    <tr>\n",
       "      <th>1</th>\n",
       "      <td>1230.0</td>\n",
       "      <td>8.996674</td>\n",
       "      <td>0.438134</td>\n",
       "      <td>4.181039</td>\n",
       "      <td>0.464732</td>\n",
       "      <td>5.732625</td>\n",
       "    </tr>\n",
       "    <tr>\n",
       "      <th>2</th>\n",
       "      <td>3766.0</td>\n",
       "      <td>91.448227</td>\n",
       "      <td>0.778293</td>\n",
       "      <td>15.238964</td>\n",
       "      <td>0.166640</td>\n",
       "      <td>20.912381</td>\n",
       "    </tr>\n",
       "    <tr>\n",
       "      <th>3</th>\n",
       "      <td>2531.0</td>\n",
       "      <td>318.983582</td>\n",
       "      <td>0.496373</td>\n",
       "      <td>82.516815</td>\n",
       "      <td>0.258687</td>\n",
       "      <td>109.153951</td>\n",
       "    </tr>\n",
       "    <tr>\n",
       "      <th>4</th>\n",
       "      <td>202.0</td>\n",
       "      <td>2110.440186</td>\n",
       "      <td>0.783663</td>\n",
       "      <td>332.939138</td>\n",
       "      <td>0.157758</td>\n",
       "      <td>462.025116</td>\n",
       "    </tr>\n",
       "    <tr>\n",
       "      <th>5</th>\n",
       "      <td>2589.0</td>\n",
       "      <td>161.616043</td>\n",
       "      <td>0.703087</td>\n",
       "      <td>35.876050</td>\n",
       "      <td>0.221983</td>\n",
       "      <td>47.594348</td>\n",
       "    </tr>\n",
       "    <tr>\n",
       "      <th>6</th>\n",
       "      <td>3726.0</td>\n",
       "      <td>74.383606</td>\n",
       "      <td>0.663344</td>\n",
       "      <td>16.482786</td>\n",
       "      <td>0.221592</td>\n",
       "      <td>21.208354</td>\n",
       "    </tr>\n",
       "    <tr>\n",
       "      <th>7</th>\n",
       "      <td>3732.0</td>\n",
       "      <td>126.142509</td>\n",
       "      <td>0.669734</td>\n",
       "      <td>22.727081</td>\n",
       "      <td>0.180170</td>\n",
       "      <td>29.528547</td>\n",
       "    </tr>\n",
       "    <tr>\n",
       "      <th>8</th>\n",
       "      <td>1195.0</td>\n",
       "      <td>129.492813</td>\n",
       "      <td>0.601521</td>\n",
       "      <td>27.792955</td>\n",
       "      <td>0.214629</td>\n",
       "      <td>34.932227</td>\n",
       "    </tr>\n",
       "    <tr>\n",
       "      <th>9</th>\n",
       "      <td>16019.0</td>\n",
       "      <td>109.613182</td>\n",
       "      <td>0.663948</td>\n",
       "      <td>26.357253</td>\n",
       "      <td>0.240457</td>\n",
       "      <td>34.293778</td>\n",
       "    </tr>\n",
       "  </tbody>\n",
       "</table>\n",
       "</div>"
      ],
      "text/plain": [
       "   item_id    avg_sales  r2_score   mae_score  mpe_score  rmse_score\n",
       "0   3743.0   132.480972  0.817921   23.323702   0.176053   31.143002\n",
       "1   1230.0     8.996674  0.438134    4.181039   0.464732    5.732625\n",
       "2   3766.0    91.448227  0.778293   15.238964   0.166640   20.912381\n",
       "3   2531.0   318.983582  0.496373   82.516815   0.258687  109.153951\n",
       "4    202.0  2110.440186  0.783663  332.939138   0.157758  462.025116\n",
       "5   2589.0   161.616043  0.703087   35.876050   0.221983   47.594348\n",
       "6   3726.0    74.383606  0.663344   16.482786   0.221592   21.208354\n",
       "7   3732.0   126.142509  0.669734   22.727081   0.180170   29.528547\n",
       "8   1195.0   129.492813  0.601521   27.792955   0.214629   34.932227\n",
       "9  16019.0   109.613182  0.663948   26.357253   0.240457   34.293778"
      ]
     },
     "execution_count": 22,
     "metadata": {},
     "output_type": "execute_result"
    }
   ],
   "source": [
    "import requests\n",
    "import json\n",
    "\n",
    "url = 'https://fillet.azurewebsites.net/get_cv_results/'\n",
    "# url = 'http://localhost:5000/get_cv_results/'\n",
    "\n",
    "\n",
    "payload = {'project_id': test_project_id}\n",
    "\n",
    "headers = {'content-type': 'application/json',\n",
    "           'Accept-Charset': 'UTF-8'\n",
    "          }\n",
    "\n",
    "payload = json.dumps(payload)\n",
    "r = requests.post(url, data=payload,headers=headers,  timeout=5)\n",
    "pd.DataFrame().from_dict((json.loads(r.json())))"
   ]
  },
  {
   "cell_type": "code",
   "execution_count": 127,
   "metadata": {
    "ExecuteTime": {
     "end_time": "2020-07-14T12:50:16.929405Z",
     "start_time": "2020-07-14T12:50:16.924418Z"
    }
   },
   "outputs": [
    {
     "data": {
      "text/plain": [
       "{'status': 'incomplete'}"
      ]
     },
     "execution_count": 127,
     "metadata": {},
     "output_type": "execute_result"
    }
   ],
   "source": [
    "r.json()"
   ]
  },
  {
   "cell_type": "markdown",
   "metadata": {},
   "source": [
    "### `/optimize`"
   ]
  },
  {
   "cell_type": "code",
   "execution_count": null,
   "metadata": {
    "ExecuteTime": {
     "start_time": "2020-07-27T03:36:14.949Z"
    }
   },
   "outputs": [],
   "source": [
    "import json\n",
    "with open('constraints_2.json') as f:\n",
    "    constraints = json.load(f)\n",
    "    \n",
    "import requests\n",
    "import json\n",
    "url = 'https://fillet.azurewebsites.net/optimize/'\n",
    "# url = 'http://localhost:5000/optimize/'\n",
    "    \n",
    "payload = {'project_id': test_project_id,\n",
    "           'constraints': constraints, # two parts, first part constraint, second part price range limits\n",
    "           'population': 300,\n",
    "           'max_epoch': 20\n",
    "           }\n",
    "\n",
    "headers = {'content-type': 'application/json',\n",
    "           'Accept-Charset': 'UTF-8'\n",
    "          }\n",
    "\n",
    "payload = json.dumps(payload)\n",
    "r = requests.post(url, data=payload, headers=headers, timeout=5)"
   ]
  },
  {
   "cell_type": "code",
   "execution_count": 15,
   "metadata": {
    "ExecuteTime": {
     "end_time": "2020-07-27T03:01:11.045767Z",
     "start_time": "2020-07-27T03:01:11.040781Z"
    }
   },
   "outputs": [
    {
     "data": {
      "text/plain": [
       "[21071.37799638748, 0.0, 0.0]"
      ]
     },
     "execution_count": 15,
     "metadata": {},
     "output_type": "execute_result"
    }
   ],
   "source": [
    "best_prices = r.json()['report']\n",
    "best_prices"
   ]
  },
  {
   "cell_type": "markdown",
   "metadata": {},
   "source": [
    "### /get_opti_results"
   ]
  },
  {
   "cell_type": "code",
   "execution_count": 18,
   "metadata": {
    "ExecuteTime": {
     "end_time": "2020-07-27T03:12:33.966752Z",
     "start_time": "2020-07-27T03:12:31.934327Z"
    }
   },
   "outputs": [
    {
     "data": {
      "text/plain": [
       "{'price_cols': ['Price_202',\n",
       "  'Price_1195',\n",
       "  'Price_1230',\n",
       "  'Price_2531',\n",
       "  'Price_2589',\n",
       "  'Price_3726',\n",
       "  'Price_3732',\n",
       "  'Price_3743',\n",
       "  'Price_3766',\n",
       "  'Price_16019'],\n",
       " 'report': [20198.128542137147, 0.0, 0.0],\n",
       " 'report_info': ['estimated revenue of the optimized price',\n",
       "  'number of hard constraints (including price ranges) violated',\n",
       "  'number of soft constraints (preferences) violated'],\n",
       " 'result': [2.15,\n",
       "  3.55,\n",
       "  3.7421662414971113,\n",
       "  6.6,\n",
       "  11.1,\n",
       "  10.938662940022816,\n",
       "  12.55,\n",
       "  12.17143530454372,\n",
       "  10.3,\n",
       "  14.15]}"
      ]
     },
     "execution_count": 18,
     "metadata": {},
     "output_type": "execute_result"
    }
   ],
   "source": [
    "\n",
    "import requests\n",
    "import json\n",
    "\n",
    "# url = 'https://fillet.azurewebsites.net/get_cv_results/'\n",
    "url = 'http://localhost:5000/get_opti_results/'\n",
    "\n",
    "\n",
    "payload = {'project_id': test_project_id}\n",
    "\n",
    "headers = {'content-type': 'application/json',\n",
    "           'Accept-Charset': 'UTF-8'\n",
    "          }\n",
    "\n",
    "payload = json.dumps(payload)\n",
    "r = requests.post(url, data=payload,headers=headers,  timeout=5)\n",
    "r.json()\n",
    "\n",
    "\n",
    "\n",
    "\n"
   ]
  },
  {
   "cell_type": "markdown",
   "metadata": {},
   "source": [
    "### `/predict/`"
   ]
  },
  {
   "cell_type": "code",
   "execution_count": 38,
   "metadata": {
    "ExecuteTime": {
     "end_time": "2020-07-24T06:11:04.777740Z",
     "start_time": "2020-07-24T06:11:02.962750Z"
    }
   },
   "outputs": [],
   "source": [
    "# Sample Actual Price \n",
    "from helper_functions import *\n",
    "\n",
    "sales_data = data_subset\n",
    "\n",
    "sales_data = optimize_memory(sales_data)\n",
    "\n",
    "sales_data_wide = sales_data.set_index(\n",
    "    ['Wk', 'Tier', 'Store', 'Item_ID']).unstack(level=-1).reset_index().copy()\n",
    "sales_data_wide.columns = [\n",
    "    ''.join(str(i) for i in col).strip()\n",
    "    for col in sales_data_wide.columns.values\n",
    "]\n",
    "sales_data_wide = sales_data_wide.sort_values(\n",
    "    ['Tier', 'Store', 'Wk'], ascending=True).reset_index(drop=True)\n",
    "\n",
    "sales_data_wide_clean = sales_data_wide.dropna(axis=0).copy()\n",
    "dataset = sales_data_wide_clean\n",
    "price_columns = [\n",
    "    col for col in sales_data_wide_clean.columns if col.startswith('Price')\n",
    "]\n",
    "\n",
    "a = dataset.sample(1)\n",
    "a_dict = a[price_columns].iloc[0].to_dict()\n",
    "a_input = {}\n",
    "for key in a_dict.keys():\n",
    "    a_input[key.split('_')[1]]=round(a_dict[key],2)\n",
    "\n",
    "# print('Input Prices Quantities:')\n",
    "# a_input"
   ]
  },
  {
   "cell_type": "code",
   "execution_count": 40,
   "metadata": {
    "ExecuteTime": {
     "end_time": "2020-07-24T06:20:47.693411Z",
     "start_time": "2020-07-24T06:20:46.361184Z"
    }
   },
   "outputs": [
    {
     "data": {
      "text/html": [
       "<div>\n",
       "<style scoped>\n",
       "    .dataframe tbody tr th:only-of-type {\n",
       "        vertical-align: middle;\n",
       "    }\n",
       "\n",
       "    .dataframe tbody tr th {\n",
       "        vertical-align: top;\n",
       "    }\n",
       "\n",
       "    .dataframe thead th {\n",
       "        text-align: right;\n",
       "    }\n",
       "</style>\n",
       "<table border=\"1\" class=\"dataframe\">\n",
       "  <thead>\n",
       "    <tr style=\"text-align: right;\">\n",
       "      <th></th>\n",
       "      <th>Estimated</th>\n",
       "      <th>Actual</th>\n",
       "    </tr>\n",
       "  </thead>\n",
       "  <tbody>\n",
       "    <tr>\n",
       "      <th>Qty_102</th>\n",
       "      <td>219.0</td>\n",
       "      <td>225.0</td>\n",
       "    </tr>\n",
       "    <tr>\n",
       "      <th>Qty_1195</th>\n",
       "      <td>99.0</td>\n",
       "      <td>98.0</td>\n",
       "    </tr>\n",
       "    <tr>\n",
       "      <th>Qty_1221</th>\n",
       "      <td>240.0</td>\n",
       "      <td>217.0</td>\n",
       "    </tr>\n",
       "    <tr>\n",
       "      <th>Qty_1230</th>\n",
       "      <td>6.0</td>\n",
       "      <td>6.0</td>\n",
       "    </tr>\n",
       "    <tr>\n",
       "      <th>Qty_16017</th>\n",
       "      <td>20.0</td>\n",
       "      <td>17.0</td>\n",
       "    </tr>\n",
       "    <tr>\n",
       "      <th>Qty_16018</th>\n",
       "      <td>111.0</td>\n",
       "      <td>143.0</td>\n",
       "    </tr>\n",
       "    <tr>\n",
       "      <th>Qty_16019</th>\n",
       "      <td>137.0</td>\n",
       "      <td>164.0</td>\n",
       "    </tr>\n",
       "    <tr>\n",
       "      <th>Qty_201</th>\n",
       "      <td>40.0</td>\n",
       "      <td>43.0</td>\n",
       "    </tr>\n",
       "    <tr>\n",
       "      <th>Qty_202</th>\n",
       "      <td>2801.0</td>\n",
       "      <td>2949.0</td>\n",
       "    </tr>\n",
       "    <tr>\n",
       "      <th>Qty_204</th>\n",
       "      <td>17.0</td>\n",
       "      <td>17.0</td>\n",
       "    </tr>\n",
       "    <tr>\n",
       "      <th>Qty_2256</th>\n",
       "      <td>135.0</td>\n",
       "      <td>151.0</td>\n",
       "    </tr>\n",
       "    <tr>\n",
       "      <th>Qty_2257</th>\n",
       "      <td>32.0</td>\n",
       "      <td>36.0</td>\n",
       "    </tr>\n",
       "    <tr>\n",
       "      <th>Qty_2316</th>\n",
       "      <td>139.0</td>\n",
       "      <td>158.0</td>\n",
       "    </tr>\n",
       "    <tr>\n",
       "      <th>Qty_2521</th>\n",
       "      <td>276.0</td>\n",
       "      <td>208.0</td>\n",
       "    </tr>\n",
       "    <tr>\n",
       "      <th>Qty_2531</th>\n",
       "      <td>411.0</td>\n",
       "      <td>459.0</td>\n",
       "    </tr>\n",
       "    <tr>\n",
       "      <th>Qty_2581</th>\n",
       "      <td>243.0</td>\n",
       "      <td>246.0</td>\n",
       "    </tr>\n",
       "    <tr>\n",
       "      <th>Qty_2589</th>\n",
       "      <td>240.0</td>\n",
       "      <td>265.0</td>\n",
       "    </tr>\n",
       "    <tr>\n",
       "      <th>Qty_2701</th>\n",
       "      <td>636.0</td>\n",
       "      <td>685.0</td>\n",
       "    </tr>\n",
       "    <tr>\n",
       "      <th>Qty_2731</th>\n",
       "      <td>326.0</td>\n",
       "      <td>337.0</td>\n",
       "    </tr>\n",
       "    <tr>\n",
       "      <th>Qty_2867</th>\n",
       "      <td>1186.0</td>\n",
       "      <td>1145.0</td>\n",
       "    </tr>\n",
       "    <tr>\n",
       "      <th>Qty_3045</th>\n",
       "      <td>592.0</td>\n",
       "      <td>620.0</td>\n",
       "    </tr>\n",
       "    <tr>\n",
       "      <th>Qty_350</th>\n",
       "      <td>191.0</td>\n",
       "      <td>265.0</td>\n",
       "    </tr>\n",
       "    <tr>\n",
       "      <th>Qty_3726</th>\n",
       "      <td>80.0</td>\n",
       "      <td>90.0</td>\n",
       "    </tr>\n",
       "    <tr>\n",
       "      <th>Qty_3727</th>\n",
       "      <td>347.0</td>\n",
       "      <td>300.0</td>\n",
       "    </tr>\n",
       "    <tr>\n",
       "      <th>Qty_3728</th>\n",
       "      <td>349.0</td>\n",
       "      <td>350.0</td>\n",
       "    </tr>\n",
       "    <tr>\n",
       "      <th>Qty_3731</th>\n",
       "      <td>33.0</td>\n",
       "      <td>35.0</td>\n",
       "    </tr>\n",
       "    <tr>\n",
       "      <th>Qty_3732</th>\n",
       "      <td>219.0</td>\n",
       "      <td>210.0</td>\n",
       "    </tr>\n",
       "    <tr>\n",
       "      <th>Qty_3733</th>\n",
       "      <td>650.0</td>\n",
       "      <td>589.0</td>\n",
       "    </tr>\n",
       "    <tr>\n",
       "      <th>Qty_3743</th>\n",
       "      <td>138.0</td>\n",
       "      <td>146.0</td>\n",
       "    </tr>\n",
       "    <tr>\n",
       "      <th>Qty_3766</th>\n",
       "      <td>92.0</td>\n",
       "      <td>93.0</td>\n",
       "    </tr>\n",
       "    <tr>\n",
       "      <th>Qty_3768</th>\n",
       "      <td>286.0</td>\n",
       "      <td>255.0</td>\n",
       "    </tr>\n",
       "    <tr>\n",
       "      <th>Qty_3772</th>\n",
       "      <td>96.0</td>\n",
       "      <td>107.0</td>\n",
       "    </tr>\n",
       "    <tr>\n",
       "      <th>Qty_3773</th>\n",
       "      <td>66.0</td>\n",
       "      <td>70.0</td>\n",
       "    </tr>\n",
       "    <tr>\n",
       "      <th>Qty_3816</th>\n",
       "      <td>43.0</td>\n",
       "      <td>45.0</td>\n",
       "    </tr>\n",
       "    <tr>\n",
       "      <th>Qty_3821</th>\n",
       "      <td>15.0</td>\n",
       "      <td>13.0</td>\n",
       "    </tr>\n",
       "    <tr>\n",
       "      <th>Qty_4270</th>\n",
       "      <td>67.0</td>\n",
       "      <td>62.0</td>\n",
       "    </tr>\n",
       "    <tr>\n",
       "      <th>Qty_4272</th>\n",
       "      <td>74.0</td>\n",
       "      <td>75.0</td>\n",
       "    </tr>\n",
       "    <tr>\n",
       "      <th>Qty_4725</th>\n",
       "      <td>20.0</td>\n",
       "      <td>11.0</td>\n",
       "    </tr>\n",
       "    <tr>\n",
       "      <th>Qty_4978</th>\n",
       "      <td>125.0</td>\n",
       "      <td>114.0</td>\n",
       "    </tr>\n",
       "    <tr>\n",
       "      <th>Qty_5469</th>\n",
       "      <td>3.0</td>\n",
       "      <td>5.0</td>\n",
       "    </tr>\n",
       "    <tr>\n",
       "      <th>Qty_5501</th>\n",
       "      <td>558.0</td>\n",
       "      <td>781.0</td>\n",
       "    </tr>\n",
       "    <tr>\n",
       "      <th>Qty_5581</th>\n",
       "      <td>573.0</td>\n",
       "      <td>574.0</td>\n",
       "    </tr>\n",
       "    <tr>\n",
       "      <th>Qty_7008</th>\n",
       "      <td>889.0</td>\n",
       "      <td>991.0</td>\n",
       "    </tr>\n",
       "    <tr>\n",
       "      <th>Qty_7109</th>\n",
       "      <td>203.0</td>\n",
       "      <td>262.0</td>\n",
       "    </tr>\n",
       "    <tr>\n",
       "      <th>Qty_7114</th>\n",
       "      <td>24.0</td>\n",
       "      <td>15.0</td>\n",
       "    </tr>\n",
       "    <tr>\n",
       "      <th>Qty_7128</th>\n",
       "      <td>69.0</td>\n",
       "      <td>62.0</td>\n",
       "    </tr>\n",
       "    <tr>\n",
       "      <th>Qty_7157</th>\n",
       "      <td>21.0</td>\n",
       "      <td>10.0</td>\n",
       "    </tr>\n",
       "    <tr>\n",
       "      <th>Qty_7434</th>\n",
       "      <td>325.0</td>\n",
       "      <td>236.0</td>\n",
       "    </tr>\n",
       "    <tr>\n",
       "      <th>Qty_7575</th>\n",
       "      <td>108.0</td>\n",
       "      <td>146.0</td>\n",
       "    </tr>\n",
       "    <tr>\n",
       "      <th>Qty_7965</th>\n",
       "      <td>48.0</td>\n",
       "      <td>59.0</td>\n",
       "    </tr>\n",
       "  </tbody>\n",
       "</table>\n",
       "</div>"
      ],
      "text/plain": [
       "           Estimated  Actual\n",
       "Qty_102        219.0   225.0\n",
       "Qty_1195        99.0    98.0\n",
       "Qty_1221       240.0   217.0\n",
       "Qty_1230         6.0     6.0\n",
       "Qty_16017       20.0    17.0\n",
       "Qty_16018      111.0   143.0\n",
       "Qty_16019      137.0   164.0\n",
       "Qty_201         40.0    43.0\n",
       "Qty_202       2801.0  2949.0\n",
       "Qty_204         17.0    17.0\n",
       "Qty_2256       135.0   151.0\n",
       "Qty_2257        32.0    36.0\n",
       "Qty_2316       139.0   158.0\n",
       "Qty_2521       276.0   208.0\n",
       "Qty_2531       411.0   459.0\n",
       "Qty_2581       243.0   246.0\n",
       "Qty_2589       240.0   265.0\n",
       "Qty_2701       636.0   685.0\n",
       "Qty_2731       326.0   337.0\n",
       "Qty_2867      1186.0  1145.0\n",
       "Qty_3045       592.0   620.0\n",
       "Qty_350        191.0   265.0\n",
       "Qty_3726        80.0    90.0\n",
       "Qty_3727       347.0   300.0\n",
       "Qty_3728       349.0   350.0\n",
       "Qty_3731        33.0    35.0\n",
       "Qty_3732       219.0   210.0\n",
       "Qty_3733       650.0   589.0\n",
       "Qty_3743       138.0   146.0\n",
       "Qty_3766        92.0    93.0\n",
       "Qty_3768       286.0   255.0\n",
       "Qty_3772        96.0   107.0\n",
       "Qty_3773        66.0    70.0\n",
       "Qty_3816        43.0    45.0\n",
       "Qty_3821        15.0    13.0\n",
       "Qty_4270        67.0    62.0\n",
       "Qty_4272        74.0    75.0\n",
       "Qty_4725        20.0    11.0\n",
       "Qty_4978       125.0   114.0\n",
       "Qty_5469         3.0     5.0\n",
       "Qty_5501       558.0   781.0\n",
       "Qty_5581       573.0   574.0\n",
       "Qty_7008       889.0   991.0\n",
       "Qty_7109       203.0   262.0\n",
       "Qty_7114        24.0    15.0\n",
       "Qty_7128        69.0    62.0\n",
       "Qty_7157        21.0    10.0\n",
       "Qty_7434       325.0   236.0\n",
       "Qty_7575       108.0   146.0\n",
       "Qty_7965        48.0    59.0"
      ]
     },
     "execution_count": 40,
     "metadata": {},
     "output_type": "execute_result"
    }
   ],
   "source": [
    "# Predict Sales Qty and Compare to Actual\n",
    "\n",
    "import requests\n",
    "import json\n",
    "\n",
    "url = 'https://fillet.azurewebsites.net/predict/'\n",
    "# url = 'http://localhost:5000/predict/'\n",
    "\n",
    "payload = {'prices': a_input, 'project_id': test_project_id, 'modeltype': 'default'}\n",
    "\n",
    "headers = {'content-type': 'application/json', 'Accept-Charset': 'UTF-8'}\n",
    "\n",
    "payload = json.dumps(payload)\n",
    "r = requests.post(url, data=payload, headers=headers)\n",
    "qty = r.json()['qty_estimates']\n",
    "qty_outp = {}\n",
    "for key in qty.keys():\n",
    "    qty_outp[key] = round(qty[key], 0)\n",
    "actual = a[[\n",
    "    col for col in sales_data_wide_clean.columns if col.startswith('Qty_')\n",
    "]].iloc[0].to_dict()\n",
    "pd.DataFrame([qty_outp, actual], index=['Estimated', 'Actual']).transpose()"
   ]
  },
  {
   "cell_type": "markdown",
   "metadata": {},
   "source": [
    "### `/get_feature_importances`"
   ]
  },
  {
   "cell_type": "code",
   "execution_count": 53,
   "metadata": {
    "ExecuteTime": {
     "end_time": "2020-07-24T09:12:47.423116Z",
     "start_time": "2020-07-24T09:12:45.374166Z"
    }
   },
   "outputs": [
    {
     "data": {
      "text/html": [
       "<div>\n",
       "<style scoped>\n",
       "    .dataframe tbody tr th:only-of-type {\n",
       "        vertical-align: middle;\n",
       "    }\n",
       "\n",
       "    .dataframe tbody tr th {\n",
       "        vertical-align: top;\n",
       "    }\n",
       "\n",
       "    .dataframe thead th {\n",
       "        text-align: right;\n",
       "    }\n",
       "</style>\n",
       "<table border=\"1\" class=\"dataframe\">\n",
       "  <thead>\n",
       "    <tr style=\"text-align: right;\">\n",
       "      <th></th>\n",
       "      <th>feature_name</th>\n",
       "      <th>importance</th>\n",
       "    </tr>\n",
       "  </thead>\n",
       "  <tbody>\n",
       "    <tr>\n",
       "      <th>6</th>\n",
       "      <td>Price_3726</td>\n",
       "      <td>0.157354</td>\n",
       "    </tr>\n",
       "    <tr>\n",
       "      <th>3</th>\n",
       "      <td>Price_202</td>\n",
       "      <td>0.123959</td>\n",
       "    </tr>\n",
       "    <tr>\n",
       "      <th>4</th>\n",
       "      <td>Price_2531</td>\n",
       "      <td>0.117571</td>\n",
       "    </tr>\n",
       "    <tr>\n",
       "      <th>5</th>\n",
       "      <td>Price_2589</td>\n",
       "      <td>0.117251</td>\n",
       "    </tr>\n",
       "    <tr>\n",
       "      <th>1</th>\n",
       "      <td>Price_1230</td>\n",
       "      <td>0.104129</td>\n",
       "    </tr>\n",
       "    <tr>\n",
       "      <th>7</th>\n",
       "      <td>Price_3732</td>\n",
       "      <td>0.093999</td>\n",
       "    </tr>\n",
       "    <tr>\n",
       "      <th>9</th>\n",
       "      <td>Price_3766</td>\n",
       "      <td>0.093018</td>\n",
       "    </tr>\n",
       "    <tr>\n",
       "      <th>8</th>\n",
       "      <td>Price_3743</td>\n",
       "      <td>0.072451</td>\n",
       "    </tr>\n",
       "    <tr>\n",
       "      <th>0</th>\n",
       "      <td>Price_1195</td>\n",
       "      <td>0.060886</td>\n",
       "    </tr>\n",
       "    <tr>\n",
       "      <th>2</th>\n",
       "      <td>Price_16019</td>\n",
       "      <td>0.059381</td>\n",
       "    </tr>\n",
       "  </tbody>\n",
       "</table>\n",
       "</div>"
      ],
      "text/plain": [
       "  feature_name  importance\n",
       "6   Price_3726    0.157354\n",
       "3    Price_202    0.123959\n",
       "4   Price_2531    0.117571\n",
       "5   Price_2589    0.117251\n",
       "1   Price_1230    0.104129\n",
       "7   Price_3732    0.093999\n",
       "9   Price_3766    0.093018\n",
       "8   Price_3743    0.072451\n",
       "0   Price_1195    0.060886\n",
       "2  Price_16019    0.059381"
      ]
     },
     "execution_count": 53,
     "metadata": {},
     "output_type": "execute_result"
    }
   ],
   "source": [
    "import requests\n",
    "import json\n",
    "import pandas as pd\n",
    "\n",
    "# url = 'https://fillet.azurewebsites.net/get_feature_importances/'\n",
    "url = 'http://localhost:5000/get_feature_importances/'\n",
    "\n",
    "payload = {'project_id': test_project_id}\n",
    "\n",
    "headers = {'content-type': 'application/json',\n",
    "           'Accept-Charset': 'UTF-8'\n",
    "          }\n",
    "\n",
    "payload = json.dumps(payload)\n",
    "r = requests.post(url, data=payload,headers=headers,  timeout=240)\n",
    "pd.DataFrame(r.json()['202']).sort_values('importance', ascending=False)"
   ]
  },
  {
   "cell_type": "markdown",
   "metadata": {},
   "source": [
    "### /detect_conflict\n"
   ]
  },
  {
   "cell_type": "code",
   "execution_count": 3,
   "metadata": {
    "ExecuteTime": {
     "end_time": "2020-07-26T09:09:01.002283Z",
     "start_time": "2020-07-26T09:08:58.970102Z"
    }
   },
   "outputs": [],
   "source": [
    "import requests\n",
    "import json\n",
    "\n",
    "# url = 'https://fillet.azurewebsites.net/detect_conflict/'\n",
    "url = 'http://localhost:5000/detect_conflict/'\n",
    "with open('constraints_2.json') as f:\n",
    "    constraints = json.load(f)\n",
    "\n",
    "payload = {'constraints': constraints\n",
    "           }\n",
    "\n",
    "headers = {'content-type': 'application/json',\n",
    "           'Accept-Charset': 'UTF-8'\n",
    "          }\n",
    "\n",
    "payload = json.dumps(payload)\n",
    "r = requests.post(url, data=payload, headers=headers)"
   ]
  },
  {
   "cell_type": "code",
   "execution_count": 4,
   "metadata": {
    "ExecuteTime": {
     "end_time": "2020-07-26T09:09:01.015142Z",
     "start_time": "2020-07-26T09:09:01.010148Z"
    }
   },
   "outputs": [
    {
     "data": {
      "text/plain": [
       "{'conflict': 'No conflict'}"
      ]
     },
     "execution_count": 4,
     "metadata": {},
     "output_type": "execute_result"
    }
   ],
   "source": [
    "r.json()"
   ]
  },
  {
   "cell_type": "code",
   "execution_count": null,
   "metadata": {},
   "outputs": [],
   "source": []
  }
 ],
 "metadata": {
  "kernelspec": {
   "display_name": "Python 3",
   "language": "python",
   "name": "python3"
  },
  "language_info": {
   "codemirror_mode": {
    "name": "ipython",
    "version": 3
   },
   "file_extension": ".py",
   "mimetype": "text/x-python",
   "name": "python",
   "nbconvert_exporter": "python",
   "pygments_lexer": "ipython3",
   "version": "3.7.6"
  },
  "toc": {
   "base_numbering": 1,
   "nav_menu": {},
   "number_sections": true,
   "sideBar": true,
   "skip_h1_title": false,
   "title_cell": "Table of Contents",
   "title_sidebar": "Contents",
   "toc_cell": false,
   "toc_position": {},
   "toc_section_display": true,
   "toc_window_display": false
  },
  "varInspector": {
   "cols": {
    "lenName": 16,
    "lenType": 16,
    "lenVar": 40
   },
   "kernels_config": {
    "python": {
     "delete_cmd_postfix": "",
     "delete_cmd_prefix": "del ",
     "library": "var_list.py",
     "varRefreshCmd": "print(var_dic_list())"
    },
    "r": {
     "delete_cmd_postfix": ") ",
     "delete_cmd_prefix": "rm(",
     "library": "var_list.r",
     "varRefreshCmd": "cat(var_dic_list()) "
    }
   },
   "types_to_exclude": [
    "module",
    "function",
    "builtin_function_or_method",
    "instance",
    "_Feature"
   ],
   "window_display": false
  }
 },
 "nbformat": 4,
 "nbformat_minor": 4
}
