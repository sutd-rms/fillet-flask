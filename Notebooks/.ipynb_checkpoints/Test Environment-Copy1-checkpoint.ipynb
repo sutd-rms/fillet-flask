{
 "cells": [
  {
   "cell_type": "code",
   "execution_count": 45,
   "metadata": {
    "ExecuteTime": {
     "end_time": "2020-07-15T04:57:06.456174Z",
     "start_time": "2020-07-15T04:57:06.453174Z"
    }
   },
   "outputs": [],
   "source": [
    "import pandas as pd\n",
    "import numpy as np\n",
    "import pickle as p"
   ]
  },
  {
   "cell_type": "code",
   "execution_count": 61,
   "metadata": {
    "ExecuteTime": {
     "end_time": "2020-07-15T05:39:12.837644Z",
     "start_time": "2020-07-15T05:39:11.338168Z"
    }
   },
   "outputs": [],
   "source": [
    "data_all = pd.read_csv('../data_all.csv')\n",
    "\n",
    "# Test with Subset of Data\n",
    "np.random.seed(43)\n",
    "item_subset = list(np.random.choice(data_all['Item_ID'].unique(), size=153, replace=False))\n",
    "data_subset = data_all.loc[data_all['Item_ID'].isin(item_subset)].copy()\n",
    "\n",
    "# # Test with All Data\n",
    "# data_subset = data_all.copy()"
   ]
  },
  {
   "cell_type": "code",
   "execution_count": 62,
   "metadata": {
    "ExecuteTime": {
     "end_time": "2020-07-15T05:39:12.894583Z",
     "start_time": "2020-07-15T05:39:12.891605Z"
    },
    "scrolled": true
   },
   "outputs": [],
   "source": [
    "# item_subset"
   ]
  },
  {
   "cell_type": "code",
   "execution_count": null,
   "metadata": {},
   "outputs": [],
   "source": []
  },
  {
   "cell_type": "markdown",
   "metadata": {},
   "source": [
    "### `/train`"
   ]
  },
  {
   "cell_type": "code",
   "execution_count": 63,
   "metadata": {
    "ExecuteTime": {
     "end_time": "2020-07-15T05:39:12.950536Z",
     "start_time": "2020-07-15T05:39:12.947552Z"
    }
   },
   "outputs": [],
   "source": [
    "import time"
   ]
  },
  {
   "cell_type": "code",
   "execution_count": 64,
   "metadata": {
    "ExecuteTime": {
     "end_time": "2020-07-15T05:39:23.694970Z",
     "start_time": "2020-07-15T05:39:13.004392Z"
    }
   },
   "outputs": [],
   "source": [
    "import requests\n",
    "import json\n",
    "from threading import Thread\n",
    "\n",
    "url = 'https://fillet.azurewebsites.net/train/'\n",
    "# url = 'http://localhost:5000/train/'\n",
    "\n",
    "\n",
    "data_subset.to_parquet('data_subset.parquet')\n",
    "files = {'data': open('data_subset.parquet', 'rb')}\n",
    "\n",
    "payload = {'cv_acc': True, 'project_id': 13}\n",
    "\n",
    "Thread(target=requests.post, args=(url, ), kwargs={'data': payload, 'files': files}).start()\n",
    "\n",
    "time.sleep(10)\n",
    "files['data'].close()"
   ]
  },
  {
   "cell_type": "markdown",
   "metadata": {},
   "source": [
    "### `/query_progress`"
   ]
  },
  {
   "cell_type": "code",
   "execution_count": 68,
   "metadata": {
    "ExecuteTime": {
     "end_time": "2020-07-15T06:05:31.060187Z",
     "start_time": "2020-07-15T06:05:30.930939Z"
    }
   },
   "outputs": [
    {
     "name": "stdout",
     "output_type": "stream",
     "text": [
      "% Complete: 100.0\n",
      "CV % Complete: 8.5\n",
      "CV Done: 0\n"
     ]
    }
   ],
   "source": [
    "import requests\n",
    "import json\n",
    "\n",
    "url = 'https://fillet.azurewebsites.net/query_progress/'\n",
    "# url = 'http://localhost:5000/query_progress/'\n",
    "\n",
    "\n",
    "payload = {'project_id': 13}\n",
    "\n",
    "headers = {'content-type': 'application/json',\n",
    "           'Accept-Charset': 'UTF-8'\n",
    "          }\n",
    "\n",
    "payload = json.dumps(payload)\n",
    "r = requests.post(url, data=payload,headers=headers,  timeout=5)\n",
    "\n",
    "print('% Complete:',round(r.json()['pct_complete'],3))\n",
    "print('CV % Complete:',r.json()['cv_progress'])\n",
    "print('CV Done:',r.json()['cv_done'])"
   ]
  },
  {
   "cell_type": "code",
   "execution_count": null,
   "metadata": {
    "ExecuteTime": {
     "end_time": "2020-07-15T04:11:26.978530Z",
     "start_time": "2020-07-15T04:11:22.415Z"
    }
   },
   "outputs": [],
   "source": [
    "set(r.json()['project_items']) - set(r.json()['train_complete'])"
   ]
  },
  {
   "cell_type": "markdown",
   "metadata": {},
   "source": [
    "### `/get_cv_results`"
   ]
  },
  {
   "cell_type": "code",
   "execution_count": 69,
   "metadata": {
    "ExecuteTime": {
     "end_time": "2020-07-15T06:05:36.690040Z",
     "start_time": "2020-07-15T06:05:36.038867Z"
    }
   },
   "outputs": [
    {
     "data": {
      "text/html": [
       "<div>\n",
       "<style scoped>\n",
       "    .dataframe tbody tr th:only-of-type {\n",
       "        vertical-align: middle;\n",
       "    }\n",
       "\n",
       "    .dataframe tbody tr th {\n",
       "        vertical-align: top;\n",
       "    }\n",
       "\n",
       "    .dataframe thead th {\n",
       "        text-align: right;\n",
       "    }\n",
       "</style>\n",
       "<table border=\"1\" class=\"dataframe\">\n",
       "  <thead>\n",
       "    <tr style=\"text-align: right;\">\n",
       "      <th></th>\n",
       "      <th>item_id</th>\n",
       "      <th>avg_sales</th>\n",
       "      <th>r2_score</th>\n",
       "      <th>mae_score</th>\n",
       "      <th>mpe_score</th>\n",
       "      <th>rmse_score</th>\n",
       "    </tr>\n",
       "  </thead>\n",
       "  <tbody>\n",
       "    <tr>\n",
       "      <th>0</th>\n",
       "      <td>11.0</td>\n",
       "      <td>218.526474</td>\n",
       "      <td>0.814516</td>\n",
       "      <td>30.026220</td>\n",
       "      <td>0.137403</td>\n",
       "      <td>43.161980</td>\n",
       "    </tr>\n",
       "    <tr>\n",
       "      <th>1</th>\n",
       "      <td>12.0</td>\n",
       "      <td>303.203735</td>\n",
       "      <td>0.856261</td>\n",
       "      <td>40.979518</td>\n",
       "      <td>0.135155</td>\n",
       "      <td>60.735013</td>\n",
       "    </tr>\n",
       "    <tr>\n",
       "      <th>2</th>\n",
       "      <td>196.0</td>\n",
       "      <td>22.488817</td>\n",
       "      <td>-0.418934</td>\n",
       "      <td>8.586030</td>\n",
       "      <td>0.381791</td>\n",
       "      <td>11.313510</td>\n",
       "    </tr>\n",
       "    <tr>\n",
       "      <th>3</th>\n",
       "      <td>197.0</td>\n",
       "      <td>55.982059</td>\n",
       "      <td>-0.310180</td>\n",
       "      <td>17.922833</td>\n",
       "      <td>0.320153</td>\n",
       "      <td>22.067513</td>\n",
       "    </tr>\n",
       "    <tr>\n",
       "      <th>4</th>\n",
       "      <td>1.0</td>\n",
       "      <td>473.311096</td>\n",
       "      <td>0.880398</td>\n",
       "      <td>52.565481</td>\n",
       "      <td>0.111059</td>\n",
       "      <td>81.057081</td>\n",
       "    </tr>\n",
       "    <tr>\n",
       "      <th>5</th>\n",
       "      <td>200.0</td>\n",
       "      <td>24.670033</td>\n",
       "      <td>0.562171</td>\n",
       "      <td>8.423012</td>\n",
       "      <td>0.341427</td>\n",
       "      <td>11.047442</td>\n",
       "    </tr>\n",
       "    <tr>\n",
       "      <th>6</th>\n",
       "      <td>201.0</td>\n",
       "      <td>56.845173</td>\n",
       "      <td>0.822562</td>\n",
       "      <td>12.989436</td>\n",
       "      <td>0.228506</td>\n",
       "      <td>17.262122</td>\n",
       "    </tr>\n",
       "    <tr>\n",
       "      <th>7</th>\n",
       "      <td>202.0</td>\n",
       "      <td>2130.495117</td>\n",
       "      <td>0.896501</td>\n",
       "      <td>199.370163</td>\n",
       "      <td>0.093579</td>\n",
       "      <td>294.299662</td>\n",
       "    </tr>\n",
       "    <tr>\n",
       "      <th>8</th>\n",
       "      <td>203.0</td>\n",
       "      <td>17.917538</td>\n",
       "      <td>0.617749</td>\n",
       "      <td>5.731230</td>\n",
       "      <td>0.319867</td>\n",
       "      <td>7.496093</td>\n",
       "    </tr>\n",
       "    <tr>\n",
       "      <th>9</th>\n",
       "      <td>21.0</td>\n",
       "      <td>169.172928</td>\n",
       "      <td>0.886138</td>\n",
       "      <td>21.550283</td>\n",
       "      <td>0.127386</td>\n",
       "      <td>30.275190</td>\n",
       "    </tr>\n",
       "    <tr>\n",
       "      <th>10</th>\n",
       "      <td>22.0</td>\n",
       "      <td>173.296341</td>\n",
       "      <td>0.921073</td>\n",
       "      <td>19.956981</td>\n",
       "      <td>0.115161</td>\n",
       "      <td>28.394762</td>\n",
       "    </tr>\n",
       "    <tr>\n",
       "      <th>11</th>\n",
       "      <td>2.0</td>\n",
       "      <td>618.707153</td>\n",
       "      <td>0.908456</td>\n",
       "      <td>65.070554</td>\n",
       "      <td>0.105172</td>\n",
       "      <td>92.005725</td>\n",
       "    </tr>\n",
       "    <tr>\n",
       "      <th>12</th>\n",
       "      <td>31.0</td>\n",
       "      <td>45.567699</td>\n",
       "      <td>0.817130</td>\n",
       "      <td>9.009364</td>\n",
       "      <td>0.197714</td>\n",
       "      <td>12.384040</td>\n",
       "    </tr>\n",
       "  </tbody>\n",
       "</table>\n",
       "</div>"
      ],
      "text/plain": [
       "    item_id    avg_sales  r2_score   mae_score  mpe_score  rmse_score\n",
       "0      11.0   218.526474  0.814516   30.026220   0.137403   43.161980\n",
       "1      12.0   303.203735  0.856261   40.979518   0.135155   60.735013\n",
       "2     196.0    22.488817 -0.418934    8.586030   0.381791   11.313510\n",
       "3     197.0    55.982059 -0.310180   17.922833   0.320153   22.067513\n",
       "4       1.0   473.311096  0.880398   52.565481   0.111059   81.057081\n",
       "5     200.0    24.670033  0.562171    8.423012   0.341427   11.047442\n",
       "6     201.0    56.845173  0.822562   12.989436   0.228506   17.262122\n",
       "7     202.0  2130.495117  0.896501  199.370163   0.093579  294.299662\n",
       "8     203.0    17.917538  0.617749    5.731230   0.319867    7.496093\n",
       "9      21.0   169.172928  0.886138   21.550283   0.127386   30.275190\n",
       "10     22.0   173.296341  0.921073   19.956981   0.115161   28.394762\n",
       "11      2.0   618.707153  0.908456   65.070554   0.105172   92.005725\n",
       "12     31.0    45.567699  0.817130    9.009364   0.197714   12.384040"
      ]
     },
     "execution_count": 69,
     "metadata": {},
     "output_type": "execute_result"
    }
   ],
   "source": [
    "import requests\n",
    "import json\n",
    "\n",
    "url = 'https://fillet.azurewebsites.net/get_cv_results/'\n",
    "# url = 'http://localhost:5000/get_cv_results/'\n",
    "\n",
    "\n",
    "payload = {'project_id': 13}\n",
    "\n",
    "headers = {'content-type': 'application/json',\n",
    "           'Accept-Charset': 'UTF-8'\n",
    "          }\n",
    "\n",
    "payload = json.dumps(payload)\n",
    "r = requests.post(url, data=payload,headers=headers,  timeout=5)\n",
    "pd.DataFrame().from_dict((json.loads(r.json())))"
   ]
  },
  {
   "cell_type": "code",
   "execution_count": 127,
   "metadata": {
    "ExecuteTime": {
     "end_time": "2020-07-14T12:50:16.929405Z",
     "start_time": "2020-07-14T12:50:16.924418Z"
    }
   },
   "outputs": [
    {
     "data": {
      "text/plain": [
       "{'status': 'incomplete'}"
      ]
     },
     "execution_count": 127,
     "metadata": {},
     "output_type": "execute_result"
    }
   ],
   "source": [
    "r.json()"
   ]
  },
  {
   "cell_type": "markdown",
   "metadata": {},
   "source": [
    "### `/optimize`"
   ]
  },
  {
   "cell_type": "code",
   "execution_count": null,
   "metadata": {
    "ExecuteTime": {
     "end_time": "2020-07-06T10:51:53.277087Z",
     "start_time": "2020-07-06T10:51:51.493Z"
    }
   },
   "outputs": [],
   "source": [
    "url = 'http://localhost:5000/optimize/'\n",
    "\n",
    "payload = {'project_id': 1,\n",
    "           'constraints': [],\n",
    "           'population': 100,\n",
    "           'max_epoch': 200\n",
    "           }\n",
    "\n",
    "headers = {'content-type': 'application/json',\n",
    "           'Accept-Charset': 'UTF-8'\n",
    "          }\n",
    "\n",
    "payload = json.dumps(payload)\n",
    "r = requests.post(url, data=payload, headers=headers)"
   ]
  },
  {
   "cell_type": "code",
   "execution_count": null,
   "metadata": {
    "ExecuteTime": {
     "end_time": "2020-07-06T10:51:53.278090Z",
     "start_time": "2020-07-06T10:51:51.495Z"
    }
   },
   "outputs": [],
   "source": [
    "best_prices = r.json()['result']\n",
    "best_prices"
   ]
  },
  {
   "cell_type": "code",
   "execution_count": null,
   "metadata": {
    "ExecuteTime": {
     "end_time": "2020-07-06T10:51:53.279082Z",
     "start_time": "2020-07-06T10:51:51.496Z"
    }
   },
   "outputs": [],
   "source": [
    "import requests\n",
    "import json\n",
    "\n",
    "url = 'http://localhost:5000/predict/'\n",
    "payload = {'prices': best_prices,\n",
    "           'project_id': 1\n",
    "           }\n",
    "headers = {'content-type': 'application/json',\n",
    "           'Accept-Charset': 'UTF-8'\n",
    "          }\n",
    "payload = json.dumps(payload)\n",
    "r = requests.post(url, data=payload, headers=headers)\n",
    "\n",
    "# What If Prediction\n",
    "qty = r.json()['qty_estimates']"
   ]
  },
  {
   "cell_type": "code",
   "execution_count": null,
   "metadata": {
    "ExecuteTime": {
     "end_time": "2020-07-06T10:51:53.280079Z",
     "start_time": "2020-07-06T10:51:51.497Z"
    }
   },
   "outputs": [],
   "source": [
    "qty"
   ]
  },
  {
   "cell_type": "code",
   "execution_count": null,
   "metadata": {
    "ExecuteTime": {
     "end_time": "2020-07-06T10:51:53.280079Z",
     "start_time": "2020-07-06T10:51:51.498Z"
    }
   },
   "outputs": [],
   "source": [
    "# Calculate Revenue\n",
    "revenue = 0\n",
    "for item in best_prices.keys():\n",
    "    revenue += (best_prices[item]*qty['Qty_'+item])\n",
    "    \n",
    "print(revenue)"
   ]
  },
  {
   "cell_type": "markdown",
   "metadata": {},
   "source": [
    "### `/predict/`"
   ]
  },
  {
   "cell_type": "code",
   "execution_count": 60,
   "metadata": {
    "ExecuteTime": {
     "end_time": "2020-07-15T05:38:10.992534Z",
     "start_time": "2020-07-15T05:37:51.080671Z"
    }
   },
   "outputs": [
    {
     "name": "stdout",
     "output_type": "stream",
     "text": [
      "Input Prices Quantities:\n"
     ]
    },
    {
     "data": {
      "text/html": [
       "<div>\n",
       "<style scoped>\n",
       "    .dataframe tbody tr th:only-of-type {\n",
       "        vertical-align: middle;\n",
       "    }\n",
       "\n",
       "    .dataframe tbody tr th {\n",
       "        vertical-align: top;\n",
       "    }\n",
       "\n",
       "    .dataframe thead th {\n",
       "        text-align: right;\n",
       "    }\n",
       "</style>\n",
       "<table border=\"1\" class=\"dataframe\">\n",
       "  <thead>\n",
       "    <tr style=\"text-align: right;\">\n",
       "      <th></th>\n",
       "      <th>Estimated</th>\n",
       "      <th>Actual</th>\n",
       "    </tr>\n",
       "  </thead>\n",
       "  <tbody>\n",
       "    <tr>\n",
       "      <th>Qty_1004</th>\n",
       "      <td>4010.0</td>\n",
       "      <td>3189.0</td>\n",
       "    </tr>\n",
       "    <tr>\n",
       "      <th>Qty_102</th>\n",
       "      <td>249.0</td>\n",
       "      <td>183.0</td>\n",
       "    </tr>\n",
       "    <tr>\n",
       "      <th>Qty_11</th>\n",
       "      <td>273.0</td>\n",
       "      <td>229.0</td>\n",
       "    </tr>\n",
       "    <tr>\n",
       "      <th>Qty_1152</th>\n",
       "      <td>115.0</td>\n",
       "      <td>101.0</td>\n",
       "    </tr>\n",
       "    <tr>\n",
       "      <th>Qty_1195</th>\n",
       "      <td>129.0</td>\n",
       "      <td>119.0</td>\n",
       "    </tr>\n",
       "    <tr>\n",
       "      <th>...</th>\n",
       "      <td>...</td>\n",
       "      <td>...</td>\n",
       "    </tr>\n",
       "    <tr>\n",
       "      <th>Qty_7434</th>\n",
       "      <td>206.0</td>\n",
       "      <td>148.0</td>\n",
       "    </tr>\n",
       "    <tr>\n",
       "      <th>Qty_7575</th>\n",
       "      <td>107.0</td>\n",
       "      <td>69.0</td>\n",
       "    </tr>\n",
       "    <tr>\n",
       "      <th>Qty_7965</th>\n",
       "      <td>46.0</td>\n",
       "      <td>51.0</td>\n",
       "    </tr>\n",
       "    <tr>\n",
       "      <th>Qty_7966</th>\n",
       "      <td>146.0</td>\n",
       "      <td>160.0</td>\n",
       "    </tr>\n",
       "    <tr>\n",
       "      <th>Qty_7967</th>\n",
       "      <td>148.0</td>\n",
       "      <td>127.0</td>\n",
       "    </tr>\n",
       "  </tbody>\n",
       "</table>\n",
       "<p>100 rows × 2 columns</p>\n",
       "</div>"
      ],
      "text/plain": [
       "          Estimated  Actual\n",
       "Qty_1004     4010.0  3189.0\n",
       "Qty_102       249.0   183.0\n",
       "Qty_11        273.0   229.0\n",
       "Qty_1152      115.0   101.0\n",
       "Qty_1195      129.0   119.0\n",
       "...             ...     ...\n",
       "Qty_7434      206.0   148.0\n",
       "Qty_7575      107.0    69.0\n",
       "Qty_7965       46.0    51.0\n",
       "Qty_7966      146.0   160.0\n",
       "Qty_7967      148.0   127.0\n",
       "\n",
       "[100 rows x 2 columns]"
      ]
     },
     "execution_count": 60,
     "metadata": {},
     "output_type": "execute_result"
    }
   ],
   "source": [
    "# Sample Actual Price \n",
    "from helper_functions import *\n",
    "\n",
    "sales_data = data_subset\n",
    "\n",
    "sales_data = optimize_memory(sales_data)\n",
    "\n",
    "sales_data_wide = sales_data.set_index(\n",
    "    ['Wk', 'Tier', 'Store', 'Item_ID']).unstack(level=-1).reset_index().copy()\n",
    "sales_data_wide.columns = [\n",
    "    ''.join(str(i) for i in col).strip()\n",
    "    for col in sales_data_wide.columns.values\n",
    "]\n",
    "sales_data_wide = sales_data_wide.sort_values(\n",
    "    ['Tier', 'Store', 'Wk'], ascending=True).reset_index(drop=True)\n",
    "\n",
    "sales_data_wide_clean = sales_data_wide.dropna(axis=0).copy()\n",
    "dataset = sales_data_wide_clean\n",
    "price_columns = [\n",
    "    col for col in sales_data_wide_clean.columns if col.startswith('Price')\n",
    "]\n",
    "\n",
    "a = dataset.sample(1)\n",
    "a_dict = a[price_columns].iloc[0].to_dict()\n",
    "a_input = {}\n",
    "for key in a_dict.keys():\n",
    "    a_input[key.split('_')[1]]=round(a_dict[key],2)\n",
    "\n",
    "print('Input Prices Quantities:')\n",
    "# a_input\n",
    "\n",
    "\n",
    "# Predict Sales Qty and Compare to Actual\n",
    "\n",
    "import requests\n",
    "import json\n",
    "\n",
    "url = 'https://fillet.azurewebsites.net/predict/'\n",
    "# url = 'http://localhost:5000/predict/'\n",
    "\n",
    "payload = {'prices': a_input, 'project_id': 13}\n",
    "\n",
    "headers = {'content-type': 'application/json', 'Accept-Charset': 'UTF-8'}\n",
    "\n",
    "payload = json.dumps(payload)\n",
    "r = requests.post(url, data=payload, headers=headers)\n",
    "qty = r.json()['qty_estimates']\n",
    "qty_outp = {}\n",
    "for key in qty.keys():\n",
    "    qty_outp[key] = round(qty[key], 0)\n",
    "actual = a[[\n",
    "    col for col in sales_data_wide_clean.columns if col.startswith('Qty_')\n",
    "]].iloc[0].to_dict()\n",
    "pd.DataFrame([qty_outp, actual], index=['Estimated', 'Actual']).transpose()"
   ]
  },
  {
   "cell_type": "code",
   "execution_count": null,
   "metadata": {},
   "outputs": [],
   "source": []
  }
 ],
 "metadata": {
  "kernelspec": {
   "display_name": "Python 3",
   "language": "python",
   "name": "python3"
  },
  "language_info": {
   "codemirror_mode": {
    "name": "ipython",
    "version": 3
   },
   "file_extension": ".py",
   "mimetype": "text/x-python",
   "name": "python",
   "nbconvert_exporter": "python",
   "pygments_lexer": "ipython3",
   "version": "3.7.6"
  },
  "toc": {
   "base_numbering": 1,
   "nav_menu": {},
   "number_sections": true,
   "sideBar": true,
   "skip_h1_title": false,
   "title_cell": "Table of Contents",
   "title_sidebar": "Contents",
   "toc_cell": false,
   "toc_position": {},
   "toc_section_display": true,
   "toc_window_display": false
  },
  "varInspector": {
   "cols": {
    "lenName": 16,
    "lenType": 16,
    "lenVar": 40
   },
   "kernels_config": {
    "python": {
     "delete_cmd_postfix": "",
     "delete_cmd_prefix": "del ",
     "library": "var_list.py",
     "varRefreshCmd": "print(var_dic_list())"
    },
    "r": {
     "delete_cmd_postfix": ") ",
     "delete_cmd_prefix": "rm(",
     "library": "var_list.r",
     "varRefreshCmd": "cat(var_dic_list()) "
    }
   },
   "types_to_exclude": [
    "module",
    "function",
    "builtin_function_or_method",
    "instance",
    "_Feature"
   ],
   "window_display": false
  }
 },
 "nbformat": 4,
 "nbformat_minor": 4
}
