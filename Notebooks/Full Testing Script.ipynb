{
 "cells": [
  {
   "cell_type": "code",
   "execution_count": null,
   "metadata": {},
   "outputs": [],
   "source": [
    "import pandas as pd\n",
    "import numpy as np\n",
    "import pickle as p\n",
    "import time\n",
    "import requests\n",
    "import json\n",
    "from threading import Thread\n",
    "\n",
    "# Start with this (use a different one for each test)\n",
    "test_project_id = 'test_6'\n",
    "\n",
    "url_head = 'https://fillet.azurewebsites.net/'\n",
    "url_head = 'http://localhost:5000/train/'\n",
    "\n",
    "data_all = pd.read_csv('../data_all.csv')\n",
    "\n",
    "# Test with Subset of Data\n",
    "np.random.seed(43)\n",
    "item_subset = list(np.random.choice(data_all['Item_ID'].unique(), size=10, replace=False))\n",
    "data_subset = data_all.loc[data_all['Item_ID'].isin(item_subset)].copy()\n",
    "\n",
    "# # Test with All Data\n",
    "# data_subset = data_all.copy()\n",
    "\n",
    "# <-------------------------- TRAIN --------------------------->\n",
    "\n",
    "url = url_head+'train/'\n",
    "data_subset.to_parquet('data_subset.parquet')\n",
    "files = {'data': open('data_subset.parquet', 'rb')}\n",
    "payload = {'cv_acc': True, 'project_id': test_project_id, 'modeltype': 'default'}\n",
    "\n",
    "Thread(target=requests.post,\n",
    "       args=(url, ),\n",
    "       kwargs={\n",
    "           'data': payload,\n",
    "           'files': files\n",
    "       }).start()\n",
    "\n",
    "# give time to startup training\n",
    "time.sleep(30)\n",
    "files['data'].close()\n",
    "\n",
    "# <-------------------------- QUERY PROGRESS --------------------------->\n",
    "\n",
    "\n",
    "url = url_head+'query_progress/'\n",
    "payload = {'project_id': test_project_id}\n",
    "headers = {'content-type': 'application/json',\n",
    "           'Accept-Charset': 'UTF-8'\n",
    "          }\n",
    "\n",
    "payload = json.dumps(payload)\n",
    "r = requests.post(url, data=payload,headers=headers,  timeout=3)\n",
    "\n",
    "print('% Complete:',round(r.json()['pct_complete'],3))\n",
    "print('CV % Complete:',round(r.json()['cv_progress'],3))\n",
    "print('CV Done:',r.json()['cv_done'])\n",
    "\n",
    "\n",
    "while True:\n",
    "    try:\n",
    "        assert round(r.json()['pct_complete'],3) == 100.0\n",
    "        break\n",
    "    except:\n",
    "        continue\n",
    "    \n",
    "\n"
   ]
  }
 ],
 "metadata": {
  "kernelspec": {
   "display_name": "Python 3",
   "language": "python",
   "name": "python3"
  },
  "language_info": {
   "codemirror_mode": {
    "name": "ipython",
    "version": 3
   },
   "file_extension": ".py",
   "mimetype": "text/x-python",
   "name": "python",
   "nbconvert_exporter": "python",
   "pygments_lexer": "ipython3",
   "version": "3.7.6"
  },
  "toc": {
   "base_numbering": 1,
   "nav_menu": {},
   "number_sections": true,
   "sideBar": true,
   "skip_h1_title": false,
   "title_cell": "Table of Contents",
   "title_sidebar": "Contents",
   "toc_cell": false,
   "toc_position": {},
   "toc_section_display": true,
   "toc_window_display": false
  },
  "varInspector": {
   "cols": {
    "lenName": 16,
    "lenType": 16,
    "lenVar": 40
   },
   "kernels_config": {
    "python": {
     "delete_cmd_postfix": "",
     "delete_cmd_prefix": "del ",
     "library": "var_list.py",
     "varRefreshCmd": "print(var_dic_list())"
    },
    "r": {
     "delete_cmd_postfix": ") ",
     "delete_cmd_prefix": "rm(",
     "library": "var_list.r",
     "varRefreshCmd": "cat(var_dic_list()) "
    }
   },
   "types_to_exclude": [
    "module",
    "function",
    "builtin_function_or_method",
    "instance",
    "_Feature"
   ],
   "window_display": false
  }
 },
 "nbformat": 4,
 "nbformat_minor": 4
}
