{
 "cells": [
  {
   "cell_type": "code",
   "execution_count": 191,
   "metadata": {
    "ExecuteTime": {
     "end_time": "2020-07-13T13:09:00.990986Z",
     "start_time": "2020-07-13T13:09:00.986995Z"
    }
   },
   "outputs": [],
   "source": [
    "import pandas as pd\n",
    "import numpy as np\n",
    "import pickle as p"
   ]
  },
  {
   "cell_type": "code",
   "execution_count": 192,
   "metadata": {
    "ExecuteTime": {
     "end_time": "2020-07-13T13:09:02.660895Z",
     "start_time": "2020-07-13T13:09:01.176434Z"
    }
   },
   "outputs": [],
   "source": [
    "data_all = pd.read_csv('../data_all.csv')\n",
    "\n",
    "# Test with Subset of Data\n",
    "np.random.seed(43)\n",
    "item_subset = list(np.random.choice(data_all['Item_ID'].unique(), size=100, replace=False))\n",
    "data_subset = data_all.loc[data_all['Item_ID'].isin(item_subset)].copy()\n",
    "\n",
    "# # Test with All Data\n",
    "# data_subset = data_all.copy()"
   ]
  },
  {
   "cell_type": "code",
   "execution_count": 193,
   "metadata": {
    "ExecuteTime": {
     "end_time": "2020-07-13T13:09:02.769987Z",
     "start_time": "2020-07-13T13:09:02.766995Z"
    },
    "scrolled": true
   },
   "outputs": [],
   "source": [
    "# item_subset"
   ]
  },
  {
   "cell_type": "code",
   "execution_count": null,
   "metadata": {},
   "outputs": [],
   "source": []
  },
  {
   "cell_type": "markdown",
   "metadata": {},
   "source": [
    "### `/train`"
   ]
  },
  {
   "cell_type": "code",
   "execution_count": 194,
   "metadata": {
    "ExecuteTime": {
     "end_time": "2020-07-13T13:09:02.878696Z",
     "start_time": "2020-07-13T13:09:02.875704Z"
    }
   },
   "outputs": [],
   "source": [
    "import time"
   ]
  },
  {
   "cell_type": "code",
   "execution_count": 195,
   "metadata": {
    "ExecuteTime": {
     "end_time": "2020-07-13T13:09:13.487050Z",
     "start_time": "2020-07-13T13:09:02.988403Z"
    }
   },
   "outputs": [],
   "source": [
    "import requests\n",
    "import json\n",
    "from threading import Thread\n",
    "\n",
    "url = 'https://fillet.azurewebsites.net/train/'\n",
    "\n",
    "data_subset.to_parquet('data_subset.parquet')\n",
    "files = {'data': open('data_subset.parquet', 'rb')}\n",
    "\n",
    "payload = {'cv_acc': True, 'project_id': 3}\n",
    "\n",
    "Thread(target=requests.post, args=(url, ), kwargs={'data': payload, 'files': files}).start()\n",
    "\n",
    "time.sleep(10)\n",
    "files['data'].close()"
   ]
  },
  {
   "cell_type": "markdown",
   "metadata": {},
   "source": [
    "### `/query_progress`"
   ]
  },
  {
   "cell_type": "code",
   "execution_count": 201,
   "metadata": {
    "ExecuteTime": {
     "end_time": "2020-07-13T13:53:23.683448Z",
     "start_time": "2020-07-13T13:53:23.537582Z"
    }
   },
   "outputs": [
    {
     "name": "stdout",
     "output_type": "stream",
     "text": [
      "% Complete: 100.0\n",
      "CV Done: 0\n"
     ]
    }
   ],
   "source": [
    "import requests\n",
    "import json\n",
    "\n",
    "url = 'https://fillet.azurewebsites.net/query_progress/'\n",
    "\n",
    "\n",
    "payload = {'project_id': 3}\n",
    "\n",
    "headers = {'content-type': 'application/json',\n",
    "           'Accept-Charset': 'UTF-8'\n",
    "          }\n",
    "\n",
    "payload = json.dumps(payload)\n",
    "r = requests.post(url, data=payload,headers=headers,  timeout=1200)\n",
    "\n",
    "print('% Complete:',round(r.json()['pct_complete'],3))\n",
    "print('CV Done:',r.json()['cv_done'])"
   ]
  },
  {
   "cell_type": "markdown",
   "metadata": {},
   "source": [
    "### `/get_cv_results`"
   ]
  },
  {
   "cell_type": "code",
   "execution_count": 196,
   "metadata": {
    "ExecuteTime": {
     "end_time": "2020-07-13T13:22:00.074846Z",
     "start_time": "2020-07-13T13:21:59.852428Z"
    }
   },
   "outputs": [
    {
     "ename": "TypeError",
     "evalue": "the JSON object must be str, bytes or bytearray, not dict",
     "output_type": "error",
     "traceback": [
      "\u001b[1;31m---------------------------------------------------------------------------\u001b[0m",
      "\u001b[1;31mTypeError\u001b[0m                                 Traceback (most recent call last)",
      "\u001b[1;32m<ipython-input-196-e4a2a809d6a2>\u001b[0m in \u001b[0;36m<module>\u001b[1;34m\u001b[0m\n\u001b[0;32m     13\u001b[0m \u001b[0mpayload\u001b[0m \u001b[1;33m=\u001b[0m \u001b[0mjson\u001b[0m\u001b[1;33m.\u001b[0m\u001b[0mdumps\u001b[0m\u001b[1;33m(\u001b[0m\u001b[0mpayload\u001b[0m\u001b[1;33m)\u001b[0m\u001b[1;33m\u001b[0m\u001b[1;33m\u001b[0m\u001b[0m\n\u001b[0;32m     14\u001b[0m \u001b[0mr\u001b[0m \u001b[1;33m=\u001b[0m \u001b[0mrequests\u001b[0m\u001b[1;33m.\u001b[0m\u001b[0mpost\u001b[0m\u001b[1;33m(\u001b[0m\u001b[0murl\u001b[0m\u001b[1;33m,\u001b[0m \u001b[0mdata\u001b[0m\u001b[1;33m=\u001b[0m\u001b[0mpayload\u001b[0m\u001b[1;33m,\u001b[0m\u001b[0mheaders\u001b[0m\u001b[1;33m=\u001b[0m\u001b[0mheaders\u001b[0m\u001b[1;33m,\u001b[0m  \u001b[0mtimeout\u001b[0m\u001b[1;33m=\u001b[0m\u001b[1;36m1200\u001b[0m\u001b[1;33m)\u001b[0m\u001b[1;33m\u001b[0m\u001b[1;33m\u001b[0m\u001b[0m\n\u001b[1;32m---> 15\u001b[1;33m \u001b[0mpd\u001b[0m\u001b[1;33m.\u001b[0m\u001b[0mDataFrame\u001b[0m\u001b[1;33m(\u001b[0m\u001b[1;33m)\u001b[0m\u001b[1;33m.\u001b[0m\u001b[0mfrom_dict\u001b[0m\u001b[1;33m(\u001b[0m\u001b[1;33m(\u001b[0m\u001b[0mjson\u001b[0m\u001b[1;33m.\u001b[0m\u001b[0mloads\u001b[0m\u001b[1;33m(\u001b[0m\u001b[0mr\u001b[0m\u001b[1;33m.\u001b[0m\u001b[0mjson\u001b[0m\u001b[1;33m(\u001b[0m\u001b[1;33m)\u001b[0m\u001b[1;33m)\u001b[0m\u001b[1;33m)\u001b[0m\u001b[1;33m)\u001b[0m\u001b[1;33m\u001b[0m\u001b[1;33m\u001b[0m\u001b[0m\n\u001b[0m",
      "\u001b[1;32mE:\\Anaconda3\\lib\\json\\__init__.py\u001b[0m in \u001b[0;36mloads\u001b[1;34m(s, encoding, cls, object_hook, parse_float, parse_int, parse_constant, object_pairs_hook, **kw)\u001b[0m\n\u001b[0;32m    339\u001b[0m     \u001b[1;32melse\u001b[0m\u001b[1;33m:\u001b[0m\u001b[1;33m\u001b[0m\u001b[1;33m\u001b[0m\u001b[0m\n\u001b[0;32m    340\u001b[0m         \u001b[1;32mif\u001b[0m \u001b[1;32mnot\u001b[0m \u001b[0misinstance\u001b[0m\u001b[1;33m(\u001b[0m\u001b[0ms\u001b[0m\u001b[1;33m,\u001b[0m \u001b[1;33m(\u001b[0m\u001b[0mbytes\u001b[0m\u001b[1;33m,\u001b[0m \u001b[0mbytearray\u001b[0m\u001b[1;33m)\u001b[0m\u001b[1;33m)\u001b[0m\u001b[1;33m:\u001b[0m\u001b[1;33m\u001b[0m\u001b[1;33m\u001b[0m\u001b[0m\n\u001b[1;32m--> 341\u001b[1;33m             raise TypeError(f'the JSON object must be str, bytes or bytearray, '\n\u001b[0m\u001b[0;32m    342\u001b[0m                             f'not {s.__class__.__name__}')\n\u001b[0;32m    343\u001b[0m         \u001b[0ms\u001b[0m \u001b[1;33m=\u001b[0m \u001b[0ms\u001b[0m\u001b[1;33m.\u001b[0m\u001b[0mdecode\u001b[0m\u001b[1;33m(\u001b[0m\u001b[0mdetect_encoding\u001b[0m\u001b[1;33m(\u001b[0m\u001b[0ms\u001b[0m\u001b[1;33m)\u001b[0m\u001b[1;33m,\u001b[0m \u001b[1;34m'surrogatepass'\u001b[0m\u001b[1;33m)\u001b[0m\u001b[1;33m\u001b[0m\u001b[1;33m\u001b[0m\u001b[0m\n",
      "\u001b[1;31mTypeError\u001b[0m: the JSON object must be str, bytes or bytearray, not dict"
     ]
    }
   ],
   "source": [
    "import requests\n",
    "import json\n",
    "\n",
    "url = 'https://fillet.azurewebsites.net/get_cv_results/'\n",
    "\n",
    "\n",
    "payload = {'project_id': 3}\n",
    "\n",
    "headers = {'content-type': 'application/json',\n",
    "           'Accept-Charset': 'UTF-8'\n",
    "          }\n",
    "\n",
    "payload = json.dumps(payload)\n",
    "r = requests.post(url, data=payload,headers=headers,  timeout=1200)\n",
    "pd.DataFrame().from_dict((json.loads(r.json())))"
   ]
  },
  {
   "cell_type": "code",
   "execution_count": 188,
   "metadata": {
    "ExecuteTime": {
     "end_time": "2020-07-13T12:58:58.202860Z",
     "start_time": "2020-07-13T12:58:58.198871Z"
    }
   },
   "outputs": [
    {
     "data": {
      "text/plain": [
       "'{\"item_id\":{\"0\":3821.0,\"1\":7157.0,\"2\":4725.0,\"3\":7965.0,\"4\":5501.0,\"5\":4270.0,\"6\":3816.0,\"7\":204.0,\"8\":3768.0,\"9\":16017.0,\"10\":3731.0,\"11\":2581.0,\"12\":2531.0,\"13\":7114.0,\"14\":5469.0,\"15\":3743.0,\"16\":2867.0,\"17\":16018.0,\"18\":2701.0,\"19\":201.0,\"20\":4978.0,\"21\":7128.0,\"22\":3732.0,\"23\":7109.0,\"24\":3772.0,\"25\":3726.0,\"26\":7575.0,\"27\":7434.0,\"28\":2521.0,\"29\":3766.0,\"30\":202.0,\"31\":3733.0,\"32\":2731.0,\"33\":2589.0,\"34\":3727.0,\"35\":1195.0,\"36\":3728.0,\"37\":2316.0,\"38\":7008.0,\"39\":350.0,\"40\":1221.0,\"41\":5581.0,\"42\":16019.0,\"43\":4272.0,\"44\":2256.0,\"45\":1230.0,\"46\":3773.0,\"47\":2257.0,\"48\":3045.0,\"49\":102.0},\"avg_sales\":{\"0\":19.5379333496,\"1\":12.5704746246,\"2\":15.5809736252,\"3\":38.1437644958,\"4\":468.8437194824,\"5\":45.5170135498,\"6\":47.339138031,\"7\":27.3373699188,\"8\":257.9417114258,\"9\":17.3660087585,\"10\":19.2884159088,\"11\":256.5289916992,\"12\":321.2454833984,\"13\":23.6277160645,\"14\":27.6312141418,\"15\":134.0812072754,\"16\":948.2962036133,\"17\":84.9915161133,\"18\":487.2629089355,\"19\":56.8451728821,\"20\":107.2932434082,\"21\":48.0506019592,\"22\":127.3925552368,\"23\":183.3836669922,\"24\":94.7318572998,\"25\":74.9398193359,\"26\":108.7459793091,\"27\":156.6660919189,\"28\":226.5835418701,\"29\":92.0511245728,\"30\":2130.4951171875,\"31\":395.8132324219,\"32\":255.9302520752,\"33\":163.5017242432,\"34\":296.8196716309,\"35\":130.3804473877,\"36\":312.345489502,\"37\":99.81275177,\"38\":813.0827026367,\"39\":191.0135498047,\"40\":246.2732086182,\"41\":471.5994873047,\"42\":110.929725647,\"43\":51.6949310303,\"44\":57.8131942749,\"45\":9.0890989304,\"46\":68.7233276367,\"47\":18.3985919952,\"48\":412.9196166992,\"49\":178.5243835449},\"r2_score\":{\"0\":0.7537361066,\"1\":0.5222805793,\"2\":0.543704459,\"3\":0.5322758225,\"4\":0.8232707463,\"5\":0.0305557257,\"6\":0.7919349215,\"7\":0.5776753121,\"8\":0.8104905677,\"9\":0.7333262111,\"10\":0.6962950402,\"11\":0.8870618528,\"12\":0.7003950642,\"13\":0.4920927062,\"14\":0.7340474586,\"15\":0.8742346353,\"16\":0.8552013429,\"17\":0.6396464711,\"18\":0.8039802709,\"19\":0.2045120753,\"20\":0.8241579816,\"21\":0.5510456897,\"22\":0.719153136,\"23\":0.6161848442,\"24\":0.8457027389,\"25\":0.8206239959,\"26\":0.8808831754,\"27\":0.8107794104,\"28\":0.7003614567,\"29\":0.761708021,\"30\":0.8356129644,\"31\":0.8944630894,\"32\":0.742981379,\"33\":0.8225390473,\"34\":0.8217003785,\"35\":0.6971272099,\"36\":0.8855477362,\"37\":0.8226272071,\"38\":0.9405993205,\"39\":0.7893975,\"40\":0.836916764,\"41\":0.8000550362,\"42\":0.7861340433,\"43\":-0.1023879591,\"44\":0.7441740557,\"45\":0.5144557081,\"46\":0.8343869711,\"47\":0.6725594796,\"48\":0.3852887872,\"49\":0.7929344494},\"mae_score\":{\"0\":4.4954845111,\"1\":3.9658997854,\"2\":5.1365421613,\"3\":10.3152306875,\"4\":65.1203753153,\"5\":20.2004798253,\"6\":8.3563097318,\"7\":10.7589618365,\"8\":46.5767567952,\"9\":4.2626179059,\"10\":4.3307922681,\"11\":31.1365420024,\"12\":63.8700383504,\"13\":7.6514619191,\"14\":5.8310720921,\"15\":19.317688942,\"16\":104.6755065918,\"17\":16.1625035604,\"18\":78.1655464172,\"19\":11.4909896851,\"20\":15.2398557663,\"21\":17.2383743922,\"22\":22.2213891347,\"23\":52.1347999573,\"24\":15.9716081619,\"25\":10.6895249685,\"26\":20.2209733327,\"27\":24.213634491,\"28\":41.6809094747,\"29\":16.9893846512,\"30\":269.0217132568,\"31\":42.4129371643,\"32\":48.6405620575,\"33\":27.6518319448,\"34\":44.9807243347,\"35\":23.622423172,\"36\":34.3614667257,\"37\":16.8091808955,\"38\":86.9723587036,\"39\":26.5501244863,\"40\":40.2112630208,\"41\":78.3840853373,\"42\":19.8977711995,\"43\":26.3519999186,\"44\":12.2830568949,\"45\":3.2974998951,\"46\":11.6119422913,\"47\":4.8700569471,\"48\":73.3134498596,\"49\":28.2934398651},\"mpe_score\":{\"0\":0.230090073,\"1\":0.3154932414,\"2\":0.3296675988,\"3\":0.2704303265,\"4\":0.1388956972,\"5\":0.4438006418,\"6\":0.1765201074,\"7\":0.3935624337,\"8\":0.1805708605,\"9\":0.2454575467,\"10\":0.2245281463,\"11\":0.1213763084,\"12\":0.1988200353,\"13\":0.3238341742,\"14\":0.2110320619,\"15\":0.1440745451,\"16\":0.1103827118,\"17\":0.1901660813,\"18\":0.1604176,\"19\":0.2021453908,\"20\":0.1420392867,\"21\":0.3587545981,\"22\":0.1744323999,\"23\":0.2842935841,\"24\":0.1685980685,\"25\":0.1426414563,\"26\":0.1859468595,\"27\":0.1545556808,\"28\":0.1839538262,\"29\":0.1845646615,\"30\":0.126271922,\"31\":0.1071539142,\"32\":0.1900539763,\"33\":0.1691225709,\"34\":0.1515422616,\"35\":0.1811807188,\"36\":0.1100110867,\"37\":0.1684071484,\"38\":0.1069661898,\"39\":0.1389960268,\"40\":0.1632790804,\"41\":0.166209013,\"42\":0.1793727613,\"43\":0.5097598429,\"44\":0.2124611354,\"45\":0.3627972278,\"46\":0.1689665313,\"47\":0.2646972632,\"48\":0.1775489633,\"49\":0.1584850165},\"rmse_score\":{\"0\":6.0674600601,\"1\":5.3075915972,\"2\":6.7615984281,\"3\":13.2208998998,\"4\":88.1359278361,\"5\":26.8886394501,\"6\":11.1422834396,\"7\":14.6685857773,\"8\":59.5839602153,\"9\":5.7137850126,\"10\":5.6559712092,\"11\":41.7092247009,\"12\":87.1342875163,\"13\":10.1639208794,\"14\":8.0264458656,\"15\":26.3908068339,\"16\":138.1249771118,\"17\":21.8236592611,\"18\":106.7527058919,\"19\":15.9264173508,\"20\":19.9728463491,\"21\":22.0938749313,\"22\":29.1552861532,\"23\":66.1838684082,\"24\":21.1972242991,\"25\":13.8248761495,\"26\":29.319519043,\"27\":32.4273293813,\"28\":52.3301429749,\"29\":22.6559321086,\"30\":365.7684224447,\"31\":60.3325068156,\"32\":60.9443524679,\"33\":38.2182477315,\"34\":58.3347536723,\"35\":29.5490144094,\"36\":45.232846578,\"37\":22.3456840515,\"38\":119.6233240763,\"39\":36.2217203776,\"40\":56.0208803813,\"41\":111.0115432739,\"42\":27.1755695343,\"43\":35.1699606578,\"44\":16.7162005107,\"45\":4.547762235,\"46\":15.4895353317,\"47\":6.5826034546,\"48\":88.7645098368,\"49\":39.5933113098}}'"
      ]
     },
     "execution_count": 188,
     "metadata": {},
     "output_type": "execute_result"
    }
   ],
   "source": [
    "r.json()"
   ]
  },
  {
   "cell_type": "markdown",
   "metadata": {},
   "source": [
    "### `/optimize`"
   ]
  },
  {
   "cell_type": "code",
   "execution_count": null,
   "metadata": {
    "ExecuteTime": {
     "end_time": "2020-07-06T10:51:53.277087Z",
     "start_time": "2020-07-06T10:51:51.493Z"
    }
   },
   "outputs": [],
   "source": [
    "url = 'http://localhost:5000/optimize/'\n",
    "\n",
    "payload = {'project_id': 1,\n",
    "           'constraints': [],\n",
    "           'population': 100,\n",
    "           'max_epoch': 200\n",
    "           }\n",
    "\n",
    "headers = {'content-type': 'application/json',\n",
    "           'Accept-Charset': 'UTF-8'\n",
    "          }\n",
    "\n",
    "payload = json.dumps(payload)\n",
    "r = requests.post(url, data=payload, headers=headers)"
   ]
  },
  {
   "cell_type": "code",
   "execution_count": null,
   "metadata": {
    "ExecuteTime": {
     "end_time": "2020-07-06T10:51:53.278090Z",
     "start_time": "2020-07-06T10:51:51.495Z"
    }
   },
   "outputs": [],
   "source": [
    "best_prices = r.json()['result']\n",
    "best_prices"
   ]
  },
  {
   "cell_type": "code",
   "execution_count": null,
   "metadata": {
    "ExecuteTime": {
     "end_time": "2020-07-06T10:51:53.279082Z",
     "start_time": "2020-07-06T10:51:51.496Z"
    }
   },
   "outputs": [],
   "source": [
    "import requests\n",
    "import json\n",
    "\n",
    "url = 'http://localhost:5000/predict/'\n",
    "payload = {'prices': best_prices,\n",
    "           'project_id': 1\n",
    "           }\n",
    "headers = {'content-type': 'application/json',\n",
    "           'Accept-Charset': 'UTF-8'\n",
    "          }\n",
    "payload = json.dumps(payload)\n",
    "r = requests.post(url, data=payload, headers=headers)\n",
    "\n",
    "# What If Prediction\n",
    "qty = r.json()['qty_estimates']"
   ]
  },
  {
   "cell_type": "code",
   "execution_count": null,
   "metadata": {
    "ExecuteTime": {
     "end_time": "2020-07-06T10:51:53.280079Z",
     "start_time": "2020-07-06T10:51:51.497Z"
    }
   },
   "outputs": [],
   "source": [
    "qty"
   ]
  },
  {
   "cell_type": "code",
   "execution_count": null,
   "metadata": {
    "ExecuteTime": {
     "end_time": "2020-07-06T10:51:53.280079Z",
     "start_time": "2020-07-06T10:51:51.498Z"
    }
   },
   "outputs": [],
   "source": [
    "# Calculate Revenue\n",
    "revenue = 0\n",
    "for item in best_prices.keys():\n",
    "    revenue += (best_prices[item]*qty['Qty_'+item])\n",
    "    \n",
    "print(revenue)"
   ]
  },
  {
   "cell_type": "markdown",
   "metadata": {},
   "source": [
    "### `/predict/`"
   ]
  },
  {
   "cell_type": "code",
   "execution_count": 203,
   "metadata": {
    "ExecuteTime": {
     "end_time": "2020-07-13T14:07:44.511089Z",
     "start_time": "2020-07-13T14:07:27.891320Z"
    }
   },
   "outputs": [
    {
     "name": "stdout",
     "output_type": "stream",
     "text": [
      "Input Prices Quantities:\n"
     ]
    },
    {
     "data": {
      "text/html": [
       "<div>\n",
       "<style scoped>\n",
       "    .dataframe tbody tr th:only-of-type {\n",
       "        vertical-align: middle;\n",
       "    }\n",
       "\n",
       "    .dataframe tbody tr th {\n",
       "        vertical-align: top;\n",
       "    }\n",
       "\n",
       "    .dataframe thead th {\n",
       "        text-align: right;\n",
       "    }\n",
       "</style>\n",
       "<table border=\"1\" class=\"dataframe\">\n",
       "  <thead>\n",
       "    <tr style=\"text-align: right;\">\n",
       "      <th></th>\n",
       "      <th>Estimated</th>\n",
       "      <th>Actual</th>\n",
       "    </tr>\n",
       "  </thead>\n",
       "  <tbody>\n",
       "    <tr>\n",
       "      <th>Qty_1004</th>\n",
       "      <td>2732.0</td>\n",
       "      <td>3121.0</td>\n",
       "    </tr>\n",
       "    <tr>\n",
       "      <th>Qty_102</th>\n",
       "      <td>184.0</td>\n",
       "      <td>211.0</td>\n",
       "    </tr>\n",
       "    <tr>\n",
       "      <th>Qty_11</th>\n",
       "      <td>173.0</td>\n",
       "      <td>153.0</td>\n",
       "    </tr>\n",
       "    <tr>\n",
       "      <th>Qty_1152</th>\n",
       "      <td>52.0</td>\n",
       "      <td>42.0</td>\n",
       "    </tr>\n",
       "    <tr>\n",
       "      <th>Qty_1195</th>\n",
       "      <td>81.0</td>\n",
       "      <td>76.0</td>\n",
       "    </tr>\n",
       "    <tr>\n",
       "      <th>...</th>\n",
       "      <td>...</td>\n",
       "      <td>...</td>\n",
       "    </tr>\n",
       "    <tr>\n",
       "      <th>Qty_7434</th>\n",
       "      <td>63.0</td>\n",
       "      <td>61.0</td>\n",
       "    </tr>\n",
       "    <tr>\n",
       "      <th>Qty_7575</th>\n",
       "      <td>83.0</td>\n",
       "      <td>70.0</td>\n",
       "    </tr>\n",
       "    <tr>\n",
       "      <th>Qty_7965</th>\n",
       "      <td>24.0</td>\n",
       "      <td>18.0</td>\n",
       "    </tr>\n",
       "    <tr>\n",
       "      <th>Qty_7966</th>\n",
       "      <td>56.0</td>\n",
       "      <td>53.0</td>\n",
       "    </tr>\n",
       "    <tr>\n",
       "      <th>Qty_7967</th>\n",
       "      <td>66.0</td>\n",
       "      <td>55.0</td>\n",
       "    </tr>\n",
       "  </tbody>\n",
       "</table>\n",
       "<p>100 rows × 2 columns</p>\n",
       "</div>"
      ],
      "text/plain": [
       "          Estimated  Actual\n",
       "Qty_1004     2732.0  3121.0\n",
       "Qty_102       184.0   211.0\n",
       "Qty_11        173.0   153.0\n",
       "Qty_1152       52.0    42.0\n",
       "Qty_1195       81.0    76.0\n",
       "...             ...     ...\n",
       "Qty_7434       63.0    61.0\n",
       "Qty_7575       83.0    70.0\n",
       "Qty_7965       24.0    18.0\n",
       "Qty_7966       56.0    53.0\n",
       "Qty_7967       66.0    55.0\n",
       "\n",
       "[100 rows x 2 columns]"
      ]
     },
     "execution_count": 203,
     "metadata": {},
     "output_type": "execute_result"
    }
   ],
   "source": [
    "# Sample Actual Price \n",
    "from helper_functions import *\n",
    "\n",
    "sales_data = data_subset\n",
    "\n",
    "sales_data = optimize_memory(sales_data)\n",
    "\n",
    "sales_data_wide = sales_data.set_index(\n",
    "    ['Wk', 'Tier', 'Store', 'Item_ID']).unstack(level=-1).reset_index().copy()\n",
    "sales_data_wide.columns = [\n",
    "    ''.join(str(i) for i in col).strip()\n",
    "    for col in sales_data_wide.columns.values\n",
    "]\n",
    "sales_data_wide = sales_data_wide.sort_values(\n",
    "    ['Tier', 'Store', 'Wk'], ascending=True).reset_index(drop=True)\n",
    "\n",
    "sales_data_wide_clean = sales_data_wide.dropna(axis=0).copy()\n",
    "dataset = sales_data_wide_clean\n",
    "price_columns = [\n",
    "    col for col in sales_data_wide_clean.columns if col.startswith('Price')\n",
    "]\n",
    "\n",
    "a = dataset.sample(1)\n",
    "a_dict = a[price_columns].iloc[0].to_dict()\n",
    "a_input = {}\n",
    "for key in a_dict.keys():\n",
    "    a_input[key.split('_')[1]]=round(a_dict[key],2)\n",
    "\n",
    "print('Input Prices Quantities:')\n",
    "# a_input\n",
    "\n",
    "\n",
    "# Predict Sales Qty and Compare to Actual\n",
    "\n",
    "import requests\n",
    "import json\n",
    "\n",
    "url = 'https://fillet.azurewebsites.net/predict/'\n",
    "\n",
    "payload = {'prices': a_input, 'project_id': 3}\n",
    "\n",
    "headers = {'content-type': 'application/json', 'Accept-Charset': 'UTF-8'}\n",
    "\n",
    "payload = json.dumps(payload)\n",
    "r = requests.post(url, data=payload, headers=headers)\n",
    "qty = r.json()['qty_estimates']\n",
    "qty_outp = {}\n",
    "for key in qty.keys():\n",
    "    qty_outp[key] = round(qty[key], 0)\n",
    "actual = a[[\n",
    "    col for col in sales_data_wide_clean.columns if col.startswith('Qty_')\n",
    "]].iloc[0].to_dict()\n",
    "pd.DataFrame([qty_outp, actual], index=['Estimated', 'Actual']).transpose()"
   ]
  },
  {
   "cell_type": "code",
   "execution_count": null,
   "metadata": {},
   "outputs": [],
   "source": []
  }
 ],
 "metadata": {
  "kernelspec": {
   "display_name": "Python 3",
   "language": "python",
   "name": "python3"
  },
  "language_info": {
   "codemirror_mode": {
    "name": "ipython",
    "version": 3
   },
   "file_extension": ".py",
   "mimetype": "text/x-python",
   "name": "python",
   "nbconvert_exporter": "python",
   "pygments_lexer": "ipython3",
   "version": "3.7.6"
  },
  "toc": {
   "base_numbering": 1,
   "nav_menu": {},
   "number_sections": true,
   "sideBar": true,
   "skip_h1_title": false,
   "title_cell": "Table of Contents",
   "title_sidebar": "Contents",
   "toc_cell": false,
   "toc_position": {},
   "toc_section_display": true,
   "toc_window_display": false
  },
  "varInspector": {
   "cols": {
    "lenName": 16,
    "lenType": 16,
    "lenVar": 40
   },
   "kernels_config": {
    "python": {
     "delete_cmd_postfix": "",
     "delete_cmd_prefix": "del ",
     "library": "var_list.py",
     "varRefreshCmd": "print(var_dic_list())"
    },
    "r": {
     "delete_cmd_postfix": ") ",
     "delete_cmd_prefix": "rm(",
     "library": "var_list.r",
     "varRefreshCmd": "cat(var_dic_list()) "
    }
   },
   "types_to_exclude": [
    "module",
    "function",
    "builtin_function_or_method",
    "instance",
    "_Feature"
   ],
   "window_display": false
  }
 },
 "nbformat": 4,
 "nbformat_minor": 4
}
