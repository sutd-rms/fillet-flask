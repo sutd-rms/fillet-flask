{
 "cells": [
  {
   "cell_type": "code",
   "execution_count": 1,
   "metadata": {
    "ExecuteTime": {
     "end_time": "2020-06-10T09:37:49.239974Z",
     "start_time": "2020-06-10T09:37:48.205950Z"
    }
   },
   "outputs": [],
   "source": [
    "from core_functions import rms_pricing_model\n",
    "import pandas as pd"
   ]
  },
  {
   "cell_type": "markdown",
   "metadata": {},
   "source": [
    "__1. Initialize the Pricing Model with the Dataset__"
   ]
  },
  {
   "cell_type": "code",
   "execution_count": 2,
   "metadata": {
    "ExecuteTime": {
     "end_time": "2020-06-10T09:37:53.215827Z",
     "start_time": "2020-06-10T09:37:49.257918Z"
    }
   },
   "outputs": [],
   "source": [
    "pdm = rms_pricing_model(data_filepath='data/data_all.csv')"
   ]
  },
  {
   "cell_type": "markdown",
   "metadata": {},
   "source": [
    "__2. Training Unique Price-Demand Models for All Items__"
   ]
  },
  {
   "cell_type": "code",
   "execution_count": null,
   "metadata": {
    "ExecuteTime": {
     "end_time": "2020-06-10T05:10:43.097629Z",
     "start_time": "2020-06-10T05:02:27.754031Z"
    }
   },
   "outputs": [],
   "source": [
    "pdm.train_all_items(retrain=True)"
   ]
  },
  {
   "cell_type": "markdown",
   "metadata": {
    "ExecuteTime": {
     "end_time": "2020-06-10T05:16:39.639459Z",
     "start_time": "2020-06-10T05:16:39.635464Z"
    }
   },
   "source": [
    "__Or train individual items__"
   ]
  },
  {
   "cell_type": "code",
   "execution_count": 3,
   "metadata": {
    "ExecuteTime": {
     "end_time": "2020-06-10T09:37:56.325490Z",
     "start_time": "2020-06-10T09:37:53.235745Z"
    }
   },
   "outputs": [
    {
     "data": {
      "text/plain": [
       "XGBRegressor(base_score=0.5, booster=None, colsample_bylevel=1,\n",
       "             colsample_bynode=1, colsample_bytree=1, gamma=0, gpu_id=-1,\n",
       "             importance_type='gain', interaction_constraints=None,\n",
       "             learning_rate=0.300000012, max_delta_step=0, max_depth=6,\n",
       "             min_child_weight=1, missing=nan, monotone_constraints=None,\n",
       "             n_estimators=100, n_jobs=0, num_parallel_tree=1,\n",
       "             objective='reg:squarederror', random_state=0, reg_alpha=0,\n",
       "             reg_lambda=1, scale_pos_weight=1, subsample=1, tree_method=None,\n",
       "             validate_parameters=False, verbosity=None)"
      ]
     },
     "execution_count": 3,
     "metadata": {},
     "output_type": "execute_result"
    }
   ],
   "source": [
    "pdm.get_model(11)"
   ]
  },
  {
   "cell_type": "markdown",
   "metadata": {},
   "source": [
    "__3. Get model performance for a particular item id__"
   ]
  },
  {
   "cell_type": "code",
   "execution_count": 4,
   "metadata": {
    "ExecuteTime": {
     "end_time": "2020-06-10T09:39:12.223038Z",
     "start_time": "2020-06-10T09:37:56.347432Z"
    }
   },
   "outputs": [
    {
     "data": {
      "text/plain": [
       "{'item_id': 'Qty_11',\n",
       " 'avg_sales': 218.52647,\n",
       " 'r2_score': 0.8453456805082034,\n",
       " 'mae_score': 27.729543465834396,\n",
       " 'mpe_score': 0.1268932910433466,\n",
       " 'rmse_score': 38.635869392981895}"
      ]
     },
     "execution_count": 4,
     "metadata": {},
     "output_type": "execute_result"
    }
   ],
   "source": [
    "pdm.get_performance(11)"
   ]
  },
  {
   "cell_type": "markdown",
   "metadata": {},
   "source": [
    "__4. Trained models are stored in `pdm.models`__"
   ]
  },
  {
   "cell_type": "code",
   "execution_count": 5,
   "metadata": {
    "ExecuteTime": {
     "end_time": "2020-06-10T09:39:12.253955Z",
     "start_time": "2020-06-10T09:39:12.244979Z"
    }
   },
   "outputs": [
    {
     "data": {
      "text/plain": [
       "XGBRegressor(base_score=0.5, booster=None, colsample_bylevel=1,\n",
       "             colsample_bynode=1, colsample_bytree=1, gamma=0, gpu_id=-1,\n",
       "             importance_type='gain', interaction_constraints=None,\n",
       "             learning_rate=0.300000012, max_delta_step=0, max_depth=6,\n",
       "             min_child_weight=1, missing=nan, monotone_constraints=None,\n",
       "             n_estimators=100, n_jobs=0, num_parallel_tree=1,\n",
       "             objective='reg:squarederror', random_state=0, reg_alpha=0,\n",
       "             reg_lambda=1, scale_pos_weight=1, subsample=1, tree_method=None,\n",
       "             validate_parameters=False, verbosity=None)"
      ]
     },
     "execution_count": 5,
     "metadata": {},
     "output_type": "execute_result"
    }
   ],
   "source": [
    "pdm.models[11]"
   ]
  },
  {
   "cell_type": "markdown",
   "metadata": {},
   "source": [
    "__5. Test Price-Demand Prediction__"
   ]
  },
  {
   "cell_type": "code",
   "execution_count": 6,
   "metadata": {
    "ExecuteTime": {
     "end_time": "2020-06-10T09:39:12.325764Z",
     "start_time": "2020-06-10T09:39:12.273902Z"
    }
   },
   "outputs": [
    {
     "name": "stdout",
     "output_type": "stream",
     "text": [
      "Actual Sales Qty:                   204.0\n",
      "Predicted Sales Qty:                198.5\n",
      "Input Price:                          5.3\n",
      "Est. Revenue:                     1051.95\n"
     ]
    }
   ],
   "source": [
    "item_id = 11\n",
    "\n",
    "# Generate a Random Row Number\n",
    "r = np.random.randint(low=0, high=pdm.data.shape[0])\n",
    "\n",
    "test_prices = pdm.data[pdm.price_columns].copy().iloc[r].to_dict()\n",
    "test_prices = pd.DataFrame(test_prices, index=[0])\n",
    "\n",
    "# Actual Sales Qty Was\n",
    "actual_Qty = pdm.data[['Qty_'+str(item_id)]].iloc[[r]]\n",
    "print('Actual Sales Qty:    {:>20}'.format(actual_Qty.values.item()))\n",
    "\n",
    "\n",
    "# Predicting Sales Qty of Item 1 under that menu price\n",
    "pred_Qty = pdm.models[item_id].predict(test_prices)\n",
    "print('Predicted Sales Qty: {:>20}'.format(round(pred_Qty.item(),1)))\n",
    "\n",
    "# Getting the Input Price\n",
    "input_Price = test_prices['Price_'+str(item_id)]\n",
    "print('Input Price:         {:>20}'.format(round(input_Price.values.item(),4)))\n",
    "\n",
    "# Predicted Revenue of Item 1 Under Input Menu Pricing\n",
    "pred_revenue = input_Price * pred_Qty\n",
    "print('Est. Revenue:        {:>20}'.format(round(pred_revenue.values.item(),2)))"
   ]
  },
  {
   "cell_type": "code",
   "execution_count": null,
   "metadata": {
    "ExecuteTime": {
     "end_time": "2020-06-10T06:08:26.690751Z",
     "start_time": "2020-06-10T06:08:26.674766Z"
    }
   },
   "outputs": [],
   "source": [
    "test_prices"
   ]
  },
  {
   "cell_type": "code",
   "execution_count": null,
   "metadata": {},
   "outputs": [],
   "source": []
  }
 ],
 "metadata": {
  "kernelspec": {
   "display_name": "Python 3",
   "language": "python",
   "name": "python3"
  },
  "language_info": {
   "codemirror_mode": {
    "name": "ipython",
    "version": 3
   },
   "file_extension": ".py",
   "mimetype": "text/x-python",
   "name": "python",
   "nbconvert_exporter": "python",
   "pygments_lexer": "ipython3",
   "version": "3.7.6"
  },
  "toc": {
   "base_numbering": 1,
   "nav_menu": {},
   "number_sections": true,
   "sideBar": true,
   "skip_h1_title": false,
   "title_cell": "Table of Contents",
   "title_sidebar": "Contents",
   "toc_cell": false,
   "toc_position": {},
   "toc_section_display": true,
   "toc_window_display": false
  },
  "varInspector": {
   "cols": {
    "lenName": 16,
    "lenType": 16,
    "lenVar": 40
   },
   "kernels_config": {
    "python": {
     "delete_cmd_postfix": "",
     "delete_cmd_prefix": "del ",
     "library": "var_list.py",
     "varRefreshCmd": "print(var_dic_list())"
    },
    "r": {
     "delete_cmd_postfix": ") ",
     "delete_cmd_prefix": "rm(",
     "library": "var_list.r",
     "varRefreshCmd": "cat(var_dic_list()) "
    }
   },
   "types_to_exclude": [
    "module",
    "function",
    "builtin_function_or_method",
    "instance",
    "_Feature"
   ],
   "window_display": false
  }
 },
 "nbformat": 4,
 "nbformat_minor": 4
}
