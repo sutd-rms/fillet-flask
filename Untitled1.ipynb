{
 "cells": [
  {
   "cell_type": "code",
   "execution_count": 3,
   "metadata": {
    "ExecuteTime": {
     "end_time": "2020-07-24T04:06:45.144349Z",
     "start_time": "2020-07-24T04:06:45.136370Z"
    }
   },
   "outputs": [],
   "source": [
    "import pickle\n",
    "import pandas as pd\n",
    "\n",
    "with open('test_xgbmodel.pkl','rb') as f:\n",
    "    xgb = pickle.load(f)\n",
    "    \n",
    "def get_top_features(xgb_model, n=5):\n",
    "    feature_names = xgb_model._Booster.feature_names\n",
    "    importances = xgb.feature_importances_\n",
    "    imp_df = pd.DataFrame({'feature_name':feature_names,\n",
    "                           'importance':importances\n",
    "                          })\n",
    "    imp_df = imp_df.sort_values('importance',\n",
    "                                ascending=False\n",
    "                               )\n",
    "    return imp_df.head(n)"
   ]
  },
  {
   "cell_type": "code",
   "execution_count": 4,
   "metadata": {
    "ExecuteTime": {
     "end_time": "2020-07-24T04:06:45.217177Z",
     "start_time": "2020-07-24T04:06:45.164296Z"
    }
   },
   "outputs": [
    {
     "data": {
      "text/plain": [
       "{'1': {'feature_name': {8: 's5',\n",
       "   2: 'bmi',\n",
       "   1: 'sex',\n",
       "   9: 's6',\n",
       "   7: 's4',\n",
       "   6: 's3',\n",
       "   3: 'bp',\n",
       "   5: 's2',\n",
       "   4: 's1',\n",
       "   0: 'age'},\n",
       "  'importance': {8: 0.3811580538749695,\n",
       "   2: 0.15466594696044922,\n",
       "   1: 0.07174655795097351,\n",
       "   9: 0.07101176679134369,\n",
       "   7: 0.06862988322973251,\n",
       "   6: 0.06528452783823013,\n",
       "   3: 0.05833081901073456,\n",
       "   5: 0.055848486721515656,\n",
       "   4: 0.04305681586265564,\n",
       "   0: 0.03026711754500866}}}"
      ]
     },
     "execution_count": 4,
     "metadata": {},
     "output_type": "execute_result"
    }
   ],
   "source": [
    "imp_df = get_top_features(xgb, n=10)\n",
    "\n",
    "response_outp = {}\n",
    "response_outp['1'] = imp_df.to_dict()\n",
    "\n",
    "response_outp"
   ]
  },
  {
   "cell_type": "code",
   "execution_count": 9,
   "metadata": {
    "ExecuteTime": {
     "end_time": "2020-07-24T04:07:32.314825Z",
     "start_time": "2020-07-24T04:07:31.562237Z"
    }
   },
   "outputs": [],
   "source": [
    "from sklearn.datasets import load_diabetes\n",
    "dataset = load_diabetes(as_frame=True)\n",
    "\n",
    "X = dataset['data']\n",
    "y = dataset['target']\n",
    "\n",
    "X_test = X.sample(1)"
   ]
  },
  {
   "cell_type": "code",
   "execution_count": 10,
   "metadata": {
    "ExecuteTime": {
     "end_time": "2020-07-24T04:07:32.893387Z",
     "start_time": "2020-07-24T04:07:32.772031Z"
    }
   },
   "outputs": [
    {
     "data": {
      "text/plain": [
       "array([213.7246], dtype=float32)"
      ]
     },
     "execution_count": 10,
     "metadata": {},
     "output_type": "execute_result"
    }
   ],
   "source": [
    "xgb.predict(X_test)"
   ]
  },
  {
   "cell_type": "code",
   "execution_count": null,
   "metadata": {},
   "outputs": [],
   "source": []
  }
 ],
 "metadata": {
  "kernelspec": {
   "display_name": "Python 3",
   "language": "python",
   "name": "python3"
  },
  "language_info": {
   "codemirror_mode": {
    "name": "ipython",
    "version": 3
   },
   "file_extension": ".py",
   "mimetype": "text/x-python",
   "name": "python",
   "nbconvert_exporter": "python",
   "pygments_lexer": "ipython3",
   "version": "3.7.6"
  },
  "toc": {
   "base_numbering": 1,
   "nav_menu": {},
   "number_sections": true,
   "sideBar": true,
   "skip_h1_title": false,
   "title_cell": "Table of Contents",
   "title_sidebar": "Contents",
   "toc_cell": false,
   "toc_position": {},
   "toc_section_display": true,
   "toc_window_display": false
  },
  "varInspector": {
   "cols": {
    "lenName": 16,
    "lenType": 16,
    "lenVar": 40
   },
   "kernels_config": {
    "python": {
     "delete_cmd_postfix": "",
     "delete_cmd_prefix": "del ",
     "library": "var_list.py",
     "varRefreshCmd": "print(var_dic_list())"
    },
    "r": {
     "delete_cmd_postfix": ") ",
     "delete_cmd_prefix": "rm(",
     "library": "var_list.r",
     "varRefreshCmd": "cat(var_dic_list()) "
    }
   },
   "types_to_exclude": [
    "module",
    "function",
    "builtin_function_or_method",
    "instance",
    "_Feature"
   ],
   "window_display": false
  }
 },
 "nbformat": 4,
 "nbformat_minor": 4
}
