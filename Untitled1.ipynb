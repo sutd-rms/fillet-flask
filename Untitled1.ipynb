{
 "cells": [
  {
   "cell_type": "code",
   "execution_count": 1,
   "metadata": {
    "ExecuteTime": {
     "end_time": "2020-07-22T10:28:00.559550Z",
     "start_time": "2020-07-22T10:28:00.352867Z"
    }
   },
   "outputs": [],
   "source": [
    "import pickle\n",
    "import pandas as pd"
   ]
  },
  {
   "cell_type": "code",
   "execution_count": 9,
   "metadata": {
    "ExecuteTime": {
     "end_time": "2020-07-22T10:29:15.719029Z",
     "start_time": "2020-07-22T10:29:15.709056Z"
    }
   },
   "outputs": [],
   "source": [
    "with open('test_xgbmodel.pkl','rb') as f:\n",
    "    xgb = pickle.load(f)"
   ]
  },
  {
   "cell_type": "code",
   "execution_count": 11,
   "metadata": {
    "ExecuteTime": {
     "end_time": "2020-07-22T10:29:28.120292Z",
     "start_time": "2020-07-22T10:29:28.115306Z"
    }
   },
   "outputs": [],
   "source": [
    "def get_top_features(xgb_model, n=5):\n",
    "    feature_names = xgb_model._Booster.feature_names\n",
    "    importances = xgb.feature_importances_\n",
    "    imp_df = pd.DataFrame({'feature_name':feature_names,\n",
    "                           'importance':importances\n",
    "                          })\n",
    "    imp_df = imp_df.sort_values('importance',\n",
    "                                ascending=False\n",
    "                               )\n",
    "    return imp_df.head(n)"
   ]
  },
  {
   "cell_type": "code",
   "execution_count": 13,
   "metadata": {
    "ExecuteTime": {
     "end_time": "2020-07-22T10:53:00.002956Z",
     "start_time": "2020-07-22T10:52:59.954117Z"
    }
   },
   "outputs": [],
   "source": [
    "imp_df = get_top_features(xgb, n=10)"
   ]
  },
  {
   "cell_type": "code",
   "execution_count": 15,
   "metadata": {
    "ExecuteTime": {
     "end_time": "2020-07-22T10:53:42.722381Z",
     "start_time": "2020-07-22T10:53:42.719370Z"
    }
   },
   "outputs": [],
   "source": [
    "response_outp = {}\n",
    "response_outp['1'] = imp_df.to_dict()"
   ]
  },
  {
   "cell_type": "code",
   "execution_count": 17,
   "metadata": {
    "ExecuteTime": {
     "end_time": "2020-07-22T10:54:08.492239Z",
     "start_time": "2020-07-22T10:54:08.247164Z"
    }
   },
   "outputs": [],
   "source": [
    "from flask import jsonify"
   ]
  },
  {
   "cell_type": "code",
   "execution_count": 19,
   "metadata": {
    "ExecuteTime": {
     "end_time": "2020-07-22T10:54:28.361331Z",
     "start_time": "2020-07-22T10:54:28.357340Z"
    }
   },
   "outputs": [
    {
     "data": {
      "text/plain": [
       "{'1': {'feature_name': {8: 's5',\n",
       "   2: 'bmi',\n",
       "   1: 'sex',\n",
       "   9: 's6',\n",
       "   7: 's4',\n",
       "   6: 's3',\n",
       "   3: 'bp',\n",
       "   5: 's2',\n",
       "   4: 's1',\n",
       "   0: 'age'},\n",
       "  'importance': {8: 0.3811580538749695,\n",
       "   2: 0.15466594696044922,\n",
       "   1: 0.07174655795097351,\n",
       "   9: 0.07101176679134369,\n",
       "   7: 0.06862988322973251,\n",
       "   6: 0.06528452783823013,\n",
       "   3: 0.05833081901073456,\n",
       "   5: 0.055848486721515656,\n",
       "   4: 0.04305681586265564,\n",
       "   0: 0.03026711754500866}}}"
      ]
     },
     "execution_count": 19,
     "metadata": {},
     "output_type": "execute_result"
    }
   ],
   "source": [
    "response_outp"
   ]
  },
  {
   "cell_type": "code",
   "execution_count": null,
   "metadata": {},
   "outputs": [],
   "source": []
  }
 ],
 "metadata": {
  "kernelspec": {
   "display_name": "Python 3",
   "language": "python",
   "name": "python3"
  },
  "language_info": {
   "codemirror_mode": {
    "name": "ipython",
    "version": 3
   },
   "file_extension": ".py",
   "mimetype": "text/x-python",
   "name": "python",
   "nbconvert_exporter": "python",
   "pygments_lexer": "ipython3",
   "version": "3.7.6"
  },
  "toc": {
   "base_numbering": 1,
   "nav_menu": {},
   "number_sections": true,
   "sideBar": true,
   "skip_h1_title": false,
   "title_cell": "Table of Contents",
   "title_sidebar": "Contents",
   "toc_cell": false,
   "toc_position": {},
   "toc_section_display": true,
   "toc_window_display": false
  },
  "varInspector": {
   "cols": {
    "lenName": 16,
    "lenType": 16,
    "lenVar": 40
   },
   "kernels_config": {
    "python": {
     "delete_cmd_postfix": "",
     "delete_cmd_prefix": "del ",
     "library": "var_list.py",
     "varRefreshCmd": "print(var_dic_list())"
    },
    "r": {
     "delete_cmd_postfix": ") ",
     "delete_cmd_prefix": "rm(",
     "library": "var_list.r",
     "varRefreshCmd": "cat(var_dic_list()) "
    }
   },
   "types_to_exclude": [
    "module",
    "function",
    "builtin_function_or_method",
    "instance",
    "_Feature"
   ],
   "window_display": false
  }
 },
 "nbformat": 4,
 "nbformat_minor": 4
}
