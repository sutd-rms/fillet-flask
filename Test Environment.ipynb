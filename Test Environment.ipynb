{
 "cells": [
  {
   "cell_type": "code",
   "execution_count": 73,
   "metadata": {
    "ExecuteTime": {
     "end_time": "2020-07-04T15:21:52.871901Z",
     "start_time": "2020-07-04T15:21:52.867912Z"
    }
   },
   "outputs": [],
   "source": [
    "import pandas as pd\n",
    "import numpy as np\n",
    "import pickle as p"
   ]
  },
  {
   "cell_type": "code",
   "execution_count": 74,
   "metadata": {
    "ExecuteTime": {
     "end_time": "2020-07-04T15:21:54.233538Z",
     "start_time": "2020-07-04T15:21:53.100594Z"
    }
   },
   "outputs": [],
   "source": [
    "data_all = pd.read_csv('data_all.csv')\n",
    "\n",
    "# Test with Subset of Data\n",
    "np.random.seed(41)\n",
    "item_subset = list(np.random.choice(data_all['Item_ID'].unique(), size=10, replace=False))\n",
    "data_subset = data_all.loc[data_all['Item_ID'].isin(item_subset)].copy()\n",
    "\n",
    "# # Test with All Data\n",
    "# data_subset = data_all.copy()"
   ]
  },
  {
   "cell_type": "code",
   "execution_count": 75,
   "metadata": {
    "ExecuteTime": {
     "end_time": "2020-07-04T15:21:54.251515Z",
     "start_time": "2020-07-04T15:21:54.246505Z"
    }
   },
   "outputs": [
    {
     "data": {
      "text/plain": [
       "[31, 2259, 1203, 5073, 102, 5501, 3818, 4270, 3767, 197]"
      ]
     },
     "execution_count": 75,
     "metadata": {},
     "output_type": "execute_result"
    }
   ],
   "source": [
    "item_subset"
   ]
  },
  {
   "cell_type": "markdown",
   "metadata": {},
   "source": [
    "### `/train`"
   ]
  },
  {
   "cell_type": "code",
   "execution_count": 76,
   "metadata": {
    "ExecuteTime": {
     "end_time": "2020-07-04T15:25:15.873941Z",
     "start_time": "2020-07-04T15:21:56.159931Z"
    }
   },
   "outputs": [],
   "source": [
    "import requests\n",
    "import json\n",
    "\n",
    "url = 'http://localhost:5000/train/'\n",
    "\n",
    "data = data_subset.to_json()\n",
    "\n",
    "payload = {'data': data,\n",
    "           'cv_acc': True,\n",
    "           'project_id': 1\n",
    "           }\n",
    "\n",
    "headers = {'content-type': 'application/json',\n",
    "           'Accept-Charset': 'UTF-8'\n",
    "          }\n",
    "\n",
    "payload = json.dumps(payload)\n",
    "r = requests.post(url, data=payload, headers=headers)"
   ]
  },
  {
   "cell_type": "code",
   "execution_count": 77,
   "metadata": {
    "ExecuteTime": {
     "end_time": "2020-07-04T15:25:48.519403Z",
     "start_time": "2020-07-04T15:25:48.514417Z"
    }
   },
   "outputs": [
    {
     "data": {
      "text/plain": [
       "'Success'"
      ]
     },
     "execution_count": 77,
     "metadata": {},
     "output_type": "execute_result"
    }
   ],
   "source": [
    "# Model Training Result\n",
    "r.json()['result']"
   ]
  },
  {
   "cell_type": "code",
   "execution_count": 78,
   "metadata": {
    "ExecuteTime": {
     "end_time": "2020-07-04T15:25:49.020614Z",
     "start_time": "2020-07-04T15:25:48.946740Z"
    }
   },
   "outputs": [
    {
     "data": {
      "text/html": [
       "<div>\n",
       "<style scoped>\n",
       "    .dataframe tbody tr th:only-of-type {\n",
       "        vertical-align: middle;\n",
       "    }\n",
       "\n",
       "    .dataframe tbody tr th {\n",
       "        vertical-align: top;\n",
       "    }\n",
       "\n",
       "    .dataframe thead th {\n",
       "        text-align: right;\n",
       "    }\n",
       "</style>\n",
       "<table border=\"1\" class=\"dataframe\">\n",
       "  <thead>\n",
       "    <tr style=\"text-align: right;\">\n",
       "      <th></th>\n",
       "      <th>item_id</th>\n",
       "      <th>avg_sales</th>\n",
       "      <th>r2_score</th>\n",
       "      <th>mae_score</th>\n",
       "      <th>mpe_score</th>\n",
       "      <th>rmse_score</th>\n",
       "    </tr>\n",
       "  </thead>\n",
       "  <tbody>\n",
       "    <tr>\n",
       "      <td>0</td>\n",
       "      <td>31.0</td>\n",
       "      <td>45.218983</td>\n",
       "      <td>0.616940</td>\n",
       "      <td>13.746658</td>\n",
       "      <td>0.304002</td>\n",
       "      <td>18.832609</td>\n",
       "    </tr>\n",
       "    <tr>\n",
       "      <td>1</td>\n",
       "      <td>102.0</td>\n",
       "      <td>176.608917</td>\n",
       "      <td>0.729684</td>\n",
       "      <td>32.798693</td>\n",
       "      <td>0.185714</td>\n",
       "      <td>43.944843</td>\n",
       "    </tr>\n",
       "    <tr>\n",
       "      <td>2</td>\n",
       "      <td>197.0</td>\n",
       "      <td>55.278580</td>\n",
       "      <td>-3.448144</td>\n",
       "      <td>19.295730</td>\n",
       "      <td>0.349063</td>\n",
       "      <td>26.103014</td>\n",
       "    </tr>\n",
       "    <tr>\n",
       "      <td>3</td>\n",
       "      <td>1203.0</td>\n",
       "      <td>198.355331</td>\n",
       "      <td>0.731278</td>\n",
       "      <td>34.702733</td>\n",
       "      <td>0.174952</td>\n",
       "      <td>50.490930</td>\n",
       "    </tr>\n",
       "    <tr>\n",
       "      <td>4</td>\n",
       "      <td>2259.0</td>\n",
       "      <td>97.155861</td>\n",
       "      <td>0.670678</td>\n",
       "      <td>21.082487</td>\n",
       "      <td>0.216997</td>\n",
       "      <td>26.949602</td>\n",
       "    </tr>\n",
       "    <tr>\n",
       "      <td>5</td>\n",
       "      <td>3767.0</td>\n",
       "      <td>286.172363</td>\n",
       "      <td>0.790976</td>\n",
       "      <td>42.559057</td>\n",
       "      <td>0.148718</td>\n",
       "      <td>59.276068</td>\n",
       "    </tr>\n",
       "    <tr>\n",
       "      <td>6</td>\n",
       "      <td>3818.0</td>\n",
       "      <td>78.448463</td>\n",
       "      <td>0.733650</td>\n",
       "      <td>14.187403</td>\n",
       "      <td>0.180850</td>\n",
       "      <td>18.610389</td>\n",
       "    </tr>\n",
       "    <tr>\n",
       "      <td>7</td>\n",
       "      <td>4270.0</td>\n",
       "      <td>45.090721</td>\n",
       "      <td>-0.646848</td>\n",
       "      <td>17.674848</td>\n",
       "      <td>0.391984</td>\n",
       "      <td>21.886306</td>\n",
       "    </tr>\n",
       "    <tr>\n",
       "      <td>8</td>\n",
       "      <td>5073.0</td>\n",
       "      <td>115.369820</td>\n",
       "      <td>0.675785</td>\n",
       "      <td>23.844128</td>\n",
       "      <td>0.206676</td>\n",
       "      <td>31.486313</td>\n",
       "    </tr>\n",
       "    <tr>\n",
       "      <td>9</td>\n",
       "      <td>5501.0</td>\n",
       "      <td>464.741608</td>\n",
       "      <td>0.723297</td>\n",
       "      <td>82.501072</td>\n",
       "      <td>0.177520</td>\n",
       "      <td>109.335743</td>\n",
       "    </tr>\n",
       "  </tbody>\n",
       "</table>\n",
       "</div>"
      ],
      "text/plain": [
       "   item_id   avg_sales  r2_score  mae_score  mpe_score  rmse_score\n",
       "0     31.0   45.218983  0.616940  13.746658   0.304002   18.832609\n",
       "1    102.0  176.608917  0.729684  32.798693   0.185714   43.944843\n",
       "2    197.0   55.278580 -3.448144  19.295730   0.349063   26.103014\n",
       "3   1203.0  198.355331  0.731278  34.702733   0.174952   50.490930\n",
       "4   2259.0   97.155861  0.670678  21.082487   0.216997   26.949602\n",
       "5   3767.0  286.172363  0.790976  42.559057   0.148718   59.276068\n",
       "6   3818.0   78.448463  0.733650  14.187403   0.180850   18.610389\n",
       "7   4270.0   45.090721 -0.646848  17.674848   0.391984   21.886306\n",
       "8   5073.0  115.369820  0.675785  23.844128   0.206676   31.486313\n",
       "9   5501.0  464.741608  0.723297  82.501072   0.177520  109.335743"
      ]
     },
     "execution_count": 78,
     "metadata": {},
     "output_type": "execute_result"
    }
   ],
   "source": [
    "# CV Accuracies Returned\n",
    "cv_accuracies = pd.DataFrame.from_dict(json.loads(r.json()['cv_acc']))\n",
    "cv_accuracies"
   ]
  },
  {
   "cell_type": "code",
   "execution_count": null,
   "metadata": {
    "ExecuteTime": {
     "end_time": "2020-07-04T09:51:32.600558Z",
     "start_time": "2020-07-04T09:51:32.597567Z"
    }
   },
   "outputs": [],
   "source": [
    "import sys"
   ]
  },
  {
   "cell_type": "code",
   "execution_count": null,
   "metadata": {
    "ExecuteTime": {
     "end_time": "2020-07-04T09:51:45.312551Z",
     "start_time": "2020-07-04T09:51:45.307565Z"
    }
   },
   "outputs": [],
   "source": [
    "sys.getsizeof(data)"
   ]
  },
  {
   "cell_type": "markdown",
   "metadata": {},
   "source": [
    "### `/optimize`"
   ]
  },
  {
   "cell_type": "code",
   "execution_count": null,
   "metadata": {
    "ExecuteTime": {
     "end_time": "2020-07-02T06:21:41.570619Z",
     "start_time": "2020-07-02T06:21:33.895380Z"
    }
   },
   "outputs": [],
   "source": [
    "url = 'http://localhost:5000/optimize/'\n",
    "\n",
    "payload = {'project_id': 1,\n",
    "           'constraints': [],\n",
    "           'population': 100,\n",
    "           'max_epoch': 200\n",
    "           }\n",
    "\n",
    "headers = {'content-type': 'application/json',\n",
    "           'Accept-Charset': 'UTF-8'\n",
    "          }\n",
    "\n",
    "payload = json.dumps(payload)\n",
    "r = requests.post(url, data=payload, headers=headers)"
   ]
  },
  {
   "cell_type": "code",
   "execution_count": null,
   "metadata": {
    "ExecuteTime": {
     "end_time": "2020-07-02T06:21:41.578598Z",
     "start_time": "2020-07-02T06:21:41.572615Z"
    }
   },
   "outputs": [],
   "source": [
    "best_prices = r.json()['result']\n",
    "best_prices"
   ]
  },
  {
   "cell_type": "code",
   "execution_count": null,
   "metadata": {
    "ExecuteTime": {
     "end_time": "2020-07-02T06:21:49.202174Z",
     "start_time": "2020-07-02T06:21:41.580593Z"
    }
   },
   "outputs": [],
   "source": [
    "import requests\n",
    "import json\n",
    "\n",
    "url = 'http://localhost:5000/predict/'\n",
    "payload = {'prices': best_prices,\n",
    "           'project_id': 1\n",
    "           }\n",
    "headers = {'content-type': 'application/json',\n",
    "           'Accept-Charset': 'UTF-8'\n",
    "          }\n",
    "payload = json.dumps(payload)\n",
    "r = requests.post(url, data=payload, headers=headers)\n",
    "\n",
    "# What If Prediction\n",
    "qty = r.json()['qty_estimates']"
   ]
  },
  {
   "cell_type": "code",
   "execution_count": null,
   "metadata": {
    "ExecuteTime": {
     "end_time": "2020-07-02T06:21:49.211105Z",
     "start_time": "2020-07-02T06:21:49.204124Z"
    }
   },
   "outputs": [],
   "source": [
    "qty"
   ]
  },
  {
   "cell_type": "code",
   "execution_count": null,
   "metadata": {
    "ExecuteTime": {
     "end_time": "2020-07-02T06:21:49.220107Z",
     "start_time": "2020-07-02T06:21:49.213101Z"
    }
   },
   "outputs": [],
   "source": [
    "# Calculate Revenue\n",
    "revenue = 0\n",
    "for item in best_prices.keys():\n",
    "    revenue += (best_prices[item]*qty['Qty_'+item])\n",
    "    \n",
    "print(revenue)"
   ]
  },
  {
   "cell_type": "markdown",
   "metadata": {},
   "source": [
    "### `/predict/`"
   ]
  },
  {
   "cell_type": "code",
   "execution_count": null,
   "metadata": {
    "ExecuteTime": {
     "end_time": "2020-07-04T09:49:47.019381Z",
     "start_time": "2020-07-04T09:49:46.699239Z"
    }
   },
   "outputs": [],
   "source": [
    "# Sample Actual Price \n",
    "from helper_functions import *\n",
    "\n",
    "sales_data = data_subset\n",
    "\n",
    "sales_data = optimize_memory(sales_data)\n",
    "\n",
    "sales_data_wide = sales_data.set_index(\n",
    "    ['Wk', 'Tier', 'Store', 'Item_ID']).unstack(level=-1).reset_index().copy()\n",
    "sales_data_wide.columns = [\n",
    "    ''.join(str(i) for i in col).strip()\n",
    "    for col in sales_data_wide.columns.values\n",
    "]\n",
    "sales_data_wide = sales_data_wide.sort_values(\n",
    "    ['Tier', 'Store', 'Wk'], ascending=True).reset_index(drop=True)\n",
    "\n",
    "sales_data_wide_clean = sales_data_wide.dropna(axis=0).copy()\n",
    "dataset = sales_data_wide_clean\n",
    "price_columns = [\n",
    "    col for col in sales_data_wide_clean.columns if col.startswith('Price')\n",
    "]\n",
    "\n",
    "a = dataset.sample(1)\n",
    "a_dict = a[price_columns].iloc[0].to_dict()\n",
    "a_input = {}\n",
    "for key in a_dict.keys():\n",
    "    a_input[key.split('_')[1]]=round(a_dict[key],2)\n",
    "\n",
    "print('Input Prices Quantities:')\n",
    "a_input"
   ]
  },
  {
   "cell_type": "code",
   "execution_count": null,
   "metadata": {
    "ExecuteTime": {
     "end_time": "2020-07-04T09:50:00.562027Z",
     "start_time": "2020-07-04T09:49:47.238794Z"
    }
   },
   "outputs": [],
   "source": [
    "# Predict Sales Qty and Compare to Actual\n",
    "\n",
    "import requests\n",
    "import json\n",
    "\n",
    "url = 'http://localhost:5000/predict/'\n",
    "\n",
    "payload = {'prices': a_input, 'project_id': 1}\n",
    "\n",
    "headers = {'content-type': 'application/json', 'Accept-Charset': 'UTF-8'}\n",
    "\n",
    "payload = json.dumps(payload)\n",
    "r = requests.post(url, data=payload, headers=headers)\n",
    "qty = r.json()['qty_estimates']\n",
    "qty_outp = {}\n",
    "for key in qty.keys():\n",
    "    qty_outp[key] = round(qty[key], 0)\n",
    "actual = a[[\n",
    "    col for col in sales_data_wide_clean.columns if col.startswith('Qty_')\n",
    "]].iloc[0].to_dict()\n",
    "pd.DataFrame([qty_outp, actual], index=['Estimated', 'Actual']).transpose()"
   ]
  },
  {
   "cell_type": "code",
   "execution_count": null,
   "metadata": {},
   "outputs": [],
   "source": []
  },
  {
   "cell_type": "code",
   "execution_count": null,
   "metadata": {},
   "outputs": [],
   "source": []
  }
 ],
 "metadata": {
  "kernelspec": {
   "display_name": "Python 3",
   "language": "python",
   "name": "python3"
  },
  "language_info": {
   "codemirror_mode": {
    "name": "ipython",
    "version": 3
   },
   "file_extension": ".py",
   "mimetype": "text/x-python",
   "name": "python",
   "nbconvert_exporter": "python",
   "pygments_lexer": "ipython3",
   "version": "3.7.6"
  },
  "toc": {
   "base_numbering": 1,
   "nav_menu": {},
   "number_sections": true,
   "sideBar": true,
   "skip_h1_title": false,
   "title_cell": "Table of Contents",
   "title_sidebar": "Contents",
   "toc_cell": false,
   "toc_position": {},
   "toc_section_display": true,
   "toc_window_display": false
  },
  "varInspector": {
   "cols": {
    "lenName": 16,
    "lenType": 16,
    "lenVar": 40
   },
   "kernels_config": {
    "python": {
     "delete_cmd_postfix": "",
     "delete_cmd_prefix": "del ",
     "library": "var_list.py",
     "varRefreshCmd": "print(var_dic_list())"
    },
    "r": {
     "delete_cmd_postfix": ") ",
     "delete_cmd_prefix": "rm(",
     "library": "var_list.r",
     "varRefreshCmd": "cat(var_dic_list()) "
    }
   },
   "types_to_exclude": [
    "module",
    "function",
    "builtin_function_or_method",
    "instance",
    "_Feature"
   ],
   "window_display": false
  }
 },
 "nbformat": 4,
 "nbformat_minor": 4
}
