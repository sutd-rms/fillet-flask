{
 "cells": [
  {
   "cell_type": "code",
   "execution_count": 1,
   "metadata": {
    "ExecuteTime": {
     "end_time": "2020-06-13T07:53:17.890779Z",
     "start_time": "2020-06-13T07:53:17.887786Z"
    }
   },
   "outputs": [],
   "source": [
    "import pandas as pd\n",
    "import numpy as np\n",
    "import pickle as p"
   ]
  },
  {
   "cell_type": "code",
   "execution_count": 2,
   "metadata": {
    "ExecuteTime": {
     "end_time": "2020-06-13T07:53:19.335246Z",
     "start_time": "2020-06-13T07:53:18.302874Z"
    }
   },
   "outputs": [],
   "source": [
    "data_all = pd.read_csv('data_all.csv')"
   ]
  },
  {
   "cell_type": "code",
   "execution_count": 3,
   "metadata": {
    "ExecuteTime": {
     "end_time": "2020-06-13T07:53:19.456920Z",
     "start_time": "2020-06-13T07:53:19.362174Z"
    }
   },
   "outputs": [],
   "source": [
    "np.random.seed(42)\n",
    "item_subset = list(np.random.choice(data_all['Item_ID'].unique(), size=10, replace=False))\n",
    "data_subset = data_all.loc[data_all['Item_ID'].isin(item_subset)].copy()"
   ]
  },
  {
   "cell_type": "code",
   "execution_count": 4,
   "metadata": {
    "ExecuteTime": {
     "end_time": "2020-06-13T07:53:19.945718Z",
     "start_time": "2020-06-13T07:53:19.937716Z"
    }
   },
   "outputs": [
    {
     "data": {
      "text/plain": [
       "[3722, 3718, 2721, 2256, 7009, 2257, 3732, 3727, 7115, 7157]"
      ]
     },
     "execution_count": 4,
     "metadata": {},
     "output_type": "execute_result"
    }
   ],
   "source": [
    "item_subset"
   ]
  },
  {
   "cell_type": "markdown",
   "metadata": {},
   "source": [
    "### `/train`"
   ]
  },
  {
   "cell_type": "code",
   "execution_count": 17,
   "metadata": {
    "ExecuteTime": {
     "end_time": "2020-06-13T07:54:20.500755Z",
     "start_time": "2020-06-13T07:53:37.080795Z"
    }
   },
   "outputs": [],
   "source": [
    "import requests\n",
    "import json\n",
    "\n",
    "url = 'http://localhost:5000/train/'\n",
    "\n",
    "data = data_subset.to_json()\n",
    "\n",
    "payload = {'data': data,\n",
    "           'cv_acc': True,\n",
    "           'project_id': 1\n",
    "           }\n",
    "\n",
    "headers = {'content-type': 'application/json',\n",
    "           'Accept-Charset': 'UTF-8'\n",
    "          }\n",
    "\n",
    "payload = json.dumps(payload)\n",
    "r = requests.post(url, data=payload, headers=headers)"
   ]
  },
  {
   "cell_type": "code",
   "execution_count": 16,
   "metadata": {
    "ExecuteTime": {
     "end_time": "2020-06-13T07:54:20.559597Z",
     "start_time": "2020-06-13T07:54:20.555608Z"
    }
   },
   "outputs": [
    {
     "data": {
      "text/plain": [
       "'Success'"
      ]
     },
     "execution_count": 16,
     "metadata": {},
     "output_type": "execute_result"
    }
   ],
   "source": [
    "# Model Training Result\n",
    "r.json()['result']"
   ]
  },
  {
   "cell_type": "markdown",
   "metadata": {},
   "source": [
    "### `/train`"
   ]
  },
  {
   "cell_type": "code",
   "execution_count": 27,
   "metadata": {},
   "outputs": [],
   "source": [
    "url = 'http://localhost:5000/optimize/'\n",
    "\n",
    "payload = {'project_id': 1,\n",
    "           'constraints': [],\n",
    "           'population': 100,\n",
    "           'max_epoch': 200\n",
    "           }\n",
    "\n",
    "headers = {'content-type': 'application/json',\n",
    "           'Accept-Charset': 'UTF-8'\n",
    "          }\n",
    "\n",
    "payload = json.dumps(payload)\n",
    "r = requests.post(url, data=payload, headers=headers)"
   ]
  },
  {
   "cell_type": "code",
   "execution_count": 28,
   "metadata": {},
   "outputs": [
    {
     "data": {
      "text/plain": [
       "[8.806467357931746,\n",
       " 12.173855696137993,\n",
       " 12.372778794421876,\n",
       " 7.656308067942417,\n",
       " 10.056290455246648,\n",
       " 9.794202688557373,\n",
       " 11.222999715105843,\n",
       " 4.56828447948706,\n",
       " 4.569695450613792,\n",
       " 7.121983363800724]"
      ]
     },
     "execution_count": 28,
     "metadata": {},
     "output_type": "execute_result"
    }
   ],
   "source": [
    "r.json()['result']"
   ]
  },
  {
   "cell_type": "code",
   "execution_count": 9,
   "metadata": {
    "ExecuteTime": {
     "end_time": "2020-06-13T07:54:20.639426Z",
     "start_time": "2020-06-13T07:54:20.596500Z"
    }
   },
   "outputs": [
    {
     "data": {
      "text/html": [
       "<div>\n",
       "<style scoped>\n",
       "    .dataframe tbody tr th:only-of-type {\n",
       "        vertical-align: middle;\n",
       "    }\n",
       "\n",
       "    .dataframe tbody tr th {\n",
       "        vertical-align: top;\n",
       "    }\n",
       "\n",
       "    .dataframe thead th {\n",
       "        text-align: right;\n",
       "    }\n",
       "</style>\n",
       "<table border=\"1\" class=\"dataframe\">\n",
       "  <thead>\n",
       "    <tr style=\"text-align: right;\">\n",
       "      <th></th>\n",
       "      <th>item_id</th>\n",
       "      <th>avg_sales</th>\n",
       "      <th>r2_score</th>\n",
       "      <th>mae_score</th>\n",
       "      <th>mpe_score</th>\n",
       "      <th>rmse_score</th>\n",
       "    </tr>\n",
       "  </thead>\n",
       "  <tbody>\n",
       "    <tr>\n",
       "      <th>0</th>\n",
       "      <td>2256.0</td>\n",
       "      <td>57.811802</td>\n",
       "      <td>0.632769</td>\n",
       "      <td>13.758904</td>\n",
       "      <td>0.237995</td>\n",
       "      <td>18.183257</td>\n",
       "    </tr>\n",
       "    <tr>\n",
       "      <th>1</th>\n",
       "      <td>2257.0</td>\n",
       "      <td>18.398319</td>\n",
       "      <td>0.641186</td>\n",
       "      <td>5.163987</td>\n",
       "      <td>0.280677</td>\n",
       "      <td>6.866726</td>\n",
       "    </tr>\n",
       "    <tr>\n",
       "      <th>2</th>\n",
       "      <td>2721.0</td>\n",
       "      <td>26.516331</td>\n",
       "      <td>0.696132</td>\n",
       "      <td>9.607348</td>\n",
       "      <td>0.362318</td>\n",
       "      <td>14.734598</td>\n",
       "    </tr>\n",
       "    <tr>\n",
       "      <th>3</th>\n",
       "      <td>3718.0</td>\n",
       "      <td>252.716995</td>\n",
       "      <td>0.763973</td>\n",
       "      <td>40.389042</td>\n",
       "      <td>0.159819</td>\n",
       "      <td>53.661878</td>\n",
       "    </tr>\n",
       "    <tr>\n",
       "      <th>4</th>\n",
       "      <td>3722.0</td>\n",
       "      <td>367.495941</td>\n",
       "      <td>0.756677</td>\n",
       "      <td>56.299565</td>\n",
       "      <td>0.153198</td>\n",
       "      <td>75.614301</td>\n",
       "    </tr>\n",
       "    <tr>\n",
       "      <th>5</th>\n",
       "      <td>3727.0</td>\n",
       "      <td>296.811249</td>\n",
       "      <td>0.731813</td>\n",
       "      <td>49.405335</td>\n",
       "      <td>0.166454</td>\n",
       "      <td>65.059568</td>\n",
       "    </tr>\n",
       "    <tr>\n",
       "      <th>6</th>\n",
       "      <td>3732.0</td>\n",
       "      <td>127.388702</td>\n",
       "      <td>0.661943</td>\n",
       "      <td>24.491288</td>\n",
       "      <td>0.192256</td>\n",
       "      <td>32.776638</td>\n",
       "    </tr>\n",
       "    <tr>\n",
       "      <th>7</th>\n",
       "      <td>7009.0</td>\n",
       "      <td>2009.090332</td>\n",
       "      <td>0.781729</td>\n",
       "      <td>357.424910</td>\n",
       "      <td>0.177904</td>\n",
       "      <td>495.326576</td>\n",
       "    </tr>\n",
       "    <tr>\n",
       "      <th>8</th>\n",
       "      <td>7115.0</td>\n",
       "      <td>29.458530</td>\n",
       "      <td>0.526566</td>\n",
       "      <td>10.037080</td>\n",
       "      <td>0.340719</td>\n",
       "      <td>13.920075</td>\n",
       "    </tr>\n",
       "    <tr>\n",
       "      <th>9</th>\n",
       "      <td>7157.0</td>\n",
       "      <td>12.570630</td>\n",
       "      <td>0.429629</td>\n",
       "      <td>5.119320</td>\n",
       "      <td>0.407245</td>\n",
       "      <td>6.955913</td>\n",
       "    </tr>\n",
       "  </tbody>\n",
       "</table>\n",
       "</div>"
      ],
      "text/plain": [
       "   item_id    avg_sales  r2_score   mae_score  mpe_score  rmse_score\n",
       "0   2256.0    57.811802  0.632769   13.758904   0.237995   18.183257\n",
       "1   2257.0    18.398319  0.641186    5.163987   0.280677    6.866726\n",
       "2   2721.0    26.516331  0.696132    9.607348   0.362318   14.734598\n",
       "3   3718.0   252.716995  0.763973   40.389042   0.159819   53.661878\n",
       "4   3722.0   367.495941  0.756677   56.299565   0.153198   75.614301\n",
       "5   3727.0   296.811249  0.731813   49.405335   0.166454   65.059568\n",
       "6   3732.0   127.388702  0.661943   24.491288   0.192256   32.776638\n",
       "7   7009.0  2009.090332  0.781729  357.424910   0.177904  495.326576\n",
       "8   7115.0    29.458530  0.526566   10.037080   0.340719   13.920075\n",
       "9   7157.0    12.570630  0.429629    5.119320   0.407245    6.955913"
      ]
     },
     "execution_count": 9,
     "metadata": {},
     "output_type": "execute_result"
    }
   ],
   "source": [
    "# CV Accuracies Returned\n",
    "cv_accuracies = pd.DataFrame.from_dict(json.loads(r.json()['cv_acc']))\n",
    "cv_accuracies"
   ]
  },
  {
   "cell_type": "markdown",
   "metadata": {},
   "source": [
    "### `/predict/`"
   ]
  },
  {
   "cell_type": "code",
   "execution_count": 15,
   "metadata": {
    "ExecuteTime": {
     "end_time": "2020-06-13T07:54:25.531563Z",
     "start_time": "2020-06-13T07:54:25.467715Z"
    }
   },
   "outputs": [
    {
     "data": {
      "text/plain": [
       "{3722: 10.72,\n",
       " 3718: 7.6,\n",
       " 2721: 13.07,\n",
       " 2256: 8.27,\n",
       " 7009: 4.62,\n",
       " 2257: 11.54,\n",
       " 3732: 11.79,\n",
       " 3727: 10.81,\n",
       " 7115: 4.81,\n",
       " 7157: 6.66}"
      ]
     },
     "execution_count": 15,
     "metadata": {},
     "output_type": "execute_result"
    }
   ],
   "source": [
    "# Craft mock data input, average historical prices of items\n",
    "prices_input = {}\n",
    "for item in item_subset:\n",
    "    avg_item_price = data_subset.query('Item_ID=={}'.format(item))['Price_'].mean()\n",
    "    prices_input[int(item)] = round(avg_item_price,2)\n",
    "    \n",
    "prices_input"
   ]
  },
  {
   "cell_type": "code",
   "execution_count": 16,
   "metadata": {
    "ExecuteTime": {
     "end_time": "2020-06-13T07:54:43.857658Z",
     "start_time": "2020-06-13T07:54:41.787537Z"
    }
   },
   "outputs": [],
   "source": [
    "import requests\n",
    "import json\n",
    "\n",
    "url = 'http://localhost:5000/predict/'\n",
    "\n",
    "\n",
    "\n",
    "payload = {'prices': prices_input,\n",
    "           'project_id': 1\n",
    "           }\n",
    "\n",
    "headers = {'content-type': 'application/json',\n",
    "           'Accept-Charset': 'UTF-8'\n",
    "          }\n",
    "\n",
    "payload = json.dumps(payload)\n",
    "r = requests.post(url, data=payload, headers=headers)"
   ]
  },
  {
   "cell_type": "code",
   "execution_count": 17,
   "metadata": {
    "ExecuteTime": {
     "end_time": "2020-06-13T07:54:43.940436Z",
     "start_time": "2020-06-13T07:54:43.934452Z"
    }
   },
   "outputs": [
    {
     "data": {
      "text/plain": [
       "{'2256': 57,\n",
       " '2257': 18,\n",
       " '2721': 26,\n",
       " '3718': 291,\n",
       " '3722': 361,\n",
       " '3727': 288,\n",
       " '3732': 150,\n",
       " '7009': 1922,\n",
       " '7115': 34,\n",
       " '7157': 12}"
      ]
     },
     "execution_count": 17,
     "metadata": {},
     "output_type": "execute_result"
    }
   ],
   "source": [
    "# What If Prediction\n",
    "r.json()['pred_q']"
   ]
  }
 ],
 "metadata": {
  "kernelspec": {
   "display_name": "Python 3",
   "language": "python",
   "name": "python3"
  },
  "language_info": {
   "codemirror_mode": {
    "name": "ipython",
    "version": 3
   },
   "file_extension": ".py",
   "mimetype": "text/x-python",
   "name": "python",
   "nbconvert_exporter": "python",
   "pygments_lexer": "ipython3",
   "version": "3.7.6"
  },
  "toc": {
   "base_numbering": 1,
   "nav_menu": {},
   "number_sections": true,
   "sideBar": true,
   "skip_h1_title": false,
   "title_cell": "Table of Contents",
   "title_sidebar": "Contents",
   "toc_cell": false,
   "toc_position": {},
   "toc_section_display": true,
   "toc_window_display": false
  },
  "varInspector": {
   "cols": {
    "lenName": 16,
    "lenType": 16,
    "lenVar": 40
   },
   "kernels_config": {
    "python": {
     "delete_cmd_postfix": "",
     "delete_cmd_prefix": "del ",
     "library": "var_list.py",
     "varRefreshCmd": "print(var_dic_list())"
    },
    "r": {
     "delete_cmd_postfix": ") ",
     "delete_cmd_prefix": "rm(",
     "library": "var_list.r",
     "varRefreshCmd": "cat(var_dic_list()) "
    }
   },
   "types_to_exclude": [
    "module",
    "function",
    "builtin_function_or_method",
    "instance",
    "_Feature"
   ],
   "window_display": false
  }
 },
 "nbformat": 4,
 "nbformat_minor": 4
}
