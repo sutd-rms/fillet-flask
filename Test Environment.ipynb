{
 "cells": [
  {
   "cell_type": "code",
   "execution_count": 56,
   "metadata": {
    "ExecuteTime": {
     "end_time": "2020-07-01T06:32:27.008675Z",
     "start_time": "2020-07-01T06:32:27.005678Z"
    }
   },
   "outputs": [],
   "source": [
    "import pandas as pd\n",
    "import numpy as np\n",
    "import pickle as p"
   ]
  },
  {
   "cell_type": "code",
   "execution_count": 57,
   "metadata": {
    "ExecuteTime": {
     "end_time": "2020-07-01T06:32:28.239378Z",
     "start_time": "2020-07-01T06:32:27.207109Z"
    }
   },
   "outputs": [],
   "source": [
    "data_all = pd.read_csv('data_all.csv')"
   ]
  },
  {
   "cell_type": "code",
   "execution_count": 58,
   "metadata": {
    "ExecuteTime": {
     "end_time": "2020-07-01T06:32:28.367116Z",
     "start_time": "2020-07-01T06:32:28.268273Z"
    }
   },
   "outputs": [],
   "source": [
    "np.random.seed(42)\n",
    "item_subset = list(np.random.choice(data_all['Item_ID'].unique(), size=10, replace=False))\n",
    "data_subset = data_all.loc[data_all['Item_ID'].isin(item_subset)].copy()"
   ]
  },
  {
   "cell_type": "code",
   "execution_count": 59,
   "metadata": {
    "ExecuteTime": {
     "end_time": "2020-07-01T06:32:28.399919Z",
     "start_time": "2020-07-01T06:32:28.394933Z"
    }
   },
   "outputs": [
    {
     "data": {
      "text/plain": [
       "[3722, 3718, 2721, 2256, 7009, 2257, 3732, 3727, 7115, 7157]"
      ]
     },
     "execution_count": 59,
     "metadata": {},
     "output_type": "execute_result"
    }
   ],
   "source": [
    "item_subset"
   ]
  },
  {
   "cell_type": "markdown",
   "metadata": {},
   "source": [
    "### `/train`"
   ]
  },
  {
   "cell_type": "code",
   "execution_count": 60,
   "metadata": {
    "ExecuteTime": {
     "end_time": "2020-07-01T06:33:14.473553Z",
     "start_time": "2020-07-01T06:32:29.913951Z"
    }
   },
   "outputs": [],
   "source": [
    "import requests\n",
    "import json\n",
    "\n",
    "url = 'http://localhost:5000/train/'\n",
    "\n",
    "data = data_subset.to_json()\n",
    "\n",
    "payload = {'data': data,\n",
    "           'cv_acc': True,\n",
    "           'project_id': 1\n",
    "           }\n",
    "\n",
    "headers = {'content-type': 'application/json',\n",
    "           'Accept-Charset': 'UTF-8'\n",
    "          }\n",
    "\n",
    "payload = json.dumps(payload)\n",
    "r = requests.post(url, data=payload, headers=headers)"
   ]
  },
  {
   "cell_type": "code",
   "execution_count": 61,
   "metadata": {
    "ExecuteTime": {
     "end_time": "2020-07-01T06:33:14.525414Z",
     "start_time": "2020-07-01T06:33:14.521425Z"
    }
   },
   "outputs": [
    {
     "data": {
      "text/plain": [
       "'Success'"
      ]
     },
     "execution_count": 61,
     "metadata": {},
     "output_type": "execute_result"
    }
   ],
   "source": [
    "# Model Training Result\n",
    "r.json()['result']"
   ]
  },
  {
   "cell_type": "code",
   "execution_count": 62,
   "metadata": {
    "ExecuteTime": {
     "end_time": "2020-07-01T06:33:14.569296Z",
     "start_time": "2020-07-01T06:33:14.558326Z"
    }
   },
   "outputs": [
    {
     "data": {
      "text/html": [
       "<div>\n",
       "<style scoped>\n",
       "    .dataframe tbody tr th:only-of-type {\n",
       "        vertical-align: middle;\n",
       "    }\n",
       "\n",
       "    .dataframe tbody tr th {\n",
       "        vertical-align: top;\n",
       "    }\n",
       "\n",
       "    .dataframe thead th {\n",
       "        text-align: right;\n",
       "    }\n",
       "</style>\n",
       "<table border=\"1\" class=\"dataframe\">\n",
       "  <thead>\n",
       "    <tr style=\"text-align: right;\">\n",
       "      <th></th>\n",
       "      <th>item_id</th>\n",
       "      <th>avg_sales</th>\n",
       "      <th>r2_score</th>\n",
       "      <th>mae_score</th>\n",
       "      <th>mpe_score</th>\n",
       "      <th>rmse_score</th>\n",
       "    </tr>\n",
       "  </thead>\n",
       "  <tbody>\n",
       "    <tr>\n",
       "      <td>0</td>\n",
       "      <td>2256.0</td>\n",
       "      <td>57.811802</td>\n",
       "      <td>0.624334</td>\n",
       "      <td>13.485132</td>\n",
       "      <td>0.233259</td>\n",
       "      <td>17.465449</td>\n",
       "    </tr>\n",
       "    <tr>\n",
       "      <td>1</td>\n",
       "      <td>2257.0</td>\n",
       "      <td>18.398319</td>\n",
       "      <td>0.629117</td>\n",
       "      <td>5.224419</td>\n",
       "      <td>0.283962</td>\n",
       "      <td>6.918259</td>\n",
       "    </tr>\n",
       "    <tr>\n",
       "      <td>2</td>\n",
       "      <td>2721.0</td>\n",
       "      <td>26.516331</td>\n",
       "      <td>0.684290</td>\n",
       "      <td>10.198852</td>\n",
       "      <td>0.384625</td>\n",
       "      <td>15.537380</td>\n",
       "    </tr>\n",
       "    <tr>\n",
       "      <td>3</td>\n",
       "      <td>3718.0</td>\n",
       "      <td>252.716995</td>\n",
       "      <td>0.778774</td>\n",
       "      <td>38.566884</td>\n",
       "      <td>0.152609</td>\n",
       "      <td>50.760723</td>\n",
       "    </tr>\n",
       "    <tr>\n",
       "      <td>4</td>\n",
       "      <td>3722.0</td>\n",
       "      <td>367.495941</td>\n",
       "      <td>0.784278</td>\n",
       "      <td>56.545426</td>\n",
       "      <td>0.153867</td>\n",
       "      <td>77.688564</td>\n",
       "    </tr>\n",
       "    <tr>\n",
       "      <td>5</td>\n",
       "      <td>3727.0</td>\n",
       "      <td>296.811249</td>\n",
       "      <td>0.736610</td>\n",
       "      <td>49.764365</td>\n",
       "      <td>0.167663</td>\n",
       "      <td>65.884579</td>\n",
       "    </tr>\n",
       "    <tr>\n",
       "      <td>6</td>\n",
       "      <td>3732.0</td>\n",
       "      <td>127.388702</td>\n",
       "      <td>0.768074</td>\n",
       "      <td>20.592259</td>\n",
       "      <td>0.161649</td>\n",
       "      <td>26.882109</td>\n",
       "    </tr>\n",
       "    <tr>\n",
       "      <td>7</td>\n",
       "      <td>7009.0</td>\n",
       "      <td>2009.091797</td>\n",
       "      <td>0.819557</td>\n",
       "      <td>316.044212</td>\n",
       "      <td>0.157307</td>\n",
       "      <td>442.622196</td>\n",
       "    </tr>\n",
       "    <tr>\n",
       "      <td>8</td>\n",
       "      <td>7115.0</td>\n",
       "      <td>29.458530</td>\n",
       "      <td>0.558653</td>\n",
       "      <td>9.378256</td>\n",
       "      <td>0.318354</td>\n",
       "      <td>12.655907</td>\n",
       "    </tr>\n",
       "    <tr>\n",
       "      <td>9</td>\n",
       "      <td>7157.0</td>\n",
       "      <td>12.570630</td>\n",
       "      <td>0.423974</td>\n",
       "      <td>5.056628</td>\n",
       "      <td>0.402257</td>\n",
       "      <td>6.831616</td>\n",
       "    </tr>\n",
       "  </tbody>\n",
       "</table>\n",
       "</div>"
      ],
      "text/plain": [
       "   item_id    avg_sales  r2_score   mae_score  mpe_score  rmse_score\n",
       "0   2256.0    57.811802  0.624334   13.485132   0.233259   17.465449\n",
       "1   2257.0    18.398319  0.629117    5.224419   0.283962    6.918259\n",
       "2   2721.0    26.516331  0.684290   10.198852   0.384625   15.537380\n",
       "3   3718.0   252.716995  0.778774   38.566884   0.152609   50.760723\n",
       "4   3722.0   367.495941  0.784278   56.545426   0.153867   77.688564\n",
       "5   3727.0   296.811249  0.736610   49.764365   0.167663   65.884579\n",
       "6   3732.0   127.388702  0.768074   20.592259   0.161649   26.882109\n",
       "7   7009.0  2009.091797  0.819557  316.044212   0.157307  442.622196\n",
       "8   7115.0    29.458530  0.558653    9.378256   0.318354   12.655907\n",
       "9   7157.0    12.570630  0.423974    5.056628   0.402257    6.831616"
      ]
     },
     "execution_count": 62,
     "metadata": {},
     "output_type": "execute_result"
    }
   ],
   "source": [
    "# CV Accuracies Returned\n",
    "cv_accuracies = pd.DataFrame.from_dict(json.loads(r.json()['cv_acc']))\n",
    "cv_accuracies"
   ]
  },
  {
   "cell_type": "markdown",
   "metadata": {},
   "source": [
    "### `/optimize`"
   ]
  },
  {
   "cell_type": "code",
   "execution_count": 93,
   "metadata": {
    "ExecuteTime": {
     "end_time": "2020-07-01T06:44:56.516899Z",
     "start_time": "2020-07-01T06:44:49.258940Z"
    }
   },
   "outputs": [],
   "source": [
    "url = 'http://localhost:5000/optimize/'\n",
    "\n",
    "payload = {'project_id': 1,\n",
    "           'constraints': [],\n",
    "           'population': 100,\n",
    "           'max_epoch': 200\n",
    "           }\n",
    "\n",
    "headers = {'content-type': 'application/json',\n",
    "           'Accept-Charset': 'UTF-8'\n",
    "          }\n",
    "\n",
    "payload = json.dumps(payload)\n",
    "r = requests.post(url, data=payload, headers=headers)"
   ]
  },
  {
   "cell_type": "code",
   "execution_count": 94,
   "metadata": {
    "ExecuteTime": {
     "end_time": "2020-07-01T06:44:56.578734Z",
     "start_time": "2020-07-01T06:44:56.572750Z"
    }
   },
   "outputs": [
    {
     "data": {
      "text/plain": [
       "{'2256': 8.81,\n",
       " '2257': 11.99,\n",
       " '2721': 12.56,\n",
       " '3718': 7.42,\n",
       " '3722': 10.19,\n",
       " '3727': 10.47,\n",
       " '3732': 10.56,\n",
       " '7009': 6.09,\n",
       " '7115': 4.92,\n",
       " '7157': 7.12}"
      ]
     },
     "execution_count": 94,
     "metadata": {},
     "output_type": "execute_result"
    }
   ],
   "source": [
    "best_prices = r.json()['result']\n",
    "best_prices"
   ]
  },
  {
   "cell_type": "code",
   "execution_count": 95,
   "metadata": {
    "ExecuteTime": {
     "end_time": "2020-07-01T06:44:58.694872Z",
     "start_time": "2020-07-01T06:44:56.623614Z"
    }
   },
   "outputs": [],
   "source": [
    "import requests\n",
    "import json\n",
    "\n",
    "url = 'http://localhost:5000/predict/'\n",
    "payload = {'prices': best_prices,\n",
    "           'project_id': 1\n",
    "           }\n",
    "headers = {'content-type': 'application/json',\n",
    "           'Accept-Charset': 'UTF-8'\n",
    "          }\n",
    "payload = json.dumps(payload)\n",
    "r = requests.post(url, data=payload, headers=headers)\n",
    "\n",
    "# What If Prediction\n",
    "qty = r.json()['pred_q']"
   ]
  },
  {
   "cell_type": "code",
   "execution_count": 96,
   "metadata": {
    "ExecuteTime": {
     "end_time": "2020-07-01T06:44:58.755709Z",
     "start_time": "2020-07-01T06:44:58.749726Z"
    }
   },
   "outputs": [
    {
     "data": {
      "text/plain": [
       "{'2256': 79,\n",
       " '2257': 102,\n",
       " '2721': 140,\n",
       " '3718': 486,\n",
       " '3722': 1468,\n",
       " '3727': 1500,\n",
       " '3732': 424,\n",
       " '7009': 14902,\n",
       " '7115': 100,\n",
       " '7157': 27}"
      ]
     },
     "execution_count": 96,
     "metadata": {},
     "output_type": "execute_result"
    }
   ],
   "source": [
    "qty"
   ]
  },
  {
   "cell_type": "code",
   "execution_count": 97,
   "metadata": {
    "ExecuteTime": {
     "end_time": "2020-07-01T06:44:58.807599Z",
     "start_time": "2020-07-01T06:44:58.802584Z"
    }
   },
   "outputs": [
    {
     "name": "stdout",
     "output_type": "stream",
     "text": [
      "188301.96\n"
     ]
    }
   ],
   "source": [
    "# Calculate Revenue\n",
    "revenue = 0\n",
    "for item in qty.keys():\n",
    "    revenue += (best_prices_input[item]*qty[item])\n",
    "    \n",
    "# Number is obscenely high due to some outliers,\n",
    "# Notably 7009, likely due to lack of constraints etc.\n",
    "print(revenue)"
   ]
  },
  {
   "cell_type": "markdown",
   "metadata": {},
   "source": [
    "### `/predict/`"
   ]
  },
  {
   "cell_type": "code",
   "execution_count": 69,
   "metadata": {
    "ExecuteTime": {
     "end_time": "2020-07-01T06:38:43.542232Z",
     "start_time": "2020-07-01T06:38:43.483378Z"
    }
   },
   "outputs": [
    {
     "data": {
      "text/plain": [
       "{'3722': 10.72,\n",
       " '3718': 7.6,\n",
       " '2721': 13.07,\n",
       " '2256': 8.27,\n",
       " '7009': 4.62,\n",
       " '2257': 11.54,\n",
       " '3732': 11.79,\n",
       " '3727': 10.81,\n",
       " '7115': 4.81,\n",
       " '7157': 6.66}"
      ]
     },
     "execution_count": 69,
     "metadata": {},
     "output_type": "execute_result"
    }
   ],
   "source": [
    "# Craft mock data input, average historical prices of items\n",
    "prices_input = {}\n",
    "for item in item_subset:\n",
    "    avg_item_price = data_subset.query('Item_ID=={}'.format(item))['Price_'].mean()\n",
    "    prices_input[str(item)] = round(avg_item_price,2)\n",
    "    \n",
    "prices_input"
   ]
  },
  {
   "cell_type": "code",
   "execution_count": 70,
   "metadata": {
    "ExecuteTime": {
     "end_time": "2020-07-01T06:38:50.475839Z",
     "start_time": "2020-07-01T06:38:48.407495Z"
    }
   },
   "outputs": [],
   "source": [
    "import requests\n",
    "import json\n",
    "\n",
    "url = 'http://localhost:5000/predict/'\n",
    "\n",
    "\n",
    "\n",
    "payload = {'prices': prices_input,\n",
    "           'project_id': 1\n",
    "           }\n",
    "\n",
    "headers = {'content-type': 'application/json',\n",
    "           'Accept-Charset': 'UTF-8'\n",
    "          }\n",
    "\n",
    "payload = json.dumps(payload)\n",
    "r = requests.post(url, data=payload, headers=headers)"
   ]
  },
  {
   "cell_type": "code",
   "execution_count": 71,
   "metadata": {
    "ExecuteTime": {
     "end_time": "2020-07-01T06:38:50.534682Z",
     "start_time": "2020-07-01T06:38:50.528698Z"
    }
   },
   "outputs": [
    {
     "data": {
      "text/plain": [
       "{'2256': 57,\n",
       " '2257': 18,\n",
       " '2721': 26,\n",
       " '3718': 291,\n",
       " '3722': 361,\n",
       " '3727': 288,\n",
       " '3732': 150,\n",
       " '7009': 1922,\n",
       " '7115': 34,\n",
       " '7157': 12}"
      ]
     },
     "execution_count": 71,
     "metadata": {},
     "output_type": "execute_result"
    }
   ],
   "source": [
    "# What If Prediction\n",
    "qty = r.json()['pred_q']\n",
    "qty"
   ]
  },
  {
   "cell_type": "code",
   "execution_count": 72,
   "metadata": {
    "ExecuteTime": {
     "end_time": "2020-07-01T06:38:59.070140Z",
     "start_time": "2020-07-01T06:38:59.066174Z"
    }
   },
   "outputs": [
    {
     "name": "stdout",
     "output_type": "stream",
     "text": [
      "21105.329999999998\n"
     ]
    }
   ],
   "source": [
    "# Calculate Revenue\n",
    "revenue = 0\n",
    "for item in qty.keys():\n",
    "    revenue += (prices_input[item]*qty[item])\n",
    "    \n",
    "print(revenue)"
   ]
  }
 ],
 "metadata": {
  "kernelspec": {
   "display_name": "Python 3",
   "language": "python",
   "name": "python3"
  },
  "language_info": {
   "codemirror_mode": {
    "name": "ipython",
    "version": 3
   },
   "file_extension": ".py",
   "mimetype": "text/x-python",
   "name": "python",
   "nbconvert_exporter": "python",
   "pygments_lexer": "ipython3",
   "version": "3.7.6"
  },
  "toc": {
   "base_numbering": 1,
   "nav_menu": {},
   "number_sections": true,
   "sideBar": true,
   "skip_h1_title": false,
   "title_cell": "Table of Contents",
   "title_sidebar": "Contents",
   "toc_cell": false,
   "toc_position": {},
   "toc_section_display": true,
   "toc_window_display": false
  },
  "varInspector": {
   "cols": {
    "lenName": 16,
    "lenType": 16,
    "lenVar": 40
   },
   "kernels_config": {
    "python": {
     "delete_cmd_postfix": "",
     "delete_cmd_prefix": "del ",
     "library": "var_list.py",
     "varRefreshCmd": "print(var_dic_list())"
    },
    "r": {
     "delete_cmd_postfix": ") ",
     "delete_cmd_prefix": "rm(",
     "library": "var_list.r",
     "varRefreshCmd": "cat(var_dic_list()) "
    }
   },
   "types_to_exclude": [
    "module",
    "function",
    "builtin_function_or_method",
    "instance",
    "_Feature"
   ],
   "window_display": false
  }
 },
 "nbformat": 4,
 "nbformat_minor": 4
}
