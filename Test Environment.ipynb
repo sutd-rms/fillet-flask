{
 "cells": [
  {
   "cell_type": "code",
   "execution_count": 76,
   "metadata": {
    "ExecuteTime": {
     "end_time": "2020-07-01T09:33:58.040978Z",
     "start_time": "2020-07-01T09:33:58.036989Z"
    }
   },
   "outputs": [],
   "source": [
    "import pandas as pd\n",
    "import numpy as np\n",
    "import pickle as p"
   ]
  },
  {
   "cell_type": "code",
   "execution_count": 77,
   "metadata": {
    "ExecuteTime": {
     "end_time": "2020-07-01T09:33:59.309744Z",
     "start_time": "2020-07-01T09:33:58.226146Z"
    }
   },
   "outputs": [],
   "source": [
    "data_all = pd.read_csv('data_all.csv')"
   ]
  },
  {
   "cell_type": "code",
   "execution_count": 78,
   "metadata": {
    "ExecuteTime": {
     "end_time": "2020-07-01T09:33:59.438402Z",
     "start_time": "2020-07-01T09:33:59.339665Z"
    }
   },
   "outputs": [],
   "source": [
    "np.random.seed(41)\n",
    "item_subset = list(np.random.choice(data_all['Item_ID'].unique(), size=10, replace=False))\n",
    "data_subset = data_all.loc[data_all['Item_ID'].isin(item_subset)].copy()"
   ]
  },
  {
   "cell_type": "code",
   "execution_count": 79,
   "metadata": {
    "ExecuteTime": {
     "end_time": "2020-07-01T09:33:59.475336Z",
     "start_time": "2020-07-01T09:33:59.471347Z"
    }
   },
   "outputs": [
    {
     "data": {
      "text/plain": [
       "[31, 2259, 1203, 5073, 102, 5501, 3818, 4270, 3767, 197]"
      ]
     },
     "execution_count": 79,
     "metadata": {},
     "output_type": "execute_result"
    }
   ],
   "source": [
    "item_subset"
   ]
  },
  {
   "cell_type": "markdown",
   "metadata": {},
   "source": [
    "### `/train`"
   ]
  },
  {
   "cell_type": "code",
   "execution_count": 80,
   "metadata": {
    "ExecuteTime": {
     "end_time": "2020-07-01T09:35:55.162490Z",
     "start_time": "2020-07-01T09:34:00.633827Z"
    }
   },
   "outputs": [],
   "source": [
    "import requests\n",
    "import json\n",
    "\n",
    "url = 'http://localhost:5000/train/'\n",
    "\n",
    "data = data_subset.to_json()\n",
    "\n",
    "payload = {'data': data,\n",
    "           'cv_acc': True,\n",
    "           'project_id': 1\n",
    "           }\n",
    "\n",
    "headers = {'content-type': 'application/json',\n",
    "           'Accept-Charset': 'UTF-8'\n",
    "          }\n",
    "\n",
    "payload = json.dumps(payload)\n",
    "r = requests.post(url, data=payload, headers=headers)"
   ]
  },
  {
   "cell_type": "code",
   "execution_count": 81,
   "metadata": {
    "ExecuteTime": {
     "end_time": "2020-07-01T09:35:55.195372Z",
     "start_time": "2020-07-01T09:35:55.190387Z"
    }
   },
   "outputs": [
    {
     "data": {
      "text/plain": [
       "'Success'"
      ]
     },
     "execution_count": 81,
     "metadata": {},
     "output_type": "execute_result"
    }
   ],
   "source": [
    "# Model Training Result\n",
    "r.json()['result']"
   ]
  },
  {
   "cell_type": "code",
   "execution_count": 82,
   "metadata": {
    "ExecuteTime": {
     "end_time": "2020-07-01T09:35:55.234297Z",
     "start_time": "2020-07-01T09:35:55.224296Z"
    }
   },
   "outputs": [
    {
     "data": {
      "text/html": [
       "<div>\n",
       "<style scoped>\n",
       "    .dataframe tbody tr th:only-of-type {\n",
       "        vertical-align: middle;\n",
       "    }\n",
       "\n",
       "    .dataframe tbody tr th {\n",
       "        vertical-align: top;\n",
       "    }\n",
       "\n",
       "    .dataframe thead th {\n",
       "        text-align: right;\n",
       "    }\n",
       "</style>\n",
       "<table border=\"1\" class=\"dataframe\">\n",
       "  <thead>\n",
       "    <tr style=\"text-align: right;\">\n",
       "      <th></th>\n",
       "      <th>item_id</th>\n",
       "      <th>avg_sales</th>\n",
       "      <th>r2_score</th>\n",
       "      <th>mae_score</th>\n",
       "      <th>mpe_score</th>\n",
       "      <th>rmse_score</th>\n",
       "    </tr>\n",
       "  </thead>\n",
       "  <tbody>\n",
       "    <tr>\n",
       "      <td>0</td>\n",
       "      <td>31.0</td>\n",
       "      <td>45.218984</td>\n",
       "      <td>0.713719</td>\n",
       "      <td>12.229731</td>\n",
       "      <td>0.270456</td>\n",
       "      <td>17.596888</td>\n",
       "    </tr>\n",
       "    <tr>\n",
       "      <td>1</td>\n",
       "      <td>102.0</td>\n",
       "      <td>176.608918</td>\n",
       "      <td>0.672367</td>\n",
       "      <td>37.015321</td>\n",
       "      <td>0.209589</td>\n",
       "      <td>49.535901</td>\n",
       "    </tr>\n",
       "    <tr>\n",
       "      <td>2</td>\n",
       "      <td>197.0</td>\n",
       "      <td>55.278581</td>\n",
       "      <td>-0.001572</td>\n",
       "      <td>24.169867</td>\n",
       "      <td>0.437237</td>\n",
       "      <td>32.251344</td>\n",
       "    </tr>\n",
       "    <tr>\n",
       "      <td>3</td>\n",
       "      <td>1203.0</td>\n",
       "      <td>198.355324</td>\n",
       "      <td>0.775021</td>\n",
       "      <td>30.678192</td>\n",
       "      <td>0.154663</td>\n",
       "      <td>41.541416</td>\n",
       "    </tr>\n",
       "    <tr>\n",
       "      <td>4</td>\n",
       "      <td>2259.0</td>\n",
       "      <td>97.155863</td>\n",
       "      <td>0.690850</td>\n",
       "      <td>21.691287</td>\n",
       "      <td>0.223263</td>\n",
       "      <td>29.162856</td>\n",
       "    </tr>\n",
       "    <tr>\n",
       "      <td>5</td>\n",
       "      <td>3767.0</td>\n",
       "      <td>286.172376</td>\n",
       "      <td>0.813317</td>\n",
       "      <td>40.135219</td>\n",
       "      <td>0.140248</td>\n",
       "      <td>54.825236</td>\n",
       "    </tr>\n",
       "    <tr>\n",
       "      <td>6</td>\n",
       "      <td>3818.0</td>\n",
       "      <td>78.448462</td>\n",
       "      <td>0.665689</td>\n",
       "      <td>16.424223</td>\n",
       "      <td>0.209363</td>\n",
       "      <td>22.196575</td>\n",
       "    </tr>\n",
       "    <tr>\n",
       "      <td>7</td>\n",
       "      <td>4270.0</td>\n",
       "      <td>45.090722</td>\n",
       "      <td>0.056835</td>\n",
       "      <td>30.717721</td>\n",
       "      <td>0.681243</td>\n",
       "      <td>37.535005</td>\n",
       "    </tr>\n",
       "    <tr>\n",
       "      <td>8</td>\n",
       "      <td>5073.0</td>\n",
       "      <td>115.369817</td>\n",
       "      <td>0.620662</td>\n",
       "      <td>28.096428</td>\n",
       "      <td>0.243534</td>\n",
       "      <td>37.605619</td>\n",
       "    </tr>\n",
       "    <tr>\n",
       "      <td>9</td>\n",
       "      <td>5501.0</td>\n",
       "      <td>464.741615</td>\n",
       "      <td>0.552072</td>\n",
       "      <td>120.373960</td>\n",
       "      <td>0.259013</td>\n",
       "      <td>155.600297</td>\n",
       "    </tr>\n",
       "  </tbody>\n",
       "</table>\n",
       "</div>"
      ],
      "text/plain": [
       "   item_id   avg_sales  r2_score   mae_score  mpe_score  rmse_score\n",
       "0     31.0   45.218984  0.713719   12.229731   0.270456   17.596888\n",
       "1    102.0  176.608918  0.672367   37.015321   0.209589   49.535901\n",
       "2    197.0   55.278581 -0.001572   24.169867   0.437237   32.251344\n",
       "3   1203.0  198.355324  0.775021   30.678192   0.154663   41.541416\n",
       "4   2259.0   97.155863  0.690850   21.691287   0.223263   29.162856\n",
       "5   3767.0  286.172376  0.813317   40.135219   0.140248   54.825236\n",
       "6   3818.0   78.448462  0.665689   16.424223   0.209363   22.196575\n",
       "7   4270.0   45.090722  0.056835   30.717721   0.681243   37.535005\n",
       "8   5073.0  115.369817  0.620662   28.096428   0.243534   37.605619\n",
       "9   5501.0  464.741615  0.552072  120.373960   0.259013  155.600297"
      ]
     },
     "execution_count": 82,
     "metadata": {},
     "output_type": "execute_result"
    }
   ],
   "source": [
    "# CV Accuracies Returned\n",
    "cv_accuracies = pd.DataFrame.from_dict(json.loads(r.json()['cv_acc']))\n",
    "cv_accuracies"
   ]
  },
  {
   "cell_type": "markdown",
   "metadata": {},
   "source": [
    "### `/optimize`"
   ]
  },
  {
   "cell_type": "code",
   "execution_count": 93,
   "metadata": {
    "ExecuteTime": {
     "end_time": "2020-07-01T06:44:56.516899Z",
     "start_time": "2020-07-01T06:44:49.258940Z"
    }
   },
   "outputs": [],
   "source": [
    "url = 'http://localhost:5000/optimize/'\n",
    "\n",
    "payload = {'project_id': 1,\n",
    "           'constraints': [],\n",
    "           'population': 100,\n",
    "           'max_epoch': 200\n",
    "           }\n",
    "\n",
    "headers = {'content-type': 'application/json',\n",
    "           'Accept-Charset': 'UTF-8'\n",
    "          }\n",
    "\n",
    "payload = json.dumps(payload)\n",
    "r = requests.post(url, data=payload, headers=headers)"
   ]
  },
  {
   "cell_type": "code",
   "execution_count": 94,
   "metadata": {
    "ExecuteTime": {
     "end_time": "2020-07-01T06:44:56.578734Z",
     "start_time": "2020-07-01T06:44:56.572750Z"
    }
   },
   "outputs": [
    {
     "data": {
      "text/plain": [
       "{'2256': 8.81,\n",
       " '2257': 11.99,\n",
       " '2721': 12.56,\n",
       " '3718': 7.42,\n",
       " '3722': 10.19,\n",
       " '3727': 10.47,\n",
       " '3732': 10.56,\n",
       " '7009': 6.09,\n",
       " '7115': 4.92,\n",
       " '7157': 7.12}"
      ]
     },
     "execution_count": 94,
     "metadata": {},
     "output_type": "execute_result"
    }
   ],
   "source": [
    "best_prices = r.json()['result']\n",
    "best_prices"
   ]
  },
  {
   "cell_type": "code",
   "execution_count": 95,
   "metadata": {
    "ExecuteTime": {
     "end_time": "2020-07-01T06:44:58.694872Z",
     "start_time": "2020-07-01T06:44:56.623614Z"
    }
   },
   "outputs": [],
   "source": [
    "import requests\n",
    "import json\n",
    "\n",
    "url = 'http://localhost:5000/predict/'\n",
    "payload = {'prices': best_prices,\n",
    "           'project_id': 1\n",
    "           }\n",
    "headers = {'content-type': 'application/json',\n",
    "           'Accept-Charset': 'UTF-8'\n",
    "          }\n",
    "payload = json.dumps(payload)\n",
    "r = requests.post(url, data=payload, headers=headers)\n",
    "\n",
    "# What If Prediction\n",
    "qty = r.json()['pred_q']"
   ]
  },
  {
   "cell_type": "code",
   "execution_count": 96,
   "metadata": {
    "ExecuteTime": {
     "end_time": "2020-07-01T06:44:58.755709Z",
     "start_time": "2020-07-01T06:44:58.749726Z"
    }
   },
   "outputs": [
    {
     "data": {
      "text/plain": [
       "{'2256': 79,\n",
       " '2257': 102,\n",
       " '2721': 140,\n",
       " '3718': 486,\n",
       " '3722': 1468,\n",
       " '3727': 1500,\n",
       " '3732': 424,\n",
       " '7009': 14902,\n",
       " '7115': 100,\n",
       " '7157': 27}"
      ]
     },
     "execution_count": 96,
     "metadata": {},
     "output_type": "execute_result"
    }
   ],
   "source": [
    "qty"
   ]
  },
  {
   "cell_type": "code",
   "execution_count": 97,
   "metadata": {
    "ExecuteTime": {
     "end_time": "2020-07-01T06:44:58.807599Z",
     "start_time": "2020-07-01T06:44:58.802584Z"
    }
   },
   "outputs": [
    {
     "name": "stdout",
     "output_type": "stream",
     "text": [
      "188301.96\n"
     ]
    }
   ],
   "source": [
    "# Calculate Revenue\n",
    "revenue = 0\n",
    "for item in qty.keys():\n",
    "    revenue += (best_prices_input[item]*qty[item])\n",
    "    \n",
    "# Number is obscenely high due to some outliers,\n",
    "# Notably 7009, likely due to lack of constraints etc.\n",
    "print(revenue)"
   ]
  },
  {
   "cell_type": "markdown",
   "metadata": {},
   "source": [
    "### `/predict/`"
   ]
  },
  {
   "cell_type": "code",
   "execution_count": 69,
   "metadata": {
    "ExecuteTime": {
     "end_time": "2020-07-01T06:38:43.542232Z",
     "start_time": "2020-07-01T06:38:43.483378Z"
    }
   },
   "outputs": [
    {
     "data": {
      "text/plain": [
       "{'3722': 10.72,\n",
       " '3718': 7.6,\n",
       " '2721': 13.07,\n",
       " '2256': 8.27,\n",
       " '7009': 4.62,\n",
       " '2257': 11.54,\n",
       " '3732': 11.79,\n",
       " '3727': 10.81,\n",
       " '7115': 4.81,\n",
       " '7157': 6.66}"
      ]
     },
     "execution_count": 69,
     "metadata": {},
     "output_type": "execute_result"
    }
   ],
   "source": [
    "# Craft mock data input, average historical prices of items\n",
    "prices_input = {}\n",
    "for item in item_subset:\n",
    "    avg_item_price = data_subset.query('Item_ID=={}'.format(item))['Price_'].mean()\n",
    "    prices_input[str(item)] = round(avg_item_price,2)\n",
    "    \n",
    "prices_input"
   ]
  },
  {
   "cell_type": "code",
   "execution_count": 70,
   "metadata": {
    "ExecuteTime": {
     "end_time": "2020-07-01T06:38:50.475839Z",
     "start_time": "2020-07-01T06:38:48.407495Z"
    }
   },
   "outputs": [],
   "source": [
    "import requests\n",
    "import json\n",
    "\n",
    "url = 'http://localhost:5000/predict/'\n",
    "\n",
    "\n",
    "\n",
    "payload = {'prices': prices_input,\n",
    "           'project_id': 1\n",
    "           }\n",
    "\n",
    "headers = {'content-type': 'application/json',\n",
    "           'Accept-Charset': 'UTF-8'\n",
    "          }\n",
    "\n",
    "payload = json.dumps(payload)\n",
    "r = requests.post(url, data=payload, headers=headers)"
   ]
  },
  {
   "cell_type": "code",
   "execution_count": 71,
   "metadata": {
    "ExecuteTime": {
     "end_time": "2020-07-01T06:38:50.534682Z",
     "start_time": "2020-07-01T06:38:50.528698Z"
    }
   },
   "outputs": [
    {
     "data": {
      "text/plain": [
       "{'2256': 57,\n",
       " '2257': 18,\n",
       " '2721': 26,\n",
       " '3718': 291,\n",
       " '3722': 361,\n",
       " '3727': 288,\n",
       " '3732': 150,\n",
       " '7009': 1922,\n",
       " '7115': 34,\n",
       " '7157': 12}"
      ]
     },
     "execution_count": 71,
     "metadata": {},
     "output_type": "execute_result"
    }
   ],
   "source": [
    "# What If Prediction\n",
    "qty = r.json()['pred_q']\n",
    "qty"
   ]
  },
  {
   "cell_type": "code",
   "execution_count": 72,
   "metadata": {
    "ExecuteTime": {
     "end_time": "2020-07-01T06:38:59.070140Z",
     "start_time": "2020-07-01T06:38:59.066174Z"
    }
   },
   "outputs": [
    {
     "name": "stdout",
     "output_type": "stream",
     "text": [
      "21105.329999999998\n"
     ]
    }
   ],
   "source": [
    "# Calculate Revenue\n",
    "revenue = 0\n",
    "for item in qty.keys():\n",
    "    revenue += (prices_input[item]*qty[item])\n",
    "    \n",
    "print(revenue)"
   ]
  }
 ],
 "metadata": {
  "kernelspec": {
   "display_name": "Python 3",
   "language": "python",
   "name": "python3"
  },
  "language_info": {
   "codemirror_mode": {
    "name": "ipython",
    "version": 3
   },
   "file_extension": ".py",
   "mimetype": "text/x-python",
   "name": "python",
   "nbconvert_exporter": "python",
   "pygments_lexer": "ipython3",
   "version": "3.7.6"
  },
  "toc": {
   "base_numbering": 1,
   "nav_menu": {},
   "number_sections": true,
   "sideBar": true,
   "skip_h1_title": false,
   "title_cell": "Table of Contents",
   "title_sidebar": "Contents",
   "toc_cell": false,
   "toc_position": {},
   "toc_section_display": true,
   "toc_window_display": false
  },
  "varInspector": {
   "cols": {
    "lenName": 16,
    "lenType": 16,
    "lenVar": 40
   },
   "kernels_config": {
    "python": {
     "delete_cmd_postfix": "",
     "delete_cmd_prefix": "del ",
     "library": "var_list.py",
     "varRefreshCmd": "print(var_dic_list())"
    },
    "r": {
     "delete_cmd_postfix": ") ",
     "delete_cmd_prefix": "rm(",
     "library": "var_list.r",
     "varRefreshCmd": "cat(var_dic_list()) "
    }
   },
   "types_to_exclude": [
    "module",
    "function",
    "builtin_function_or_method",
    "instance",
    "_Feature"
   ],
   "window_display": false
  }
 },
 "nbformat": 4,
 "nbformat_minor": 4
}
