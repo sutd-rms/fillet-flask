{
 "cells": [
  {
   "cell_type": "code",
   "execution_count": 5,
   "metadata": {
    "ExecuteTime": {
     "end_time": "2020-06-13T07:53:17.890779Z",
     "start_time": "2020-06-13T07:53:17.887786Z"
    }
   },
   "outputs": [],
   "source": [
    "import pandas as pd\n",
    "import numpy as np\n",
    "import pickle as p"
   ]
  },
  {
   "cell_type": "code",
   "execution_count": 6,
   "metadata": {
    "ExecuteTime": {
     "end_time": "2020-06-13T07:53:19.335246Z",
     "start_time": "2020-06-13T07:53:18.302874Z"
    }
   },
   "outputs": [],
   "source": [
    "data_all = pd.read_csv('data_all.csv')"
   ]
  },
  {
   "cell_type": "code",
   "execution_count": 7,
   "metadata": {
    "ExecuteTime": {
     "end_time": "2020-06-13T07:53:19.456920Z",
     "start_time": "2020-06-13T07:53:19.362174Z"
    }
   },
   "outputs": [],
   "source": [
    "np.random.seed(42)\n",
    "item_subset = list(np.random.choice(data_all['Item_ID'].unique(), size=10, replace=False))\n",
    "data_subset = data_all.loc[data_all['Item_ID'].isin(item_subset)].copy()"
   ]
  },
  {
   "cell_type": "code",
   "execution_count": 8,
   "metadata": {
    "ExecuteTime": {
     "end_time": "2020-06-13T07:53:19.945718Z",
     "start_time": "2020-06-13T07:53:19.937716Z"
    }
   },
   "outputs": [
    {
     "data": {
      "text/plain": [
       "[3722, 3718, 2721, 2256, 7009, 2257, 3732, 3727, 7115, 7157]"
      ]
     },
     "execution_count": 8,
     "metadata": {},
     "output_type": "execute_result"
    }
   ],
   "source": [
    "item_subset"
   ]
  },
  {
   "cell_type": "markdown",
   "metadata": {},
   "source": [
    "### `/train`"
   ]
  },
  {
   "cell_type": "code",
   "execution_count": 10,
   "metadata": {
    "ExecuteTime": {
     "end_time": "2020-06-13T07:54:20.500755Z",
     "start_time": "2020-06-13T07:53:37.080795Z"
    }
   },
   "outputs": [],
   "source": [
    "import requests\n",
    "import json\n",
    "\n",
    "url = 'http://localhost:5000/train/'\n",
    "\n",
    "data = data_subset.to_json()\n",
    "\n",
    "payload = {'data': data,\n",
    "           'cv_acc': True,\n",
    "           'project_id': 1\n",
    "           }\n",
    "\n",
    "headers = {'content-type': 'application/json',\n",
    "           'Accept-Charset': 'UTF-8'\n",
    "          }\n",
    "\n",
    "payload = json.dumps(payload)\n",
    "r = requests.post(url, data=payload, headers=headers)"
   ]
  },
  {
   "cell_type": "code",
   "execution_count": 11,
   "metadata": {
    "ExecuteTime": {
     "end_time": "2020-06-13T07:54:20.559597Z",
     "start_time": "2020-06-13T07:54:20.555608Z"
    }
   },
   "outputs": [
    {
     "data": {
      "text/plain": [
       "'Success'"
      ]
     },
     "execution_count": 11,
     "metadata": {},
     "output_type": "execute_result"
    }
   ],
   "source": [
    "# Model Training Result\n",
    "r.json()['result']"
   ]
  },
  {
   "cell_type": "code",
   "execution_count": 12,
   "metadata": {
    "ExecuteTime": {
     "end_time": "2020-06-13T07:54:20.639426Z",
     "start_time": "2020-06-13T07:54:20.596500Z"
    }
   },
   "outputs": [
    {
     "data": {
      "text/html": [
       "<div>\n",
       "<style scoped>\n",
       "    .dataframe tbody tr th:only-of-type {\n",
       "        vertical-align: middle;\n",
       "    }\n",
       "\n",
       "    .dataframe tbody tr th {\n",
       "        vertical-align: top;\n",
       "    }\n",
       "\n",
       "    .dataframe thead th {\n",
       "        text-align: right;\n",
       "    }\n",
       "</style>\n",
       "<table border=\"1\" class=\"dataframe\">\n",
       "  <thead>\n",
       "    <tr style=\"text-align: right;\">\n",
       "      <th></th>\n",
       "      <th>item_id</th>\n",
       "      <th>avg_sales</th>\n",
       "      <th>r2_score</th>\n",
       "      <th>mae_score</th>\n",
       "      <th>mpe_score</th>\n",
       "      <th>rmse_score</th>\n",
       "    </tr>\n",
       "  </thead>\n",
       "  <tbody>\n",
       "    <tr>\n",
       "      <td>0</td>\n",
       "      <td>2256.0</td>\n",
       "      <td>57.811802</td>\n",
       "      <td>0.665704</td>\n",
       "      <td>13.002121</td>\n",
       "      <td>0.224904</td>\n",
       "      <td>16.879195</td>\n",
       "    </tr>\n",
       "    <tr>\n",
       "      <td>1</td>\n",
       "      <td>2257.0</td>\n",
       "      <td>18.398319</td>\n",
       "      <td>0.676997</td>\n",
       "      <td>5.008902</td>\n",
       "      <td>0.272248</td>\n",
       "      <td>6.756309</td>\n",
       "    </tr>\n",
       "    <tr>\n",
       "      <td>2</td>\n",
       "      <td>2721.0</td>\n",
       "      <td>26.516331</td>\n",
       "      <td>0.755080</td>\n",
       "      <td>8.929934</td>\n",
       "      <td>0.336771</td>\n",
       "      <td>13.844883</td>\n",
       "    </tr>\n",
       "    <tr>\n",
       "      <td>3</td>\n",
       "      <td>3718.0</td>\n",
       "      <td>252.716995</td>\n",
       "      <td>0.688018</td>\n",
       "      <td>49.301423</td>\n",
       "      <td>0.195086</td>\n",
       "      <td>64.165527</td>\n",
       "    </tr>\n",
       "    <tr>\n",
       "      <td>4</td>\n",
       "      <td>3722.0</td>\n",
       "      <td>367.495941</td>\n",
       "      <td>0.757563</td>\n",
       "      <td>63.048675</td>\n",
       "      <td>0.171563</td>\n",
       "      <td>86.651626</td>\n",
       "    </tr>\n",
       "    <tr>\n",
       "      <td>5</td>\n",
       "      <td>3727.0</td>\n",
       "      <td>296.811249</td>\n",
       "      <td>0.788040</td>\n",
       "      <td>46.225693</td>\n",
       "      <td>0.155741</td>\n",
       "      <td>61.257903</td>\n",
       "    </tr>\n",
       "    <tr>\n",
       "      <td>6</td>\n",
       "      <td>3732.0</td>\n",
       "      <td>127.388702</td>\n",
       "      <td>0.687063</td>\n",
       "      <td>24.492716</td>\n",
       "      <td>0.192268</td>\n",
       "      <td>32.373429</td>\n",
       "    </tr>\n",
       "    <tr>\n",
       "      <td>7</td>\n",
       "      <td>7009.0</td>\n",
       "      <td>2009.091797</td>\n",
       "      <td>0.820981</td>\n",
       "      <td>319.864834</td>\n",
       "      <td>0.159209</td>\n",
       "      <td>448.819233</td>\n",
       "    </tr>\n",
       "    <tr>\n",
       "      <td>8</td>\n",
       "      <td>7115.0</td>\n",
       "      <td>29.458530</td>\n",
       "      <td>0.553408</td>\n",
       "      <td>9.560156</td>\n",
       "      <td>0.324529</td>\n",
       "      <td>13.014482</td>\n",
       "    </tr>\n",
       "    <tr>\n",
       "      <td>9</td>\n",
       "      <td>7157.0</td>\n",
       "      <td>12.570630</td>\n",
       "      <td>0.477590</td>\n",
       "      <td>4.772461</td>\n",
       "      <td>0.379652</td>\n",
       "      <td>6.441280</td>\n",
       "    </tr>\n",
       "  </tbody>\n",
       "</table>\n",
       "</div>"
      ],
      "text/plain": [
       "   item_id    avg_sales  r2_score   mae_score  mpe_score  rmse_score\n",
       "0   2256.0    57.811802  0.665704   13.002121   0.224904   16.879195\n",
       "1   2257.0    18.398319  0.676997    5.008902   0.272248    6.756309\n",
       "2   2721.0    26.516331  0.755080    8.929934   0.336771   13.844883\n",
       "3   3718.0   252.716995  0.688018   49.301423   0.195086   64.165527\n",
       "4   3722.0   367.495941  0.757563   63.048675   0.171563   86.651626\n",
       "5   3727.0   296.811249  0.788040   46.225693   0.155741   61.257903\n",
       "6   3732.0   127.388702  0.687063   24.492716   0.192268   32.373429\n",
       "7   7009.0  2009.091797  0.820981  319.864834   0.159209  448.819233\n",
       "8   7115.0    29.458530  0.553408    9.560156   0.324529   13.014482\n",
       "9   7157.0    12.570630  0.477590    4.772461   0.379652    6.441280"
      ]
     },
     "execution_count": 12,
     "metadata": {},
     "output_type": "execute_result"
    }
   ],
   "source": [
    "# CV Accuracies Returned\n",
    "cv_accuracies = pd.DataFrame.from_dict(json.loads(r.json()['cv_acc']))\n",
    "cv_accuracies"
   ]
  },
  {
   "cell_type": "markdown",
   "metadata": {},
   "source": [
    "### `/predict/`"
   ]
  },
  {
   "cell_type": "code",
   "execution_count": 13,
   "metadata": {
    "ExecuteTime": {
     "end_time": "2020-06-13T07:54:25.531563Z",
     "start_time": "2020-06-13T07:54:25.467715Z"
    }
   },
   "outputs": [
    {
     "data": {
      "text/plain": [
       "{3722: 10.72,\n",
       " 3718: 7.6,\n",
       " 2721: 13.07,\n",
       " 2256: 8.27,\n",
       " 7009: 4.62,\n",
       " 2257: 11.54,\n",
       " 3732: 11.79,\n",
       " 3727: 10.81,\n",
       " 7115: 4.81,\n",
       " 7157: 6.66}"
      ]
     },
     "execution_count": 13,
     "metadata": {},
     "output_type": "execute_result"
    }
   ],
   "source": [
    "# Craft mock data input, average historical prices of items\n",
    "prices_input = {}\n",
    "for item in item_subset:\n",
    "    avg_item_price = data_subset.query('Item_ID=={}'.format(item))['Price_'].mean()\n",
    "    prices_input[int(item)] = round(avg_item_price,2)\n",
    "    \n",
    "prices_input"
   ]
  },
  {
   "cell_type": "code",
   "execution_count": 16,
   "metadata": {
    "ExecuteTime": {
     "end_time": "2020-06-13T07:54:43.857658Z",
     "start_time": "2020-06-13T07:54:41.787537Z"
    }
   },
   "outputs": [],
   "source": [
    "import requests\n",
    "import json\n",
    "\n",
    "url = 'http://localhost:5000/predict/'\n",
    "\n",
    "\n",
    "\n",
    "payload = {'prices': prices_input,\n",
    "           'project_id': 1\n",
    "           }\n",
    "\n",
    "headers = {'content-type': 'application/json',\n",
    "           'Accept-Charset': 'UTF-8'\n",
    "          }\n",
    "\n",
    "payload = json.dumps(payload)\n",
    "r = requests.post(url, data=payload, headers=headers)"
   ]
  },
  {
   "cell_type": "code",
   "execution_count": 17,
   "metadata": {
    "ExecuteTime": {
     "end_time": "2020-06-13T07:54:43.940436Z",
     "start_time": "2020-06-13T07:54:43.934452Z"
    }
   },
   "outputs": [
    {
     "data": {
      "text/plain": [
       "{'2256': 57,\n",
       " '2257': 18,\n",
       " '2721': 26,\n",
       " '3718': 291,\n",
       " '3722': 361,\n",
       " '3727': 288,\n",
       " '3732': 150,\n",
       " '7009': 1922,\n",
       " '7115': 34,\n",
       " '7157': 12}"
      ]
     },
     "execution_count": 17,
     "metadata": {},
     "output_type": "execute_result"
    }
   ],
   "source": [
    "# What If Prediction\n",
    "r.json()['pred_q']"
   ]
  }
 ],
 "metadata": {
  "kernelspec": {
   "display_name": "Python 3",
   "language": "python",
   "name": "python3"
  },
  "toc": {
   "base_numbering": 1,
   "nav_menu": {},
   "number_sections": true,
   "sideBar": true,
   "skip_h1_title": false,
   "title_cell": "Table of Contents",
   "title_sidebar": "Contents",
   "toc_cell": false,
   "toc_position": {},
   "toc_section_display": true,
   "toc_window_display": false
  },
  "varInspector": {
   "cols": {
    "lenName": 16,
    "lenType": 16,
    "lenVar": 40
   },
   "kernels_config": {
    "python": {
     "delete_cmd_postfix": "",
     "delete_cmd_prefix": "del ",
     "library": "var_list.py",
     "varRefreshCmd": "print(var_dic_list())"
    },
    "r": {
     "delete_cmd_postfix": ") ",
     "delete_cmd_prefix": "rm(",
     "library": "var_list.r",
     "varRefreshCmd": "cat(var_dic_list()) "
    }
   },
   "types_to_exclude": [
    "module",
    "function",
    "builtin_function_or_method",
    "instance",
    "_Feature"
   ],
   "window_display": false
  }
 },
 "nbformat": 4,
 "nbformat_minor": 4
}
