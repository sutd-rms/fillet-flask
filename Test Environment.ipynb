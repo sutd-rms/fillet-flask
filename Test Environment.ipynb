{
 "cells": [
  {
   "cell_type": "code",
   "execution_count": 69,
   "metadata": {
    "ExecuteTime": {
     "end_time": "2020-07-01T09:00:50.105543Z",
     "start_time": "2020-07-01T09:00:50.102459Z"
    }
   },
   "outputs": [],
   "source": [
    "import pandas as pd\n",
    "import numpy as np\n",
    "import pickle as p"
   ]
  },
  {
   "cell_type": "code",
   "execution_count": 70,
   "metadata": {
    "ExecuteTime": {
     "end_time": "2020-07-01T09:00:51.376905Z",
     "start_time": "2020-07-01T09:00:50.300449Z"
    }
   },
   "outputs": [],
   "source": [
    "data_all = pd.read_csv('data_all.csv')"
   ]
  },
  {
   "cell_type": "code",
   "execution_count": 71,
   "metadata": {
    "ExecuteTime": {
     "end_time": "2020-07-01T09:00:51.507064Z",
     "start_time": "2020-07-01T09:00:51.407794Z"
    }
   },
   "outputs": [],
   "source": [
    "np.random.seed(43)\n",
    "item_subset = list(np.random.choice(data_all['Item_ID'].unique(), size=10, replace=False))\n",
    "data_subset = data_all.loc[data_all['Item_ID'].isin(item_subset)].copy()"
   ]
  },
  {
   "cell_type": "code",
   "execution_count": 72,
   "metadata": {
    "ExecuteTime": {
     "end_time": "2020-07-01T09:00:59.558204Z",
     "start_time": "2020-07-01T09:00:59.553206Z"
    }
   },
   "outputs": [
    {
     "data": {
      "text/plain": [
       "[202, 16019, 3732, 1230, 3766, 2589, 2531, 1195, 3726, 3743]"
      ]
     },
     "execution_count": 72,
     "metadata": {},
     "output_type": "execute_result"
    }
   ],
   "source": [
    "item_subset"
   ]
  },
  {
   "cell_type": "markdown",
   "metadata": {},
   "source": [
    "### `/train`"
   ]
  },
  {
   "cell_type": "code",
   "execution_count": 73,
   "metadata": {
    "ExecuteTime": {
     "end_time": "2020-07-01T09:04:30.296339Z",
     "start_time": "2020-07-01T09:01:00.917133Z"
    }
   },
   "outputs": [],
   "source": [
    "import requests\n",
    "import json\n",
    "\n",
    "url = 'http://localhost:5000/train/'\n",
    "\n",
    "data = data_subset.to_json()\n",
    "\n",
    "payload = {'data': data,\n",
    "           'cv_acc': True,\n",
    "           'project_id': 1\n",
    "           }\n",
    "\n",
    "headers = {'content-type': 'application/json',\n",
    "           'Accept-Charset': 'UTF-8'\n",
    "          }\n",
    "\n",
    "payload = json.dumps(payload)\n",
    "r = requests.post(url, data=payload, headers=headers)"
   ]
  },
  {
   "cell_type": "code",
   "execution_count": 74,
   "metadata": {
    "ExecuteTime": {
     "end_time": "2020-07-01T09:04:30.334265Z",
     "start_time": "2020-07-01T09:04:30.330281Z"
    }
   },
   "outputs": [
    {
     "data": {
      "text/plain": [
       "'Success'"
      ]
     },
     "execution_count": 74,
     "metadata": {},
     "output_type": "execute_result"
    }
   ],
   "source": [
    "# Model Training Result\n",
    "r.json()['result']"
   ]
  },
  {
   "cell_type": "code",
   "execution_count": 75,
   "metadata": {
    "ExecuteTime": {
     "end_time": "2020-07-01T09:04:30.376126Z",
     "start_time": "2020-07-01T09:04:30.365156Z"
    }
   },
   "outputs": [
    {
     "data": {
      "text/html": [
       "<div>\n",
       "<style scoped>\n",
       "    .dataframe tbody tr th:only-of-type {\n",
       "        vertical-align: middle;\n",
       "    }\n",
       "\n",
       "    .dataframe tbody tr th {\n",
       "        vertical-align: top;\n",
       "    }\n",
       "\n",
       "    .dataframe thead th {\n",
       "        text-align: right;\n",
       "    }\n",
       "</style>\n",
       "<table border=\"1\" class=\"dataframe\">\n",
       "  <thead>\n",
       "    <tr style=\"text-align: right;\">\n",
       "      <th></th>\n",
       "      <th>item_id</th>\n",
       "      <th>avg_sales</th>\n",
       "      <th>r2_score</th>\n",
       "      <th>mae_score</th>\n",
       "      <th>mpe_score</th>\n",
       "      <th>rmse_score</th>\n",
       "    </tr>\n",
       "  </thead>\n",
       "  <tbody>\n",
       "    <tr>\n",
       "      <td>0</td>\n",
       "      <td>202.0</td>\n",
       "      <td>2110.440190</td>\n",
       "      <td>0.723515</td>\n",
       "      <td>355.472149</td>\n",
       "      <td>0.168435</td>\n",
       "      <td>486.806146</td>\n",
       "    </tr>\n",
       "    <tr>\n",
       "      <td>1</td>\n",
       "      <td>1195.0</td>\n",
       "      <td>129.492813</td>\n",
       "      <td>0.638400</td>\n",
       "      <td>27.630060</td>\n",
       "      <td>0.213371</td>\n",
       "      <td>34.985347</td>\n",
       "    </tr>\n",
       "    <tr>\n",
       "      <td>2</td>\n",
       "      <td>1230.0</td>\n",
       "      <td>8.996674</td>\n",
       "      <td>0.402763</td>\n",
       "      <td>3.116891</td>\n",
       "      <td>0.346449</td>\n",
       "      <td>4.535508</td>\n",
       "    </tr>\n",
       "    <tr>\n",
       "      <td>3</td>\n",
       "      <td>2531.0</td>\n",
       "      <td>318.983568</td>\n",
       "      <td>0.483374</td>\n",
       "      <td>91.194603</td>\n",
       "      <td>0.285891</td>\n",
       "      <td>119.147616</td>\n",
       "    </tr>\n",
       "    <tr>\n",
       "      <td>4</td>\n",
       "      <td>2589.0</td>\n",
       "      <td>161.616036</td>\n",
       "      <td>0.695982</td>\n",
       "      <td>34.209791</td>\n",
       "      <td>0.211673</td>\n",
       "      <td>45.069744</td>\n",
       "    </tr>\n",
       "    <tr>\n",
       "      <td>5</td>\n",
       "      <td>3726.0</td>\n",
       "      <td>74.383607</td>\n",
       "      <td>0.638035</td>\n",
       "      <td>15.701809</td>\n",
       "      <td>0.211092</td>\n",
       "      <td>20.547442</td>\n",
       "    </tr>\n",
       "    <tr>\n",
       "      <td>6</td>\n",
       "      <td>3732.0</td>\n",
       "      <td>126.142506</td>\n",
       "      <td>0.665788</td>\n",
       "      <td>25.081985</td>\n",
       "      <td>0.198838</td>\n",
       "      <td>33.737788</td>\n",
       "    </tr>\n",
       "    <tr>\n",
       "      <td>7</td>\n",
       "      <td>3743.0</td>\n",
       "      <td>132.480974</td>\n",
       "      <td>0.651685</td>\n",
       "      <td>33.399662</td>\n",
       "      <td>0.252109</td>\n",
       "      <td>44.757517</td>\n",
       "    </tr>\n",
       "    <tr>\n",
       "      <td>8</td>\n",
       "      <td>3766.0</td>\n",
       "      <td>91.448228</td>\n",
       "      <td>0.759059</td>\n",
       "      <td>15.831570</td>\n",
       "      <td>0.173121</td>\n",
       "      <td>21.308304</td>\n",
       "    </tr>\n",
       "    <tr>\n",
       "      <td>9</td>\n",
       "      <td>16019.0</td>\n",
       "      <td>109.613186</td>\n",
       "      <td>0.166359</td>\n",
       "      <td>33.442154</td>\n",
       "      <td>0.305092</td>\n",
       "      <td>41.383536</td>\n",
       "    </tr>\n",
       "  </tbody>\n",
       "</table>\n",
       "</div>"
      ],
      "text/plain": [
       "   item_id    avg_sales  r2_score   mae_score  mpe_score  rmse_score\n",
       "0    202.0  2110.440190  0.723515  355.472149   0.168435  486.806146\n",
       "1   1195.0   129.492813  0.638400   27.630060   0.213371   34.985347\n",
       "2   1230.0     8.996674  0.402763    3.116891   0.346449    4.535508\n",
       "3   2531.0   318.983568  0.483374   91.194603   0.285891  119.147616\n",
       "4   2589.0   161.616036  0.695982   34.209791   0.211673   45.069744\n",
       "5   3726.0    74.383607  0.638035   15.701809   0.211092   20.547442\n",
       "6   3732.0   126.142506  0.665788   25.081985   0.198838   33.737788\n",
       "7   3743.0   132.480974  0.651685   33.399662   0.252109   44.757517\n",
       "8   3766.0    91.448228  0.759059   15.831570   0.173121   21.308304\n",
       "9  16019.0   109.613186  0.166359   33.442154   0.305092   41.383536"
      ]
     },
     "execution_count": 75,
     "metadata": {},
     "output_type": "execute_result"
    }
   ],
   "source": [
    "# CV Accuracies Returned\n",
    "cv_accuracies = pd.DataFrame.from_dict(json.loads(r.json()['cv_acc']))\n",
    "cv_accuracies"
   ]
  },
  {
   "cell_type": "markdown",
   "metadata": {},
   "source": [
    "### `/optimize`"
   ]
  },
  {
   "cell_type": "code",
   "execution_count": 93,
   "metadata": {
    "ExecuteTime": {
     "end_time": "2020-07-01T06:44:56.516899Z",
     "start_time": "2020-07-01T06:44:49.258940Z"
    }
   },
   "outputs": [],
   "source": [
    "url = 'http://localhost:5000/optimize/'\n",
    "\n",
    "payload = {'project_id': 1,\n",
    "           'constraints': [],\n",
    "           'population': 100,\n",
    "           'max_epoch': 200\n",
    "           }\n",
    "\n",
    "headers = {'content-type': 'application/json',\n",
    "           'Accept-Charset': 'UTF-8'\n",
    "          }\n",
    "\n",
    "payload = json.dumps(payload)\n",
    "r = requests.post(url, data=payload, headers=headers)"
   ]
  },
  {
   "cell_type": "code",
   "execution_count": 94,
   "metadata": {
    "ExecuteTime": {
     "end_time": "2020-07-01T06:44:56.578734Z",
     "start_time": "2020-07-01T06:44:56.572750Z"
    }
   },
   "outputs": [
    {
     "data": {
      "text/plain": [
       "{'2256': 8.81,\n",
       " '2257': 11.99,\n",
       " '2721': 12.56,\n",
       " '3718': 7.42,\n",
       " '3722': 10.19,\n",
       " '3727': 10.47,\n",
       " '3732': 10.56,\n",
       " '7009': 6.09,\n",
       " '7115': 4.92,\n",
       " '7157': 7.12}"
      ]
     },
     "execution_count": 94,
     "metadata": {},
     "output_type": "execute_result"
    }
   ],
   "source": [
    "best_prices = r.json()['result']\n",
    "best_prices"
   ]
  },
  {
   "cell_type": "code",
   "execution_count": 95,
   "metadata": {
    "ExecuteTime": {
     "end_time": "2020-07-01T06:44:58.694872Z",
     "start_time": "2020-07-01T06:44:56.623614Z"
    }
   },
   "outputs": [],
   "source": [
    "import requests\n",
    "import json\n",
    "\n",
    "url = 'http://localhost:5000/predict/'\n",
    "payload = {'prices': best_prices,\n",
    "           'project_id': 1\n",
    "           }\n",
    "headers = {'content-type': 'application/json',\n",
    "           'Accept-Charset': 'UTF-8'\n",
    "          }\n",
    "payload = json.dumps(payload)\n",
    "r = requests.post(url, data=payload, headers=headers)\n",
    "\n",
    "# What If Prediction\n",
    "qty = r.json()['pred_q']"
   ]
  },
  {
   "cell_type": "code",
   "execution_count": 96,
   "metadata": {
    "ExecuteTime": {
     "end_time": "2020-07-01T06:44:58.755709Z",
     "start_time": "2020-07-01T06:44:58.749726Z"
    }
   },
   "outputs": [
    {
     "data": {
      "text/plain": [
       "{'2256': 79,\n",
       " '2257': 102,\n",
       " '2721': 140,\n",
       " '3718': 486,\n",
       " '3722': 1468,\n",
       " '3727': 1500,\n",
       " '3732': 424,\n",
       " '7009': 14902,\n",
       " '7115': 100,\n",
       " '7157': 27}"
      ]
     },
     "execution_count": 96,
     "metadata": {},
     "output_type": "execute_result"
    }
   ],
   "source": [
    "qty"
   ]
  },
  {
   "cell_type": "code",
   "execution_count": 97,
   "metadata": {
    "ExecuteTime": {
     "end_time": "2020-07-01T06:44:58.807599Z",
     "start_time": "2020-07-01T06:44:58.802584Z"
    }
   },
   "outputs": [
    {
     "name": "stdout",
     "output_type": "stream",
     "text": [
      "188301.96\n"
     ]
    }
   ],
   "source": [
    "# Calculate Revenue\n",
    "revenue = 0\n",
    "for item in qty.keys():\n",
    "    revenue += (best_prices_input[item]*qty[item])\n",
    "    \n",
    "# Number is obscenely high due to some outliers,\n",
    "# Notably 7009, likely due to lack of constraints etc.\n",
    "print(revenue)"
   ]
  },
  {
   "cell_type": "markdown",
   "metadata": {},
   "source": [
    "### `/predict/`"
   ]
  },
  {
   "cell_type": "code",
   "execution_count": 69,
   "metadata": {
    "ExecuteTime": {
     "end_time": "2020-07-01T06:38:43.542232Z",
     "start_time": "2020-07-01T06:38:43.483378Z"
    }
   },
   "outputs": [
    {
     "data": {
      "text/plain": [
       "{'3722': 10.72,\n",
       " '3718': 7.6,\n",
       " '2721': 13.07,\n",
       " '2256': 8.27,\n",
       " '7009': 4.62,\n",
       " '2257': 11.54,\n",
       " '3732': 11.79,\n",
       " '3727': 10.81,\n",
       " '7115': 4.81,\n",
       " '7157': 6.66}"
      ]
     },
     "execution_count": 69,
     "metadata": {},
     "output_type": "execute_result"
    }
   ],
   "source": [
    "# Craft mock data input, average historical prices of items\n",
    "prices_input = {}\n",
    "for item in item_subset:\n",
    "    avg_item_price = data_subset.query('Item_ID=={}'.format(item))['Price_'].mean()\n",
    "    prices_input[str(item)] = round(avg_item_price,2)\n",
    "    \n",
    "prices_input"
   ]
  },
  {
   "cell_type": "code",
   "execution_count": 70,
   "metadata": {
    "ExecuteTime": {
     "end_time": "2020-07-01T06:38:50.475839Z",
     "start_time": "2020-07-01T06:38:48.407495Z"
    }
   },
   "outputs": [],
   "source": [
    "import requests\n",
    "import json\n",
    "\n",
    "url = 'http://localhost:5000/predict/'\n",
    "\n",
    "\n",
    "\n",
    "payload = {'prices': prices_input,\n",
    "           'project_id': 1\n",
    "           }\n",
    "\n",
    "headers = {'content-type': 'application/json',\n",
    "           'Accept-Charset': 'UTF-8'\n",
    "          }\n",
    "\n",
    "payload = json.dumps(payload)\n",
    "r = requests.post(url, data=payload, headers=headers)"
   ]
  },
  {
   "cell_type": "code",
   "execution_count": 71,
   "metadata": {
    "ExecuteTime": {
     "end_time": "2020-07-01T06:38:50.534682Z",
     "start_time": "2020-07-01T06:38:50.528698Z"
    }
   },
   "outputs": [
    {
     "data": {
      "text/plain": [
       "{'2256': 57,\n",
       " '2257': 18,\n",
       " '2721': 26,\n",
       " '3718': 291,\n",
       " '3722': 361,\n",
       " '3727': 288,\n",
       " '3732': 150,\n",
       " '7009': 1922,\n",
       " '7115': 34,\n",
       " '7157': 12}"
      ]
     },
     "execution_count": 71,
     "metadata": {},
     "output_type": "execute_result"
    }
   ],
   "source": [
    "# What If Prediction\n",
    "qty = r.json()['pred_q']\n",
    "qty"
   ]
  },
  {
   "cell_type": "code",
   "execution_count": 72,
   "metadata": {
    "ExecuteTime": {
     "end_time": "2020-07-01T06:38:59.070140Z",
     "start_time": "2020-07-01T06:38:59.066174Z"
    }
   },
   "outputs": [
    {
     "name": "stdout",
     "output_type": "stream",
     "text": [
      "21105.329999999998\n"
     ]
    }
   ],
   "source": [
    "# Calculate Revenue\n",
    "revenue = 0\n",
    "for item in qty.keys():\n",
    "    revenue += (prices_input[item]*qty[item])\n",
    "    \n",
    "print(revenue)"
   ]
  }
 ],
 "metadata": {
  "kernelspec": {
   "display_name": "Python 3",
   "language": "python",
   "name": "python3"
  },
  "language_info": {
   "codemirror_mode": {
    "name": "ipython",
    "version": 3
   },
   "file_extension": ".py",
   "mimetype": "text/x-python",
   "name": "python",
   "nbconvert_exporter": "python",
   "pygments_lexer": "ipython3",
   "version": "3.7.6"
  },
  "toc": {
   "base_numbering": 1,
   "nav_menu": {},
   "number_sections": true,
   "sideBar": true,
   "skip_h1_title": false,
   "title_cell": "Table of Contents",
   "title_sidebar": "Contents",
   "toc_cell": false,
   "toc_position": {},
   "toc_section_display": true,
   "toc_window_display": false
  },
  "varInspector": {
   "cols": {
    "lenName": 16,
    "lenType": 16,
    "lenVar": 40
   },
   "kernels_config": {
    "python": {
     "delete_cmd_postfix": "",
     "delete_cmd_prefix": "del ",
     "library": "var_list.py",
     "varRefreshCmd": "print(var_dic_list())"
    },
    "r": {
     "delete_cmd_postfix": ") ",
     "delete_cmd_prefix": "rm(",
     "library": "var_list.r",
     "varRefreshCmd": "cat(var_dic_list()) "
    }
   },
   "types_to_exclude": [
    "module",
    "function",
    "builtin_function_or_method",
    "instance",
    "_Feature"
   ],
   "window_display": false
  }
 },
 "nbformat": 4,
 "nbformat_minor": 4
}
