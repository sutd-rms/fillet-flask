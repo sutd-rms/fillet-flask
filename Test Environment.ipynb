{
 "cells": [
  {
   "cell_type": "code",
   "execution_count": 1,
   "metadata": {
    "ExecuteTime": {
     "end_time": "2020-07-06T10:06:40.116045Z",
     "start_time": "2020-07-06T10:06:40.112056Z"
    }
   },
   "outputs": [],
   "source": [
    "import pandas as pd\n",
    "import numpy as np\n",
    "import pickle as p"
   ]
  },
  {
   "cell_type": "code",
   "execution_count": 2,
   "metadata": {
    "ExecuteTime": {
     "end_time": "2020-07-06T10:06:41.401947Z",
     "start_time": "2020-07-06T10:06:40.301838Z"
    }
   },
   "outputs": [],
   "source": [
    "data_all = pd.read_csv('data_all.csv')\n",
    "\n",
    "# Test with Subset of Data\n",
    "np.random.seed(41)\n",
    "item_subset = list(np.random.choice(data_all['Item_ID'].unique(), size=5, replace=False))\n",
    "data_subset = data_all.loc[data_all['Item_ID'].isin(item_subset)].copy()\n",
    "\n",
    "# # Test with All Data\n",
    "# data_subset = data_all.copy()"
   ]
  },
  {
   "cell_type": "code",
   "execution_count": 3,
   "metadata": {
    "ExecuteTime": {
     "end_time": "2020-07-06T10:06:41.424861Z",
     "start_time": "2020-07-06T10:06:41.419874Z"
    }
   },
   "outputs": [
    {
     "data": {
      "text/plain": [
       "[31, 2259, 1203, 5073, 102]"
      ]
     },
     "execution_count": 3,
     "metadata": {},
     "output_type": "execute_result"
    }
   ],
   "source": [
    "item_subset"
   ]
  },
  {
   "cell_type": "markdown",
   "metadata": {},
   "source": [
    "### `/detect_conflict`"
   ]
  },
  {
   "cell_type": "code",
   "execution_count": 3,
   "metadata": {},
   "outputs": [],
   "source": [
    "import requests\n",
    "import json\n",
    "\n",
    "url = 'http://localhost:5000/detect_conflict/'\n",
    "with open('constraints_1.json') as f:\n",
    "    constraints = json.load(f)\n",
    "\n",
    "payload = {'constraints': constraints\n",
    "           }\n",
    "\n",
    "headers = {'content-type': 'application/json',\n",
    "           'Accept-Charset': 'UTF-8'\n",
    "          }\n",
    "\n",
    "payload = json.dumps(payload)\n",
    "r = requests.post(url, data=payload, headers=headers)"
   ]
  },
  {
   "cell_type": "code",
   "execution_count": 4,
   "metadata": {},
   "outputs": [
    {
     "data": {
      "text/plain": [
       "'No conflict'"
      ]
     },
     "execution_count": 4,
     "metadata": {},
     "output_type": "execute_result"
    }
   ],
   "source": [
    "r.json()['conflict']"
   ]
  },
  {
   "cell_type": "markdown",
   "metadata": {},
   "source": [
    "### `/train`"
   ]
  },
  {
   "cell_type": "code",
   "execution_count": 52,
   "metadata": {
    "ExecuteTime": {
     "end_time": "2020-07-06T10:19:23.575271Z",
     "start_time": "2020-07-06T10:17:22.710328Z"
    }
   },
   "outputs": [],
   "source": [
    "import requests\n",
    "import json\n",
    "\n",
    "url = 'http://localhost:5000/train/'\n",
    "\n",
    "data = data_subset.to_json()\n",
    "\n",
    "payload = {'data': data,\n",
    "           'cv_acc': True,\n",
    "           'project_id': 1\n",
    "           }\n",
    "\n",
    "# headers = {'content-type': 'application/json',\n",
    "#            'Accept-Charset': 'UTF-8'\n",
    "#           }\n",
    "\n",
    "payload = json.dumps(payload)\n",
    "r = requests.post(url, data=payload, headers=headers)"
   ]
  },
  {
   "cell_type": "code",
   "execution_count": 59,
   "metadata": {
    "ExecuteTime": {
     "end_time": "2020-07-06T10:29:33.503368Z",
     "start_time": "2020-07-06T10:29:33.494392Z"
    }
   },
   "outputs": [
    {
     "name": "stdout",
     "output_type": "stream",
     "text": [
      "<class 'pandas.core.frame.DataFrame'>\n",
      "Int64Index: 126405 entries, 1066 to 3867836\n",
      "Data columns (total 7 columns):\n",
      "Wk         126405 non-null int64\n",
      "Tier       126405 non-null int64\n",
      "Groups     126405 non-null int64\n",
      "Store      126405 non-null int64\n",
      "Item_ID    126405 non-null int64\n",
      "Qty_       126379 non-null float64\n",
      "Price_     126379 non-null float64\n",
      "dtypes: float64(2), int64(5)\n",
      "memory usage: 12.7 MB\n"
     ]
    }
   ],
   "source": [
    "data_subset.info()"
   ]
  },
  {
   "cell_type": "code",
   "execution_count": 53,
   "metadata": {
    "ExecuteTime": {
     "end_time": "2020-07-06T10:19:23.600189Z",
     "start_time": "2020-07-06T10:19:23.595203Z"
    }
   },
   "outputs": [
    {
     "data": {
      "text/plain": [
       "'Success'"
      ]
     },
     "execution_count": 53,
     "metadata": {},
     "output_type": "execute_result"
    }
   ],
   "source": [
    "r.json()['result']"
   ]
  },
  {
   "cell_type": "code",
   "execution_count": 54,
   "metadata": {
    "ExecuteTime": {
     "end_time": "2020-07-06T10:19:23.631113Z",
     "start_time": "2020-07-06T10:19:23.622131Z"
    }
   },
   "outputs": [
    {
     "data": {
      "text/html": [
       "<div>\n",
       "<style scoped>\n",
       "    .dataframe tbody tr th:only-of-type {\n",
       "        vertical-align: middle;\n",
       "    }\n",
       "\n",
       "    .dataframe tbody tr th {\n",
       "        vertical-align: top;\n",
       "    }\n",
       "\n",
       "    .dataframe thead th {\n",
       "        text-align: right;\n",
       "    }\n",
       "</style>\n",
       "<table border=\"1\" class=\"dataframe\">\n",
       "  <thead>\n",
       "    <tr style=\"text-align: right;\">\n",
       "      <th></th>\n",
       "      <th>avg_sales</th>\n",
       "      <th>item_id</th>\n",
       "      <th>mae_score</th>\n",
       "      <th>mpe_score</th>\n",
       "      <th>r2_score</th>\n",
       "      <th>rmse_score</th>\n",
       "    </tr>\n",
       "  </thead>\n",
       "  <tbody>\n",
       "    <tr>\n",
       "      <td>0</td>\n",
       "      <td>45.216946</td>\n",
       "      <td>31.0</td>\n",
       "      <td>15.211045</td>\n",
       "      <td>0.336401</td>\n",
       "      <td>0.514597</td>\n",
       "      <td>23.211137</td>\n",
       "    </tr>\n",
       "    <tr>\n",
       "      <td>1</td>\n",
       "      <td>176.605667</td>\n",
       "      <td>102.0</td>\n",
       "      <td>44.631816</td>\n",
       "      <td>0.252720</td>\n",
       "      <td>0.562941</td>\n",
       "      <td>61.375934</td>\n",
       "    </tr>\n",
       "    <tr>\n",
       "      <td>2</td>\n",
       "      <td>198.348404</td>\n",
       "      <td>1203.0</td>\n",
       "      <td>40.303816</td>\n",
       "      <td>0.203197</td>\n",
       "      <td>0.635932</td>\n",
       "      <td>59.186954</td>\n",
       "    </tr>\n",
       "    <tr>\n",
       "      <td>3</td>\n",
       "      <td>97.153709</td>\n",
       "      <td>2259.0</td>\n",
       "      <td>27.536322</td>\n",
       "      <td>0.283430</td>\n",
       "      <td>0.543398</td>\n",
       "      <td>35.557477</td>\n",
       "    </tr>\n",
       "    <tr>\n",
       "      <td>4</td>\n",
       "      <td>115.366066</td>\n",
       "      <td>5073.0</td>\n",
       "      <td>28.738143</td>\n",
       "      <td>0.249104</td>\n",
       "      <td>0.480752</td>\n",
       "      <td>37.210351</td>\n",
       "    </tr>\n",
       "  </tbody>\n",
       "</table>\n",
       "</div>"
      ],
      "text/plain": [
       "    avg_sales  item_id  mae_score  mpe_score  r2_score  rmse_score\n",
       "0   45.216946     31.0  15.211045   0.336401  0.514597   23.211137\n",
       "1  176.605667    102.0  44.631816   0.252720  0.562941   61.375934\n",
       "2  198.348404   1203.0  40.303816   0.203197  0.635932   59.186954\n",
       "3   97.153709   2259.0  27.536322   0.283430  0.543398   35.557477\n",
       "4  115.366066   5073.0  28.738143   0.249104  0.480752   37.210351"
      ]
     },
     "execution_count": 54,
     "metadata": {},
     "output_type": "execute_result"
    }
   ],
   "source": [
    "# CV Accuracies Returned\n",
    "cv_accuracies = pd.DataFrame.from_dict((r.json()['cv_acc']))\n",
    "cv_accuracies"
   ]
  },
  {
   "cell_type": "markdown",
   "metadata": {},
   "source": [
    "### `/optimize`"
   ]
  },
  {
   "cell_type": "code",
   "execution_count": 5,
   "metadata": {},
   "outputs": [],
   "source": [
    "with open('constraints_2.json') as f:\n",
    "    constraints = json.load(f)"
   ]
  },
  {
   "cell_type": "code",
   "execution_count": null,
   "metadata": {},
   "outputs": [],
   "source": [
    "import requests\n",
    "import json\n",
    "\n",
    "url = 'http://localhost:5000/optimize/'\n",
    "    \n",
    "payload = {'project_id': 1,\n",
    "           'constraints': constraints, # two parts, first part constraint, second part price range limits\n",
    "           'population': 300,\n",
    "           'max_epoch': 100,\n",
    "           'price_info_path':'price_info.pkl',\n",
    "           'model_path': 'models/'\n",
    "           }\n",
    "\n",
    "headers = {'content-type': 'application/json',\n",
    "           'Accept-Charset': 'UTF-8'\n",
    "          }\n",
    "\n",
    "payload = json.dumps(payload)\n",
    "r = requests.post(url, data=payload, headers=headers)"
   ]
  },
  {
   "cell_type": "code",
   "execution_count": 14,
   "metadata": {
    "ExecuteTime": {
     "end_time": "2020-07-04T16:16:23.787479Z",
     "start_time": "2020-07-04T16:16:23.782495Z"
    }
   },
   "outputs": [
    {
     "data": {
      "text/plain": [
       "[4.9,\n",
       " 9.6,\n",
       " 5.1,\n",
       " 9.7,\n",
       " 4.45,\n",
       " 9.35,\n",
       " 2.6,\n",
       " 5.3,\n",
       " 9.85,\n",
       " 5.9,\n",
       " 10.6,\n",
       " 6.0,\n",
       " 10.6,\n",
       " 2.15,\n",
       " 5.35,\n",
       " 10.25,\n",
       " 5.6,\n",
       " 9.85,\n",
       " 2.75,\n",
       " 2.7,\n",
       " 3.3,\n",
       " 3.9,\n",
       " 4.25,\n",
       " 4.95,\n",
       " 3.55,\n",
       " 3.35,\n",
       " 3.9,\n",
       " 4.2,\n",
       " 3.3,\n",
       " 2.75,\n",
       " 3.6,\n",
       " 4.45,\n",
       " 5.2,\n",
       " 3.95,\n",
       " 4.35,\n",
       " 4.95,\n",
       " 3.25,\n",
       " 8.75,\n",
       " 11.95,\n",
       " 12.65,\n",
       " 13.35,\n",
       " 9.35,\n",
       " 13.0,\n",
       " 13.7,\n",
       " 2.8,\n",
       " 3.65,\n",
       " 5.25,\n",
       " 6.6,\n",
       " 6.8,\n",
       " 8.7,\n",
       " 6.5,\n",
       " 5.45,\n",
       " 6.75,\n",
       " 11.1,\n",
       " 5.95,\n",
       " 13.6,\n",
       " 8.2,\n",
       " 10.45,\n",
       " 5.9,\n",
       " 8.25,\n",
       " 2.4,\n",
       " 3.0,\n",
       " 3.4,\n",
       " 6.95,\n",
       " 6.6,\n",
       " 7.3,\n",
       " 8.0,\n",
       " 10.8,\n",
       " 11.5,\n",
       " 12.2,\n",
       " 10.85,\n",
       " 11.55,\n",
       " 12.25,\n",
       " 11.85,\n",
       " 12.55,\n",
       " 13.25,\n",
       " 8.9,\n",
       " 9.6,\n",
       " 10.3,\n",
       " 11.25,\n",
       " 11.95,\n",
       " 10.3,\n",
       " 11.0,\n",
       " 11.7,\n",
       " 9.45,\n",
       " 10.15,\n",
       " 10.85,\n",
       " 9.5,\n",
       " 10.2,\n",
       " 10.9,\n",
       " 11.15,\n",
       " 11.85,\n",
       " 12.55,\n",
       " 7.05,\n",
       " 11.75,\n",
       " 12.45,\n",
       " 8.5,\n",
       " 13.0,\n",
       " 13.7,\n",
       " 0.0,\n",
       " 0.0,\n",
       " 0.0,\n",
       " 8.7,\n",
       " 14.3,\n",
       " 8.25,\n",
       " 12.15,\n",
       " 12.85,\n",
       " 13.55,\n",
       " 5.3,\n",
       " 9.7,\n",
       " 10.4,\n",
       " 3.8,\n",
       " 7.0,\n",
       " 3.5,\n",
       " 3.5,\n",
       " 4.2,\n",
       " 0.7,\n",
       " 1.2,\n",
       " 13.5,\n",
       " 4.75,\n",
       " 2.45,\n",
       " 3.4,\n",
       " 4.0,\n",
       " 4.85,\n",
       " 5.35,\n",
       " 0.0,\n",
       " 0.0,\n",
       " 0.0,\n",
       " 0.0,\n",
       " 0.0,\n",
       " 0.0,\n",
       " 0.0,\n",
       " 0.0,\n",
       " 0.0,\n",
       " 0.0,\n",
       " 0.0,\n",
       " 0.0,\n",
       " 0.0,\n",
       " 0.0,\n",
       " 0.0,\n",
       " 0.0,\n",
       " 0.0,\n",
       " 0.0,\n",
       " 0.0,\n",
       " 0.0,\n",
       " 7.45,\n",
       " 11.25,\n",
       " 11.95,\n",
       " 12.65,\n",
       " 8.95,\n",
       " 12.75,\n",
       " 13.45,\n",
       " 14.15]"
      ]
     },
     "execution_count": 14,
     "metadata": {},
     "output_type": "execute_result"
    }
   ],
   "source": [
    "best_prices = r.json()['result']\n",
    "best_prices"
   ]
  },
  {
   "cell_type": "markdown",
   "metadata": {},
   "source": [
    "### `/predict`"
   ]
  },
  {
   "cell_type": "code",
   "execution_count": null,
   "metadata": {
    "ExecuteTime": {
     "end_time": "2020-07-04T16:16:35.138329Z",
     "start_time": "2020-07-04T16:16:24.011392Z"
    }
   },
   "outputs": [],
   "source": [
    "import requests\n",
    "import json\n",
    "\n",
    "url = 'http://localhost:5000/predict/'\n",
    "payload = {'prices': best_prices,\n",
    "           'project_id': 1\n",
    "           }\n",
    "headers = {'content-type': 'application/json',\n",
    "           'Accept-Charset': 'UTF-8'\n",
    "          }\n",
    "payload = json.dumps(payload)\n",
    "r = requests.post(url, data=payload, headers=headers)\n",
    "\n",
    "# What If Prediction\n",
    "qty = r.json()['qty_estimates']"
   ]
  },
  {
   "cell_type": "code",
   "execution_count": null,
   "metadata": {
    "ExecuteTime": {
     "end_time": "2020-07-04T16:16:35.386181Z",
     "start_time": "2020-07-04T16:16:35.380196Z"
    }
   },
   "outputs": [],
   "source": [
    "qty"
   ]
  },
  {
   "cell_type": "code",
   "execution_count": null,
   "metadata": {
    "ExecuteTime": {
     "end_time": "2020-07-04T16:16:35.624798Z",
     "start_time": "2020-07-04T16:16:35.620809Z"
    }
   },
   "outputs": [],
   "source": [
    "# Calculate Revenue\n",
    "revenue = 0\n",
    "for item in best_prices.keys():\n",
    "    revenue += (best_prices[item]*qty['Qty_'+item])\n",
    "    \n",
    "print(revenue)"
   ]
  },
  {
   "cell_type": "markdown",
   "metadata": {},
   "source": [
    "### `/predict/`"
   ]
  },
  {
   "cell_type": "code",
   "execution_count": 60,
   "metadata": {
    "ExecuteTime": {
     "end_time": "2020-07-06T10:35:40.837631Z",
     "start_time": "2020-07-06T10:35:40.652085Z"
    }
   },
   "outputs": [
    {
     "name": "stdout",
     "output_type": "stream",
     "text": [
      "Input Prices Quantities:\n"
     ]
    },
    {
     "data": {
      "text/plain": [
       "{'31': 1.85, '102': 9.65, '1203': 3.2, '2259': 13.0, '5073': 3.7}"
      ]
     },
     "execution_count": 60,
     "metadata": {},
     "output_type": "execute_result"
    }
   ],
   "source": [
    "# Sample Actual Price \n",
    "from helper_functions import *\n",
    "\n",
    "sales_data = data_subset\n",
    "\n",
    "sales_data = optimize_memory(sales_data)\n",
    "\n",
    "sales_data_wide = sales_data.set_index(\n",
    "    ['Wk', 'Tier', 'Store', 'Item_ID']).unstack(level=-1).reset_index().copy()\n",
    "sales_data_wide.columns = [\n",
    "    ''.join(str(i) for i in col).strip()\n",
    "    for col in sales_data_wide.columns.values\n",
    "]\n",
    "sales_data_wide = sales_data_wide.sort_values(\n",
    "    ['Tier', 'Store', 'Wk'], ascending=True).reset_index(drop=True)\n",
    "\n",
    "sales_data_wide_clean = sales_data_wide.dropna(axis=0).copy()\n",
    "dataset = sales_data_wide_clean\n",
    "price_columns = [\n",
    "    col for col in sales_data_wide_clean.columns if col.startswith('Price')\n",
    "]\n",
    "\n",
    "a = dataset.sample(1)\n",
    "a_dict = a[price_columns].iloc[0].to_dict()\n",
    "a_input = {}\n",
    "for key in a_dict.keys():\n",
    "    a_input[key.split('_')[1]]=round(a_dict[key],2)\n",
    "\n",
    "print('Input Prices Quantities:')\n",
    "a_input"
   ]
  },
  {
   "cell_type": "code",
   "execution_count": 61,
   "metadata": {
    "ExecuteTime": {
     "end_time": "2020-07-06T10:38:34.385026Z",
     "start_time": "2020-07-06T10:37:38.078072Z"
    }
   },
   "outputs": [
    {
     "data": {
      "text/html": [
       "<div>\n",
       "<style scoped>\n",
       "    .dataframe tbody tr th:only-of-type {\n",
       "        vertical-align: middle;\n",
       "    }\n",
       "\n",
       "    .dataframe tbody tr th {\n",
       "        vertical-align: top;\n",
       "    }\n",
       "\n",
       "    .dataframe thead th {\n",
       "        text-align: right;\n",
       "    }\n",
       "</style>\n",
       "<table border=\"1\" class=\"dataframe\">\n",
       "  <thead>\n",
       "    <tr style=\"text-align: right;\">\n",
       "      <th></th>\n",
       "      <th>Estimated</th>\n",
       "      <th>Actual</th>\n",
       "    </tr>\n",
       "  </thead>\n",
       "  <tbody>\n",
       "    <tr>\n",
       "      <td>Qty_102</td>\n",
       "      <td>160.0</td>\n",
       "      <td>70.0</td>\n",
       "    </tr>\n",
       "    <tr>\n",
       "      <td>Qty_1203</td>\n",
       "      <td>191.0</td>\n",
       "      <td>138.0</td>\n",
       "    </tr>\n",
       "    <tr>\n",
       "      <td>Qty_2259</td>\n",
       "      <td>80.0</td>\n",
       "      <td>38.0</td>\n",
       "    </tr>\n",
       "    <tr>\n",
       "      <td>Qty_31</td>\n",
       "      <td>40.0</td>\n",
       "      <td>44.0</td>\n",
       "    </tr>\n",
       "    <tr>\n",
       "      <td>Qty_5073</td>\n",
       "      <td>91.0</td>\n",
       "      <td>26.0</td>\n",
       "    </tr>\n",
       "  </tbody>\n",
       "</table>\n",
       "</div>"
      ],
      "text/plain": [
       "          Estimated  Actual\n",
       "Qty_102       160.0    70.0\n",
       "Qty_1203      191.0   138.0\n",
       "Qty_2259       80.0    38.0\n",
       "Qty_31         40.0    44.0\n",
       "Qty_5073       91.0    26.0"
      ]
     },
     "execution_count": 61,
     "metadata": {},
     "output_type": "execute_result"
    }
   ],
   "source": [
    "# Predict Sales Qty and Compare to Actual\n",
    "\n",
    "import requests\n",
    "import json\n",
    "\n",
    "url = 'http://localhost:5000/predict/'\n",
    "\n",
    "payload = {'prices': a_input, 'project_id': 1}\n",
    "\n",
    "headers = {'content-type': 'application/json', 'Accept-Charset': 'UTF-8'}\n",
    "\n",
    "payload = json.dumps(payload)\n",
    "r = requests.post(url, data=payload, headers=headers)\n",
    "qty = r.json()['qty_estimates']\n",
    "qty_outp = {}\n",
    "for key in qty.keys():\n",
    "    qty_outp[key] = round(qty[key], 0)\n",
    "actual = a[[\n",
    "    col for col in sales_data_wide_clean.columns if col.startswith('Qty_')\n",
    "]].iloc[0].to_dict()\n",
    "pd.DataFrame([qty_outp, actual], index=['Estimated', 'Actual']).transpose()"
   ]
  }
 ],
 "metadata": {
  "kernelspec": {
   "display_name": "Python 3",
   "language": "python",
   "name": "python3"
  },
  "language_info": {
   "codemirror_mode": {
    "name": "ipython",
    "version": 3
   },
   "file_extension": ".py",
   "mimetype": "text/x-python",
   "name": "python",
   "nbconvert_exporter": "python",
   "pygments_lexer": "ipython3",
   "version": "3.7.6"
  },
  "toc": {
   "base_numbering": 1,
   "nav_menu": {},
   "number_sections": true,
   "sideBar": true,
   "skip_h1_title": false,
   "title_cell": "Table of Contents",
   "title_sidebar": "Contents",
   "toc_cell": false,
   "toc_position": {},
   "toc_section_display": true,
   "toc_window_display": false
  },
  "varInspector": {
   "cols": {
    "lenName": 16,
    "lenType": 16,
    "lenVar": 40
   },
   "kernels_config": {
    "python": {
     "delete_cmd_postfix": "",
     "delete_cmd_prefix": "del ",
     "library": "var_list.py",
     "varRefreshCmd": "print(var_dic_list())"
    },
    "r": {
     "delete_cmd_postfix": ") ",
     "delete_cmd_prefix": "rm(",
     "library": "var_list.r",
     "varRefreshCmd": "cat(var_dic_list()) "
    }
   },
   "types_to_exclude": [
    "module",
    "function",
    "builtin_function_or_method",
    "instance",
    "_Feature"
   ],
   "window_display": false
  }
 },
 "nbformat": 4,
 "nbformat_minor": 4
}
