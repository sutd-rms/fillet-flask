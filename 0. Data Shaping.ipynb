{
 "cells": [
  {
   "cell_type": "markdown",
   "metadata": {},
   "source": [
    "__The purpose of this notebook is to convert RMS's given data files into the format expected to be input in to the platform__\n",
    "* Data is expected to be in the long form rather than wide form as we want to contrain to limited number of fields when the data exists as stored on the platform.\n",
    "* Data is converted to wide format only when needed and processed in memory.\n",
    "* Essentially, data input validation __must__ check to ensure that the input data is in the format of the output CSV\n",
    "* Raise Error If data is not in this shape  \n",
    "  \n",
    "\n",
    "\n",
    "* __Raise Error__ When Data is in the Wrong Shape, Or there are Duplicates\n",
    "    * Data is in the Wide form\n",
    "    * There are duplicates of (Store,Wk,Item_ID)\n",
    "* __Raise Warning__ if data is in right shape, but is incomplete\n",
    "    * Some stores do not have complete set of all weeks of data\n",
    "    * Some stores do not have all products (on some weeks)\n",
    "    * In general if the long form doesn not have the number of rows = (# of Stores * # of Weeks * # of Products)\n"
   ]
  },
  {
   "cell_type": "code",
   "execution_count": 1,
   "metadata": {
    "ExecuteTime": {
     "end_time": "2020-06-10T08:05:19.614805Z",
     "start_time": "2020-06-10T08:05:19.254063Z"
    }
   },
   "outputs": [],
   "source": [
    "import pandas as pd\n",
    "import os"
   ]
  },
  {
   "cell_type": "markdown",
   "metadata": {},
   "source": [
    "__Configuration__"
   ]
  },
  {
   "cell_type": "code",
   "execution_count": 2,
   "metadata": {
    "ExecuteTime": {
     "end_time": "2020-06-10T08:05:19.677285Z",
     "start_time": "2020-06-10T08:05:19.640709Z"
    }
   },
   "outputs": [],
   "source": [
    "instore_data_path = 'data/Instore/'\n",
    "instore_data_filenames = os.listdir(instore_data_path)\n",
    "\n",
    "master_data_output_path = 'data/data_all.csv'"
   ]
  },
  {
   "cell_type": "markdown",
   "metadata": {},
   "source": [
    "__Transformation__"
   ]
  },
  {
   "cell_type": "code",
   "execution_count": 3,
   "metadata": {
    "ExecuteTime": {
     "end_time": "2020-06-10T08:05:59.746859Z",
     "start_time": "2020-06-10T08:05:20.149693Z"
    }
   },
   "outputs": [],
   "source": [
    "master_data = pd.DataFrame(columns=['Wk','Store','Tier','Groups'])\n",
    "\n",
    "# Merge All Data Files\n",
    "for instore_data_fn in instore_data_filenames:\n",
    "    master_data = pd.merge(left=master_data,\n",
    "                          right=pd.read_csv(instore_data_path+instore_data_fn),\n",
    "                          on=('Wk','Store','Tier','Groups'),\n",
    "                          how='outer'\n",
    "                         )\n",
    "\n",
    "# Remove Erroneous Dashes in Column Names\n",
    "master_data.columns = master_data.columns.str.replace(\"-\", \"\")\n",
    "\n",
    "# Convert Data to Machine Readable Long Form\n",
    "master_data_long = pd.wide_to_long(df=master_data,\n",
    "                         stubnames=[\"Qty_\",\"Price_\"],\n",
    "                         i=[\"Wk\",\"Tier\",\"Groups\",\"Store\"],\n",
    "                         j=\"Item_ID\")\n",
    "\n",
    "\n",
    "# Reset Index\n",
    "master_data_long = master_data_long.reset_index()\n",
    "\n",
    "# Remove Duplicates, Take Highest Non-Nan Value\n",
    "master_data_long = master_data_long.sort_values(['Qty_'], ascending=False)\n",
    "master_data_long_no_dupes = master_data_long.drop_duplicates(subset=['Store','Wk','Item_ID'], keep='first')\n",
    "\n",
    "# Re-Order DataFrame\n",
    "master_data_long_no_dupes = master_data_long_no_dupes.sort_values(['Store','Item_ID','Wk','Qty_','Price_'], ascending=False)\n",
    "\n",
    "# Output to CSV\n",
    "master_data_long_no_dupes.to_csv(master_data_output_path, index=None)"
   ]
  },
  {
   "cell_type": "code",
   "execution_count": null,
   "metadata": {},
   "outputs": [],
   "source": [
    "master_data"
   ]
  }
 ],
 "metadata": {
  "kernelspec": {
   "display_name": "Python 3",
   "language": "python",
   "name": "python3"
  },
  "language_info": {
   "codemirror_mode": {
    "name": "ipython",
    "version": 3
   },
   "file_extension": ".py",
   "mimetype": "text/x-python",
   "name": "python",
   "nbconvert_exporter": "python",
   "pygments_lexer": "ipython3",
   "version": "3.7.6"
  },
  "toc": {
   "base_numbering": 1,
   "nav_menu": {},
   "number_sections": true,
   "sideBar": true,
   "skip_h1_title": false,
   "title_cell": "Table of Contents",
   "title_sidebar": "Contents",
   "toc_cell": false,
   "toc_position": {},
   "toc_section_display": true,
   "toc_window_display": false
  },
  "varInspector": {
   "cols": {
    "lenName": 16,
    "lenType": 16,
    "lenVar": 40
   },
   "kernels_config": {
    "python": {
     "delete_cmd_postfix": "",
     "delete_cmd_prefix": "del ",
     "library": "var_list.py",
     "varRefreshCmd": "print(var_dic_list())"
    },
    "r": {
     "delete_cmd_postfix": ") ",
     "delete_cmd_prefix": "rm(",
     "library": "var_list.r",
     "varRefreshCmd": "cat(var_dic_list()) "
    }
   },
   "types_to_exclude": [
    "module",
    "function",
    "builtin_function_or_method",
    "instance",
    "_Feature"
   ],
   "window_display": false
  }
 },
 "nbformat": 4,
 "nbformat_minor": 4
}
